{
 "cells": [
  {
   "cell_type": "code",
   "execution_count": 1,
   "metadata": {},
   "outputs": [],
   "source": [
    "import pandas as pd\n",
    "import numpy as np\n",
    "from sklearn.pipeline import Pipeline, make_pipeline, FeatureUnion\n",
    "from sklearn.compose import ColumnTransformer\n",
    "from sklearn.base import BaseEstimator, TransformerMixin\n",
    "from sklearn.preprocessing import StandardScaler, RobustScaler, FunctionTransformer\n",
    "from sklearn.model_selection import train_test_split, GridSearchCV\n",
    "import pickle\n",
    "import matplotlib.pyplot as plt\n",
    "%matplotlib inline\n",
    "import seaborn as sns\n",
    "\n",
    "# imports necessary for dimensionality reduction\n",
    "from sklearn.decomposition import PCA\n",
    "from sklearn.feature_selection import RFE\n",
    "from sklearn import svm\n",
    "\n",
    "# regression algorithms\n",
    "from sklearn.ensemble import RandomForestRegressor\n",
    "from sklearn.linear_model import LinearRegression\n",
    "\n",
    "# metrics for evaluating regression models\n",
    "from sklearn.metrics import mean_squared_error, mean_absolute_error, r2_score\n",
    "\n",
    "\n",
    "#fix balcony column\n",
    "# drop columns lattitude longtitude eircode "
   ]
  },
  {
   "cell_type": "code",
   "execution_count": 2,
   "metadata": {},
   "outputs": [],
   "source": [
    "missing_value_formats = [\"n.a.\",\"?\",\"NA\",\"n/a\", \"na\", \"--\"]\n",
    "df = pd.read_csv('/Users/patrickmoloney/Downloads/data-rental2.csv', na_values = missing_value_formats)"
   ]
  },
  {
   "cell_type": "code",
   "execution_count": 3,
   "metadata": {},
   "outputs": [
    {
     "data": {
      "text/html": [
       "<div>\n",
       "<style scoped>\n",
       "    .dataframe tbody tr th:only-of-type {\n",
       "        vertical-align: middle;\n",
       "    }\n",
       "\n",
       "    .dataframe tbody tr th {\n",
       "        vertical-align: top;\n",
       "    }\n",
       "\n",
       "    .dataframe thead th {\n",
       "        text-align: right;\n",
       "    }\n",
       "</style>\n",
       "<table border=\"1\" class=\"dataframe\">\n",
       "  <thead>\n",
       "    <tr style=\"text-align: right;\">\n",
       "      <th></th>\n",
       "      <th>approx</th>\n",
       "      <th>number</th>\n",
       "      <th>address 1</th>\n",
       "      <th>address 2</th>\n",
       "      <th>address 3</th>\n",
       "      <th>eircode</th>\n",
       "      <th>lattitude</th>\n",
       "      <th>longtitude</th>\n",
       "      <th>lattitude eyre square</th>\n",
       "      <th>longtitude eyre square</th>\n",
       "      <th>...</th>\n",
       "      <th>Distance GMIT</th>\n",
       "      <th>number of rooms</th>\n",
       "      <th>number of bathrooms</th>\n",
       "      <th>price per month</th>\n",
       "      <th>type</th>\n",
       "      <th>connection</th>\n",
       "      <th>BER</th>\n",
       "      <th>balcony</th>\n",
       "      <th>floor</th>\n",
       "      <th>heating</th>\n",
       "    </tr>\n",
       "  </thead>\n",
       "  <tbody>\n",
       "    <tr>\n",
       "      <th>0</th>\n",
       "      <td>no</td>\n",
       "      <td>Chaplaincy House</td>\n",
       "      <td>Ballybane Road</td>\n",
       "      <td>Ballybane</td>\n",
       "      <td>NaN</td>\n",
       "      <td>H91 E2NY</td>\n",
       "      <td>53.279666</td>\n",
       "      <td>-9.008728</td>\n",
       "      <td>53.274839</td>\n",
       "      <td>-9.04863</td>\n",
       "      <td>...</td>\n",
       "      <td>0.209452</td>\n",
       "      <td>4</td>\n",
       "      <td>2</td>\n",
       "      <td>2100</td>\n",
       "      <td>house</td>\n",
       "      <td>NaN</td>\n",
       "      <td>d2</td>\n",
       "      <td>no</td>\n",
       "      <td>NaN</td>\n",
       "      <td>central</td>\n",
       "    </tr>\n",
       "    <tr>\n",
       "      <th>1</th>\n",
       "      <td>yes</td>\n",
       "      <td>NaN</td>\n",
       "      <td>cappagh road</td>\n",
       "      <td>knocknacarra</td>\n",
       "      <td>NaN</td>\n",
       "      <td>H91 PV0Y</td>\n",
       "      <td>53.271272</td>\n",
       "      <td>-9.132431</td>\n",
       "      <td>53.274839</td>\n",
       "      <td>-9.04863</td>\n",
       "      <td>...</td>\n",
       "      <td>8.135066</td>\n",
       "      <td>1</td>\n",
       "      <td>1</td>\n",
       "      <td>850</td>\n",
       "      <td>apartment</td>\n",
       "      <td>NaN</td>\n",
       "      <td>c1</td>\n",
       "      <td>no</td>\n",
       "      <td>ground</td>\n",
       "      <td>central</td>\n",
       "    </tr>\n",
       "    <tr>\n",
       "      <th>2</th>\n",
       "      <td>no</td>\n",
       "      <td>83</td>\n",
       "      <td>Maoilin</td>\n",
       "      <td>Ballymoneen Road</td>\n",
       "      <td>Moneen</td>\n",
       "      <td>H91 A6CH</td>\n",
       "      <td>53.271473</td>\n",
       "      <td>-9.121873</td>\n",
       "      <td>53.274839</td>\n",
       "      <td>-9.04863</td>\n",
       "      <td>...</td>\n",
       "      <td>7.434207</td>\n",
       "      <td>3</td>\n",
       "      <td>2</td>\n",
       "      <td>1800</td>\n",
       "      <td>house</td>\n",
       "      <td>NaN</td>\n",
       "      <td>a3</td>\n",
       "      <td>no</td>\n",
       "      <td>NaN</td>\n",
       "      <td>central</td>\n",
       "    </tr>\n",
       "    <tr>\n",
       "      <th>3</th>\n",
       "      <td>no</td>\n",
       "      <td>NaN</td>\n",
       "      <td>NaN</td>\n",
       "      <td>NaN</td>\n",
       "      <td>NaN</td>\n",
       "      <td>H91 W5RP</td>\n",
       "      <td>53.272302</td>\n",
       "      <td>-9.077226</td>\n",
       "      <td>53.274839</td>\n",
       "      <td>-9.04863</td>\n",
       "      <td>...</td>\n",
       "      <td>4.475861</td>\n",
       "      <td>1</td>\n",
       "      <td>1</td>\n",
       "      <td>850</td>\n",
       "      <td>apartment</td>\n",
       "      <td>NaN</td>\n",
       "      <td>NaN</td>\n",
       "      <td>no</td>\n",
       "      <td>ground</td>\n",
       "      <td>central</td>\n",
       "    </tr>\n",
       "    <tr>\n",
       "      <th>4</th>\n",
       "      <td>no</td>\n",
       "      <td>NaN</td>\n",
       "      <td>NaN</td>\n",
       "      <td>NaN</td>\n",
       "      <td>NaN</td>\n",
       "      <td>H91 K46R</td>\n",
       "      <td>53.273859</td>\n",
       "      <td>-9.026788</td>\n",
       "      <td>53.274839</td>\n",
       "      <td>-9.04863</td>\n",
       "      <td>...</td>\n",
       "      <td>1.176212</td>\n",
       "      <td>3</td>\n",
       "      <td>2</td>\n",
       "      <td>1600</td>\n",
       "      <td>house</td>\n",
       "      <td>NaN</td>\n",
       "      <td>d1</td>\n",
       "      <td>no</td>\n",
       "      <td>NaN</td>\n",
       "      <td>central</td>\n",
       "    </tr>\n",
       "  </tbody>\n",
       "</table>\n",
       "<p>5 rows × 29 columns</p>\n",
       "</div>"
      ],
      "text/plain": [
       "  approx            number       address 1         address 2 address 3  \\\n",
       "0     no  Chaplaincy House  Ballybane Road        Ballybane        NaN   \n",
       "1    yes               NaN    cappagh road      knocknacarra       NaN   \n",
       "2     no                83         Maoilin  Ballymoneen Road    Moneen   \n",
       "3     no               NaN             NaN               NaN       NaN   \n",
       "4     no               NaN             NaN               NaN       NaN   \n",
       "\n",
       "    eircode  lattitude  longtitude  lattitude eyre square  \\\n",
       "0  H91 E2NY  53.279666   -9.008728              53.274839   \n",
       "1  H91 PV0Y  53.271272   -9.132431              53.274839   \n",
       "2  H91 A6CH  53.271473   -9.121873              53.274839   \n",
       "3  H91 W5RP  53.272302   -9.077226              53.274839   \n",
       "4  H91 K46R  53.273859   -9.026788              53.274839   \n",
       "\n",
       "   longtitude eyre square  ...  Distance GMIT  number of rooms  \\\n",
       "0                -9.04863  ...       0.209452                4   \n",
       "1                -9.04863  ...       8.135066                1   \n",
       "2                -9.04863  ...       7.434207                3   \n",
       "3                -9.04863  ...       4.475861                1   \n",
       "4                -9.04863  ...       1.176212                3   \n",
       "\n",
       "   number of bathrooms  price per month       type  connection  BER  balcony  \\\n",
       "0                    2             2100      house         NaN   d2       no   \n",
       "1                    1              850  apartment         NaN   c1       no   \n",
       "2                    2             1800      house         NaN   a3       no   \n",
       "3                    1              850  apartment         NaN  NaN       no   \n",
       "4                    2             1600      house         NaN   d1       no   \n",
       "\n",
       "    floor  heating  \n",
       "0     NaN  central  \n",
       "1  ground  central  \n",
       "2     NaN  central  \n",
       "3  ground  central  \n",
       "4     NaN  central  \n",
       "\n",
       "[5 rows x 29 columns]"
      ]
     },
     "execution_count": 3,
     "metadata": {},
     "output_type": "execute_result"
    }
   ],
   "source": [
    "df.head()"
   ]
  },
  {
   "cell_type": "code",
   "execution_count": 4,
   "metadata": {},
   "outputs": [
    {
     "data": {
      "text/plain": [
       "approx                    206\n",
       "number                    256\n",
       "address 1                 194\n",
       "address 2                 237\n",
       "address 3                 360\n",
       "eircode                   237\n",
       "lattitude                   0\n",
       "longtitude                  0\n",
       "lattitude eyre square       0\n",
       "longtitude eyre square      0\n",
       "Distance Eyre Square        0\n",
       "latitude salthill           0\n",
       "longtitude salthill         0\n",
       "Distance Salthill           0\n",
       "latitude collage            0\n",
       "longtitude collage          0\n",
       "Distance NUIG               0\n",
       "latitude gmit               0\n",
       "longtitude gmit             0\n",
       "Distance GMIT               0\n",
       "number of rooms             0\n",
       "number of bathrooms         0\n",
       "price per month             0\n",
       "type                        0\n",
       "connection                265\n",
       "BER                        14\n",
       "balcony                     2\n",
       "floor                     184\n",
       "heating                     5\n",
       "dtype: int64"
      ]
     },
     "execution_count": 4,
     "metadata": {},
     "output_type": "execute_result"
    }
   ],
   "source": [
    "df.isna().sum()\n"
   ]
  },
  {
   "cell_type": "code",
   "execution_count": 5,
   "metadata": {},
   "outputs": [],
   "source": [
    "value_list = ['apartment','studio']"
   ]
  },
  {
   "cell_type": "code",
   "execution_count": 6,
   "metadata": {},
   "outputs": [],
   "source": [
    "df=df[df.type.isin(value_list)]"
   ]
  },
  {
   "cell_type": "code",
   "execution_count": 7,
   "metadata": {},
   "outputs": [
    {
     "data": {
      "text/plain": [
       "array(['apartment', 'studio'], dtype=object)"
      ]
     },
     "execution_count": 7,
     "metadata": {},
     "output_type": "execute_result"
    }
   ],
   "source": [
    "df.type.unique()"
   ]
  },
  {
   "cell_type": "code",
   "execution_count": 8,
   "metadata": {},
   "outputs": [],
   "source": [
    "df=df.drop(columns='eircode')\n",
    "df=df.drop(columns='lattitude') \n",
    "df=df.drop(columns='longtitude')\n",
    "df=df.drop(columns='approx')\n",
    "df=df.drop(columns='number')\n",
    "df=df.drop(columns='address 1')\n",
    "df=df.drop(columns='address 2')\n",
    "df=df.drop(columns='address 3')\n",
    "df=df.drop(columns='lattitude eyre square')\n",
    "df=df.drop(columns='longtitude eyre square')\n",
    "df=df.drop(columns='latitude salthill')\n",
    "df=df.drop(columns='longtitude salthill')\n",
    "df=df.drop(columns='latitude collage')\n",
    "df=df.drop(columns='longtitude collage')\n",
    "df=df.drop(columns='latitude gmit')\n",
    "df=df.drop(columns='longtitude gmit')\n",
    "# thse change depending on the thing we're looking at \n",
    "df=df.drop(columns='type') \n",
    "df=df.drop(columns='connection') \n",
    "#df=df.drop(columns='balcony') "
   ]
  },
  {
   "cell_type": "code",
   "execution_count": 9,
   "metadata": {},
   "outputs": [
    {
     "data": {
      "text/plain": [
       "Distance Eyre Square     0\n",
       "Distance Salthill        0\n",
       "Distance NUIG            0\n",
       "Distance GMIT            0\n",
       "number of rooms          0\n",
       "number of bathrooms      0\n",
       "price per month          0\n",
       "BER                     11\n",
       "balcony                  2\n",
       "floor                   37\n",
       "heating                  4\n",
       "dtype: int64"
      ]
     },
     "execution_count": 9,
     "metadata": {},
     "output_type": "execute_result"
    }
   ],
   "source": [
    "df.isna().sum()"
   ]
  },
  {
   "cell_type": "code",
   "execution_count": 10,
   "metadata": {},
   "outputs": [
    {
     "data": {
      "text/html": [
       "<div>\n",
       "<style scoped>\n",
       "    .dataframe tbody tr th:only-of-type {\n",
       "        vertical-align: middle;\n",
       "    }\n",
       "\n",
       "    .dataframe tbody tr th {\n",
       "        vertical-align: top;\n",
       "    }\n",
       "\n",
       "    .dataframe thead th {\n",
       "        text-align: right;\n",
       "    }\n",
       "</style>\n",
       "<table border=\"1\" class=\"dataframe\">\n",
       "  <thead>\n",
       "    <tr style=\"text-align: right;\">\n",
       "      <th></th>\n",
       "      <th>Distance Eyre Square</th>\n",
       "      <th>Distance Salthill</th>\n",
       "      <th>Distance NUIG</th>\n",
       "      <th>Distance GMIT</th>\n",
       "      <th>number of rooms</th>\n",
       "      <th>number of bathrooms</th>\n",
       "      <th>price per month</th>\n",
       "      <th>BER</th>\n",
       "      <th>balcony</th>\n",
       "      <th>floor</th>\n",
       "      <th>heating</th>\n",
       "    </tr>\n",
       "  </thead>\n",
       "  <tbody>\n",
       "    <tr>\n",
       "      <th>1</th>\n",
       "      <td>5.586384</td>\n",
       "      <td>4.231058</td>\n",
       "      <td>4.789334</td>\n",
       "      <td>8.135066</td>\n",
       "      <td>1</td>\n",
       "      <td>1</td>\n",
       "      <td>850</td>\n",
       "      <td>c1</td>\n",
       "      <td>no</td>\n",
       "      <td>ground</td>\n",
       "      <td>central</td>\n",
       "    </tr>\n",
       "    <tr>\n",
       "      <th>3</th>\n",
       "      <td>1.922237</td>\n",
       "      <td>1.068662</td>\n",
       "      <td>1.296991</td>\n",
       "      <td>4.475861</td>\n",
       "      <td>1</td>\n",
       "      <td>1</td>\n",
       "      <td>850</td>\n",
       "      <td>NaN</td>\n",
       "      <td>no</td>\n",
       "      <td>ground</td>\n",
       "      <td>central</td>\n",
       "    </tr>\n",
       "    <tr>\n",
       "      <th>6</th>\n",
       "      <td>1.150220</td>\n",
       "      <td>0.751666</td>\n",
       "      <td>1.333127</td>\n",
       "      <td>3.533139</td>\n",
       "      <td>2</td>\n",
       "      <td>2</td>\n",
       "      <td>1500</td>\n",
       "      <td>c2</td>\n",
       "      <td>yes</td>\n",
       "      <td>second</td>\n",
       "      <td>electric</td>\n",
       "    </tr>\n",
       "    <tr>\n",
       "      <th>8</th>\n",
       "      <td>2.864960</td>\n",
       "      <td>4.719189</td>\n",
       "      <td>3.516732</td>\n",
       "      <td>0.914503</td>\n",
       "      <td>1</td>\n",
       "      <td>1</td>\n",
       "      <td>650</td>\n",
       "      <td>e1</td>\n",
       "      <td>no</td>\n",
       "      <td>ground</td>\n",
       "      <td>electric</td>\n",
       "    </tr>\n",
       "    <tr>\n",
       "      <th>9</th>\n",
       "      <td>0.837581</td>\n",
       "      <td>2.722612</td>\n",
       "      <td>1.565598</td>\n",
       "      <td>1.831316</td>\n",
       "      <td>2</td>\n",
       "      <td>1</td>\n",
       "      <td>1800</td>\n",
       "      <td>exempt</td>\n",
       "      <td>no</td>\n",
       "      <td>ground</td>\n",
       "      <td>central</td>\n",
       "    </tr>\n",
       "  </tbody>\n",
       "</table>\n",
       "</div>"
      ],
      "text/plain": [
       "   Distance Eyre Square  Distance Salthill  Distance NUIG  Distance GMIT  \\\n",
       "1              5.586384           4.231058       4.789334       8.135066   \n",
       "3              1.922237           1.068662       1.296991       4.475861   \n",
       "6              1.150220           0.751666       1.333127       3.533139   \n",
       "8              2.864960           4.719189       3.516732       0.914503   \n",
       "9              0.837581           2.722612       1.565598       1.831316   \n",
       "\n",
       "   number of rooms  number of bathrooms  price per month     BER balcony  \\\n",
       "1                1                    1              850      c1      no   \n",
       "3                1                    1              850     NaN      no   \n",
       "6                2                    2             1500      c2     yes   \n",
       "8                1                    1              650      e1      no   \n",
       "9                2                    1             1800  exempt      no   \n",
       "\n",
       "    floor   heating  \n",
       "1  ground   central  \n",
       "3  ground   central  \n",
       "6  second  electric  \n",
       "8  ground  electric  \n",
       "9  ground   central  "
      ]
     },
     "execution_count": 10,
     "metadata": {},
     "output_type": "execute_result"
    }
   ],
   "source": [
    "df.head()"
   ]
  },
  {
   "cell_type": "code",
   "execution_count": 11,
   "metadata": {},
   "outputs": [
    {
     "data": {
      "text/plain": [
       "array(['c1', nan, 'c2', 'e1', 'exempt', 'e2', 'c3', 'd2', 'd1', 'b3', 'f',\n",
       "       'b1', 'a3', 'a1', 'g'], dtype=object)"
      ]
     },
     "execution_count": 11,
     "metadata": {},
     "output_type": "execute_result"
    }
   ],
   "source": [
    "#take a look at columns\n",
    "df.BER.unique() "
   ]
  },
  {
   "cell_type": "code",
   "execution_count": 12,
   "metadata": {},
   "outputs": [
    {
     "data": {
      "text/plain": [
       "array(['central', 'electric', nan], dtype=object)"
      ]
     },
     "execution_count": 12,
     "metadata": {},
     "output_type": "execute_result"
    }
   ],
   "source": [
    "df.heating.unique() "
   ]
  },
  {
   "cell_type": "code",
   "execution_count": 13,
   "metadata": {},
   "outputs": [
    {
     "data": {
      "text/plain": [
       "array(['no', 'yes', nan], dtype=object)"
      ]
     },
     "execution_count": 13,
     "metadata": {},
     "output_type": "execute_result"
    }
   ],
   "source": [
    "df.balcony.unique()"
   ]
  },
  {
   "cell_type": "code",
   "execution_count": 14,
   "metadata": {},
   "outputs": [],
   "source": [
    "\n",
    "df = df.dropna() "
   ]
  },
  {
   "cell_type": "code",
   "execution_count": 15,
   "metadata": {},
   "outputs": [
    {
     "data": {
      "text/plain": [
       "array(['central', 'electric'], dtype=object)"
      ]
     },
     "execution_count": 15,
     "metadata": {},
     "output_type": "execute_result"
    }
   ],
   "source": [
    "df.heating.unique()"
   ]
  },
  {
   "cell_type": "code",
   "execution_count": 16,
   "metadata": {},
   "outputs": [
    {
     "data": {
      "text/plain": [
       "array(['c1', 'c2', 'e1', 'exempt', 'e2', 'c3', 'd2', 'd1', 'b3', 'b1',\n",
       "       'f', 'a3', 'a1', 'g'], dtype=object)"
      ]
     },
     "execution_count": 16,
     "metadata": {},
     "output_type": "execute_result"
    }
   ],
   "source": [
    "df.BER.unique()"
   ]
  },
  {
   "cell_type": "code",
   "execution_count": 17,
   "metadata": {},
   "outputs": [
    {
     "data": {
      "text/html": [
       "<div>\n",
       "<style scoped>\n",
       "    .dataframe tbody tr th:only-of-type {\n",
       "        vertical-align: middle;\n",
       "    }\n",
       "\n",
       "    .dataframe tbody tr th {\n",
       "        vertical-align: top;\n",
       "    }\n",
       "\n",
       "    .dataframe thead th {\n",
       "        text-align: right;\n",
       "    }\n",
       "</style>\n",
       "<table border=\"1\" class=\"dataframe\">\n",
       "  <thead>\n",
       "    <tr style=\"text-align: right;\">\n",
       "      <th></th>\n",
       "      <th>Distance Eyre Square</th>\n",
       "      <th>Distance Salthill</th>\n",
       "      <th>Distance NUIG</th>\n",
       "      <th>Distance GMIT</th>\n",
       "      <th>number of rooms</th>\n",
       "      <th>number of bathrooms</th>\n",
       "      <th>price per month</th>\n",
       "    </tr>\n",
       "  </thead>\n",
       "  <tbody>\n",
       "    <tr>\n",
       "      <th>count</th>\n",
       "      <td>196.000000</td>\n",
       "      <td>196.000000</td>\n",
       "      <td>196.000000</td>\n",
       "      <td>196.000000</td>\n",
       "      <td>196.000000</td>\n",
       "      <td>196.000000</td>\n",
       "      <td>196.000000</td>\n",
       "    </tr>\n",
       "    <tr>\n",
       "      <th>mean</th>\n",
       "      <td>2.156983</td>\n",
       "      <td>2.680707</td>\n",
       "      <td>2.307608</td>\n",
       "      <td>3.254004</td>\n",
       "      <td>1.867347</td>\n",
       "      <td>1.484694</td>\n",
       "      <td>1356.693878</td>\n",
       "    </tr>\n",
       "    <tr>\n",
       "      <th>std</th>\n",
       "      <td>1.456978</td>\n",
       "      <td>1.817983</td>\n",
       "      <td>1.534960</td>\n",
       "      <td>1.652991</td>\n",
       "      <td>0.634686</td>\n",
       "      <td>0.585964</td>\n",
       "      <td>356.217059</td>\n",
       "    </tr>\n",
       "    <tr>\n",
       "      <th>min</th>\n",
       "      <td>0.137772</td>\n",
       "      <td>0.099173</td>\n",
       "      <td>0.325498</td>\n",
       "      <td>0.426744</td>\n",
       "      <td>1.000000</td>\n",
       "      <td>1.000000</td>\n",
       "      <td>650.000000</td>\n",
       "    </tr>\n",
       "    <tr>\n",
       "      <th>25%</th>\n",
       "      <td>0.954541</td>\n",
       "      <td>1.239299</td>\n",
       "      <td>1.078918</td>\n",
       "      <td>2.127786</td>\n",
       "      <td>1.000000</td>\n",
       "      <td>1.000000</td>\n",
       "      <td>1116.750000</td>\n",
       "    </tr>\n",
       "    <tr>\n",
       "      <th>50%</th>\n",
       "      <td>1.740680</td>\n",
       "      <td>2.260360</td>\n",
       "      <td>1.722920</td>\n",
       "      <td>2.898607</td>\n",
       "      <td>2.000000</td>\n",
       "      <td>1.000000</td>\n",
       "      <td>1300.000000</td>\n",
       "    </tr>\n",
       "    <tr>\n",
       "      <th>75%</th>\n",
       "      <td>3.051234</td>\n",
       "      <td>3.716152</td>\n",
       "      <td>3.219318</td>\n",
       "      <td>4.278643</td>\n",
       "      <td>2.000000</td>\n",
       "      <td>2.000000</td>\n",
       "      <td>1500.000000</td>\n",
       "    </tr>\n",
       "    <tr>\n",
       "      <th>max</th>\n",
       "      <td>5.586384</td>\n",
       "      <td>7.003994</td>\n",
       "      <td>6.307277</td>\n",
       "      <td>8.135066</td>\n",
       "      <td>4.000000</td>\n",
       "      <td>3.000000</td>\n",
       "      <td>2825.000000</td>\n",
       "    </tr>\n",
       "  </tbody>\n",
       "</table>\n",
       "</div>"
      ],
      "text/plain": [
       "       Distance Eyre Square  Distance Salthill  Distance NUIG  Distance GMIT  \\\n",
       "count            196.000000         196.000000     196.000000     196.000000   \n",
       "mean               2.156983           2.680707       2.307608       3.254004   \n",
       "std                1.456978           1.817983       1.534960       1.652991   \n",
       "min                0.137772           0.099173       0.325498       0.426744   \n",
       "25%                0.954541           1.239299       1.078918       2.127786   \n",
       "50%                1.740680           2.260360       1.722920       2.898607   \n",
       "75%                3.051234           3.716152       3.219318       4.278643   \n",
       "max                5.586384           7.003994       6.307277       8.135066   \n",
       "\n",
       "       number of rooms  number of bathrooms  price per month  \n",
       "count       196.000000           196.000000       196.000000  \n",
       "mean          1.867347             1.484694      1356.693878  \n",
       "std           0.634686             0.585964       356.217059  \n",
       "min           1.000000             1.000000       650.000000  \n",
       "25%           1.000000             1.000000      1116.750000  \n",
       "50%           2.000000             1.000000      1300.000000  \n",
       "75%           2.000000             2.000000      1500.000000  \n",
       "max           4.000000             3.000000      2825.000000  "
      ]
     },
     "execution_count": 17,
     "metadata": {},
     "output_type": "execute_result"
    }
   ],
   "source": [
    "df.describe()"
   ]
  },
  {
   "cell_type": "code",
   "execution_count": 18,
   "metadata": {},
   "outputs": [
    {
     "data": {
      "image/png": "[encoded data removed]",
      "text/plain": [
       "<Figure size 1440x360 with 1 Axes>"
      ]
     },
     "metadata": {
      "needs_background": "light"
     },
     "output_type": "display_data"
    }
   ],
   "source": [
    "df.boxplot(figsize=(20,5))\n",
    "plt.show() "
   ]
  },
  {
   "cell_type": "markdown",
   "metadata": {},
   "source": [
    "price per month changes wildly, "
   ]
  },
  {
   "cell_type": "code",
   "execution_count": 19,
   "metadata": {},
   "outputs": [
    {
     "data": {
      "image/png": "[encoded data removed]",
      "text/plain": [
       "<Figure size 432x288 with 1 Axes>"
      ]
     },
     "metadata": {
      "needs_background": "light"
     },
     "output_type": "display_data"
    }
   ],
   "source": [
    "df.boxplot(column='number of rooms')\n",
    "plt.show()"
   ]
  },
  {
   "cell_type": "markdown",
   "metadata": {},
   "source": [
    "apartments with 4 rooms is out of the ordinary "
   ]
  },
  {
   "cell_type": "code",
   "execution_count": 21,
   "metadata": {},
   "outputs": [
    {
     "data": {
      "image/png": "[encoded data removed]",
      "text/plain": [
       "<Figure size 432x288 with 1 Axes>"
      ]
     },
     "metadata": {
      "needs_background": "light"
     },
     "output_type": "display_data"
    }
   ],
   "source": [
    "df.boxplot(column='price per month')\n",
    "plt.show()"
   ]
  },
  {
   "cell_type": "markdown",
   "metadata": {},
   "source": [
    "anything over 2000 seems to be an outlier \n"
   ]
  },
  {
   "cell_type": "code",
   "execution_count": 23,
   "metadata": {},
   "outputs": [
    {
     "data": {
      "image/png": "[encoded data removed]",
      "text/plain": [
       "<Figure size 432x288 with 1 Axes>"
      ]
     },
     "metadata": {
      "needs_background": "light"
     },
     "output_type": "display_data"
    }
   ],
   "source": [
    "df.boxplot(column='Distance GMIT')\n",
    "plt.show()"
   ]
  },
  {
   "cell_type": "markdown",
   "metadata": {},
   "source": [
    "some are pretty far away, likely out in salthill "
   ]
  },
  {
   "cell_type": "code",
   "execution_count": 24,
   "metadata": {},
   "outputs": [
    {
     "data": {
      "text/html": [
       "<div>\n",
       "<style scoped>\n",
       "    .dataframe tbody tr th:only-of-type {\n",
       "        vertical-align: middle;\n",
       "    }\n",
       "\n",
       "    .dataframe tbody tr th {\n",
       "        vertical-align: top;\n",
       "    }\n",
       "\n",
       "    .dataframe thead th {\n",
       "        text-align: right;\n",
       "    }\n",
       "</style>\n",
       "<table border=\"1\" class=\"dataframe\">\n",
       "  <thead>\n",
       "    <tr style=\"text-align: right;\">\n",
       "      <th></th>\n",
       "      <th>Distance Eyre Square</th>\n",
       "      <th>Distance Salthill</th>\n",
       "      <th>Distance NUIG</th>\n",
       "      <th>Distance GMIT</th>\n",
       "      <th>number of rooms</th>\n",
       "      <th>number of bathrooms</th>\n",
       "      <th>price per month</th>\n",
       "    </tr>\n",
       "  </thead>\n",
       "  <tbody>\n",
       "    <tr>\n",
       "      <th>count</th>\n",
       "      <td>196.000000</td>\n",
       "      <td>196.000000</td>\n",
       "      <td>196.000000</td>\n",
       "      <td>196.000000</td>\n",
       "      <td>196.000000</td>\n",
       "      <td>196.000000</td>\n",
       "      <td>196.000000</td>\n",
       "    </tr>\n",
       "    <tr>\n",
       "      <th>mean</th>\n",
       "      <td>2.156983</td>\n",
       "      <td>2.680707</td>\n",
       "      <td>2.307608</td>\n",
       "      <td>3.254004</td>\n",
       "      <td>1.867347</td>\n",
       "      <td>1.484694</td>\n",
       "      <td>1356.693878</td>\n",
       "    </tr>\n",
       "    <tr>\n",
       "      <th>std</th>\n",
       "      <td>1.456978</td>\n",
       "      <td>1.817983</td>\n",
       "      <td>1.534960</td>\n",
       "      <td>1.652991</td>\n",
       "      <td>0.634686</td>\n",
       "      <td>0.585964</td>\n",
       "      <td>356.217059</td>\n",
       "    </tr>\n",
       "    <tr>\n",
       "      <th>min</th>\n",
       "      <td>0.137772</td>\n",
       "      <td>0.099173</td>\n",
       "      <td>0.325498</td>\n",
       "      <td>0.426744</td>\n",
       "      <td>1.000000</td>\n",
       "      <td>1.000000</td>\n",
       "      <td>650.000000</td>\n",
       "    </tr>\n",
       "    <tr>\n",
       "      <th>25%</th>\n",
       "      <td>0.954541</td>\n",
       "      <td>1.239299</td>\n",
       "      <td>1.078918</td>\n",
       "      <td>2.127786</td>\n",
       "      <td>1.000000</td>\n",
       "      <td>1.000000</td>\n",
       "      <td>1116.750000</td>\n",
       "    </tr>\n",
       "    <tr>\n",
       "      <th>50%</th>\n",
       "      <td>1.740680</td>\n",
       "      <td>2.260360</td>\n",
       "      <td>1.722920</td>\n",
       "      <td>2.898607</td>\n",
       "      <td>2.000000</td>\n",
       "      <td>1.000000</td>\n",
       "      <td>1300.000000</td>\n",
       "    </tr>\n",
       "    <tr>\n",
       "      <th>75%</th>\n",
       "      <td>3.051234</td>\n",
       "      <td>3.716152</td>\n",
       "      <td>3.219318</td>\n",
       "      <td>4.278643</td>\n",
       "      <td>2.000000</td>\n",
       "      <td>2.000000</td>\n",
       "      <td>1500.000000</td>\n",
       "    </tr>\n",
       "    <tr>\n",
       "      <th>max</th>\n",
       "      <td>5.586384</td>\n",
       "      <td>7.003994</td>\n",
       "      <td>6.307277</td>\n",
       "      <td>8.135066</td>\n",
       "      <td>4.000000</td>\n",
       "      <td>3.000000</td>\n",
       "      <td>2825.000000</td>\n",
       "    </tr>\n",
       "  </tbody>\n",
       "</table>\n",
       "</div>"
      ],
      "text/plain": [
       "       Distance Eyre Square  Distance Salthill  Distance NUIG  Distance GMIT  \\\n",
       "count            196.000000         196.000000     196.000000     196.000000   \n",
       "mean               2.156983           2.680707       2.307608       3.254004   \n",
       "std                1.456978           1.817983       1.534960       1.652991   \n",
       "min                0.137772           0.099173       0.325498       0.426744   \n",
       "25%                0.954541           1.239299       1.078918       2.127786   \n",
       "50%                1.740680           2.260360       1.722920       2.898607   \n",
       "75%                3.051234           3.716152       3.219318       4.278643   \n",
       "max                5.586384           7.003994       6.307277       8.135066   \n",
       "\n",
       "       number of rooms  number of bathrooms  price per month  \n",
       "count       196.000000           196.000000       196.000000  \n",
       "mean          1.867347             1.484694      1356.693878  \n",
       "std           0.634686             0.585964       356.217059  \n",
       "min           1.000000             1.000000       650.000000  \n",
       "25%           1.000000             1.000000      1116.750000  \n",
       "50%           2.000000             1.000000      1300.000000  \n",
       "75%           2.000000             2.000000      1500.000000  \n",
       "max           4.000000             3.000000      2825.000000  "
      ]
     },
     "execution_count": 24,
     "metadata": {},
     "output_type": "execute_result"
    }
   ],
   "source": [
    "df.describe()"
   ]
  },
  {
   "cell_type": "markdown",
   "metadata": {},
   "source": [
    "smallest mead for the distance from eyre square, makes sense since its sort of in the middle if we look at hte map from a different page"
   ]
  },
  {
   "cell_type": "code",
   "execution_count": 25,
   "metadata": {},
   "outputs": [
    {
     "data": {
      "text/html": [
       "<div>\n",
       "<style scoped>\n",
       "    .dataframe tbody tr th:only-of-type {\n",
       "        vertical-align: middle;\n",
       "    }\n",
       "\n",
       "    .dataframe tbody tr th {\n",
       "        vertical-align: top;\n",
       "    }\n",
       "\n",
       "    .dataframe thead th {\n",
       "        text-align: right;\n",
       "    }\n",
       "</style>\n",
       "<table border=\"1\" class=\"dataframe\">\n",
       "  <thead>\n",
       "    <tr style=\"text-align: right;\">\n",
       "      <th></th>\n",
       "      <th>Distance Eyre Square</th>\n",
       "      <th>Distance Salthill</th>\n",
       "      <th>Distance NUIG</th>\n",
       "      <th>Distance GMIT</th>\n",
       "      <th>number of rooms</th>\n",
       "      <th>number of bathrooms</th>\n",
       "      <th>price per month</th>\n",
       "      <th>BER</th>\n",
       "      <th>balcony</th>\n",
       "      <th>floor</th>\n",
       "      <th>heating</th>\n",
       "    </tr>\n",
       "  </thead>\n",
       "  <tbody>\n",
       "    <tr>\n",
       "      <th>1</th>\n",
       "      <td>5.586384</td>\n",
       "      <td>4.231058</td>\n",
       "      <td>4.789334</td>\n",
       "      <td>8.135066</td>\n",
       "      <td>1</td>\n",
       "      <td>1</td>\n",
       "      <td>850</td>\n",
       "      <td>c1</td>\n",
       "      <td>no</td>\n",
       "      <td>ground</td>\n",
       "      <td>central</td>\n",
       "    </tr>\n",
       "    <tr>\n",
       "      <th>6</th>\n",
       "      <td>1.150220</td>\n",
       "      <td>0.751666</td>\n",
       "      <td>1.333127</td>\n",
       "      <td>3.533139</td>\n",
       "      <td>2</td>\n",
       "      <td>2</td>\n",
       "      <td>1500</td>\n",
       "      <td>c2</td>\n",
       "      <td>yes</td>\n",
       "      <td>second</td>\n",
       "      <td>electric</td>\n",
       "    </tr>\n",
       "    <tr>\n",
       "      <th>8</th>\n",
       "      <td>2.864960</td>\n",
       "      <td>4.719189</td>\n",
       "      <td>3.516732</td>\n",
       "      <td>0.914503</td>\n",
       "      <td>1</td>\n",
       "      <td>1</td>\n",
       "      <td>650</td>\n",
       "      <td>e1</td>\n",
       "      <td>no</td>\n",
       "      <td>ground</td>\n",
       "      <td>electric</td>\n",
       "    </tr>\n",
       "    <tr>\n",
       "      <th>9</th>\n",
       "      <td>0.837581</td>\n",
       "      <td>2.722612</td>\n",
       "      <td>1.565598</td>\n",
       "      <td>1.831316</td>\n",
       "      <td>2</td>\n",
       "      <td>1</td>\n",
       "      <td>1800</td>\n",
       "      <td>exempt</td>\n",
       "      <td>no</td>\n",
       "      <td>ground</td>\n",
       "      <td>central</td>\n",
       "    </tr>\n",
       "    <tr>\n",
       "      <th>11</th>\n",
       "      <td>2.946082</td>\n",
       "      <td>4.831689</td>\n",
       "      <td>3.334770</td>\n",
       "      <td>1.808406</td>\n",
       "      <td>1</td>\n",
       "      <td>1</td>\n",
       "      <td>1000</td>\n",
       "      <td>exempt</td>\n",
       "      <td>no</td>\n",
       "      <td>ground</td>\n",
       "      <td>central</td>\n",
       "    </tr>\n",
       "  </tbody>\n",
       "</table>\n",
       "</div>"
      ],
      "text/plain": [
       "    Distance Eyre Square  Distance Salthill  Distance NUIG  Distance GMIT  \\\n",
       "1               5.586384           4.231058       4.789334       8.135066   \n",
       "6               1.150220           0.751666       1.333127       3.533139   \n",
       "8               2.864960           4.719189       3.516732       0.914503   \n",
       "9               0.837581           2.722612       1.565598       1.831316   \n",
       "11              2.946082           4.831689       3.334770       1.808406   \n",
       "\n",
       "    number of rooms  number of bathrooms  price per month     BER balcony  \\\n",
       "1                 1                    1              850      c1      no   \n",
       "6                 2                    2             1500      c2     yes   \n",
       "8                 1                    1              650      e1      no   \n",
       "9                 2                    1             1800  exempt      no   \n",
       "11                1                    1             1000  exempt      no   \n",
       "\n",
       "     floor   heating  \n",
       "1   ground   central  \n",
       "6   second  electric  \n",
       "8   ground  electric  \n",
       "9   ground   central  \n",
       "11  ground   central  "
      ]
     },
     "execution_count": 25,
     "metadata": {},
     "output_type": "execute_result"
    }
   ],
   "source": [
    "df.head()"
   ]
  },
  {
   "cell_type": "code",
   "execution_count": 27,
   "metadata": {},
   "outputs": [
    {
     "data": {
      "text/plain": [
       "array(['c1', 'c2', 'e1', 'exempt', 'e2', 'c3', 'd2', 'd1', 'b3', 'b1',\n",
       "       'f', 'a3', 'a1', 'g'], dtype=object)"
      ]
     },
     "execution_count": 27,
     "metadata": {},
     "output_type": "execute_result"
    }
   ],
   "source": [
    "df.BER.unique()"
   ]
  },
  {
   "cell_type": "code",
   "execution_count": null,
   "metadata": {},
   "outputs": [],
   "source": []
  },
  {
   "cell_type": "code",
   "execution_count": 29,
   "metadata": {},
   "outputs": [
    {
     "data": {
      "text/html": [
       "<div>\n",
       "<style scoped>\n",
       "    .dataframe tbody tr th:only-of-type {\n",
       "        vertical-align: middle;\n",
       "    }\n",
       "\n",
       "    .dataframe tbody tr th {\n",
       "        vertical-align: top;\n",
       "    }\n",
       "\n",
       "    .dataframe thead th {\n",
       "        text-align: right;\n",
       "    }\n",
       "</style>\n",
       "<table border=\"1\" class=\"dataframe\">\n",
       "  <thead>\n",
       "    <tr style=\"text-align: right;\">\n",
       "      <th></th>\n",
       "      <th>Distance Eyre Square</th>\n",
       "      <th>Distance Salthill</th>\n",
       "      <th>Distance NUIG</th>\n",
       "      <th>Distance GMIT</th>\n",
       "      <th>number of rooms</th>\n",
       "      <th>number of bathrooms</th>\n",
       "      <th>price per month</th>\n",
       "      <th>BER</th>\n",
       "      <th>balcony</th>\n",
       "      <th>floor</th>\n",
       "      <th>heating</th>\n",
       "    </tr>\n",
       "  </thead>\n",
       "  <tbody>\n",
       "    <tr>\n",
       "      <th>386</th>\n",
       "      <td>2.638566</td>\n",
       "      <td>4.520756</td>\n",
       "      <td>3.014600</td>\n",
       "      <td>1.751473</td>\n",
       "      <td>1</td>\n",
       "      <td>1</td>\n",
       "      <td>950</td>\n",
       "      <td>10</td>\n",
       "      <td>no</td>\n",
       "      <td>ground</td>\n",
       "      <td>electric</td>\n",
       "    </tr>\n",
       "    <tr>\n",
       "      <th>389</th>\n",
       "      <td>0.991533</td>\n",
       "      <td>1.500987</td>\n",
       "      <td>0.327196</td>\n",
       "      <td>3.504046</td>\n",
       "      <td>2</td>\n",
       "      <td>2</td>\n",
       "      <td>2000</td>\n",
       "      <td>7</td>\n",
       "      <td>no</td>\n",
       "      <td>second</td>\n",
       "      <td>central</td>\n",
       "    </tr>\n",
       "    <tr>\n",
       "      <th>392</th>\n",
       "      <td>1.398883</td>\n",
       "      <td>0.528898</td>\n",
       "      <td>1.540958</td>\n",
       "      <td>3.739695</td>\n",
       "      <td>1</td>\n",
       "      <td>1</td>\n",
       "      <td>920</td>\n",
       "      <td>4</td>\n",
       "      <td>no</td>\n",
       "      <td>ground</td>\n",
       "      <td>electric</td>\n",
       "    </tr>\n",
       "    <tr>\n",
       "      <th>393</th>\n",
       "      <td>5.087938</td>\n",
       "      <td>6.748020</td>\n",
       "      <td>5.912348</td>\n",
       "      <td>2.534640</td>\n",
       "      <td>1</td>\n",
       "      <td>1</td>\n",
       "      <td>810</td>\n",
       "      <td>0</td>\n",
       "      <td>no</td>\n",
       "      <td>first</td>\n",
       "      <td>central</td>\n",
       "    </tr>\n",
       "    <tr>\n",
       "      <th>394</th>\n",
       "      <td>4.670141</td>\n",
       "      <td>6.348894</td>\n",
       "      <td>5.487608</td>\n",
       "      <td>2.116635</td>\n",
       "      <td>2</td>\n",
       "      <td>1</td>\n",
       "      <td>1136</td>\n",
       "      <td>5</td>\n",
       "      <td>no</td>\n",
       "      <td>ground</td>\n",
       "      <td>electric</td>\n",
       "    </tr>\n",
       "  </tbody>\n",
       "</table>\n",
       "</div>"
      ],
      "text/plain": [
       "     Distance Eyre Square  Distance Salthill  Distance NUIG  Distance GMIT  \\\n",
       "386              2.638566           4.520756       3.014600       1.751473   \n",
       "389              0.991533           1.500987       0.327196       3.504046   \n",
       "392              1.398883           0.528898       1.540958       3.739695   \n",
       "393              5.087938           6.748020       5.912348       2.534640   \n",
       "394              4.670141           6.348894       5.487608       2.116635   \n",
       "\n",
       "     number of rooms  number of bathrooms  price per month  BER balcony  \\\n",
       "386                1                    1              950   10      no   \n",
       "389                2                    2             2000    7      no   \n",
       "392                1                    1              920    4      no   \n",
       "393                1                    1              810    0      no   \n",
       "394                2                    1             1136    5      no   \n",
       "\n",
       "      floor   heating  \n",
       "386  ground  electric  \n",
       "389  second   central  \n",
       "392  ground  electric  \n",
       "393   first   central  \n",
       "394  ground  electric  "
      ]
     },
     "execution_count": 29,
     "metadata": {},
     "output_type": "execute_result"
    }
   ],
   "source": [
    "scale_mapper = {\n",
    "    \"a1\":15,\n",
    "    \"a2\":14,\n",
    "    \"a3\":13,\n",
    "    \"b1\":12,\n",
    "    \"b2\":11,\n",
    "    \"b3\":10,\n",
    "    \"c1\":9,\n",
    "    \"c2\":8,\n",
    "    \"c3\":7,\n",
    "    \"d1\":6,\n",
    "    \"d2\":5,\n",
    "    \"e1\":4,\n",
    "    \"e2\":3,\n",
    "    \"f\":2,\n",
    "    \"g\":1,\n",
    "    \"exempt\":0\n",
    "}\n",
    "\n",
    "df['BER'] = df['BER'].replace(scale_mapper)\n",
    "\n",
    "df.tail()\n"
   ]
  },
  {
   "cell_type": "code",
   "execution_count": null,
   "metadata": {},
   "outputs": [],
   "source": []
  },
  {
   "cell_type": "code",
   "execution_count": 30,
   "metadata": {},
   "outputs": [
    {
     "data": {
      "text/html": [
       "<div>\n",
       "<style scoped>\n",
       "    .dataframe tbody tr th:only-of-type {\n",
       "        vertical-align: middle;\n",
       "    }\n",
       "\n",
       "    .dataframe tbody tr th {\n",
       "        vertical-align: top;\n",
       "    }\n",
       "\n",
       "    .dataframe thead th {\n",
       "        text-align: right;\n",
       "    }\n",
       "</style>\n",
       "<table border=\"1\" class=\"dataframe\">\n",
       "  <thead>\n",
       "    <tr style=\"text-align: right;\">\n",
       "      <th></th>\n",
       "      <th>Distance Eyre Square</th>\n",
       "      <th>Distance Salthill</th>\n",
       "      <th>Distance NUIG</th>\n",
       "      <th>Distance GMIT</th>\n",
       "      <th>number of rooms</th>\n",
       "      <th>number of bathrooms</th>\n",
       "      <th>price per month</th>\n",
       "      <th>BER</th>\n",
       "      <th>floor</th>\n",
       "      <th>balcony_no</th>\n",
       "      <th>balcony_yes</th>\n",
       "      <th>heating_central</th>\n",
       "      <th>heating_electric</th>\n",
       "    </tr>\n",
       "  </thead>\n",
       "  <tbody>\n",
       "    <tr>\n",
       "      <th>386</th>\n",
       "      <td>2.638566</td>\n",
       "      <td>4.520756</td>\n",
       "      <td>3.014600</td>\n",
       "      <td>1.751473</td>\n",
       "      <td>1</td>\n",
       "      <td>1</td>\n",
       "      <td>950</td>\n",
       "      <td>10</td>\n",
       "      <td>ground</td>\n",
       "      <td>1</td>\n",
       "      <td>0</td>\n",
       "      <td>0</td>\n",
       "      <td>1</td>\n",
       "    </tr>\n",
       "    <tr>\n",
       "      <th>389</th>\n",
       "      <td>0.991533</td>\n",
       "      <td>1.500987</td>\n",
       "      <td>0.327196</td>\n",
       "      <td>3.504046</td>\n",
       "      <td>2</td>\n",
       "      <td>2</td>\n",
       "      <td>2000</td>\n",
       "      <td>7</td>\n",
       "      <td>second</td>\n",
       "      <td>1</td>\n",
       "      <td>0</td>\n",
       "      <td>1</td>\n",
       "      <td>0</td>\n",
       "    </tr>\n",
       "    <tr>\n",
       "      <th>392</th>\n",
       "      <td>1.398883</td>\n",
       "      <td>0.528898</td>\n",
       "      <td>1.540958</td>\n",
       "      <td>3.739695</td>\n",
       "      <td>1</td>\n",
       "      <td>1</td>\n",
       "      <td>920</td>\n",
       "      <td>4</td>\n",
       "      <td>ground</td>\n",
       "      <td>1</td>\n",
       "      <td>0</td>\n",
       "      <td>0</td>\n",
       "      <td>1</td>\n",
       "    </tr>\n",
       "    <tr>\n",
       "      <th>393</th>\n",
       "      <td>5.087938</td>\n",
       "      <td>6.748020</td>\n",
       "      <td>5.912348</td>\n",
       "      <td>2.534640</td>\n",
       "      <td>1</td>\n",
       "      <td>1</td>\n",
       "      <td>810</td>\n",
       "      <td>0</td>\n",
       "      <td>first</td>\n",
       "      <td>1</td>\n",
       "      <td>0</td>\n",
       "      <td>1</td>\n",
       "      <td>0</td>\n",
       "    </tr>\n",
       "    <tr>\n",
       "      <th>394</th>\n",
       "      <td>4.670141</td>\n",
       "      <td>6.348894</td>\n",
       "      <td>5.487608</td>\n",
       "      <td>2.116635</td>\n",
       "      <td>2</td>\n",
       "      <td>1</td>\n",
       "      <td>1136</td>\n",
       "      <td>5</td>\n",
       "      <td>ground</td>\n",
       "      <td>1</td>\n",
       "      <td>0</td>\n",
       "      <td>0</td>\n",
       "      <td>1</td>\n",
       "    </tr>\n",
       "  </tbody>\n",
       "</table>\n",
       "</div>"
      ],
      "text/plain": [
       "     Distance Eyre Square  Distance Salthill  Distance NUIG  Distance GMIT  \\\n",
       "386              2.638566           4.520756       3.014600       1.751473   \n",
       "389              0.991533           1.500987       0.327196       3.504046   \n",
       "392              1.398883           0.528898       1.540958       3.739695   \n",
       "393              5.087938           6.748020       5.912348       2.534640   \n",
       "394              4.670141           6.348894       5.487608       2.116635   \n",
       "\n",
       "     number of rooms  number of bathrooms  price per month  BER   floor  \\\n",
       "386                1                    1              950   10  ground   \n",
       "389                2                    2             2000    7  second   \n",
       "392                1                    1              920    4  ground   \n",
       "393                1                    1              810    0   first   \n",
       "394                2                    1             1136    5  ground   \n",
       "\n",
       "     balcony_no  balcony_yes  heating_central  heating_electric  \n",
       "386           1            0                0                 1  \n",
       "389           1            0                1                 0  \n",
       "392           1            0                0                 1  \n",
       "393           1            0                1                 0  \n",
       "394           1            0                0                 1  "
      ]
     },
     "execution_count": 30,
     "metadata": {},
     "output_type": "execute_result"
    }
   ],
   "source": [
    "df = pd.get_dummies(df, columns=['balcony','heating'])\n",
    "df.tail()\n",
    "\n",
    "#this gives us dummy variables for the categorical columns remaining, for mext run might be worth removing the balcony when examing both"
   ]
  },
  {
   "cell_type": "code",
   "execution_count": 31,
   "metadata": {},
   "outputs": [],
   "source": [
    "del df['balcony_no']"
   ]
  },
  {
   "cell_type": "code",
   "execution_count": 32,
   "metadata": {},
   "outputs": [],
   "source": [
    "del df['heating_central']"
   ]
  },
  {
   "cell_type": "code",
   "execution_count": 33,
   "metadata": {},
   "outputs": [
    {
     "data": {
      "text/html": [
       "<div>\n",
       "<style scoped>\n",
       "    .dataframe tbody tr th:only-of-type {\n",
       "        vertical-align: middle;\n",
       "    }\n",
       "\n",
       "    .dataframe tbody tr th {\n",
       "        vertical-align: top;\n",
       "    }\n",
       "\n",
       "    .dataframe thead th {\n",
       "        text-align: right;\n",
       "    }\n",
       "</style>\n",
       "<table border=\"1\" class=\"dataframe\">\n",
       "  <thead>\n",
       "    <tr style=\"text-align: right;\">\n",
       "      <th></th>\n",
       "      <th>Distance Eyre Square</th>\n",
       "      <th>Distance Salthill</th>\n",
       "      <th>Distance NUIG</th>\n",
       "      <th>Distance GMIT</th>\n",
       "      <th>number of rooms</th>\n",
       "      <th>number of bathrooms</th>\n",
       "      <th>price per month</th>\n",
       "      <th>BER</th>\n",
       "      <th>floor</th>\n",
       "      <th>balcony_yes</th>\n",
       "      <th>heating_electric</th>\n",
       "    </tr>\n",
       "  </thead>\n",
       "  <tbody>\n",
       "    <tr>\n",
       "      <th>1</th>\n",
       "      <td>5.586384</td>\n",
       "      <td>4.231058</td>\n",
       "      <td>4.789334</td>\n",
       "      <td>8.135066</td>\n",
       "      <td>1</td>\n",
       "      <td>1</td>\n",
       "      <td>850</td>\n",
       "      <td>9</td>\n",
       "      <td>ground</td>\n",
       "      <td>0</td>\n",
       "      <td>0</td>\n",
       "    </tr>\n",
       "    <tr>\n",
       "      <th>6</th>\n",
       "      <td>1.150220</td>\n",
       "      <td>0.751666</td>\n",
       "      <td>1.333127</td>\n",
       "      <td>3.533139</td>\n",
       "      <td>2</td>\n",
       "      <td>2</td>\n",
       "      <td>1500</td>\n",
       "      <td>8</td>\n",
       "      <td>second</td>\n",
       "      <td>1</td>\n",
       "      <td>1</td>\n",
       "    </tr>\n",
       "    <tr>\n",
       "      <th>8</th>\n",
       "      <td>2.864960</td>\n",
       "      <td>4.719189</td>\n",
       "      <td>3.516732</td>\n",
       "      <td>0.914503</td>\n",
       "      <td>1</td>\n",
       "      <td>1</td>\n",
       "      <td>650</td>\n",
       "      <td>4</td>\n",
       "      <td>ground</td>\n",
       "      <td>0</td>\n",
       "      <td>1</td>\n",
       "    </tr>\n",
       "    <tr>\n",
       "      <th>9</th>\n",
       "      <td>0.837581</td>\n",
       "      <td>2.722612</td>\n",
       "      <td>1.565598</td>\n",
       "      <td>1.831316</td>\n",
       "      <td>2</td>\n",
       "      <td>1</td>\n",
       "      <td>1800</td>\n",
       "      <td>0</td>\n",
       "      <td>ground</td>\n",
       "      <td>0</td>\n",
       "      <td>0</td>\n",
       "    </tr>\n",
       "    <tr>\n",
       "      <th>11</th>\n",
       "      <td>2.946082</td>\n",
       "      <td>4.831689</td>\n",
       "      <td>3.334770</td>\n",
       "      <td>1.808406</td>\n",
       "      <td>1</td>\n",
       "      <td>1</td>\n",
       "      <td>1000</td>\n",
       "      <td>0</td>\n",
       "      <td>ground</td>\n",
       "      <td>0</td>\n",
       "      <td>0</td>\n",
       "    </tr>\n",
       "  </tbody>\n",
       "</table>\n",
       "</div>"
      ],
      "text/plain": [
       "    Distance Eyre Square  Distance Salthill  Distance NUIG  Distance GMIT  \\\n",
       "1               5.586384           4.231058       4.789334       8.135066   \n",
       "6               1.150220           0.751666       1.333127       3.533139   \n",
       "8               2.864960           4.719189       3.516732       0.914503   \n",
       "9               0.837581           2.722612       1.565598       1.831316   \n",
       "11              2.946082           4.831689       3.334770       1.808406   \n",
       "\n",
       "    number of rooms  number of bathrooms  price per month  BER   floor  \\\n",
       "1                 1                    1              850    9  ground   \n",
       "6                 2                    2             1500    8  second   \n",
       "8                 1                    1              650    4  ground   \n",
       "9                 2                    1             1800    0  ground   \n",
       "11                1                    1             1000    0  ground   \n",
       "\n",
       "    balcony_yes  heating_electric  \n",
       "1             0                 0  \n",
       "6             1                 1  \n",
       "8             0                 1  \n",
       "9             0                 0  \n",
       "11            0                 0  "
      ]
     },
     "execution_count": 33,
     "metadata": {},
     "output_type": "execute_result"
    }
   ],
   "source": [
    "df.head()\n"
   ]
  },
  {
   "cell_type": "code",
   "execution_count": 34,
   "metadata": {},
   "outputs": [
    {
     "data": {
      "text/html": [
       "<div>\n",
       "<style scoped>\n",
       "    .dataframe tbody tr th:only-of-type {\n",
       "        vertical-align: middle;\n",
       "    }\n",
       "\n",
       "    .dataframe tbody tr th {\n",
       "        vertical-align: top;\n",
       "    }\n",
       "\n",
       "    .dataframe thead th {\n",
       "        text-align: right;\n",
       "    }\n",
       "</style>\n",
       "<table border=\"1\" class=\"dataframe\">\n",
       "  <thead>\n",
       "    <tr style=\"text-align: right;\">\n",
       "      <th></th>\n",
       "      <th>Distance Eyre Square</th>\n",
       "      <th>Distance Salthill</th>\n",
       "      <th>Distance NUIG</th>\n",
       "      <th>Distance GMIT</th>\n",
       "      <th>number of rooms</th>\n",
       "      <th>number of bathrooms</th>\n",
       "      <th>price per month</th>\n",
       "      <th>BER</th>\n",
       "      <th>floor</th>\n",
       "      <th>balcony_yes</th>\n",
       "      <th>heating_electric</th>\n",
       "    </tr>\n",
       "  </thead>\n",
       "  <tbody>\n",
       "    <tr>\n",
       "      <th>386</th>\n",
       "      <td>2.638566</td>\n",
       "      <td>4.520756</td>\n",
       "      <td>3.014600</td>\n",
       "      <td>1.751473</td>\n",
       "      <td>1</td>\n",
       "      <td>1</td>\n",
       "      <td>950</td>\n",
       "      <td>10</td>\n",
       "      <td>0</td>\n",
       "      <td>0</td>\n",
       "      <td>1</td>\n",
       "    </tr>\n",
       "    <tr>\n",
       "      <th>389</th>\n",
       "      <td>0.991533</td>\n",
       "      <td>1.500987</td>\n",
       "      <td>0.327196</td>\n",
       "      <td>3.504046</td>\n",
       "      <td>2</td>\n",
       "      <td>2</td>\n",
       "      <td>2000</td>\n",
       "      <td>7</td>\n",
       "      <td>2</td>\n",
       "      <td>0</td>\n",
       "      <td>0</td>\n",
       "    </tr>\n",
       "    <tr>\n",
       "      <th>392</th>\n",
       "      <td>1.398883</td>\n",
       "      <td>0.528898</td>\n",
       "      <td>1.540958</td>\n",
       "      <td>3.739695</td>\n",
       "      <td>1</td>\n",
       "      <td>1</td>\n",
       "      <td>920</td>\n",
       "      <td>4</td>\n",
       "      <td>0</td>\n",
       "      <td>0</td>\n",
       "      <td>1</td>\n",
       "    </tr>\n",
       "    <tr>\n",
       "      <th>393</th>\n",
       "      <td>5.087938</td>\n",
       "      <td>6.748020</td>\n",
       "      <td>5.912348</td>\n",
       "      <td>2.534640</td>\n",
       "      <td>1</td>\n",
       "      <td>1</td>\n",
       "      <td>810</td>\n",
       "      <td>0</td>\n",
       "      <td>1</td>\n",
       "      <td>0</td>\n",
       "      <td>0</td>\n",
       "    </tr>\n",
       "    <tr>\n",
       "      <th>394</th>\n",
       "      <td>4.670141</td>\n",
       "      <td>6.348894</td>\n",
       "      <td>5.487608</td>\n",
       "      <td>2.116635</td>\n",
       "      <td>2</td>\n",
       "      <td>1</td>\n",
       "      <td>1136</td>\n",
       "      <td>5</td>\n",
       "      <td>0</td>\n",
       "      <td>0</td>\n",
       "      <td>1</td>\n",
       "    </tr>\n",
       "  </tbody>\n",
       "</table>\n",
       "</div>"
      ],
      "text/plain": [
       "     Distance Eyre Square  Distance Salthill  Distance NUIG  Distance GMIT  \\\n",
       "386              2.638566           4.520756       3.014600       1.751473   \n",
       "389              0.991533           1.500987       0.327196       3.504046   \n",
       "392              1.398883           0.528898       1.540958       3.739695   \n",
       "393              5.087938           6.748020       5.912348       2.534640   \n",
       "394              4.670141           6.348894       5.487608       2.116635   \n",
       "\n",
       "     number of rooms  number of bathrooms  price per month  BER  floor  \\\n",
       "386                1                    1              950   10      0   \n",
       "389                2                    2             2000    7      2   \n",
       "392                1                    1              920    4      0   \n",
       "393                1                    1              810    0      1   \n",
       "394                2                    1             1136    5      0   \n",
       "\n",
       "     balcony_yes  heating_electric  \n",
       "386            0                 1  \n",
       "389            0                 0  \n",
       "392            0                 1  \n",
       "393            0                 0  \n",
       "394            0                 1  "
      ]
     },
     "execution_count": 34,
     "metadata": {},
     "output_type": "execute_result"
    }
   ],
   "source": [
    "scale_mapper = {\n",
    "    \"ground\":0,\n",
    "    \"first\":1,\n",
    "    \"second\":2,\n",
    "    \"third\":3,\n",
    "    \"fourth\":4,\n",
    "    \"fifth\":5\n",
    "}\n",
    "\n",
    "df['floor'] = df['floor'].replace(scale_mapper)\n",
    "\n",
    "df.tail()"
   ]
  },
  {
   "cell_type": "code",
   "execution_count": 37,
   "metadata": {},
   "outputs": [
    {
     "data": {
      "image/png": "[encoded data removed]",
      "text/plain": [
       "<Figure size 432x288 with 4 Axes>"
      ]
     },
     "metadata": {
      "needs_background": "light"
     },
     "output_type": "display_data"
    },
    {
     "data": {
      "image/png": "[encoded data removed]",
      "text/plain": [
       "<Figure size 432x288 with 1 Axes>"
      ]
     },
     "metadata": {
      "needs_background": "light"
     },
     "output_type": "display_data"
    }
   ],
   "source": [
    "import matplotlib.pyplot as plt\n",
    "import numpy as np\n",
    "\n",
    "\n",
    "fig, axs = plt.subplots(2, 2)\n",
    "\n",
    "\n",
    "axs[0, 0].boxplot(df['number of rooms'])\n",
    "axs[0, 0].set_title('Number of Rooms')\n",
    "\n",
    "axs[0, 1].boxplot(df['price per month'])\n",
    "axs[0, 1].set_title('Price Per Month')\n",
    "\n",
    "axs[1, 1].boxplot(df['Distance GMIT'])\n",
    "axs[1, 1].set_title('Distance GMIT')\n",
    "\n",
    "axs[1, 0].boxplot(df['floor'])\n",
    "axs[1, 0].set_title('Floor')\n",
    "\n",
    "\n",
    "\n",
    "fig.subplots_adjust(left=0.08, right=0.98, bottom=0.05, top=0.9,\n",
    "                    hspace=0.4, wspace=0.3)\n",
    "\n",
    "fig, ax = plt.subplots()\n",
    "ax.boxplot(df['BER'])\n",
    "ax.set_title('BER')\n",
    "plt.show()"
   ]
  },
  {
   "cell_type": "code",
   "execution_count": 38,
   "metadata": {},
   "outputs": [],
   "source": [
    "df['floor'] = df['floor']/5"
   ]
  },
  {
   "cell_type": "code",
   "execution_count": 39,
   "metadata": {},
   "outputs": [
    {
     "data": {
      "image/png": "[encoded data removed]",
      "text/plain": [
       "<Figure size 432x288 with 2 Axes>"
      ]
     },
     "metadata": {
      "needs_background": "light"
     },
     "output_type": "display_data"
    }
   ],
   "source": [
    "sns.heatmap(df.corr());\n"
   ]
  },
  {
   "cell_type": "code",
   "execution_count": 40,
   "metadata": {},
   "outputs": [
    {
     "data": {
      "text/html": [
       "<div>\n",
       "<style scoped>\n",
       "    .dataframe tbody tr th:only-of-type {\n",
       "        vertical-align: middle;\n",
       "    }\n",
       "\n",
       "    .dataframe tbody tr th {\n",
       "        vertical-align: top;\n",
       "    }\n",
       "\n",
       "    .dataframe thead th {\n",
       "        text-align: right;\n",
       "    }\n",
       "</style>\n",
       "<table border=\"1\" class=\"dataframe\">\n",
       "  <thead>\n",
       "    <tr style=\"text-align: right;\">\n",
       "      <th></th>\n",
       "      <th>Distance Eyre Square</th>\n",
       "      <th>Distance Salthill</th>\n",
       "      <th>Distance NUIG</th>\n",
       "      <th>Distance GMIT</th>\n",
       "      <th>number of rooms</th>\n",
       "      <th>number of bathrooms</th>\n",
       "      <th>price per month</th>\n",
       "      <th>BER</th>\n",
       "      <th>floor</th>\n",
       "      <th>balcony_yes</th>\n",
       "      <th>heating_electric</th>\n",
       "    </tr>\n",
       "  </thead>\n",
       "  <tbody>\n",
       "    <tr>\n",
       "      <th>Distance Eyre Square</th>\n",
       "      <td>1.000000</td>\n",
       "      <td>0.663455</td>\n",
       "      <td>0.926371</td>\n",
       "      <td>0.270578</td>\n",
       "      <td>0.007667</td>\n",
       "      <td>0.031147</td>\n",
       "      <td>-0.238347</td>\n",
       "      <td>0.189864</td>\n",
       "      <td>-0.113979</td>\n",
       "      <td>-0.109624</td>\n",
       "      <td>-0.136956</td>\n",
       "    </tr>\n",
       "    <tr>\n",
       "      <th>Distance Salthill</th>\n",
       "      <td>0.663455</td>\n",
       "      <td>1.000000</td>\n",
       "      <td>0.818157</td>\n",
       "      <td>-0.445851</td>\n",
       "      <td>0.156446</td>\n",
       "      <td>0.070726</td>\n",
       "      <td>-0.191639</td>\n",
       "      <td>0.211516</td>\n",
       "      <td>-0.168657</td>\n",
       "      <td>-0.008140</td>\n",
       "      <td>-0.185803</td>\n",
       "    </tr>\n",
       "    <tr>\n",
       "      <th>Distance NUIG</th>\n",
       "      <td>0.926371</td>\n",
       "      <td>0.818157</td>\n",
       "      <td>1.000000</td>\n",
       "      <td>-0.050905</td>\n",
       "      <td>0.024757</td>\n",
       "      <td>-0.011669</td>\n",
       "      <td>-0.260979</td>\n",
       "      <td>0.188873</td>\n",
       "      <td>-0.113342</td>\n",
       "      <td>-0.061146</td>\n",
       "      <td>-0.125875</td>\n",
       "    </tr>\n",
       "    <tr>\n",
       "      <th>Distance GMIT</th>\n",
       "      <td>0.270578</td>\n",
       "      <td>-0.445851</td>\n",
       "      <td>-0.050905</td>\n",
       "      <td>1.000000</td>\n",
       "      <td>-0.129099</td>\n",
       "      <td>0.030170</td>\n",
       "      <td>0.019286</td>\n",
       "      <td>-0.051574</td>\n",
       "      <td>0.068969</td>\n",
       "      <td>-0.147997</td>\n",
       "      <td>0.020019</td>\n",
       "    </tr>\n",
       "    <tr>\n",
       "      <th>number of rooms</th>\n",
       "      <td>0.007667</td>\n",
       "      <td>0.156446</td>\n",
       "      <td>0.024757</td>\n",
       "      <td>-0.129099</td>\n",
       "      <td>1.000000</td>\n",
       "      <td>0.518498</td>\n",
       "      <td>0.634636</td>\n",
       "      <td>0.150870</td>\n",
       "      <td>0.147354</td>\n",
       "      <td>0.245295</td>\n",
       "      <td>0.102375</td>\n",
       "    </tr>\n",
       "    <tr>\n",
       "      <th>number of bathrooms</th>\n",
       "      <td>0.031147</td>\n",
       "      <td>0.070726</td>\n",
       "      <td>-0.011669</td>\n",
       "      <td>0.030170</td>\n",
       "      <td>0.518498</td>\n",
       "      <td>1.000000</td>\n",
       "      <td>0.502011</td>\n",
       "      <td>0.093304</td>\n",
       "      <td>0.266942</td>\n",
       "      <td>0.309843</td>\n",
       "      <td>0.004613</td>\n",
       "    </tr>\n",
       "    <tr>\n",
       "      <th>price per month</th>\n",
       "      <td>-0.238347</td>\n",
       "      <td>-0.191639</td>\n",
       "      <td>-0.260979</td>\n",
       "      <td>0.019286</td>\n",
       "      <td>0.634636</td>\n",
       "      <td>0.502011</td>\n",
       "      <td>1.000000</td>\n",
       "      <td>0.024436</td>\n",
       "      <td>0.286583</td>\n",
       "      <td>0.282128</td>\n",
       "      <td>-0.035162</td>\n",
       "    </tr>\n",
       "    <tr>\n",
       "      <th>BER</th>\n",
       "      <td>0.189864</td>\n",
       "      <td>0.211516</td>\n",
       "      <td>0.188873</td>\n",
       "      <td>-0.051574</td>\n",
       "      <td>0.150870</td>\n",
       "      <td>0.093304</td>\n",
       "      <td>0.024436</td>\n",
       "      <td>1.000000</td>\n",
       "      <td>0.197855</td>\n",
       "      <td>0.210166</td>\n",
       "      <td>-0.157382</td>\n",
       "    </tr>\n",
       "    <tr>\n",
       "      <th>floor</th>\n",
       "      <td>-0.113979</td>\n",
       "      <td>-0.168657</td>\n",
       "      <td>-0.113342</td>\n",
       "      <td>0.068969</td>\n",
       "      <td>0.147354</td>\n",
       "      <td>0.266942</td>\n",
       "      <td>0.286583</td>\n",
       "      <td>0.197855</td>\n",
       "      <td>1.000000</td>\n",
       "      <td>0.565649</td>\n",
       "      <td>0.075668</td>\n",
       "    </tr>\n",
       "    <tr>\n",
       "      <th>balcony_yes</th>\n",
       "      <td>-0.109624</td>\n",
       "      <td>-0.008140</td>\n",
       "      <td>-0.061146</td>\n",
       "      <td>-0.147997</td>\n",
       "      <td>0.245295</td>\n",
       "      <td>0.309843</td>\n",
       "      <td>0.282128</td>\n",
       "      <td>0.210166</td>\n",
       "      <td>0.565649</td>\n",
       "      <td>1.000000</td>\n",
       "      <td>0.071817</td>\n",
       "    </tr>\n",
       "    <tr>\n",
       "      <th>heating_electric</th>\n",
       "      <td>-0.136956</td>\n",
       "      <td>-0.185803</td>\n",
       "      <td>-0.125875</td>\n",
       "      <td>0.020019</td>\n",
       "      <td>0.102375</td>\n",
       "      <td>0.004613</td>\n",
       "      <td>-0.035162</td>\n",
       "      <td>-0.157382</td>\n",
       "      <td>0.075668</td>\n",
       "      <td>0.071817</td>\n",
       "      <td>1.000000</td>\n",
       "    </tr>\n",
       "  </tbody>\n",
       "</table>\n",
       "</div>"
      ],
      "text/plain": [
       "                      Distance Eyre Square  Distance Salthill  Distance NUIG  \\\n",
       "Distance Eyre Square              1.000000           0.663455       0.926371   \n",
       "Distance Salthill                 0.663455           1.000000       0.818157   \n",
       "Distance NUIG                     0.926371           0.818157       1.000000   \n",
       "Distance GMIT                     0.270578          -0.445851      -0.050905   \n",
       "number of rooms                   0.007667           0.156446       0.024757   \n",
       "number of bathrooms               0.031147           0.070726      -0.011669   \n",
       "price per month                  -0.238347          -0.191639      -0.260979   \n",
       "BER                               0.189864           0.211516       0.188873   \n",
       "floor                            -0.113979          -0.168657      -0.113342   \n",
       "balcony_yes                      -0.109624          -0.008140      -0.061146   \n",
       "heating_electric                 -0.136956          -0.185803      -0.125875   \n",
       "\n",
       "                      Distance GMIT  number of rooms  number of bathrooms  \\\n",
       "Distance Eyre Square       0.270578         0.007667             0.031147   \n",
       "Distance Salthill         -0.445851         0.156446             0.070726   \n",
       "Distance NUIG             -0.050905         0.024757            -0.011669   \n",
       "Distance GMIT              1.000000        -0.129099             0.030170   \n",
       "number of rooms           -0.129099         1.000000             0.518498   \n",
       "number of bathrooms        0.030170         0.518498             1.000000   \n",
       "price per month            0.019286         0.634636             0.502011   \n",
       "BER                       -0.051574         0.150870             0.093304   \n",
       "floor                      0.068969         0.147354             0.266942   \n",
       "balcony_yes               -0.147997         0.245295             0.309843   \n",
       "heating_electric           0.020019         0.102375             0.004613   \n",
       "\n",
       "                      price per month       BER     floor  balcony_yes  \\\n",
       "Distance Eyre Square        -0.238347  0.189864 -0.113979    -0.109624   \n",
       "Distance Salthill           -0.191639  0.211516 -0.168657    -0.008140   \n",
       "Distance NUIG               -0.260979  0.188873 -0.113342    -0.061146   \n",
       "Distance GMIT                0.019286 -0.051574  0.068969    -0.147997   \n",
       "number of rooms              0.634636  0.150870  0.147354     0.245295   \n",
       "number of bathrooms          0.502011  0.093304  0.266942     0.309843   \n",
       "price per month              1.000000  0.024436  0.286583     0.282128   \n",
       "BER                          0.024436  1.000000  0.197855     0.210166   \n",
       "floor                        0.286583  0.197855  1.000000     0.565649   \n",
       "balcony_yes                  0.282128  0.210166  0.565649     1.000000   \n",
       "heating_electric            -0.035162 -0.157382  0.075668     0.071817   \n",
       "\n",
       "                      heating_electric  \n",
       "Distance Eyre Square         -0.136956  \n",
       "Distance Salthill            -0.185803  \n",
       "Distance NUIG                -0.125875  \n",
       "Distance GMIT                 0.020019  \n",
       "number of rooms               0.102375  \n",
       "number of bathrooms           0.004613  \n",
       "price per month              -0.035162  \n",
       "BER                          -0.157382  \n",
       "floor                         0.075668  \n",
       "balcony_yes                   0.071817  \n",
       "heating_electric              1.000000  "
      ]
     },
     "execution_count": 40,
     "metadata": {},
     "output_type": "execute_result"
    }
   ],
   "source": [
    "df.corr() #correlcation matric, similar to above but just the numbers "
   ]
  },
  {
   "cell_type": "markdown",
   "metadata": {},
   "source": [
    "inverse, low dist erye square sathill collage gmit not important \n",
    "rooms and baths mid to hig importance \n",
    "ber isnt important \n",
    "higher the floor is mid important \n",
    "balcony low postivie \n",
    "electric heating doesn't seem to have much affect "
   ]
  },
  {
   "cell_type": "code",
   "execution_count": 41,
   "metadata": {},
   "outputs": [],
   "source": [
    "robust_scaler = RobustScaler()\n",
    "df[['Distance Eyre Square',\n",
    "    'Distance Salthill','Distance NUIG','Distance GMIT','number of rooms','number of bathrooms']] = robust_scaler.fit_transform(df[['Distance Eyre Square',\n",
    "    'Distance Salthill','Distance NUIG','Distance GMIT','number of rooms','number of bathrooms']])\n",
    "\n",
    "#can this handle negative values?? not sure might need to use a different method "
   ]
  },
  {
   "cell_type": "code",
   "execution_count": 43,
   "metadata": {},
   "outputs": [
    {
     "data": {
      "text/plain": [
       "array([ 9,  8,  4,  0,  3,  7,  5,  6, 10, 12,  2, 13, 15,  1])"
      ]
     },
     "execution_count": 43,
     "metadata": {},
     "output_type": "execute_result"
    }
   ],
   "source": [
    "df.BER.unique()"
   ]
  },
  {
   "cell_type": "code",
   "execution_count": 45,
   "metadata": {},
   "outputs": [],
   "source": [
    "df['BER'] = df['BER']/15\n"
   ]
  },
  {
   "cell_type": "code",
   "execution_count": 47,
   "metadata": {},
   "outputs": [
    {
     "data": {
      "text/plain": [
       "array([0.6       , 0.53333333, 0.26666667, 0.        , 0.2       ,\n",
       "       0.46666667, 0.33333333, 0.4       , 0.66666667, 0.8       ,\n",
       "       0.13333333, 0.86666667, 1.        , 0.06666667])"
      ]
     },
     "execution_count": 47,
     "metadata": {},
     "output_type": "execute_result"
    }
   ],
   "source": [
    "df.BER.unique() #has a non numerical value in there "
   ]
  },
  {
   "cell_type": "code",
   "execution_count": 48,
   "metadata": {},
   "outputs": [
    {
     "data": {
      "text/html": [
       "<div>\n",
       "<style scoped>\n",
       "    .dataframe tbody tr th:only-of-type {\n",
       "        vertical-align: middle;\n",
       "    }\n",
       "\n",
       "    .dataframe tbody tr th {\n",
       "        vertical-align: top;\n",
       "    }\n",
       "\n",
       "    .dataframe thead th {\n",
       "        text-align: right;\n",
       "    }\n",
       "</style>\n",
       "<table border=\"1\" class=\"dataframe\">\n",
       "  <thead>\n",
       "    <tr style=\"text-align: right;\">\n",
       "      <th></th>\n",
       "      <th>Distance Eyre Square</th>\n",
       "      <th>Distance Salthill</th>\n",
       "      <th>Distance NUIG</th>\n",
       "      <th>Distance GMIT</th>\n",
       "      <th>number of rooms</th>\n",
       "      <th>number of bathrooms</th>\n",
       "      <th>price per month</th>\n",
       "      <th>BER</th>\n",
       "      <th>floor</th>\n",
       "      <th>balcony_yes</th>\n",
       "      <th>heating_electric</th>\n",
       "    </tr>\n",
       "  </thead>\n",
       "  <tbody>\n",
       "    <tr>\n",
       "      <th>Distance Eyre Square</th>\n",
       "      <td>1.000000</td>\n",
       "      <td>0.663455</td>\n",
       "      <td>0.926371</td>\n",
       "      <td>0.270578</td>\n",
       "      <td>0.007667</td>\n",
       "      <td>0.031147</td>\n",
       "      <td>-0.238347</td>\n",
       "      <td>0.189864</td>\n",
       "      <td>-0.113979</td>\n",
       "      <td>-0.109624</td>\n",
       "      <td>-0.136956</td>\n",
       "    </tr>\n",
       "    <tr>\n",
       "      <th>Distance Salthill</th>\n",
       "      <td>0.663455</td>\n",
       "      <td>1.000000</td>\n",
       "      <td>0.818157</td>\n",
       "      <td>-0.445851</td>\n",
       "      <td>0.156446</td>\n",
       "      <td>0.070726</td>\n",
       "      <td>-0.191639</td>\n",
       "      <td>0.211516</td>\n",
       "      <td>-0.168657</td>\n",
       "      <td>-0.008140</td>\n",
       "      <td>-0.185803</td>\n",
       "    </tr>\n",
       "    <tr>\n",
       "      <th>Distance NUIG</th>\n",
       "      <td>0.926371</td>\n",
       "      <td>0.818157</td>\n",
       "      <td>1.000000</td>\n",
       "      <td>-0.050905</td>\n",
       "      <td>0.024757</td>\n",
       "      <td>-0.011669</td>\n",
       "      <td>-0.260979</td>\n",
       "      <td>0.188873</td>\n",
       "      <td>-0.113342</td>\n",
       "      <td>-0.061146</td>\n",
       "      <td>-0.125875</td>\n",
       "    </tr>\n",
       "    <tr>\n",
       "      <th>Distance GMIT</th>\n",
       "      <td>0.270578</td>\n",
       "      <td>-0.445851</td>\n",
       "      <td>-0.050905</td>\n",
       "      <td>1.000000</td>\n",
       "      <td>-0.129099</td>\n",
       "      <td>0.030170</td>\n",
       "      <td>0.019286</td>\n",
       "      <td>-0.051574</td>\n",
       "      <td>0.068969</td>\n",
       "      <td>-0.147997</td>\n",
       "      <td>0.020019</td>\n",
       "    </tr>\n",
       "    <tr>\n",
       "      <th>number of rooms</th>\n",
       "      <td>0.007667</td>\n",
       "      <td>0.156446</td>\n",
       "      <td>0.024757</td>\n",
       "      <td>-0.129099</td>\n",
       "      <td>1.000000</td>\n",
       "      <td>0.518498</td>\n",
       "      <td>0.634636</td>\n",
       "      <td>0.150870</td>\n",
       "      <td>0.147354</td>\n",
       "      <td>0.245295</td>\n",
       "      <td>0.102375</td>\n",
       "    </tr>\n",
       "    <tr>\n",
       "      <th>number of bathrooms</th>\n",
       "      <td>0.031147</td>\n",
       "      <td>0.070726</td>\n",
       "      <td>-0.011669</td>\n",
       "      <td>0.030170</td>\n",
       "      <td>0.518498</td>\n",
       "      <td>1.000000</td>\n",
       "      <td>0.502011</td>\n",
       "      <td>0.093304</td>\n",
       "      <td>0.266942</td>\n",
       "      <td>0.309843</td>\n",
       "      <td>0.004613</td>\n",
       "    </tr>\n",
       "    <tr>\n",
       "      <th>price per month</th>\n",
       "      <td>-0.238347</td>\n",
       "      <td>-0.191639</td>\n",
       "      <td>-0.260979</td>\n",
       "      <td>0.019286</td>\n",
       "      <td>0.634636</td>\n",
       "      <td>0.502011</td>\n",
       "      <td>1.000000</td>\n",
       "      <td>0.024436</td>\n",
       "      <td>0.286583</td>\n",
       "      <td>0.282128</td>\n",
       "      <td>-0.035162</td>\n",
       "    </tr>\n",
       "    <tr>\n",
       "      <th>BER</th>\n",
       "      <td>0.189864</td>\n",
       "      <td>0.211516</td>\n",
       "      <td>0.188873</td>\n",
       "      <td>-0.051574</td>\n",
       "      <td>0.150870</td>\n",
       "      <td>0.093304</td>\n",
       "      <td>0.024436</td>\n",
       "      <td>1.000000</td>\n",
       "      <td>0.197855</td>\n",
       "      <td>0.210166</td>\n",
       "      <td>-0.157382</td>\n",
       "    </tr>\n",
       "    <tr>\n",
       "      <th>floor</th>\n",
       "      <td>-0.113979</td>\n",
       "      <td>-0.168657</td>\n",
       "      <td>-0.113342</td>\n",
       "      <td>0.068969</td>\n",
       "      <td>0.147354</td>\n",
       "      <td>0.266942</td>\n",
       "      <td>0.286583</td>\n",
       "      <td>0.197855</td>\n",
       "      <td>1.000000</td>\n",
       "      <td>0.565649</td>\n",
       "      <td>0.075668</td>\n",
       "    </tr>\n",
       "    <tr>\n",
       "      <th>balcony_yes</th>\n",
       "      <td>-0.109624</td>\n",
       "      <td>-0.008140</td>\n",
       "      <td>-0.061146</td>\n",
       "      <td>-0.147997</td>\n",
       "      <td>0.245295</td>\n",
       "      <td>0.309843</td>\n",
       "      <td>0.282128</td>\n",
       "      <td>0.210166</td>\n",
       "      <td>0.565649</td>\n",
       "      <td>1.000000</td>\n",
       "      <td>0.071817</td>\n",
       "    </tr>\n",
       "    <tr>\n",
       "      <th>heating_electric</th>\n",
       "      <td>-0.136956</td>\n",
       "      <td>-0.185803</td>\n",
       "      <td>-0.125875</td>\n",
       "      <td>0.020019</td>\n",
       "      <td>0.102375</td>\n",
       "      <td>0.004613</td>\n",
       "      <td>-0.035162</td>\n",
       "      <td>-0.157382</td>\n",
       "      <td>0.075668</td>\n",
       "      <td>0.071817</td>\n",
       "      <td>1.000000</td>\n",
       "    </tr>\n",
       "  </tbody>\n",
       "</table>\n",
       "</div>"
      ],
      "text/plain": [
       "                      Distance Eyre Square  Distance Salthill  Distance NUIG  \\\n",
       "Distance Eyre Square              1.000000           0.663455       0.926371   \n",
       "Distance Salthill                 0.663455           1.000000       0.818157   \n",
       "Distance NUIG                     0.926371           0.818157       1.000000   \n",
       "Distance GMIT                     0.270578          -0.445851      -0.050905   \n",
       "number of rooms                   0.007667           0.156446       0.024757   \n",
       "number of bathrooms               0.031147           0.070726      -0.011669   \n",
       "price per month                  -0.238347          -0.191639      -0.260979   \n",
       "BER                               0.189864           0.211516       0.188873   \n",
       "floor                            -0.113979          -0.168657      -0.113342   \n",
       "balcony_yes                      -0.109624          -0.008140      -0.061146   \n",
       "heating_electric                 -0.136956          -0.185803      -0.125875   \n",
       "\n",
       "                      Distance GMIT  number of rooms  number of bathrooms  \\\n",
       "Distance Eyre Square       0.270578         0.007667             0.031147   \n",
       "Distance Salthill         -0.445851         0.156446             0.070726   \n",
       "Distance NUIG             -0.050905         0.024757            -0.011669   \n",
       "Distance GMIT              1.000000        -0.129099             0.030170   \n",
       "number of rooms           -0.129099         1.000000             0.518498   \n",
       "number of bathrooms        0.030170         0.518498             1.000000   \n",
       "price per month            0.019286         0.634636             0.502011   \n",
       "BER                       -0.051574         0.150870             0.093304   \n",
       "floor                      0.068969         0.147354             0.266942   \n",
       "balcony_yes               -0.147997         0.245295             0.309843   \n",
       "heating_electric           0.020019         0.102375             0.004613   \n",
       "\n",
       "                      price per month       BER     floor  balcony_yes  \\\n",
       "Distance Eyre Square        -0.238347  0.189864 -0.113979    -0.109624   \n",
       "Distance Salthill           -0.191639  0.211516 -0.168657    -0.008140   \n",
       "Distance NUIG               -0.260979  0.188873 -0.113342    -0.061146   \n",
       "Distance GMIT                0.019286 -0.051574  0.068969    -0.147997   \n",
       "number of rooms              0.634636  0.150870  0.147354     0.245295   \n",
       "number of bathrooms          0.502011  0.093304  0.266942     0.309843   \n",
       "price per month              1.000000  0.024436  0.286583     0.282128   \n",
       "BER                          0.024436  1.000000  0.197855     0.210166   \n",
       "floor                        0.286583  0.197855  1.000000     0.565649   \n",
       "balcony_yes                  0.282128  0.210166  0.565649     1.000000   \n",
       "heating_electric            -0.035162 -0.157382  0.075668     0.071817   \n",
       "\n",
       "                      heating_electric  \n",
       "Distance Eyre Square         -0.136956  \n",
       "Distance Salthill            -0.185803  \n",
       "Distance NUIG                -0.125875  \n",
       "Distance GMIT                 0.020019  \n",
       "number of rooms               0.102375  \n",
       "number of bathrooms           0.004613  \n",
       "price per month              -0.035162  \n",
       "BER                          -0.157382  \n",
       "floor                         0.075668  \n",
       "balcony_yes                   0.071817  \n",
       "heating_electric              1.000000  "
      ]
     },
     "execution_count": 48,
     "metadata": {},
     "output_type": "execute_result"
    }
   ],
   "source": [
    "df.corr()\n"
   ]
  },
  {
   "cell_type": "code",
   "execution_count": 49,
   "metadata": {},
   "outputs": [
    {
     "data": {
      "image/png": "[encoded data removed]",
      "text/plain": [
       "<Figure size 1440x360 with 1 Axes>"
      ]
     },
     "metadata": {
      "needs_background": "light"
     },
     "output_type": "display_data"
    }
   ],
   "source": [
    "df.boxplot(figsize=(20,5))\n",
    "plt.show() "
   ]
  },
  {
   "cell_type": "code",
   "execution_count": 51,
   "metadata": {},
   "outputs": [
    {
     "data": {
      "image/png": "[encoded data removed]",
      "text/plain": [
       "<Figure size 432x288 with 4 Axes>"
      ]
     },
     "metadata": {
      "needs_background": "light"
     },
     "output_type": "display_data"
    },
    {
     "data": {
      "image/png": "[encoded data removed]",
      "text/plain": [
       "<Figure size 432x288 with 1 Axes>"
      ]
     },
     "metadata": {
      "needs_background": "light"
     },
     "output_type": "display_data"
    }
   ],
   "source": [
    "import matplotlib.pyplot as plt\n",
    "import numpy as np\n",
    "\n",
    "\n",
    "fig, axs = plt.subplots(2, 2)\n",
    "\n",
    "\n",
    "axs[0, 0].boxplot(df['number of rooms'])\n",
    "axs[0, 0].set_title('Number of Rooms')\n",
    "\n",
    "axs[0, 1].boxplot(df['price per month'])\n",
    "axs[0, 1].set_title('Price Per Month')\n",
    "\n",
    "axs[1, 1].boxplot(df['Distance GMIT'])\n",
    "axs[1, 1].set_title('Distance from GMIT')\n",
    "\n",
    "axs[1, 0].boxplot(df['floor'])\n",
    "axs[1, 0].set_title('Floor')\n",
    "\n",
    "\n",
    "\n",
    "fig.subplots_adjust(left=0.08, right=0.98, bottom=0.05, top=0.9,\n",
    "                    hspace=0.4, wspace=0.3)\n",
    "\n",
    "fig, ax = plt.subplots()\n",
    "ax.boxplot(df['BER'])\n",
    "ax.set_title('BER')\n",
    "plt.show()"
   ]
  },
  {
   "cell_type": "code",
   "execution_count": 52,
   "metadata": {},
   "outputs": [
    {
     "data": {
      "image/png": "[encoded data removed]",
      "text/plain": [
       "<Figure size 432x288 with 1 Axes>"
      ]
     },
     "metadata": {
      "needs_background": "light"
     },
     "output_type": "display_data"
    }
   ],
   "source": [
    "df.boxplot(column='number of rooms')\n",
    "plt.show()"
   ]
  },
  {
   "cell_type": "code",
   "execution_count": 53,
   "metadata": {},
   "outputs": [
    {
     "data": {
      "image/png": "[encoded data removed]",
      "text/plain": [
       "<Figure size 432x288 with 1 Axes>"
      ]
     },
     "metadata": {
      "needs_background": "light"
     },
     "output_type": "display_data"
    }
   ],
   "source": [
    "df.boxplot(column='floor')\n",
    "plt.show()\n"
   ]
  },
  {
   "cell_type": "code",
   "execution_count": 54,
   "metadata": {
    "scrolled": true
   },
   "outputs": [
    {
     "data": {
      "text/html": [
       "<div>\n",
       "<style scoped>\n",
       "    .dataframe tbody tr th:only-of-type {\n",
       "        vertical-align: middle;\n",
       "    }\n",
       "\n",
       "    .dataframe tbody tr th {\n",
       "        vertical-align: top;\n",
       "    }\n",
       "\n",
       "    .dataframe thead th {\n",
       "        text-align: right;\n",
       "    }\n",
       "</style>\n",
       "<table border=\"1\" class=\"dataframe\">\n",
       "  <thead>\n",
       "    <tr style=\"text-align: right;\">\n",
       "      <th></th>\n",
       "      <th>Distance Eyre Square</th>\n",
       "      <th>Distance Salthill</th>\n",
       "      <th>Distance NUIG</th>\n",
       "      <th>Distance GMIT</th>\n",
       "      <th>number of rooms</th>\n",
       "      <th>number of bathrooms</th>\n",
       "      <th>price per month</th>\n",
       "      <th>BER</th>\n",
       "      <th>floor</th>\n",
       "      <th>balcony_yes</th>\n",
       "      <th>heating_electric</th>\n",
       "    </tr>\n",
       "  </thead>\n",
       "  <tbody>\n",
       "    <tr>\n",
       "      <th>count</th>\n",
       "      <td>196.000000</td>\n",
       "      <td>196.000000</td>\n",
       "      <td>1.960000e+02</td>\n",
       "      <td>196.000000</td>\n",
       "      <td>196.000000</td>\n",
       "      <td>196.000000</td>\n",
       "      <td>196.000000</td>\n",
       "      <td>196.000000</td>\n",
       "      <td>196.000000</td>\n",
       "      <td>196.000000</td>\n",
       "      <td>196.000000</td>\n",
       "    </tr>\n",
       "    <tr>\n",
       "      <th>mean</th>\n",
       "      <td>0.198552</td>\n",
       "      <td>0.169710</td>\n",
       "      <td>2.731675e-01</td>\n",
       "      <td>0.165235</td>\n",
       "      <td>-0.132653</td>\n",
       "      <td>0.484694</td>\n",
       "      <td>1356.693878</td>\n",
       "      <td>0.376871</td>\n",
       "      <td>0.154082</td>\n",
       "      <td>0.311224</td>\n",
       "      <td>0.586735</td>\n",
       "    </tr>\n",
       "    <tr>\n",
       "      <th>std</th>\n",
       "      <td>0.694894</td>\n",
       "      <td>0.733989</td>\n",
       "      <td>7.171367e-01</td>\n",
       "      <td>0.768527</td>\n",
       "      <td>0.634686</td>\n",
       "      <td>0.585964</td>\n",
       "      <td>356.217059</td>\n",
       "      <td>0.224860</td>\n",
       "      <td>0.175802</td>\n",
       "      <td>0.464180</td>\n",
       "      <td>0.493681</td>\n",
       "    </tr>\n",
       "    <tr>\n",
       "      <th>min</th>\n",
       "      <td>-0.764494</td>\n",
       "      <td>-0.872554</td>\n",
       "      <td>-6.528789e-01</td>\n",
       "      <td>-1.149246</td>\n",
       "      <td>-1.000000</td>\n",
       "      <td>0.000000</td>\n",
       "      <td>650.000000</td>\n",
       "      <td>0.000000</td>\n",
       "      <td>0.000000</td>\n",
       "      <td>0.000000</td>\n",
       "      <td>0.000000</td>\n",
       "    </tr>\n",
       "    <tr>\n",
       "      <th>25%</th>\n",
       "      <td>-0.374942</td>\n",
       "      <td>-0.412241</td>\n",
       "      <td>-3.008794e-01</td>\n",
       "      <td>-0.358378</td>\n",
       "      <td>-1.000000</td>\n",
       "      <td>0.000000</td>\n",
       "      <td>1116.750000</td>\n",
       "      <td>0.266667</td>\n",
       "      <td>0.000000</td>\n",
       "      <td>0.000000</td>\n",
       "      <td>0.000000</td>\n",
       "    </tr>\n",
       "    <tr>\n",
       "      <th>50%</th>\n",
       "      <td>0.000000</td>\n",
       "      <td>0.000000</td>\n",
       "      <td>5.186552e-17</td>\n",
       "      <td>0.000000</td>\n",
       "      <td>0.000000</td>\n",
       "      <td>0.000000</td>\n",
       "      <td>1300.000000</td>\n",
       "      <td>0.400000</td>\n",
       "      <td>0.200000</td>\n",
       "      <td>0.000000</td>\n",
       "      <td>1.000000</td>\n",
       "    </tr>\n",
       "    <tr>\n",
       "      <th>75%</th>\n",
       "      <td>0.625058</td>\n",
       "      <td>0.587759</td>\n",
       "      <td>6.991206e-01</td>\n",
       "      <td>0.641622</td>\n",
       "      <td>0.000000</td>\n",
       "      <td>1.000000</td>\n",
       "      <td>1500.000000</td>\n",
       "      <td>0.533333</td>\n",
       "      <td>0.200000</td>\n",
       "      <td>1.000000</td>\n",
       "      <td>1.000000</td>\n",
       "    </tr>\n",
       "    <tr>\n",
       "      <th>max</th>\n",
       "      <td>1.834177</td>\n",
       "      <td>1.915186</td>\n",
       "      <td>2.141822e+00</td>\n",
       "      <td>2.434592</td>\n",
       "      <td>2.000000</td>\n",
       "      <td>2.000000</td>\n",
       "      <td>2825.000000</td>\n",
       "      <td>1.000000</td>\n",
       "      <td>0.600000</td>\n",
       "      <td>1.000000</td>\n",
       "      <td>1.000000</td>\n",
       "    </tr>\n",
       "  </tbody>\n",
       "</table>\n",
       "</div>"
      ],
      "text/plain": [
       "       Distance Eyre Square  Distance Salthill  Distance NUIG  Distance GMIT  \\\n",
       "count            196.000000         196.000000   1.960000e+02     196.000000   \n",
       "mean               0.198552           0.169710   2.731675e-01       0.165235   \n",
       "std                0.694894           0.733989   7.171367e-01       0.768527   \n",
       "min               -0.764494          -0.872554  -6.528789e-01      -1.149246   \n",
       "25%               -0.374942          -0.412241  -3.008794e-01      -0.358378   \n",
       "50%                0.000000           0.000000   5.186552e-17       0.000000   \n",
       "75%                0.625058           0.587759   6.991206e-01       0.641622   \n",
       "max                1.834177           1.915186   2.141822e+00       2.434592   \n",
       "\n",
       "       number of rooms  number of bathrooms  price per month         BER  \\\n",
       "count       196.000000           196.000000       196.000000  196.000000   \n",
       "mean         -0.132653             0.484694      1356.693878    0.376871   \n",
       "std           0.634686             0.585964       356.217059    0.224860   \n",
       "min          -1.000000             0.000000       650.000000    0.000000   \n",
       "25%          -1.000000             0.000000      1116.750000    0.266667   \n",
       "50%           0.000000             0.000000      1300.000000    0.400000   \n",
       "75%           0.000000             1.000000      1500.000000    0.533333   \n",
       "max           2.000000             2.000000      2825.000000    1.000000   \n",
       "\n",
       "            floor  balcony_yes  heating_electric  \n",
       "count  196.000000   196.000000        196.000000  \n",
       "mean     0.154082     0.311224          0.586735  \n",
       "std      0.175802     0.464180          0.493681  \n",
       "min      0.000000     0.000000          0.000000  \n",
       "25%      0.000000     0.000000          0.000000  \n",
       "50%      0.200000     0.000000          1.000000  \n",
       "75%      0.200000     1.000000          1.000000  \n",
       "max      0.600000     1.000000          1.000000  "
      ]
     },
     "execution_count": 54,
     "metadata": {},
     "output_type": "execute_result"
    }
   ],
   "source": [
    "df.describe()\n"
   ]
  },
  {
   "cell_type": "code",
   "execution_count": 55,
   "metadata": {},
   "outputs": [
    {
     "data": {
      "image/png": "[encoded data removed]",
      "text/plain": [
       "<Figure size 432x288 with 2 Axes>"
      ]
     },
     "metadata": {
      "needs_background": "light"
     },
     "output_type": "display_data"
    }
   ],
   "source": [
    "df_new=df.rename(columns={'pricer per month': 'price per month'})\n",
    "df_new=df_new.rename(columns={'number of baths rooms': 'number of bath rooms'})\n",
    "sns.heatmap(df_new.corr());"
   ]
  },
  {
   "cell_type": "code",
   "execution_count": 56,
   "metadata": {},
   "outputs": [],
   "source": [
    "import statsmodels.api as sn "
   ]
  },
  {
   "cell_type": "code",
   "execution_count": 57,
   "metadata": {},
   "outputs": [],
   "source": [
    "X = sn.add_constant(df['number of rooms'])"
   ]
  },
  {
   "cell_type": "code",
   "execution_count": 58,
   "metadata": {},
   "outputs": [],
   "source": [
    "ln=sn.OLS(df['price per month'],X).fit()"
   ]
  },
  {
   "cell_type": "code",
   "execution_count": 59,
   "metadata": {},
   "outputs": [
    {
     "data": {
      "text/html": [
       "<table class=\"simpletable\">\n",
       "<caption>OLS Regression Results</caption>\n",
       "<tr>\n",
       "  <th>Dep. Variable:</th>     <td>price per month</td> <th>  R-squared:         </th> <td>   0.403</td>\n",
       "</tr>\n",
       "<tr>\n",
       "  <th>Model:</th>                   <td>OLS</td>       <th>  Adj. R-squared:    </th> <td>   0.400</td>\n",
       "</tr>\n",
       "<tr>\n",
       "  <th>Method:</th>             <td>Least Squares</td>  <th>  F-statistic:       </th> <td>   130.8</td>\n",
       "</tr>\n",
       "<tr>\n",
       "  <th>Date:</th>             <td>Sun, 15 Aug 2021</td> <th>  Prob (F-statistic):</th> <td>1.73e-23</td>\n",
       "</tr>\n",
       "<tr>\n",
       "  <th>Time:</th>                 <td>15:39:24</td>     <th>  Log-Likelihood:    </th> <td> -1378.7</td>\n",
       "</tr>\n",
       "<tr>\n",
       "  <th>No. Observations:</th>      <td>   196</td>      <th>  AIC:               </th> <td>   2761.</td>\n",
       "</tr>\n",
       "<tr>\n",
       "  <th>Df Residuals:</th>          <td>   194</td>      <th>  BIC:               </th> <td>   2768.</td>\n",
       "</tr>\n",
       "<tr>\n",
       "  <th>Df Model:</th>              <td>     1</td>      <th>                     </th>     <td> </td>   \n",
       "</tr>\n",
       "<tr>\n",
       "  <th>Covariance Type:</th>      <td>nonrobust</td>    <th>                     </th>     <td> </td>   \n",
       "</tr>\n",
       "</table>\n",
       "<table class=\"simpletable\">\n",
       "<tr>\n",
       "         <td></td>            <th>coef</th>     <th>std err</th>      <th>t</th>      <th>P>|t|</th>  <th>[0.025</th>    <th>0.975]</th>  \n",
       "</tr>\n",
       "<tr>\n",
       "  <th>const</th>           <td> 1403.9435</td> <td>   20.142</td> <td>   69.702</td> <td> 0.000</td> <td> 1364.218</td> <td> 1443.669</td>\n",
       "</tr>\n",
       "<tr>\n",
       "  <th>number of rooms</th> <td>  356.1894</td> <td>   31.141</td> <td>   11.438</td> <td> 0.000</td> <td>  294.772</td> <td>  417.607</td>\n",
       "</tr>\n",
       "</table>\n",
       "<table class=\"simpletable\">\n",
       "<tr>\n",
       "  <th>Omnibus:</th>       <td>28.221</td> <th>  Durbin-Watson:     </th> <td>   1.888</td>\n",
       "</tr>\n",
       "<tr>\n",
       "  <th>Prob(Omnibus):</th> <td> 0.000</td> <th>  Jarque-Bera (JB):  </th> <td>  36.508</td>\n",
       "</tr>\n",
       "<tr>\n",
       "  <th>Skew:</th>          <td> 0.921</td> <th>  Prob(JB):          </th> <td>1.18e-08</td>\n",
       "</tr>\n",
       "<tr>\n",
       "  <th>Kurtosis:</th>      <td> 4.037</td> <th>  Cond. No.          </th> <td>    1.63</td>\n",
       "</tr>\n",
       "</table><br/><br/>Warnings:<br/>[1] Standard Errors assume that the covariance matrix of the errors is correctly specified."
      ],
      "text/plain": [
       "<class 'statsmodels.iolib.summary.Summary'>\n",
       "\"\"\"\n",
       "                            OLS Regression Results                            \n",
       "==============================================================================\n",
       "Dep. Variable:        price per month   R-squared:                       0.403\n",
       "Model:                            OLS   Adj. R-squared:                  0.400\n",
       "Method:                 Least Squares   F-statistic:                     130.8\n",
       "Date:                Sun, 15 Aug 2021   Prob (F-statistic):           1.73e-23\n",
       "Time:                        15:39:24   Log-Likelihood:                -1378.7\n",
       "No. Observations:                 196   AIC:                             2761.\n",
       "Df Residuals:                     194   BIC:                             2768.\n",
       "Df Model:                           1                                         \n",
       "Covariance Type:            nonrobust                                         \n",
       "===================================================================================\n",
       "                      coef    std err          t      P>|t|      [0.025      0.975]\n",
       "-----------------------------------------------------------------------------------\n",
       "const            1403.9435     20.142     69.702      0.000    1364.218    1443.669\n",
       "number of rooms   356.1894     31.141     11.438      0.000     294.772     417.607\n",
       "==============================================================================\n",
       "Omnibus:                       28.221   Durbin-Watson:                   1.888\n",
       "Prob(Omnibus):                  0.000   Jarque-Bera (JB):               36.508\n",
       "Skew:                           0.921   Prob(JB):                     1.18e-08\n",
       "Kurtosis:                       4.037   Cond. No.                         1.63\n",
       "==============================================================================\n",
       "\n",
       "Warnings:\n",
       "[1] Standard Errors assume that the covariance matrix of the errors is correctly specified.\n",
       "\"\"\""
      ]
     },
     "execution_count": 59,
     "metadata": {},
     "output_type": "execute_result"
    }
   ],
   "source": [
    "ln.summary() "
   ]
  },
  {
   "cell_type": "code",
   "execution_count": 60,
   "metadata": {},
   "outputs": [],
   "source": [
    "y=df['price per month']"
   ]
  },
  {
   "cell_type": "code",
   "execution_count": 61,
   "metadata": {},
   "outputs": [],
   "source": [
    "x=df[['number of rooms']]"
   ]
  },
  {
   "cell_type": "code",
   "execution_count": 62,
   "metadata": {},
   "outputs": [],
   "source": [
    "ln2=LinearRegression()"
   ]
  },
  {
   "cell_type": "code",
   "execution_count": 63,
   "metadata": {},
   "outputs": [
    {
     "data": {
      "text/plain": [
       "LinearRegression(copy_X=True, fit_intercept=True, n_jobs=None, normalize=False)"
      ]
     },
     "execution_count": 63,
     "metadata": {},
     "output_type": "execute_result"
    }
   ],
   "source": [
    "ln2.fit(x,y)"
   ]
  },
  {
   "cell_type": "code",
   "execution_count": 64,
   "metadata": {},
   "outputs": [
    {
     "name": "stdout",
     "output_type": "stream",
     "text": [
      "1403.9434918160562 [356.18939984]\n"
     ]
    }
   ],
   "source": [
    "print(ln2.intercept_,ln2.coef_)"
   ]
  },
  {
   "cell_type": "code",
   "execution_count": 68,
   "metadata": {},
   "outputs": [
    {
     "data": {
      "text/plain": [
       "<seaborn.axisgrid.JointGrid at 0x7fba8d214110>"
      ]
     },
     "execution_count": 68,
     "metadata": {},
     "output_type": "execute_result"
    },
    {
     "data": {
      "image/png": "[encoded data removed]",
      "text/plain": [
       "<Figure size 432x432 with 3 Axes>"
      ]
     },
     "metadata": {
      "needs_background": "light"
     },
     "output_type": "display_data"
    }
   ],
   "source": [
    "sns.jointplot(x=df['Distance Eyre Square'],y=df['price per month'],data=df,kind='reg')"
   ]
  },
  {
   "cell_type": "code",
   "execution_count": 70,
   "metadata": {},
   "outputs": [],
   "source": [
    "x_multi=df.drop('price per month',axis=1) \n",
    "\n"
   ]
  },
  {
   "cell_type": "code",
   "execution_count": 71,
   "metadata": {},
   "outputs": [
    {
     "data": {
      "text/html": [
       "<div>\n",
       "<style scoped>\n",
       "    .dataframe tbody tr th:only-of-type {\n",
       "        vertical-align: middle;\n",
       "    }\n",
       "\n",
       "    .dataframe tbody tr th {\n",
       "        vertical-align: top;\n",
       "    }\n",
       "\n",
       "    .dataframe thead th {\n",
       "        text-align: right;\n",
       "    }\n",
       "</style>\n",
       "<table border=\"1\" class=\"dataframe\">\n",
       "  <thead>\n",
       "    <tr style=\"text-align: right;\">\n",
       "      <th></th>\n",
       "      <th>Distance Eyre Square</th>\n",
       "      <th>Distance Salthill</th>\n",
       "      <th>Distance NUIG</th>\n",
       "      <th>Distance GMIT</th>\n",
       "      <th>number of rooms</th>\n",
       "      <th>number of bathrooms</th>\n",
       "      <th>BER</th>\n",
       "      <th>floor</th>\n",
       "      <th>balcony_yes</th>\n",
       "      <th>heating_electric</th>\n",
       "    </tr>\n",
       "  </thead>\n",
       "  <tbody>\n",
       "    <tr>\n",
       "      <th>1</th>\n",
       "      <td>1.834177</td>\n",
       "      <td>0.795646</td>\n",
       "      <td>1.432636</td>\n",
       "      <td>2.434592</td>\n",
       "      <td>-1.0</td>\n",
       "      <td>0.0</td>\n",
       "      <td>0.600000</td>\n",
       "      <td>0.0</td>\n",
       "      <td>0</td>\n",
       "      <td>0</td>\n",
       "    </tr>\n",
       "    <tr>\n",
       "      <th>6</th>\n",
       "      <td>-0.281615</td>\n",
       "      <td>-0.609117</td>\n",
       "      <td>-0.182112</td>\n",
       "      <td>0.295014</td>\n",
       "      <td>0.0</td>\n",
       "      <td>1.0</td>\n",
       "      <td>0.533333</td>\n",
       "      <td>0.4</td>\n",
       "      <td>1</td>\n",
       "      <td>1</td>\n",
       "    </tr>\n",
       "    <tr>\n",
       "      <th>8</th>\n",
       "      <td>0.536216</td>\n",
       "      <td>0.992723</td>\n",
       "      <td>0.838073</td>\n",
       "      <td>-0.922471</td>\n",
       "      <td>-1.0</td>\n",
       "      <td>0.0</td>\n",
       "      <td>0.266667</td>\n",
       "      <td>0.0</td>\n",
       "      <td>0</td>\n",
       "      <td>1</td>\n",
       "    </tr>\n",
       "    <tr>\n",
       "      <th>9</th>\n",
       "      <td>-0.430726</td>\n",
       "      <td>0.186629</td>\n",
       "      <td>-0.073501</td>\n",
       "      <td>-0.496217</td>\n",
       "      <td>0.0</td>\n",
       "      <td>0.0</td>\n",
       "      <td>0.000000</td>\n",
       "      <td>0.0</td>\n",
       "      <td>0</td>\n",
       "      <td>0</td>\n",
       "    </tr>\n",
       "    <tr>\n",
       "      <th>11</th>\n",
       "      <td>0.574907</td>\n",
       "      <td>1.038144</td>\n",
       "      <td>0.753060</td>\n",
       "      <td>-0.506868</td>\n",
       "      <td>-1.0</td>\n",
       "      <td>0.0</td>\n",
       "      <td>0.000000</td>\n",
       "      <td>0.0</td>\n",
       "      <td>0</td>\n",
       "      <td>0</td>\n",
       "    </tr>\n",
       "  </tbody>\n",
       "</table>\n",
       "</div>"
      ],
      "text/plain": [
       "    Distance Eyre Square  Distance Salthill  Distance NUIG  Distance GMIT  \\\n",
       "1               1.834177           0.795646       1.432636       2.434592   \n",
       "6              -0.281615          -0.609117      -0.182112       0.295014   \n",
       "8               0.536216           0.992723       0.838073      -0.922471   \n",
       "9              -0.430726           0.186629      -0.073501      -0.496217   \n",
       "11              0.574907           1.038144       0.753060      -0.506868   \n",
       "\n",
       "    number of rooms  number of bathrooms       BER  floor  balcony_yes  \\\n",
       "1              -1.0                  0.0  0.600000    0.0            0   \n",
       "6               0.0                  1.0  0.533333    0.4            1   \n",
       "8              -1.0                  0.0  0.266667    0.0            0   \n",
       "9               0.0                  0.0  0.000000    0.0            0   \n",
       "11             -1.0                  0.0  0.000000    0.0            0   \n",
       "\n",
       "    heating_electric  \n",
       "1                  0  \n",
       "6                  1  \n",
       "8                  1  \n",
       "9                  0  \n",
       "11                 0  "
      ]
     },
     "execution_count": 71,
     "metadata": {},
     "output_type": "execute_result"
    }
   ],
   "source": [
    "x_multi.head()\n"
   ]
  },
  {
   "cell_type": "code",
   "execution_count": 72,
   "metadata": {},
   "outputs": [],
   "source": [
    "y_multi = df['price per month']"
   ]
  },
  {
   "cell_type": "code",
   "execution_count": 73,
   "metadata": {},
   "outputs": [
    {
     "data": {
      "text/plain": [
       "1      850\n",
       "6     1500\n",
       "8      650\n",
       "9     1800\n",
       "11    1000\n",
       "Name: price per month, dtype: int64"
      ]
     },
     "execution_count": 73,
     "metadata": {},
     "output_type": "execute_result"
    }
   ],
   "source": [
    "y_multi.head()"
   ]
  },
  {
   "cell_type": "code",
   "execution_count": 74,
   "metadata": {},
   "outputs": [],
   "source": [
    "x_multi_cons=sn.add_constant(x_multi) #adding constant "
   ]
  },
  {
   "cell_type": "code",
   "execution_count": 75,
   "metadata": {},
   "outputs": [
    {
     "data": {
      "text/html": [
       "<div>\n",
       "<style scoped>\n",
       "    .dataframe tbody tr th:only-of-type {\n",
       "        vertical-align: middle;\n",
       "    }\n",
       "\n",
       "    .dataframe tbody tr th {\n",
       "        vertical-align: top;\n",
       "    }\n",
       "\n",
       "    .dataframe thead th {\n",
       "        text-align: right;\n",
       "    }\n",
       "</style>\n",
       "<table border=\"1\" class=\"dataframe\">\n",
       "  <thead>\n",
       "    <tr style=\"text-align: right;\">\n",
       "      <th></th>\n",
       "      <th>const</th>\n",
       "      <th>Distance Eyre Square</th>\n",
       "      <th>Distance Salthill</th>\n",
       "      <th>Distance NUIG</th>\n",
       "      <th>Distance GMIT</th>\n",
       "      <th>number of rooms</th>\n",
       "      <th>number of bathrooms</th>\n",
       "      <th>BER</th>\n",
       "      <th>floor</th>\n",
       "      <th>balcony_yes</th>\n",
       "      <th>heating_electric</th>\n",
       "    </tr>\n",
       "  </thead>\n",
       "  <tbody>\n",
       "    <tr>\n",
       "      <th>1</th>\n",
       "      <td>1.0</td>\n",
       "      <td>1.834177</td>\n",
       "      <td>0.795646</td>\n",
       "      <td>1.432636</td>\n",
       "      <td>2.434592</td>\n",
       "      <td>-1.0</td>\n",
       "      <td>0.0</td>\n",
       "      <td>0.600000</td>\n",
       "      <td>0.0</td>\n",
       "      <td>0</td>\n",
       "      <td>0</td>\n",
       "    </tr>\n",
       "    <tr>\n",
       "      <th>6</th>\n",
       "      <td>1.0</td>\n",
       "      <td>-0.281615</td>\n",
       "      <td>-0.609117</td>\n",
       "      <td>-0.182112</td>\n",
       "      <td>0.295014</td>\n",
       "      <td>0.0</td>\n",
       "      <td>1.0</td>\n",
       "      <td>0.533333</td>\n",
       "      <td>0.4</td>\n",
       "      <td>1</td>\n",
       "      <td>1</td>\n",
       "    </tr>\n",
       "    <tr>\n",
       "      <th>8</th>\n",
       "      <td>1.0</td>\n",
       "      <td>0.536216</td>\n",
       "      <td>0.992723</td>\n",
       "      <td>0.838073</td>\n",
       "      <td>-0.922471</td>\n",
       "      <td>-1.0</td>\n",
       "      <td>0.0</td>\n",
       "      <td>0.266667</td>\n",
       "      <td>0.0</td>\n",
       "      <td>0</td>\n",
       "      <td>1</td>\n",
       "    </tr>\n",
       "    <tr>\n",
       "      <th>9</th>\n",
       "      <td>1.0</td>\n",
       "      <td>-0.430726</td>\n",
       "      <td>0.186629</td>\n",
       "      <td>-0.073501</td>\n",
       "      <td>-0.496217</td>\n",
       "      <td>0.0</td>\n",
       "      <td>0.0</td>\n",
       "      <td>0.000000</td>\n",
       "      <td>0.0</td>\n",
       "      <td>0</td>\n",
       "      <td>0</td>\n",
       "    </tr>\n",
       "    <tr>\n",
       "      <th>11</th>\n",
       "      <td>1.0</td>\n",
       "      <td>0.574907</td>\n",
       "      <td>1.038144</td>\n",
       "      <td>0.753060</td>\n",
       "      <td>-0.506868</td>\n",
       "      <td>-1.0</td>\n",
       "      <td>0.0</td>\n",
       "      <td>0.000000</td>\n",
       "      <td>0.0</td>\n",
       "      <td>0</td>\n",
       "      <td>0</td>\n",
       "    </tr>\n",
       "  </tbody>\n",
       "</table>\n",
       "</div>"
      ],
      "text/plain": [
       "    const  Distance Eyre Square  Distance Salthill  Distance NUIG  \\\n",
       "1     1.0              1.834177           0.795646       1.432636   \n",
       "6     1.0             -0.281615          -0.609117      -0.182112   \n",
       "8     1.0              0.536216           0.992723       0.838073   \n",
       "9     1.0             -0.430726           0.186629      -0.073501   \n",
       "11    1.0              0.574907           1.038144       0.753060   \n",
       "\n",
       "    Distance GMIT  number of rooms  number of bathrooms       BER  floor  \\\n",
       "1        2.434592             -1.0                  0.0  0.600000    0.0   \n",
       "6        0.295014              0.0                  1.0  0.533333    0.4   \n",
       "8       -0.922471             -1.0                  0.0  0.266667    0.0   \n",
       "9       -0.496217              0.0                  0.0  0.000000    0.0   \n",
       "11      -0.506868             -1.0                  0.0  0.000000    0.0   \n",
       "\n",
       "    balcony_yes  heating_electric  \n",
       "1             0                 0  \n",
       "6             1                 1  \n",
       "8             0                 1  \n",
       "9             0                 0  \n",
       "11            0                 0  "
      ]
     },
     "execution_count": 75,
     "metadata": {},
     "output_type": "execute_result"
    }
   ],
   "source": [
    "x_multi_cons.head() # proxy for beta_0"
   ]
  },
  {
   "cell_type": "code",
   "execution_count": 76,
   "metadata": {},
   "outputs": [],
   "source": [
    "ln_multi=sn.OLS(y_multi,x_multi_cons).fit()\n"
   ]
  },
  {
   "cell_type": "code",
   "execution_count": 77,
   "metadata": {},
   "outputs": [
    {
     "data": {
      "text/html": [
       "<table class=\"simpletable\">\n",
       "<caption>OLS Regression Results</caption>\n",
       "<tr>\n",
       "  <th>Dep. Variable:</th>     <td>price per month</td> <th>  R-squared:         </th> <td>   0.574</td>\n",
       "</tr>\n",
       "<tr>\n",
       "  <th>Model:</th>                   <td>OLS</td>       <th>  Adj. R-squared:    </th> <td>   0.551</td>\n",
       "</tr>\n",
       "<tr>\n",
       "  <th>Method:</th>             <td>Least Squares</td>  <th>  F-statistic:       </th> <td>   24.96</td>\n",
       "</tr>\n",
       "<tr>\n",
       "  <th>Date:</th>             <td>Sun, 15 Aug 2021</td> <th>  Prob (F-statistic):</th> <td>1.87e-29</td>\n",
       "</tr>\n",
       "<tr>\n",
       "  <th>Time:</th>                 <td>15:40:04</td>     <th>  Log-Likelihood:    </th> <td> -1345.5</td>\n",
       "</tr>\n",
       "<tr>\n",
       "  <th>No. Observations:</th>      <td>   196</td>      <th>  AIC:               </th> <td>   2713.</td>\n",
       "</tr>\n",
       "<tr>\n",
       "  <th>Df Residuals:</th>          <td>   185</td>      <th>  BIC:               </th> <td>   2749.</td>\n",
       "</tr>\n",
       "<tr>\n",
       "  <th>Df Model:</th>              <td>    10</td>      <th>                     </th>     <td> </td>   \n",
       "</tr>\n",
       "<tr>\n",
       "  <th>Covariance Type:</th>      <td>nonrobust</td>    <th>                     </th>     <td> </td>   \n",
       "</tr>\n",
       "</table>\n",
       "<table class=\"simpletable\">\n",
       "<tr>\n",
       "            <td></td>              <th>coef</th>     <th>std err</th>      <th>t</th>      <th>P>|t|</th>  <th>[0.025</th>    <th>0.975]</th>  \n",
       "</tr>\n",
       "<tr>\n",
       "  <th>const</th>                <td> 1433.6642</td> <td>   50.629</td> <td>   28.317</td> <td> 0.000</td> <td> 1333.779</td> <td> 1533.549</td>\n",
       "</tr>\n",
       "<tr>\n",
       "  <th>Distance Eyre Square</th> <td> -140.1663</td> <td>  137.381</td> <td>   -1.020</td> <td> 0.309</td> <td> -411.200</td> <td>  130.868</td>\n",
       "</tr>\n",
       "<tr>\n",
       "  <th>Distance Salthill</th>    <td> -111.7884</td> <td>   65.699</td> <td>   -1.702</td> <td> 0.091</td> <td> -241.403</td> <td>   17.827</td>\n",
       "</tr>\n",
       "<tr>\n",
       "  <th>Distance NUIG</th>        <td>   87.4303</td> <td>  119.018</td> <td>    0.735</td> <td> 0.464</td> <td> -147.378</td> <td>  322.238</td>\n",
       "</tr>\n",
       "<tr>\n",
       "  <th>Distance GMIT</th>        <td>   31.3591</td> <td>   58.905</td> <td>    0.532</td> <td> 0.595</td> <td>  -84.852</td> <td>  147.570</td>\n",
       "</tr>\n",
       "<tr>\n",
       "  <th>number of rooms</th>      <td>  325.5219</td> <td>   32.847</td> <td>    9.910</td> <td> 0.000</td> <td>  260.718</td> <td>  390.326</td>\n",
       "</tr>\n",
       "<tr>\n",
       "  <th>number of bathrooms</th>  <td>  118.3024</td> <td>   36.413</td> <td>    3.249</td> <td> 0.001</td> <td>   46.464</td> <td>  190.141</td>\n",
       "</tr>\n",
       "<tr>\n",
       "  <th>BER</th>                  <td> -104.0694</td> <td>   82.770</td> <td>   -1.257</td> <td> 0.210</td> <td> -267.363</td> <td>   59.225</td>\n",
       "</tr>\n",
       "<tr>\n",
       "  <th>floor</th>                <td>  199.7459</td> <td>  125.345</td> <td>    1.594</td> <td> 0.113</td> <td>  -47.543</td> <td>  447.034</td>\n",
       "</tr>\n",
       "<tr>\n",
       "  <th>balcony_yes</th>          <td>   30.0339</td> <td>   47.381</td> <td>    0.634</td> <td> 0.527</td> <td>  -63.442</td> <td>  123.510</td>\n",
       "</tr>\n",
       "<tr>\n",
       "  <th>heating_electric</th>     <td> -126.6260</td> <td>   36.480</td> <td>   -3.471</td> <td> 0.001</td> <td> -198.596</td> <td>  -54.656</td>\n",
       "</tr>\n",
       "</table>\n",
       "<table class=\"simpletable\">\n",
       "<tr>\n",
       "  <th>Omnibus:</th>       <td>29.955</td> <th>  Durbin-Watson:     </th> <td>   1.746</td>\n",
       "</tr>\n",
       "<tr>\n",
       "  <th>Prob(Omnibus):</th> <td> 0.000</td> <th>  Jarque-Bera (JB):  </th> <td>  45.443</td>\n",
       "</tr>\n",
       "<tr>\n",
       "  <th>Skew:</th>          <td> 0.858</td> <th>  Prob(JB):          </th> <td>1.36e-10</td>\n",
       "</tr>\n",
       "<tr>\n",
       "  <th>Kurtosis:</th>      <td> 4.619</td> <th>  Cond. No.          </th> <td>    16.6</td>\n",
       "</tr>\n",
       "</table><br/><br/>Warnings:<br/>[1] Standard Errors assume that the covariance matrix of the errors is correctly specified."
      ],
      "text/plain": [
       "<class 'statsmodels.iolib.summary.Summary'>\n",
       "\"\"\"\n",
       "                            OLS Regression Results                            \n",
       "==============================================================================\n",
       "Dep. Variable:        price per month   R-squared:                       0.574\n",
       "Model:                            OLS   Adj. R-squared:                  0.551\n",
       "Method:                 Least Squares   F-statistic:                     24.96\n",
       "Date:                Sun, 15 Aug 2021   Prob (F-statistic):           1.87e-29\n",
       "Time:                        15:40:04   Log-Likelihood:                -1345.5\n",
       "No. Observations:                 196   AIC:                             2713.\n",
       "Df Residuals:                     185   BIC:                             2749.\n",
       "Df Model:                          10                                         \n",
       "Covariance Type:            nonrobust                                         \n",
       "========================================================================================\n",
       "                           coef    std err          t      P>|t|      [0.025      0.975]\n",
       "----------------------------------------------------------------------------------------\n",
       "const                 1433.6642     50.629     28.317      0.000    1333.779    1533.549\n",
       "Distance Eyre Square  -140.1663    137.381     -1.020      0.309    -411.200     130.868\n",
       "Distance Salthill     -111.7884     65.699     -1.702      0.091    -241.403      17.827\n",
       "Distance NUIG           87.4303    119.018      0.735      0.464    -147.378     322.238\n",
       "Distance GMIT           31.3591     58.905      0.532      0.595     -84.852     147.570\n",
       "number of rooms        325.5219     32.847      9.910      0.000     260.718     390.326\n",
       "number of bathrooms    118.3024     36.413      3.249      0.001      46.464     190.141\n",
       "BER                   -104.0694     82.770     -1.257      0.210    -267.363      59.225\n",
       "floor                  199.7459    125.345      1.594      0.113     -47.543     447.034\n",
       "balcony_yes             30.0339     47.381      0.634      0.527     -63.442     123.510\n",
       "heating_electric      -126.6260     36.480     -3.471      0.001    -198.596     -54.656\n",
       "==============================================================================\n",
       "Omnibus:                       29.955   Durbin-Watson:                   1.746\n",
       "Prob(Omnibus):                  0.000   Jarque-Bera (JB):               45.443\n",
       "Skew:                           0.858   Prob(JB):                     1.36e-10\n",
       "Kurtosis:                       4.619   Cond. No.                         16.6\n",
       "==============================================================================\n",
       "\n",
       "Warnings:\n",
       "[1] Standard Errors assume that the covariance matrix of the errors is correctly specified.\n",
       "\"\"\""
      ]
     },
     "execution_count": 77,
     "metadata": {},
     "output_type": "execute_result"
    }
   ],
   "source": [
    "ln_multi.summary() "
   ]
  },
  {
   "cell_type": "markdown",
   "metadata": {},
   "source": []
  },
  {
   "cell_type": "code",
   "execution_count": 78,
   "metadata": {},
   "outputs": [],
   "source": [
    "lm3=LinearRegression()"
   ]
  },
  {
   "cell_type": "code",
   "execution_count": 79,
   "metadata": {},
   "outputs": [
    {
     "data": {
      "text/plain": [
       "LinearRegression(copy_X=True, fit_intercept=True, n_jobs=None, normalize=False)"
      ]
     },
     "execution_count": 79,
     "metadata": {},
     "output_type": "execute_result"
    }
   ],
   "source": [
    "lm3.fit(x_multi,y_multi)\n"
   ]
  },
  {
   "cell_type": "code",
   "execution_count": 80,
   "metadata": {},
   "outputs": [
    {
     "name": "stdout",
     "output_type": "stream",
     "text": [
      "1433.6642464595154 [-140.16632016 -111.78839352   87.43032405   31.35912755  325.52192769\n",
      "  118.3023599  -104.06939816  199.74590793   30.03390706 -126.62604333]\n"
     ]
    }
   ],
   "source": [
    "print(lm3.intercept_,lm3.coef_) \n"
   ]
  },
  {
   "cell_type": "code",
   "execution_count": 81,
   "metadata": {},
   "outputs": [],
   "source": [
    "from sklearn.model_selection import train_test_split"
   ]
  },
  {
   "cell_type": "code",
   "execution_count": 82,
   "metadata": {},
   "outputs": [],
   "source": [
    "X_train,X_test,Y_train,Y_test =train_test_split(x_multi,y_multi, test_size = 0.2,random_state=0)"
   ]
  },
  {
   "cell_type": "code",
   "execution_count": 83,
   "metadata": {},
   "outputs": [],
   "source": []
  },
  {
   "cell_type": "code",
   "execution_count": 84,
   "metadata": {},
   "outputs": [
    {
     "name": "stdout",
     "output_type": "stream",
     "text": [
      "(156, 10) (40, 10) (156,) (40,)\n"
     ]
    }
   ],
   "source": [
    "print(X_train.shape,X_test.shape,Y_train.shape,Y_test.shape) "
   ]
  },
  {
   "cell_type": "code",
   "execution_count": 85,
   "metadata": {},
   "outputs": [],
   "source": [
    "ln_a =LinearRegression()"
   ]
  },
  {
   "cell_type": "code",
   "execution_count": 86,
   "metadata": {},
   "outputs": [
    {
     "data": {
      "text/plain": [
       "LinearRegression(copy_X=True, fit_intercept=True, n_jobs=None, normalize=False)"
      ]
     },
     "execution_count": 86,
     "metadata": {},
     "output_type": "execute_result"
    }
   ],
   "source": [
    "ln_a.fit(X_train,Y_train)"
   ]
  },
  {
   "cell_type": "code",
   "execution_count": 87,
   "metadata": {},
   "outputs": [],
   "source": [
    "Y_test_a=ln_a.predict(X_test)"
   ]
  },
  {
   "cell_type": "code",
   "execution_count": 88,
   "metadata": {},
   "outputs": [],
   "source": [
    "Y_train_a=ln_a.predict(X_train)"
   ]
  },
  {
   "cell_type": "code",
   "execution_count": 89,
   "metadata": {},
   "outputs": [],
   "source": [
    "from sklearn.metrics import r2_score"
   ]
  },
  {
   "cell_type": "code",
   "execution_count": 90,
   "metadata": {},
   "outputs": [
    {
     "data": {
      "text/plain": [
       "0.6238027086002184"
      ]
     },
     "execution_count": 90,
     "metadata": {},
     "output_type": "execute_result"
    }
   ],
   "source": [
    "r2_score(Y_test,Y_test_a) "
   ]
  },
  {
   "cell_type": "code",
   "execution_count": 91,
   "metadata": {},
   "outputs": [
    {
     "name": "stdout",
     "output_type": "stream",
     "text": [
      "1406.6252067719831 [-194.45353821  -71.10532818  113.27352093   51.54520369  316.20136852\n",
      "  110.25163235  -74.59915037  247.0008203    17.2041837  -113.75634672]\n"
     ]
    }
   ],
   "source": [
    "print(ln_a.intercept_,ln_a.coef_)"
   ]
  },
  {
   "cell_type": "code",
   "execution_count": 92,
   "metadata": {},
   "outputs": [],
   "source": [
    "y_pred=ln_a.predict(X_test)"
   ]
  },
  {
   "cell_type": "code",
   "execution_count": 96,
   "metadata": {},
   "outputs": [],
   "source": [
    "def rmse(y_true, y_pred):\n",
    "    '''\n",
    "    Compute Root Mean Square Percentage Error between two arrays.\n",
    "    '''\n",
    "    loss = np.sqrt(np.mean(np.square(((y_true - y_pred) / y_true)), axis=0))*100\n",
    "\n",
    "    return loss"
   ]
  },
  {
   "cell_type": "code",
   "execution_count": 97,
   "metadata": {},
   "outputs": [
    {
     "name": "stdout",
     "output_type": "stream",
     "text": [
      "R2: 0.6238027086002184\n",
      "RMSE: 230.4190306881535\n",
      "RMSPE: 16.860634648126176\n"
     ]
    }
   ],
   "source": [
    "from sklearn import metrics \n",
    "\n",
    "print('R2:',r2_score(Y_test,y_pred))\n",
    "print('RMSE:',np.sqrt(metrics.mean_squared_error(Y_test,y_pred)))\n",
    "print('RMSPE:',rmse(Y_test,y_pred))\n"
   ]
  },
  {
   "cell_type": "markdown",
   "metadata": {},
   "source": [
    "R2 is not looking very good either  0.5180741978653729 on last run rmse of 265.37252356536646"
   ]
  },
  {
   "cell_type": "code",
   "execution_count": 98,
   "metadata": {},
   "outputs": [
    {
     "name": "stdout",
     "output_type": "stream",
     "text": [
      "1406.6252067719831 [-194.45353821  -71.10532818  113.27352093   51.54520369  316.20136852\n",
      "  110.25163235  -74.59915037  247.0008203    17.2041837  -113.75634672]\n"
     ]
    }
   ],
   "source": [
    "print(ln_a.intercept_,ln_a.coef_)"
   ]
  },
  {
   "cell_type": "markdown",
   "metadata": {},
   "source": [
    "different results to the one above that has no training in it "
   ]
  },
  {
   "cell_type": "code",
   "execution_count": 99,
   "metadata": {},
   "outputs": [],
   "source": [
    "from sklearn import preprocessing #ridhge lasso stuff"
   ]
  },
  {
   "cell_type": "code",
   "execution_count": 100,
   "metadata": {},
   "outputs": [],
   "source": [
    "scaler=preprocessing.StandardScaler().fit(X_train)"
   ]
  },
  {
   "cell_type": "code",
   "execution_count": 101,
   "metadata": {},
   "outputs": [],
   "source": [
    "\n",
    "X_train_s=X_train"
   ]
  },
  {
   "cell_type": "code",
   "execution_count": 102,
   "metadata": {},
   "outputs": [],
   "source": [
    "\n",
    "X_test_s=X_test"
   ]
  },
  {
   "cell_type": "code",
   "execution_count": 103,
   "metadata": {},
   "outputs": [],
   "source": [
    "from sklearn.linear_model import Ridge"
   ]
  },
  {
   "cell_type": "code",
   "execution_count": 104,
   "metadata": {},
   "outputs": [
    {
     "data": {
      "text/plain": [
       "Ridge(alpha=0.5, copy_X=True, fit_intercept=True, max_iter=None,\n",
       "      normalize=False, random_state=None, solver='auto', tol=0.001)"
      ]
     },
     "execution_count": 104,
     "metadata": {},
     "output_type": "execute_result"
    }
   ],
   "source": [
    "ln_r=Ridge(alpha=0.5)\n",
    "ln_r.fit(X_train_s,Y_train)"
   ]
  },
  {
   "cell_type": "code",
   "execution_count": 105,
   "metadata": {},
   "outputs": [
    {
     "data": {
      "text/plain": [
       "0.6259070208072985"
      ]
     },
     "execution_count": 105,
     "metadata": {},
     "output_type": "execute_result"
    }
   ],
   "source": [
    "r2_score(Y_test,ln_r.predict(X_test_s))"
   ]
  },
  {
   "cell_type": "code",
   "execution_count": 106,
   "metadata": {},
   "outputs": [
    {
     "name": "stdout",
     "output_type": "stream",
     "text": [
      "1408.271883585182 [-156.54802588  -73.19537768   79.32922255   40.05348361  312.31575361\n",
      "  110.8931693   -68.90994825  219.52454749   23.08372435 -110.51449169]\n"
     ]
    }
   ],
   "source": [
    "print(ln_r.intercept_,ln_r.coef_) #describes the line thats being drawn"
   ]
  },
  {
   "cell_type": "code",
   "execution_count": 107,
   "metadata": {},
   "outputs": [],
   "source": [
    "y_pred3=ln_r.predict(X_test)"
   ]
  },
  {
   "cell_type": "code",
   "execution_count": 108,
   "metadata": {},
   "outputs": [],
   "source": [
    "def rmse(y_true, y_pred):\n",
    "    '''\n",
    "    Compute Root Mean Square Percentage Error between two arrays.\n",
    "    '''\n",
    "    loss = np.sqrt(np.mean(np.square(((y_true - y_pred) / y_true)), axis=0))*100\n",
    "\n",
    "    return loss"
   ]
  },
  {
   "cell_type": "code",
   "execution_count": 109,
   "metadata": {},
   "outputs": [
    {
     "name": "stdout",
     "output_type": "stream",
     "text": [
      "R2: 0.6259070208072985\n",
      "RMSE: 229.7736864163781\n",
      "RMSPE: 16.860634648126176\n"
     ]
    }
   ],
   "source": [
    "from sklearn import metrics \n",
    "print('R2:', r2_score(Y_test,ln_r.predict(X_test_s)))\n",
    "#print('MAE:', metrics.mean_absolute_error(Y_test,y_pred3))\n",
    "#print('MSE:',metrics.mean_squared_error(Y_test,y_pred3))\n",
    "print('RMSE:',np.sqrt(metrics.mean_squared_error(Y_test,y_pred3)))\n",
    "print('RMSPE:',rmse(Y_test,y_pred))"
   ]
  },
  {
   "cell_type": "code",
   "execution_count": 110,
   "metadata": {},
   "outputs": [],
   "source": [
    "from sklearn.model_selection import validation_curve"
   ]
  },
  {
   "cell_type": "code",
   "execution_count": 111,
   "metadata": {},
   "outputs": [],
   "source": [
    "param_range=np.logspace(-2,8,100) #creates 100 values"
   ]
  },
  {
   "cell_type": "code",
   "execution_count": 112,
   "metadata": {},
   "outputs": [
    {
     "data": {
      "text/plain": [
       "array([1.00000000e-02, 1.26185688e-02, 1.59228279e-02, 2.00923300e-02,\n",
       "       2.53536449e-02, 3.19926714e-02, 4.03701726e-02, 5.09413801e-02,\n",
       "       6.42807312e-02, 8.11130831e-02, 1.02353102e-01, 1.29154967e-01,\n",
       "       1.62975083e-01, 2.05651231e-01, 2.59502421e-01, 3.27454916e-01,\n",
       "       4.13201240e-01, 5.21400829e-01, 6.57933225e-01, 8.30217568e-01,\n",
       "       1.04761575e+00, 1.32194115e+00, 1.66810054e+00, 2.10490414e+00,\n",
       "       2.65608778e+00, 3.35160265e+00, 4.22924287e+00, 5.33669923e+00,\n",
       "       6.73415066e+00, 8.49753436e+00, 1.07226722e+01, 1.35304777e+01,\n",
       "       1.70735265e+01, 2.15443469e+01, 2.71858824e+01, 3.43046929e+01,\n",
       "       4.32876128e+01, 5.46227722e+01, 6.89261210e+01, 8.69749003e+01,\n",
       "       1.09749877e+02, 1.38488637e+02, 1.74752840e+02, 2.20513074e+02,\n",
       "       2.78255940e+02, 3.51119173e+02, 4.43062146e+02, 5.59081018e+02,\n",
       "       7.05480231e+02, 8.90215085e+02, 1.12332403e+03, 1.41747416e+03,\n",
       "       1.78864953e+03, 2.25701972e+03, 2.84803587e+03, 3.59381366e+03,\n",
       "       4.53487851e+03, 5.72236766e+03, 7.22080902e+03, 9.11162756e+03,\n",
       "       1.14975700e+04, 1.45082878e+04, 1.83073828e+04, 2.31012970e+04,\n",
       "       2.91505306e+04, 3.67837977e+04, 4.64158883e+04, 5.85702082e+04,\n",
       "       7.39072203e+04, 9.32603347e+04, 1.17681195e+05, 1.48496826e+05,\n",
       "       1.87381742e+05, 2.36448941e+05, 2.98364724e+05, 3.76493581e+05,\n",
       "       4.75081016e+05, 5.99484250e+05, 7.56463328e+05, 9.54548457e+05,\n",
       "       1.20450354e+06, 1.51991108e+06, 1.91791026e+06, 2.42012826e+06,\n",
       "       3.05385551e+06, 3.85352859e+06, 4.86260158e+06, 6.13590727e+06,\n",
       "       7.74263683e+06, 9.77009957e+06, 1.23284674e+07, 1.55567614e+07,\n",
       "       1.96304065e+07, 2.47707636e+07, 3.12571585e+07, 3.94420606e+07,\n",
       "       4.97702356e+07, 6.28029144e+07, 7.92482898e+07, 1.00000000e+08])"
      ]
     },
     "execution_count": 112,
     "metadata": {},
     "output_type": "execute_result"
    }
   ],
   "source": [
    "param_range\n"
   ]
  },
  {
   "cell_type": "code",
   "execution_count": 113,
   "metadata": {},
   "outputs": [],
   "source": [
    "train_scores,test_scores=validation_curve(Ridge(),X_train_s,Y_train,\"alpha\",param_range,scoring='r2')"
   ]
  },
  {
   "cell_type": "code",
   "execution_count": 114,
   "metadata": {},
   "outputs": [
    {
     "name": "stdout",
     "output_type": "stream",
     "text": [
      "[[5.89756929e-01 5.32166916e-01 5.82663147e-01 5.87454790e-01\n",
      "  5.21671585e-01]\n",
      " [5.89756561e-01 5.32166690e-01 5.82662500e-01 5.87454526e-01\n",
      "  5.21671430e-01]\n",
      " [5.89755978e-01 5.32166331e-01 5.82661477e-01 5.87454108e-01\n",
      "  5.21671183e-01]\n",
      " [5.89755056e-01 5.32165761e-01 5.82659867e-01 5.87453445e-01\n",
      "  5.21670794e-01]\n",
      " [5.89753602e-01 5.32164860e-01 5.82657338e-01 5.87452395e-01\n",
      "  5.21670178e-01]\n",
      " [5.89751312e-01 5.32163434e-01 5.82653380e-01 5.87450736e-01\n",
      "  5.21669206e-01]\n",
      " [5.89747717e-01 5.32161184e-01 5.82647211e-01 5.87448119e-01\n",
      "  5.21667677e-01]\n",
      " [5.89742091e-01 5.32157640e-01 5.82637649e-01 5.87444000e-01\n",
      "  5.21665277e-01]\n",
      " [5.89733326e-01 5.32152073e-01 5.82622925e-01 5.87437535e-01\n",
      "  5.21661525e-01]\n",
      " [5.89719742e-01 5.32143360e-01 5.82600433e-01 5.87427427e-01\n",
      "  5.21655684e-01]\n",
      " [5.89698822e-01 5.32129778e-01 5.82566417e-01 5.87411691e-01\n",
      "  5.21646637e-01]\n",
      " [5.89666852e-01 5.32108720e-01 5.82515581e-01 5.87387332e-01\n",
      "  5.21632714e-01]\n",
      " [5.89618437e-01 5.32076283e-01 5.82440686e-01 5.87349874e-01\n",
      "  5.21611447e-01]\n",
      " [5.89545908e-01 5.32026712e-01 5.82332191e-01 5.87292746e-01\n",
      "  5.21579247e-01]\n",
      " [5.89438605e-01 5.31951679e-01 5.82178065e-01 5.87206476e-01\n",
      "  5.21530990e-01]\n",
      " [5.89282126e-01 5.31839411e-01 5.81963946e-01 5.87077723e-01\n",
      "  5.21459508e-01]\n",
      " [5.89057605e-01 5.31673717e-01 5.81673762e-01 5.86888225e-01\n",
      "  5.21355016e-01]\n",
      " [5.88741215e-01 5.31433061e-01 5.81290883e-01 5.86613809e-01\n",
      "  5.21204494e-01]\n",
      " [5.88304067e-01 5.31089923e-01 5.80799593e-01 5.86223729e-01\n",
      "  5.20991119e-01]\n",
      " [5.87712730e-01 5.30610735e-01 5.80186446e-01 5.85680659e-01\n",
      "  5.20693810e-01]\n",
      " [5.86930493e-01 5.29956681e-01 5.79440827e-01 5.84941605e-01\n",
      "  5.20286956e-01]\n",
      " [5.85919282e-01 5.29085431e-01 5.78554046e-01 5.83959731e-01\n",
      "  5.19740291e-01]\n",
      " [5.84641768e-01 5.27953477e-01 5.77516578e-01 5.82686569e-01\n",
      "  5.19018692e-01]\n",
      " [5.83062718e-01 5.26518197e-01 5.76313420e-01 5.81073465e-01\n",
      "  5.18081433e-01]\n",
      " [5.81148204e-01 5.24738380e-01 5.74917859e-01 5.79070641e-01\n",
      "  5.16880225e-01]\n",
      " [5.78861259e-01 5.22571846e-01 5.73283945e-01 5.76622487e-01\n",
      "  5.15355344e-01]\n",
      " [5.76152969e-01 5.19969314e-01 5.71337760e-01 5.73658636e-01\n",
      "  5.13429427e-01]\n",
      " [5.72948934e-01 5.16864457e-01 5.68967382e-01 5.70081816e-01\n",
      "  5.10998958e-01]\n",
      " [5.69132109e-01 5.13160974e-01 5.66011536e-01 5.65754691e-01\n",
      "  5.07924103e-01]\n",
      " [5.64524115e-01 5.08718209e-01 5.62247526e-01 5.60488240e-01\n",
      "  5.04018046e-01]\n",
      " [5.58868077e-01 5.03337250e-01 5.57380143e-01 5.54033722e-01\n",
      "  4.99037511e-01]\n",
      " [5.51817178e-01 4.96750063e-01 5.51034775e-01 5.46079599e-01\n",
      "  4.92676760e-01]\n",
      " [5.42934280e-01 4.88615155e-01 5.42759620e-01 5.36254960e-01\n",
      "  4.84568377e-01]\n",
      " [5.31709024e-01 4.78524842e-01 5.32043223e-01 5.24142554e-01\n",
      "  4.74295480e-01]\n",
      " [5.17598493e-01 4.66030386e-01 5.18353525e-01 5.09306567e-01\n",
      "  4.61421052e-01]\n",
      " [5.00094422e-01 4.50690328e-01 5.01201649e-01 4.91340360e-01\n",
      "  4.45538873e-01]\n",
      " [4.78812711e-01 4.32142284e-01 4.80226693e-01 4.69935009e-01\n",
      "  4.26345272e-01]\n",
      " [4.53590682e-01 4.10188936e-01 4.55287597e-01 4.44960062e-01\n",
      "  4.03721186e-01]\n",
      " [4.24568054e-01 3.84878342e-01 4.26538919e-01 4.16537227e-01\n",
      "  3.77803700e-01]\n",
      " [3.92225129e-01 3.56553001e-01 3.94465052e-01 3.85082287e-01\n",
      "  3.49021758e-01]\n",
      " [3.57360222e-01 3.25846986e-01 3.59856176e-01 3.51295940e-01\n",
      "  3.18077780e-01]\n",
      " [3.21006261e-01 2.93625764e-01 3.23726809e-01 3.16099626e-01\n",
      "  2.85874204e-01]\n",
      " [2.84305734e-01 2.60882299e-01 2.87196105e-01 2.80530605e-01\n",
      "  2.53403182e-01]\n",
      " [2.48374812e-01 2.28616140e-01 2.51359094e-01 2.45622224e-01\n",
      "  2.21628549e-01]\n",
      " [2.14186804e-01 1.97723901e-01 2.17176509e-01 2.12296194e-01\n",
      "  1.91387240e-01]\n",
      " [1.82494705e-01 1.68921319e-01 1.85400674e-01 1.81285707e-01\n",
      "  1.63326076e-01]\n",
      " [1.53798663e-01 1.42704717e-01 1.56542503e-01 1.53096940e-01\n",
      "  1.37876783e-01]\n",
      " [1.28352768e-01 1.19348932e-01 1.30874872e-01 1.28006634e-01\n",
      "  1.15262901e-01]\n",
      " [1.06199264e-01 9.89322970e-02 1.08462212e-01 1.06087165e-01\n",
      "  9.55282320e-02]\n",
      " [8.72170082e-02 8.13771522e-02 8.92047798e-02 8.72479981e-02\n",
      "  7.85764518e-02]\n",
      " [7.11729259e-02 6.64954511e-02 7.28873305e-02 7.12829760e-02\n",
      "  6.42133547e-02]\n",
      " [5.77687418e-02 5.40317207e-02 5.92246057e-02 5.79153080e-02\n",
      "  5.21857904e-02]\n",
      " [4.66788103e-02 4.36988530e-02 4.78991632e-02 4.68352953e-02\n",
      "  4.22138714e-02]\n",
      " [3.75778078e-02 3.52049771e-02 3.85897962e-02 3.77287714e-02\n",
      "  3.40151650e-02]\n",
      " [3.01589700e-02 2.82716402e-02 3.09907847e-02 3.02963797e-02\n",
      "  2.73211224e-02]\n",
      " [2.41445549e-02 2.26446374e-02 2.48233627e-02 2.42650496e-02\n",
      "  2.18869038e-02]\n",
      " [1.92905077e-02 1.80992353e-02 1.98412246e-02 1.93935070e-02\n",
      "  1.74961175e-02]\n",
      " [1.53871695e-02 1.44414913e-02 1.58318631e-02 1.54736247e-02\n",
      "  1.39619774e-02]\n",
      " [1.22575302e-02 1.15070955e-02 1.26152522e-02 1.23291357e-02\n",
      "  1.11261650e-02]\n",
      " [9.75414544e-03 9.15881725e-03 1.00410314e-02 9.81286208e-03\n",
      "  8.85638313e-03]\n",
      " [7.75548499e-03 7.28331075e-03 7.98500267e-03 7.80326910e-03\n",
      "  7.04330358e-03]\n",
      " [6.16220222e-03 5.78777107e-03 6.34546714e-03 6.20086407e-03\n",
      "  5.59736744e-03]\n",
      " [4.89361135e-03 4.59673054e-03 5.03971802e-03 4.92475239e-03\n",
      "  4.44571574e-03]\n",
      " [3.88451740e-03 3.64915035e-03 4.00085638e-03 3.90951337e-03\n",
      "  3.52939824e-03]\n",
      " [3.08245491e-03 2.89587170e-03 3.17500026e-03 3.10246395e-03\n",
      "  2.80092376e-03]\n",
      " [2.44533740e-03 2.29743655e-03 2.51889803e-03 2.46132038e-03\n",
      "  2.22216325e-03]\n",
      " [1.93948942e-03 1.82225744e-03 1.99792365e-03 1.95223512e-03\n",
      "  1.76258687e-03]\n",
      " [1.53801952e-03 1.44510071e-03 1.58441501e-03 1.54817029e-03\n",
      "  1.39780177e-03]\n",
      " [1.21948761e-03 1.14584197e-03 1.25631023e-03 1.22756339e-03\n",
      "  1.10835150e-03]\n",
      " [9.66821302e-04 9.08452703e-04 9.96037202e-04 9.73241010e-04\n",
      "  8.78737857e-04]\n",
      " [7.66439648e-04 7.20179961e-04 7.89614511e-04 7.71539601e-04\n",
      "  6.96628778e-04]\n",
      " [6.07547610e-04 5.70885359e-04 6.25926976e-04 6.11597058e-04\n",
      "  5.52219777e-04]\n",
      " [4.81569928e-04 4.52514315e-04 4.96143863e-04 4.84783962e-04\n",
      "  4.37721113e-04]\n",
      " [3.81698030e-04 3.58671070e-04 3.93253030e-04 3.84248186e-04\n",
      "  3.46947056e-04]\n",
      " [3.02528172e-04 2.84279147e-04 3.11688709e-04 3.04551069e-04\n",
      "  2.74987655e-04]\n",
      " [2.39772909e-04 2.25310521e-04 2.47034613e-04 2.41377240e-04\n",
      "  2.17946915e-04]\n",
      " [1.90031324e-04 1.78569910e-04 1.95787441e-04 1.91303495e-04\n",
      "  1.72734217e-04]\n",
      " [1.50606244e-04 1.41523132e-04 1.55168710e-04 1.51614898e-04\n",
      "  1.36898344e-04]\n",
      " [1.19358946e-04 1.12160649e-04 1.22975152e-04 1.20158590e-04\n",
      "  1.08495520e-04]\n",
      " [9.45937381e-05 8.88891570e-05 9.74598519e-05 9.52276321e-05\n",
      "  8.59845649e-05]\n",
      " [7.49663157e-05 7.04454987e-05 7.72378706e-05 7.54687850e-05\n",
      "  6.81436341e-05]\n",
      " [5.94110279e-05 5.58283365e-05 6.12113275e-05 5.98093012e-05\n",
      "  5.40041324e-05]\n",
      " [4.70831687e-05 4.42439336e-05 4.85099577e-05 4.73988405e-05\n",
      "  4.27982732e-05]\n",
      " [3.73131996e-05 3.50631459e-05 3.84439572e-05 3.75633936e-05\n",
      "  3.39174786e-05]\n",
      " [2.95704453e-05 2.77873110e-05 3.04665839e-05 2.97687384e-05\n",
      "  2.68793854e-05]\n",
      " [2.34343064e-05 2.20211996e-05 2.41445012e-05 2.35914619e-05\n",
      "  2.13016816e-05]\n",
      " [1.85714341e-05 1.74515690e-05 1.91342642e-05 1.86959844e-05\n",
      "  1.68813618e-05]\n",
      " [1.47176362e-05 1.38301610e-05 1.51636775e-05 1.48163449e-05\n",
      "  1.33782806e-05]\n",
      " [1.16635330e-05 1.09602233e-05 1.20170182e-05 1.17417608e-05\n",
      "  1.06021152e-05]\n",
      " [9.24318688e-06 8.68582542e-06 9.52332099e-06 9.30518289e-06\n",
      "  8.40203048e-06]\n",
      " [7.32509041e-06 6.88339066e-06 7.54709389e-06 7.37422232e-06\n",
      "  6.65848778e-06]\n",
      " [5.80502324e-06 5.45498354e-06 5.98095846e-06 5.84396016e-06\n",
      "  5.27675171e-06]\n",
      " [4.60039067e-06 4.32299006e-06 4.73981711e-06 4.63124796e-06\n",
      "  4.18174429e-06]\n",
      " [3.64573660e-06 3.42590128e-06 3.75623016e-06 3.67019075e-06\n",
      "  3.31396636e-06]\n",
      " [2.88918746e-06 2.71497169e-06 2.97675203e-06 2.90856714e-06\n",
      "  2.62626514e-06]\n",
      " [2.28963389e-06 2.15157083e-06 2.35902751e-06 2.30499206e-06\n",
      "  2.08127239e-06]\n",
      " [1.81449711e-06 1.70508447e-06 1.86949048e-06 1.82666827e-06\n",
      "  1.64937414e-06]\n",
      " [1.43795881e-06 1.35125116e-06 1.48154019e-06 1.44760429e-06\n",
      "  1.30710166e-06]\n",
      " [1.13955832e-06 1.07084398e-06 1.17409587e-06 1.14720222e-06\n",
      "  1.03585625e-06]\n",
      " [9.03080825e-07 8.48625882e-07 9.30451275e-07 9.09138507e-07\n",
      "  8.20898705e-07]]\n",
      "[[ 3.28012063e-01  5.78218038e-01  3.90550792e-01  1.84653737e-01\n",
      "   6.59414727e-01]\n",
      " [ 3.28103949e-01  5.78232658e-01  3.90669662e-01  1.84844645e-01\n",
      "   6.59387500e-01]\n",
      " [ 3.28219431e-01  5.78250990e-01  3.90818390e-01  1.85085064e-01\n",
      "   6.59353219e-01]\n",
      " [ 3.28364420e-01  5.78273939e-01  3.91004072e-01  1.85387681e-01\n",
      "   6.59310078e-01]\n",
      " [ 3.28546220e-01  5.78302604e-01  3.91235253e-01  1.85768336e-01\n",
      "   6.59255826e-01]\n",
      " [ 3.28773812e-01  5.78338315e-01  3.91522096e-01  1.86246763e-01\n",
      "   6.59187660e-01]\n",
      " [ 3.29058165e-01  5.78382650e-01  3.91876478e-01  1.86847458e-01\n",
      "   6.59102105e-01]\n",
      " [ 3.29412556e-01  5.78437449e-01  3.92311969e-01  1.87600700e-01\n",
      "   6.58994867e-01]\n",
      " [ 3.29852898e-01  5.78504802e-01  3.92843595e-01  1.88543709e-01\n",
      "   6.58860673e-01]\n",
      " [ 3.30398002e-01  5.78586984e-01  3.93487272e-01  1.89721927e-01\n",
      "   6.58693086e-01]\n",
      " [ 3.31069736e-01  5.78686318e-01  3.94258783e-01  1.91190349e-01\n",
      "   6.58484310e-01]\n",
      " [ 3.31892996e-01  5.78804911e-01  3.95172138e-01  1.93014806e-01\n",
      "   6.58224991e-01]\n",
      " [ 3.32895368e-01  5.78944198e-01  3.96237243e-01  1.95273003e-01\n",
      "   6.57904029e-01]\n",
      " [ 3.34106388e-01  5.79104210e-01  3.97456884e-01  1.98055068e-01\n",
      "   6.57508416e-01]\n",
      " [ 3.35556267e-01  5.79282469e-01  3.98823274e-01  2.01463241e-01\n",
      "   6.57023125e-01]\n",
      " [ 3.37274040e-01  5.79472396e-01  4.00314690e-01  2.05610317e-01\n",
      "   6.56431067e-01]\n",
      " [ 3.39285138e-01  5.79661150e-01  4.01893083e-01  2.10616458e-01\n",
      "   6.55713123e-01]\n",
      " [ 3.41608569e-01  5.79826897e-01  4.03503687e-01  2.16604212e-01\n",
      "   6.54848250e-01]\n",
      " [ 3.44254046e-01  5.79935611e-01  4.05077559e-01  2.23691961e-01\n",
      "   6.53813650e-01]\n",
      " [ 3.47219628e-01  5.79937693e-01  4.06537323e-01  2.31986618e-01\n",
      "   6.52584929e-01]\n",
      " [ 3.50490607e-01  5.79764857e-01  4.07805416e-01  2.41576955e-01\n",
      "   6.51136126e-01]\n",
      " [ 3.54040356e-01  5.79327780e-01  4.08813048e-01  2.52529106e-01\n",
      "   6.49439363e-01]\n",
      " [ 3.57833529e-01  5.78514894e-01  4.09507457e-01  2.64884998e-01\n",
      "   6.47463618e-01]\n",
      " [ 3.61831283e-01  5.77192353e-01  4.09855201e-01  2.78662725e-01\n",
      "   6.45171956e-01]\n",
      " [ 3.65997154e-01  5.75204823e-01  4.09840158e-01  2.93855526e-01\n",
      "   6.42516411e-01]\n",
      " [ 3.70301268e-01  5.72376452e-01  4.09456098e-01  3.10424514e-01\n",
      "   6.39429955e-01]\n",
      " [ 3.74720061e-01  5.68511461e-01  4.08694719e-01  3.28280909e-01\n",
      "   6.35815511e-01]\n",
      " [ 3.79228886e-01  5.63394168e-01  4.07530401e-01  3.47256772e-01\n",
      "   6.31532821e-01]\n",
      " [ 3.83785682e-01  5.56788788e-01  4.05902880e-01  3.67068009e-01\n",
      "   6.26384763e-01]\n",
      " [ 3.88305284e-01  5.48439813e-01  4.03698882e-01  3.87277625e-01\n",
      "   6.20105432e-01]\n",
      " [ 3.92626070e-01  5.38074172e-01  4.00734203e-01  4.07268809e-01\n",
      "   6.12352819e-01]\n",
      " [ 3.96473749e-01  5.25406724e-01  3.96739049e-01  4.26236094e-01\n",
      "   6.02709413e-01]\n",
      " [ 3.99431099e-01  5.10151127e-01  3.91351624e-01  4.43200028e-01\n",
      "   5.90694567e-01]\n",
      " [ 4.00926363e-01  4.92038640e-01  3.84127145e-01  4.57048893e-01\n",
      "   5.75792826e-01]\n",
      " [ 4.00254444e-01  4.70847431e-01  3.74569990e-01  4.66610895e-01\n",
      "   5.57502012e-01]\n",
      " [ 3.96641268e-01  4.46443324e-01  3.62193679e-01  4.70759643e-01\n",
      "   5.35402224e-01]\n",
      " [ 3.89350961e-01  4.18828943e-01  3.46605454e-01  4.68550008e-01\n",
      "   5.09240834e-01]\n",
      " [ 3.77819540e-01  3.88192133e-01  3.27600923e-01  4.59368319e-01\n",
      "   4.79019310e-01]\n",
      " [ 3.61783759e-01  3.54939256e-01  3.05244189e-01  4.43064767e-01\n",
      "   4.45058888e-01]\n",
      " [ 3.41368054e-01  3.19698078e-01  2.79906795e-01  4.20027854e-01\n",
      "   4.08019992e-01]\n",
      " [ 3.17101405e-01  2.83281244e-01  2.52248468e-01  3.91170434e-01\n",
      "   3.68859582e-01]\n",
      " [ 2.89857192e-01  2.46613249e-01  2.23141165e-01  3.57823542e-01\n",
      "   3.28729619e-01]\n",
      " [ 2.60732895e-01  2.10635881e-01  1.93556449e-01  3.21564470e-01\n",
      "   2.88839989e-01]\n",
      " [ 2.30902243e-01  1.76213490e-01  1.64445681e-01  2.84023285e-01\n",
      "   2.50319862e-01]\n",
      " [ 2.01474710e-01  1.44057416e-01  1.36639787e-01  2.46710330e-01\n",
      "   2.14108143e-01]\n",
      " [ 1.73388340e-01  1.14680994e-01  1.10784374e-01  2.10891808e-01\n",
      "   1.80889970e-01]\n",
      " [ 1.47347971e-01  8.83870270e-02  8.73133897e-02  1.77522315e-01\n",
      "   1.51080538e-01]\n",
      " [ 1.23808021e-01  6.52824212e-02  6.64553410e-02  1.47229576e-01\n",
      "   1.24846364e-01]\n",
      " [ 1.02990429e-01  4.53109628e-02  4.82617236e-02  1.20339288e-01\n",
      "   1.02149652e-01]\n",
      " [ 8.49247052e-02  2.82947382e-02  3.26468519e-02  9.69254607e-02\n",
      "   8.28020863e-02]\n",
      " [ 6.94973905e-02  1.39762258e-02  1.94301344e-02  7.68722258e-02\n",
      "   6.65177566e-02]\n",
      " [ 5.65010252e-02  2.05560131e-03  8.37460728e-03  5.99357775e-02\n",
      "   5.29588717e-02]\n",
      " [ 4.56764097e-02 -7.77960943e-03 -7.81652560e-04  4.57987859e-02\n",
      "   4.17713940e-02]\n",
      " [ 3.67453660e-02 -1.58332542e-02 -8.30232251e-03  3.41134415e-02\n",
      "   3.26102462e-02]\n",
      " [ 2.94337358e-02 -2.23869514e-02 -1.44373645e-02  2.45323525e-02\n",
      "   2.51552763e-02]\n",
      " [ 2.34858501e-02 -2.76927172e-02 -1.94139818e-02  1.67285138e-02\n",
      "   1.91198645e-02]\n",
      " [ 1.86723299e-02 -3.19701861e-02 -2.34324165e-02  1.04065195e-02\n",
      "   1.42541785e-02]\n",
      " [ 1.47931233e-02 -3.54069157e-02 -2.66650882e-02  5.30738728e-03\n",
      "   1.03448618e-02]\n",
      " [ 1.16774239e-02 -3.81605571e-02 -2.92578301e-02  1.20910791e-03\n",
      "   7.21257581e-03]\n",
      " [ 9.18174382e-03 -4.03619933e-02 -3.13322901e-02 -2.07540152e-03\n",
      "   4.70843400e-03]\n",
      " [ 7.18704560e-03 -4.21188310e-02 -3.29888489e-02 -4.70172278e-03\n",
      "   2.71002889e-03]\n",
      " [ 5.59553405e-03 -4.35188637e-02 -3.43096367e-02 -6.79791809e-03\n",
      "   1.11749247e-03]\n",
      " [ 4.32747582e-03 -4.46332870e-02 -3.53614038e-02 -8.46855472e-03\n",
      "  -1.50161840e-04]\n",
      " [ 3.31825117e-03 -4.55195603e-02 -3.61981154e-02 -9.79847931e-03\n",
      "  -1.15829515e-03]\n",
      " [ 2.51573505e-03 -4.62238818e-02 -3.68632187e-02 -1.08561968e-02\n",
      "  -1.95945830e-03]\n",
      " [ 1.87803673e-03 -4.67832840e-02 -3.73915785e-02 -1.16968023e-02\n",
      "  -2.59577598e-03]\n",
      " [ 1.37158876e-03 -4.72273818e-02 -3.78110993e-02 -1.23644700e-02\n",
      "  -3.10093518e-03]\n",
      " [ 9.69555271e-04 -4.75798136e-02 -3.81440692e-02 -1.28945315e-02\n",
      "  -3.50182463e-03]\n",
      " [ 6.50521209e-04 -4.78594194e-02 -3.84082611e-02 -1.33151920e-02\n",
      "  -3.81987475e-03]\n",
      " [ 3.97421999e-04 -4.80811970e-02 -3.86178295e-02 -1.36489332e-02\n",
      "  -4.07214555e-03]\n",
      " [ 1.96675277e-04 -4.82570744e-02 -3.87840350e-02 -1.39136532e-02\n",
      "  -4.27220514e-03]\n",
      " [ 3.74800916e-05 -4.83965312e-02 -3.89158294e-02 -1.41235875e-02\n",
      "  -4.43083652e-03]\n",
      " [-8.87465325e-05 -4.85070968e-02 -3.90203241e-02 -1.42900501e-02\n",
      "  -4.55660424e-03]\n",
      " [-1.88821184e-04 -4.85947486e-02 -3.91031658e-02 -1.44220275e-02\n",
      "  -4.65630759e-03]\n",
      " [-2.68155158e-04 -4.86642302e-02 -3.91688360e-02 -1.45266541e-02\n",
      "  -4.73534254e-03]\n",
      " [-3.31042642e-04 -4.87193052e-02 -3.92208910e-02 -1.46095920e-02\n",
      "  -4.79799004e-03]\n",
      " [-3.80890368e-04 -4.87629588e-02 -3.92621514e-02 -1.46753334e-02\n",
      "  -4.84764570e-03]\n",
      " [-4.20400416e-04 -4.87975582e-02 -3.92948545e-02 -1.47274415e-02\n",
      "  -4.88700235e-03]\n",
      " [-4.51715586e-04 -4.88249806e-02 -3.93207742e-02 -1.47687420e-02\n",
      "  -4.91819520e-03]\n",
      " [-4.76534917e-04 -4.88467143e-02 -3.93413170e-02 -1.48014756e-02\n",
      "  -4.94291714e-03]\n",
      " [-4.96205443e-04 -4.88639390e-02 -3.93575981e-02 -1.48274186e-02\n",
      "  -4.96251018e-03]\n",
      " [-5.11795023e-04 -4.88775901e-02 -3.93705013e-02 -1.48479794e-02\n",
      "  -4.97803817e-03]\n",
      " [-5.24150141e-04 -4.88884088e-02 -3.93807274e-02 -1.48642744e-02\n",
      "  -4.99034437e-03]\n",
      " [-5.33941765e-04 -4.88969827e-02 -3.93888317e-02 -1.48771885e-02\n",
      "  -5.00009715e-03]\n",
      " [-5.41701713e-04 -4.89037776e-02 -3.93952544e-02 -1.48874230e-02\n",
      "  -5.00782627e-03]\n",
      " [-5.47851499e-04 -4.89091625e-02 -3.94003444e-02 -1.48955340e-02\n",
      "  -5.01395159e-03]\n",
      " [-5.52725199e-04 -4.89134300e-02 -3.94043782e-02 -1.49019619e-02\n",
      "  -5.01880589e-03]\n",
      " [-5.56587585e-04 -4.89168120e-02 -3.94075749e-02 -1.49070559e-02\n",
      "  -5.02265289e-03]\n",
      " [-5.59648500e-04 -4.89194922e-02 -3.94101083e-02 -1.49110930e-02\n",
      "  -5.02570161e-03]\n",
      " [-5.62074248e-04 -4.89216163e-02 -3.94121160e-02 -1.49142923e-02\n",
      "  -5.02811768e-03]\n",
      " [-5.63996627e-04 -4.89232995e-02 -3.94137071e-02 -1.49168277e-02\n",
      "  -5.03003239e-03]\n",
      " [-5.65520089e-04 -4.89246335e-02 -3.94149680e-02 -1.49188370e-02\n",
      "  -5.03154977e-03]\n",
      " [-5.66727413e-04 -4.89256907e-02 -3.94159673e-02 -1.49204293e-02\n",
      "  -5.03275228e-03]\n",
      " [-5.67684200e-04 -4.89265284e-02 -3.94167592e-02 -1.49216912e-02\n",
      "  -5.03370525e-03]\n",
      " [-5.68442440e-04 -4.89271924e-02 -3.94173868e-02 -1.49226913e-02\n",
      "  -5.03446046e-03]\n",
      " [-5.69043334e-04 -4.89277185e-02 -3.94178841e-02 -1.49234838e-02\n",
      "  -5.03505895e-03]\n",
      " [-5.69519533e-04 -4.89281355e-02 -3.94182782e-02 -1.49241119e-02\n",
      "  -5.03553325e-03]\n",
      " [-5.69896913e-04 -4.89284659e-02 -3.94185906e-02 -1.49246096e-02\n",
      "  -5.03590912e-03]\n",
      " [-5.70195981e-04 -4.89287278e-02 -3.94188381e-02 -1.49250040e-02\n",
      "  -5.03620700e-03]\n",
      " [-5.70432987e-04 -4.89289353e-02 -3.94190343e-02 -1.49253166e-02\n",
      "  -5.03644306e-03]]\n"
     ]
    }
   ],
   "source": [
    "print(train_scores)\n",
    "print(test_scores)"
   ]
  },
  {
   "cell_type": "code",
   "execution_count": 115,
   "metadata": {},
   "outputs": [],
   "source": [
    "train_mean=np.mean(train_scores,axis=1)"
   ]
  },
  {
   "cell_type": "code",
   "execution_count": 116,
   "metadata": {},
   "outputs": [],
   "source": [
    "test_mean=np.mean(test_scores,axis=1)"
   ]
  },
  {
   "cell_type": "code",
   "execution_count": 117,
   "metadata": {},
   "outputs": [
    {
     "data": {
      "text/plain": [
       "array([5.62742673e-01, 5.62742341e-01, 5.62741815e-01, 5.62740985e-01,\n",
       "       5.62739675e-01, 5.62737614e-01, 5.62734382e-01, 5.62729331e-01,\n",
       "       5.62721477e-01, 5.62709329e-01, 5.62690669e-01, 5.62662240e-01,\n",
       "       5.62619346e-01, 5.62555361e-01, 5.62461163e-01, 5.62324543e-01,\n",
       "       5.62129665e-01, 5.61856692e-01, 5.61481686e-01, 5.60976876e-01,\n",
       "       5.60311312e-01, 5.59451756e-01, 5.58363417e-01, 5.57009847e-01,\n",
       "       5.55351062e-01, 5.53338976e-01, 5.50909621e-01, 5.47972309e-01,\n",
       "       5.44396683e-01, 5.39999227e-01, 5.34531341e-01, 5.27671675e-01,\n",
       "       5.19026478e-01, 5.08143025e-01, 4.94542004e-01, 4.77773127e-01,\n",
       "       4.57492394e-01, 4.33549693e-01, 4.06065248e-01, 3.75469445e-01,\n",
       "       3.42487421e-01, 3.08066533e-01, 2.73263585e-01, 2.39120164e-01,\n",
       "       2.06554130e-01, 1.76285696e-01, 1.48803921e-01, 1.24369221e-01,\n",
       "       1.03041834e-01, 8.47246780e-02, 6.92104077e-02, 5.62252333e-02,\n",
       "       4.54651986e-02, 3.66233035e-02, 2.94077794e-02, 2.35529017e-02,\n",
       "       1.88241184e-02, 1.50192252e-02, 1.19670357e-02, 9.52464786e-03,\n",
       "       7.57407422e-03, 6.01873439e-03, 4.78010561e-03, 3.79468715e-03,\n",
       "       3.01134292e-03, 2.38903112e-03, 1.89489850e-03, 1.50270146e-03,\n",
       "       1.19151094e-03, 9.44658015e-04, 7.48880500e-04, 5.93635356e-04,\n",
       "       4.70546636e-04, 3.72963474e-04, 2.95606950e-04, 2.34288440e-04,\n",
       "       1.85685277e-04, 1.47162266e-04, 1.16629771e-04, 9.24309888e-05,\n",
       "       7.32524208e-05, 5.80528251e-05, 4.60068347e-05, 3.64602350e-05,\n",
       "       2.88944928e-05, 2.28986301e-05, 1.81469227e-05, 1.43812201e-05,\n",
       "       1.13969301e-05, 9.03190933e-06, 7.15765701e-06, 5.67233542e-06,\n",
       "       4.49523802e-06, 3.56240503e-06, 2.82314869e-06, 2.23729934e-06,\n",
       "       1.77302289e-06, 1.40509122e-06, 1.11351133e-06, 8.82439039e-07])"
      ]
     },
     "execution_count": 117,
     "metadata": {},
     "output_type": "execute_result"
    }
   ],
   "source": [
    "train_mean"
   ]
  },
  {
   "cell_type": "code",
   "execution_count": 118,
   "metadata": {},
   "outputs": [
    {
     "data": {
      "text/plain": [
       "0.4702112146509223"
      ]
     },
     "execution_count": 118,
     "metadata": {},
     "output_type": "execute_result"
    }
   ],
   "source": [
    "max(test_mean)"
   ]
  },
  {
   "cell_type": "code",
   "execution_count": 119,
   "metadata": {},
   "outputs": [
    {
     "data": {
      "text/plain": [
       "<seaborn.axisgrid.JointGrid at 0x7fba8c33f990>"
      ]
     },
     "execution_count": 119,
     "metadata": {},
     "output_type": "execute_result"
    },
    {
     "data": {
      "image/png": "[encoded data removed]",
      "text/plain": [
       "<Figure size 432x432 with 3 Axes>"
      ]
     },
     "metadata": {
      "needs_background": "light"
     },
     "output_type": "display_data"
    }
   ],
   "source": [
    "sns.jointplot(x=np.log(param_range),y=test_mean) #highest point is from the max above "
   ]
  },
  {
   "cell_type": "code",
   "execution_count": 120,
   "metadata": {},
   "outputs": [
    {
     "data": {
      "text/plain": [
       "(array([30]),)"
      ]
     },
     "execution_count": 120,
     "metadata": {},
     "output_type": "execute_result"
    }
   ],
   "source": [
    "np.where(test_mean==max(test_mean))"
   ]
  },
  {
   "cell_type": "code",
   "execution_count": 121,
   "metadata": {},
   "outputs": [
    {
     "data": {
      "text/plain": [
       "10.722672220103231"
      ]
     },
     "execution_count": 121,
     "metadata": {},
     "output_type": "execute_result"
    }
   ],
   "source": [
    "param_range[30]"
   ]
  },
  {
   "cell_type": "code",
   "execution_count": 122,
   "metadata": {},
   "outputs": [],
   "source": [
    "ln_r_best=Ridge(alpha=param_range[30])"
   ]
  },
  {
   "cell_type": "code",
   "execution_count": 123,
   "metadata": {},
   "outputs": [
    {
     "data": {
      "text/plain": [
       "Ridge(alpha=10.722672220103231, copy_X=True, fit_intercept=True, max_iter=None,\n",
       "      normalize=False, random_state=None, solver='auto', tol=0.001)"
      ]
     },
     "execution_count": 123,
     "metadata": {},
     "output_type": "execute_result"
    }
   ],
   "source": [
    "ln_r_best.fit(X_train_s,Y_train)"
   ]
  },
  {
   "cell_type": "code",
   "execution_count": 124,
   "metadata": {},
   "outputs": [
    {
     "data": {
      "text/plain": [
       "0.5995065509328863"
      ]
     },
     "execution_count": 124,
     "metadata": {},
     "output_type": "execute_result"
    }
   ],
   "source": [
    "r2_score(Y_test,ln_r_best.predict(X_test_s))"
   ]
  },
  {
   "cell_type": "code",
   "execution_count": 125,
   "metadata": {},
   "outputs": [
    {
     "data": {
      "text/plain": [
       "0.5350075119426185"
      ]
     },
     "execution_count": 125,
     "metadata": {},
     "output_type": "execute_result"
    }
   ],
   "source": [
    "r2_score(Y_train,ln_r_best.predict(X_train_s))"
   ]
  },
  {
   "cell_type": "code",
   "execution_count": 126,
   "metadata": {},
   "outputs": [],
   "source": [
    "def pretty_print_coefs(coefs, names = None, sort = False):\n",
    "    if names == None:\n",
    "        names = [\"X%s\" % x for x in range(len(coefs))]\n",
    "    lst = zip(coefs, names)\n",
    "    if sort:\n",
    "        lst = sorted(lst,  key = lambda x:-np.abs(x[0]))\n",
    "    return \" + \".join(\"%s * %s\" % (round(coef, 3), name)\n",
    "                                   for coef, name in lst)\n",
    "\n"
   ]
  },
  {
   "cell_type": "code",
   "execution_count": 127,
   "metadata": {},
   "outputs": [
    {
     "name": "stdout",
     "output_type": "stream",
     "text": [
      "Ridge model: -63.476 * X0 + -52.029 * X1 + -22.869 * X2 + 14.759 * X3 + 254.272 * X4 + 120.859 * X5 + -20.0 * X6 + 70.174 * X7 + 47.664 * X8 + -73.46 * X9\n"
     ]
    }
   ],
   "source": [
    "print (\"Ridge model:\", pretty_print_coefs(ln_r_best.coef_)) #https://www.datacamp.com/community/tutorials/feature-selection-python"
   ]
  },
  {
   "cell_type": "code",
   "execution_count": 128,
   "metadata": {},
   "outputs": [
    {
     "data": {
      "text/plain": [
       "array([-63.4760159 , -52.029461  , -22.86860224,  14.75924731,\n",
       "       254.2721469 , 120.8589865 , -20.00018028,  70.17431315,\n",
       "        47.66446658, -73.45963053])"
      ]
     },
     "execution_count": 128,
     "metadata": {},
     "output_type": "execute_result"
    }
   ],
   "source": [
    "ln_r_best.coef_"
   ]
  },
  {
   "cell_type": "code",
   "execution_count": 129,
   "metadata": {},
   "outputs": [],
   "source": [
    "# info about ridge method https://machinelearningmastery.com/ridge-regression-with-python/ https://scikit-learn.org/stable/modules/linear_model.html\n",
    "# http://www.science.smith.edu/~jcrouser/SDS293/labs/lab10-py.html As expected, none of the coefficients are exactly zero - ridge regression does not perform variable selection!"
   ]
  },
  {
   "cell_type": "code",
   "execution_count": 130,
   "metadata": {},
   "outputs": [],
   "source": [
    "y_pred2=ln_r_best.predict(X_test)"
   ]
  },
  {
   "cell_type": "code",
   "execution_count": 131,
   "metadata": {},
   "outputs": [
    {
     "name": "stdout",
     "output_type": "stream",
     "text": [
      "R2: 0.5995065509328863\n",
      "RMSE: 237.74326433572224\n",
      "RMSPE: 17.445980348726597\n"
     ]
    }
   ],
   "source": [
    "from sklearn import metrics \n",
    "\n",
    "print('R2:', r2_score(Y_test,ln_r_best.predict(X_test_s)))\n",
    "print('RMSE:',np.sqrt(metrics.mean_squared_error(Y_test,y_pred2)))\n",
    "print('RMSPE:',rmse(Y_test,y_pred2))"
   ]
  },
  {
   "cell_type": "code",
   "execution_count": 132,
   "metadata": {},
   "outputs": [],
   "source": [
    "def rmse(y_true, y_pred):\n",
    "    '''\n",
    "    Compute Root Mean Square Percentage Error between two arrays.\n",
    "    '''\n",
    "    loss = np.sqrt(np.mean(np.square(((y_true - y_pred) / y_true)), axis=0))*100\n",
    "\n",
    "    return loss"
   ]
  },
  {
   "cell_type": "code",
   "execution_count": 133,
   "metadata": {},
   "outputs": [
    {
     "name": "stdout",
     "output_type": "stream",
     "text": [
      "1 R2: 0.6238027086002184\n",
      "2 R2: 0.6259070208072985\n",
      "3 R2: 0.5995065509328863\n",
      "\n",
      "1 MAE: 185.17483592441724\n",
      "2 MAE: 184.93346274512066\n",
      "3 MAE: 191.52340348541503\n",
      "\n",
      "1 MSE: 53092.92970326822\n",
      "2 MSE: 52795.94696937206\n",
      "3 MSE: 56521.85973700511\n",
      "\n",
      "1 RMSE: 230.4190306881535\n",
      "2 RMSE: 229.7736864163781\n",
      "3 RMSE: 237.74326433572224\n",
      "*\n",
      "* 1 RMSPE: 16.860634648126176\n",
      "* 2 RMSPE: 16.84130397446934\n",
      "* 3 RMSPE: 17.445980348726597\n"
     ]
    }
   ],
   "source": [
    "print('1 R2:',r2_score(Y_test,Y_test_a))\n",
    "print('2 R2:', r2_score(Y_test,ln_r.predict(X_test_s)))\n",
    "print('3 R2:', r2_score(Y_test,ln_r_best.predict(X_test_s)))\n",
    "print('')\n",
    "print('1 MAE:', metrics.mean_absolute_error(Y_test,y_pred))\n",
    "print('2 MAE:', metrics.mean_absolute_error(Y_test,y_pred3))\n",
    "print('3 MAE:', metrics.mean_absolute_error(Y_test,y_pred2))\n",
    "print('')\n",
    "print('1 MSE:',metrics.mean_squared_error(Y_test,y_pred))\n",
    "print('2 MSE:',metrics.mean_squared_error(Y_test,y_pred3))\n",
    "print('3 MSE:',metrics.mean_squared_error(Y_test,y_pred2))\n",
    "print('')\n",
    "print('1 RMSE:',np.sqrt(metrics.mean_squared_error(Y_test,y_pred)))\n",
    "print('2 RMSE:',np.sqrt(metrics.mean_squared_error(Y_test,y_pred3)))\n",
    "print('3 RMSE:',np.sqrt(metrics.mean_squared_error(Y_test,y_pred2)))\n",
    "print('*')\n",
    "print('* 1 RMSPE:',rmse(Y_test,y_pred))\n",
    "print('* 2 RMSPE:',rmse(Y_test,y_pred3))\n",
    "print('* 3 RMSPE:',rmse(Y_test,y_pred2))\n",
    "\n",
    "# here is looks like hte simple linergression has done the best job "
   ]
  },
  {
   "cell_type": "code",
   "execution_count": 134,
   "metadata": {},
   "outputs": [
    {
     "data": {
      "image/png": "[encoded data removed]",
      "text/plain": [
       "<Figure size 432x288 with 1 Axes>"
      ]
     },
     "metadata": {
      "needs_background": "light"
     },
     "output_type": "display_data"
    }
   ],
   "source": [
    "LR_metrics =np.array([r2_score(Y_test,Y_test_a),metrics.mean_absolute_error(Y_test,y_pred),metrics.mean_squared_error(Y_test,y_pred),np.sqrt(metrics.mean_squared_error(Y_test,y_pred))])\n",
    "R_metrics=np.array([r2_score(Y_test,ln_r.predict(X_test_s)),metrics.mean_absolute_error(Y_test,y_pred3),metrics.mean_squared_error(Y_test,y_pred3),np.sqrt(metrics.mean_squared_error(Y_test,y_pred3))])\n",
    "RB_metrics=np.array([r2_score(Y_test,ln_r_best.predict(X_test_s)),metrics.mean_absolute_error(Y_test,y_pred2),metrics.mean_squared_error(Y_test,y_pred2),np.sqrt(metrics.mean_squared_error(Y_test,y_pred2))])\n",
    "index = ['R2', 'MAE', 'MSE','RMSE']\n",
    "df_metrics = pd.DataFrame({'Ridge': R_metrics, 'Linear Regression': LR_metrics,'Ridge Best': RB_metrics}, index=index)\n",
    "df_metrics.plot.bar(rot=0)\n",
    "plt.legend(loc=\"lower right\")\n",
    "plt.show()\n"
   ]
  },
  {
   "cell_type": "code",
   "execution_count": 135,
   "metadata": {},
   "outputs": [
    {
     "data": {
      "image/png": "[encoded data removed]",
      "text/plain": [
       "<Figure size 432x288 with 1 Axes>"
      ]
     },
     "metadata": {
      "needs_background": "light"
     },
     "output_type": "display_data"
    }
   ],
   "source": [
    "LR2_metrics =np.array([r2_score(Y_test,Y_test_a),np.sqrt(metrics.mean_squared_error(Y_test,y_pred)),rmse(Y_test,y_pred)])\n",
    "R2_metrics=np.array([r2_score(Y_test,ln_r.predict(X_test_s)),np.sqrt(metrics.mean_squared_error(Y_test,y_pred3)),rmse(Y_test,y_pred3)])\n",
    "RB2_metrics=np.array([r2_score(Y_test,ln_r_best.predict(X_test_s)),np.sqrt(metrics.mean_squared_error(Y_test,y_pred2)),rmse(Y_test,y_pred2)])\n",
    "index2 = ['R2',  'MSE','RMSE']\n",
    "df_metrics2 = pd.DataFrame({'Linear Regression': LR2_metrics, 'Ridge': R2_metrics, 'Ridge Best': RB2_metrics}, index=index2)\n",
    "df_metrics2.plot.bar(rot=0)\n",
    "plt.legend(loc=\"lower right\")\n",
    "plt.show()"
   ]
  },
  {
   "cell_type": "code",
   "execution_count": 136,
   "metadata": {},
   "outputs": [
    {
     "data": {
      "text/html": [
       "<div>\n",
       "<style scoped>\n",
       "    .dataframe tbody tr th:only-of-type {\n",
       "        vertical-align: middle;\n",
       "    }\n",
       "\n",
       "    .dataframe tbody tr th {\n",
       "        vertical-align: top;\n",
       "    }\n",
       "\n",
       "    .dataframe thead th {\n",
       "        text-align: right;\n",
       "    }\n",
       "</style>\n",
       "<table border=\"1\" class=\"dataframe\">\n",
       "  <thead>\n",
       "    <tr style=\"text-align: right;\">\n",
       "      <th></th>\n",
       "      <th>Linear Regression</th>\n",
       "      <th>Ridge</th>\n",
       "      <th>Ridge Best</th>\n",
       "    </tr>\n",
       "  </thead>\n",
       "  <tbody>\n",
       "    <tr>\n",
       "      <th>R2</th>\n",
       "      <td>0.623803</td>\n",
       "      <td>0.625907</td>\n",
       "      <td>0.599507</td>\n",
       "    </tr>\n",
       "    <tr>\n",
       "      <th>MSE</th>\n",
       "      <td>230.419031</td>\n",
       "      <td>229.773686</td>\n",
       "      <td>237.743264</td>\n",
       "    </tr>\n",
       "    <tr>\n",
       "      <th>RMSE</th>\n",
       "      <td>16.860635</td>\n",
       "      <td>16.841304</td>\n",
       "      <td>17.445980</td>\n",
       "    </tr>\n",
       "  </tbody>\n",
       "</table>\n",
       "</div>"
      ],
      "text/plain": [
       "      Linear Regression       Ridge  Ridge Best\n",
       "R2             0.623803    0.625907    0.599507\n",
       "MSE          230.419031  229.773686  237.743264\n",
       "RMSE          16.860635   16.841304   17.445980"
      ]
     },
     "execution_count": 136,
     "metadata": {},
     "output_type": "execute_result"
    }
   ],
   "source": [
    "df_metrics2"
   ]
  },
  {
   "cell_type": "code",
   "execution_count": 137,
   "metadata": {},
   "outputs": [
    {
     "data": {
      "image/png": "[encoded data removed]",
      "text/plain": [
       "<Figure size 432x288 with 1 Axes>"
      ]
     },
     "metadata": {
      "needs_background": "light"
     },
     "output_type": "display_data"
    }
   ],
   "source": [
    "index3=['Distance Eyre Square','Distance Salthil','Distance Collage','Distance GMIT','Number of Rooms','Number of Bath rooms','BER','Floor','Balcony','Heating Electric']\n",
    "All_coef=pd.DataFrame({'Linear Regression': ln_a.coef_, 'Ridge': ln_r.coef_, 'Ridge Best': ln_r_best.coef_}, index=index3)\n",
    "\n",
    "All_coef.plot.bar(rot=0)\n",
    "\n",
    "\n",
    "\n",
    "plt.xticks(rotation=30, horizontalalignment=\"center\")\n",
    "plt.ylabel('Coefficient Value')\n",
    "plt.legend(loc=\"upper right\")\n",
    "plt.show()\n"
   ]
  },
  {
   "cell_type": "code",
   "execution_count": 138,
   "metadata": {},
   "outputs": [],
   "source": [
    "LR_metrics2=np.delete(LR_metrics,2)\n",
    "R_metrics2=np.delete(R_metrics,2)\n",
    "RB_metrics2=np.delete(RB_metrics,2)\n"
   ]
  },
  {
   "cell_type": "code",
   "execution_count": 139,
   "metadata": {},
   "outputs": [
    {
     "data": {
      "image/png": "[encoded data removed]",
      "text/plain": [
       "<Figure size 432x288 with 1 Axes>"
      ]
     },
     "metadata": {
      "needs_background": "light"
     },
     "output_type": "display_data"
    }
   ],
   "source": [
    "index = ['R2', 'MAE','RMSE']\n",
    "df_metrics = pd.DataFrame({'Ridge': R_metrics2, 'Linear Regression': LR_metrics2,'Ridge Best': RB_metrics2}, index=index)\n",
    "df_metrics.plot.bar(rot=0)\n",
    "plt.legend(loc=\"lower right\")\n",
    "plt.show()"
   ]
  },
  {
   "cell_type": "markdown",
   "metadata": {},
   "source": [
    "Seesm Iinear Regression does the best, need to change the sclar to the one that was recommened and seem how that works out "
   ]
  },
  {
   "cell_type": "code",
   "execution_count": 140,
   "metadata": {},
   "outputs": [
    {
     "data": {
      "text/plain": [
       "<seaborn.axisgrid.JointGrid at 0x7fba8c192b90>"
      ]
     },
     "execution_count": 140,
     "metadata": {},
     "output_type": "execute_result"
    },
    {
     "data": {
      "image/png": "[encoded data removed]",
      "text/plain": [
       "<Figure size 432x432 with 3 Axes>"
      ]
     },
     "metadata": {
      "needs_background": "light"
     },
     "output_type": "display_data"
    }
   ],
   "source": [
    "sns.jointplot(x=df['Distance Eyre Square'],y=df['BER'],data=df,kind='reg')"
   ]
  },
  {
   "cell_type": "code",
   "execution_count": null,
   "metadata": {},
   "outputs": [],
   "source": []
  }
 ],
 "metadata": {
  "kernelspec": {
   "display_name": "Python 3",
   "language": "python",
   "name": "python3"
  },
  "language_info": {
   "codemirror_mode": {
    "name": "ipython",
    "version": 3
   },
   "file_extension": ".py",
   "mimetype": "text/x-python",
   "name": "python",
   "nbconvert_exporter": "python",
   "pygments_lexer": "ipython3",
   "version": "3.7.6"
  }
 },
 "nbformat": 4,
 "nbformat_minor": 4
}
