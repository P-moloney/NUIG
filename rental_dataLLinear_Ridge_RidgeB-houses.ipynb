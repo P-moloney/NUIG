{
 "cells": [
  {
   "cell_type": "code",
   "execution_count": 1,
   "metadata": {},
   "outputs": [],
   "source": [
    "import pandas as pd\n",
    "import numpy as np\n",
    "from sklearn.pipeline import Pipeline, make_pipeline, FeatureUnion\n",
    "from sklearn.compose import ColumnTransformer\n",
    "from sklearn.base import BaseEstimator, TransformerMixin\n",
    "from sklearn.preprocessing import StandardScaler, RobustScaler, FunctionTransformer\n",
    "from sklearn.model_selection import train_test_split, GridSearchCV\n",
    "import pickle\n",
    "import matplotlib.pyplot as plt\n",
    "%matplotlib inline\n",
    "import seaborn as sns\n",
    "\n",
    "# imports necessary for dimensionality reduction\n",
    "from sklearn.decomposition import PCA\n",
    "from sklearn.feature_selection import RFE\n",
    "from sklearn import svm\n",
    "\n",
    "# regression algorithms\n",
    "from sklearn.ensemble import RandomForestRegressor\n",
    "from sklearn.linear_model import LinearRegression\n",
    "\n",
    "# metrics for evaluating regression models\n",
    "from sklearn.metrics import mean_squared_error, mean_absolute_error, r2_score\n",
    "\n",
    "\n",
    "#fix balcony column\n",
    "# drop columns lattitude longtitude eircode \n",
    "\n",
    "from sklearn.preprocessing import MinMaxScaler"
   ]
  },
  {
   "cell_type": "code",
   "execution_count": 2,
   "metadata": {},
   "outputs": [],
   "source": [
    "missing_value_formats = [\"n.a.\",\"?\",\"NA\",\"n/a\", \"na\", \"--\"]\n",
    "df = pd.read_csv('/Users/patrickmoloney/Downloads/data-rental2.csv', na_values = missing_value_formats)"
   ]
  },
  {
   "cell_type": "code",
   "execution_count": 3,
   "metadata": {},
   "outputs": [
    {
     "data": {
      "text/html": [
       "<div>\n",
       "<style scoped>\n",
       "    .dataframe tbody tr th:only-of-type {\n",
       "        vertical-align: middle;\n",
       "    }\n",
       "\n",
       "    .dataframe tbody tr th {\n",
       "        vertical-align: top;\n",
       "    }\n",
       "\n",
       "    .dataframe thead th {\n",
       "        text-align: right;\n",
       "    }\n",
       "</style>\n",
       "<table border=\"1\" class=\"dataframe\">\n",
       "  <thead>\n",
       "    <tr style=\"text-align: right;\">\n",
       "      <th></th>\n",
       "      <th>approx</th>\n",
       "      <th>number</th>\n",
       "      <th>address 1</th>\n",
       "      <th>address 2</th>\n",
       "      <th>address 3</th>\n",
       "      <th>eircode</th>\n",
       "      <th>lattitude</th>\n",
       "      <th>longtitude</th>\n",
       "      <th>lattitude eyre square</th>\n",
       "      <th>longtitude eyre square</th>\n",
       "      <th>...</th>\n",
       "      <th>Distance GMIT</th>\n",
       "      <th>number of rooms</th>\n",
       "      <th>number of bathrooms</th>\n",
       "      <th>price per month</th>\n",
       "      <th>type</th>\n",
       "      <th>connection</th>\n",
       "      <th>BER</th>\n",
       "      <th>balcony</th>\n",
       "      <th>floor</th>\n",
       "      <th>heating</th>\n",
       "    </tr>\n",
       "  </thead>\n",
       "  <tbody>\n",
       "    <tr>\n",
       "      <th>0</th>\n",
       "      <td>no</td>\n",
       "      <td>Chaplaincy House</td>\n",
       "      <td>Ballybane Road</td>\n",
       "      <td>Ballybane</td>\n",
       "      <td>NaN</td>\n",
       "      <td>H91 E2NY</td>\n",
       "      <td>53.279666</td>\n",
       "      <td>-9.008728</td>\n",
       "      <td>53.274839</td>\n",
       "      <td>-9.04863</td>\n",
       "      <td>...</td>\n",
       "      <td>0.209452</td>\n",
       "      <td>4</td>\n",
       "      <td>2</td>\n",
       "      <td>2100</td>\n",
       "      <td>house</td>\n",
       "      <td>NaN</td>\n",
       "      <td>d2</td>\n",
       "      <td>no</td>\n",
       "      <td>NaN</td>\n",
       "      <td>central</td>\n",
       "    </tr>\n",
       "    <tr>\n",
       "      <th>1</th>\n",
       "      <td>yes</td>\n",
       "      <td>NaN</td>\n",
       "      <td>cappagh road</td>\n",
       "      <td>knocknacarra</td>\n",
       "      <td>NaN</td>\n",
       "      <td>H91 PV0Y</td>\n",
       "      <td>53.271272</td>\n",
       "      <td>-9.132431</td>\n",
       "      <td>53.274839</td>\n",
       "      <td>-9.04863</td>\n",
       "      <td>...</td>\n",
       "      <td>8.135066</td>\n",
       "      <td>1</td>\n",
       "      <td>1</td>\n",
       "      <td>850</td>\n",
       "      <td>apartment</td>\n",
       "      <td>NaN</td>\n",
       "      <td>c1</td>\n",
       "      <td>no</td>\n",
       "      <td>ground</td>\n",
       "      <td>central</td>\n",
       "    </tr>\n",
       "    <tr>\n",
       "      <th>2</th>\n",
       "      <td>no</td>\n",
       "      <td>83</td>\n",
       "      <td>Maoilin</td>\n",
       "      <td>Ballymoneen Road</td>\n",
       "      <td>Moneen</td>\n",
       "      <td>H91 A6CH</td>\n",
       "      <td>53.271473</td>\n",
       "      <td>-9.121873</td>\n",
       "      <td>53.274839</td>\n",
       "      <td>-9.04863</td>\n",
       "      <td>...</td>\n",
       "      <td>7.434207</td>\n",
       "      <td>3</td>\n",
       "      <td>2</td>\n",
       "      <td>1800</td>\n",
       "      <td>house</td>\n",
       "      <td>NaN</td>\n",
       "      <td>a3</td>\n",
       "      <td>no</td>\n",
       "      <td>NaN</td>\n",
       "      <td>central</td>\n",
       "    </tr>\n",
       "    <tr>\n",
       "      <th>3</th>\n",
       "      <td>no</td>\n",
       "      <td>NaN</td>\n",
       "      <td>NaN</td>\n",
       "      <td>NaN</td>\n",
       "      <td>NaN</td>\n",
       "      <td>H91 W5RP</td>\n",
       "      <td>53.272302</td>\n",
       "      <td>-9.077226</td>\n",
       "      <td>53.274839</td>\n",
       "      <td>-9.04863</td>\n",
       "      <td>...</td>\n",
       "      <td>4.475861</td>\n",
       "      <td>1</td>\n",
       "      <td>1</td>\n",
       "      <td>850</td>\n",
       "      <td>apartment</td>\n",
       "      <td>NaN</td>\n",
       "      <td>NaN</td>\n",
       "      <td>no</td>\n",
       "      <td>ground</td>\n",
       "      <td>central</td>\n",
       "    </tr>\n",
       "    <tr>\n",
       "      <th>4</th>\n",
       "      <td>no</td>\n",
       "      <td>NaN</td>\n",
       "      <td>NaN</td>\n",
       "      <td>NaN</td>\n",
       "      <td>NaN</td>\n",
       "      <td>H91 K46R</td>\n",
       "      <td>53.273859</td>\n",
       "      <td>-9.026788</td>\n",
       "      <td>53.274839</td>\n",
       "      <td>-9.04863</td>\n",
       "      <td>...</td>\n",
       "      <td>1.176212</td>\n",
       "      <td>3</td>\n",
       "      <td>2</td>\n",
       "      <td>1600</td>\n",
       "      <td>house</td>\n",
       "      <td>NaN</td>\n",
       "      <td>d1</td>\n",
       "      <td>no</td>\n",
       "      <td>NaN</td>\n",
       "      <td>central</td>\n",
       "    </tr>\n",
       "  </tbody>\n",
       "</table>\n",
       "<p>5 rows × 29 columns</p>\n",
       "</div>"
      ],
      "text/plain": [
       "  approx            number       address 1         address 2 address 3  \\\n",
       "0     no  Chaplaincy House  Ballybane Road        Ballybane        NaN   \n",
       "1    yes               NaN    cappagh road      knocknacarra       NaN   \n",
       "2     no                83         Maoilin  Ballymoneen Road    Moneen   \n",
       "3     no               NaN             NaN               NaN       NaN   \n",
       "4     no               NaN             NaN               NaN       NaN   \n",
       "\n",
       "    eircode  lattitude  longtitude  lattitude eyre square  \\\n",
       "0  H91 E2NY  53.279666   -9.008728              53.274839   \n",
       "1  H91 PV0Y  53.271272   -9.132431              53.274839   \n",
       "2  H91 A6CH  53.271473   -9.121873              53.274839   \n",
       "3  H91 W5RP  53.272302   -9.077226              53.274839   \n",
       "4  H91 K46R  53.273859   -9.026788              53.274839   \n",
       "\n",
       "   longtitude eyre square  ...  Distance GMIT  number of rooms  \\\n",
       "0                -9.04863  ...       0.209452                4   \n",
       "1                -9.04863  ...       8.135066                1   \n",
       "2                -9.04863  ...       7.434207                3   \n",
       "3                -9.04863  ...       4.475861                1   \n",
       "4                -9.04863  ...       1.176212                3   \n",
       "\n",
       "   number of bathrooms  price per month       type  connection  BER  balcony  \\\n",
       "0                    2             2100      house         NaN   d2       no   \n",
       "1                    1              850  apartment         NaN   c1       no   \n",
       "2                    2             1800      house         NaN   a3       no   \n",
       "3                    1              850  apartment         NaN  NaN       no   \n",
       "4                    2             1600      house         NaN   d1       no   \n",
       "\n",
       "    floor  heating  \n",
       "0     NaN  central  \n",
       "1  ground  central  \n",
       "2     NaN  central  \n",
       "3  ground  central  \n",
       "4     NaN  central  \n",
       "\n",
       "[5 rows x 29 columns]"
      ]
     },
     "execution_count": 3,
     "metadata": {},
     "output_type": "execute_result"
    }
   ],
   "source": [
    "df.head()"
   ]
  },
  {
   "cell_type": "code",
   "execution_count": 4,
   "metadata": {},
   "outputs": [
    {
     "data": {
      "text/plain": [
       "approx                    206\n",
       "number                    256\n",
       "address 1                 194\n",
       "address 2                 237\n",
       "address 3                 360\n",
       "eircode                   237\n",
       "lattitude                   0\n",
       "longtitude                  0\n",
       "lattitude eyre square       0\n",
       "longtitude eyre square      0\n",
       "Distance Eyre Square        0\n",
       "latitude salthill           0\n",
       "longtitude salthill         0\n",
       "Distance Salthill           0\n",
       "latitude collage            0\n",
       "longtitude collage          0\n",
       "Distance NUIG               0\n",
       "latitude gmit               0\n",
       "longtitude gmit             0\n",
       "Distance GMIT               0\n",
       "number of rooms             0\n",
       "number of bathrooms         0\n",
       "price per month             0\n",
       "type                        0\n",
       "connection                265\n",
       "BER                        14\n",
       "balcony                     2\n",
       "floor                     184\n",
       "heating                     5\n",
       "dtype: int64"
      ]
     },
     "execution_count": 4,
     "metadata": {},
     "output_type": "execute_result"
    }
   ],
   "source": [
    "df.isna().sum()\n"
   ]
  },
  {
   "cell_type": "code",
   "execution_count": 5,
   "metadata": {},
   "outputs": [
    {
     "data": {
      "text/plain": [
       "array(['house', 'apartment', 'studio', 'townhouse'], dtype=object)"
      ]
     },
     "execution_count": 5,
     "metadata": {},
     "output_type": "execute_result"
    }
   ],
   "source": [
    "df.type.unique()"
   ]
  },
  {
   "cell_type": "code",
   "execution_count": 6,
   "metadata": {},
   "outputs": [],
   "source": [
    "value_list = ['house','townhouse']"
   ]
  },
  {
   "cell_type": "code",
   "execution_count": 7,
   "metadata": {},
   "outputs": [],
   "source": [
    "df=df[df.type.isin(value_list)]"
   ]
  },
  {
   "cell_type": "code",
   "execution_count": 8,
   "metadata": {},
   "outputs": [
    {
     "data": {
      "text/plain": [
       "array(['house', 'townhouse'], dtype=object)"
      ]
     },
     "execution_count": 8,
     "metadata": {},
     "output_type": "execute_result"
    }
   ],
   "source": [
    "df.type.unique()"
   ]
  },
  {
   "cell_type": "code",
   "execution_count": 9,
   "metadata": {},
   "outputs": [],
   "source": [
    "df=df.drop(columns='eircode')\n",
    "df=df.drop(columns='lattitude') \n",
    "df=df.drop(columns='longtitude')\n",
    "df=df.drop(columns='approx')\n",
    "df=df.drop(columns='number')\n",
    "df=df.drop(columns='address 1')\n",
    "df=df.drop(columns='address 2')\n",
    "df=df.drop(columns='address 3')\n",
    "df=df.drop(columns='lattitude eyre square')\n",
    "df=df.drop(columns='longtitude eyre square')\n",
    "df=df.drop(columns='latitude salthill')\n",
    "df=df.drop(columns='longtitude salthill')\n",
    "df=df.drop(columns='latitude collage')\n",
    "df=df.drop(columns='longtitude collage')\n",
    "df=df.drop(columns='latitude gmit')\n",
    "df=df.drop(columns='longtitude gmit')\n",
    "# thse change depending on the thing we're looking at \n",
    "df=df.drop(columns='floor') \n",
    "#df=df.drop(columns='connection') \n",
    "#df=df.drop(columns='balcony') "
   ]
  },
  {
   "cell_type": "code",
   "execution_count": 10,
   "metadata": {},
   "outputs": [
    {
     "data": {
      "text/plain": [
       "Distance Eyre Square     0\n",
       "Distance Salthill        0\n",
       "Distance NUIG            0\n",
       "Distance GMIT            0\n",
       "number of rooms          0\n",
       "number of bathrooms      0\n",
       "price per month          0\n",
       "type                     0\n",
       "connection              22\n",
       "BER                      3\n",
       "balcony                  0\n",
       "heating                  1\n",
       "dtype: int64"
      ]
     },
     "execution_count": 10,
     "metadata": {},
     "output_type": "execute_result"
    }
   ],
   "source": [
    "df.isna().sum()"
   ]
  },
  {
   "cell_type": "code",
   "execution_count": 11,
   "metadata": {},
   "outputs": [
    {
     "data": {
      "text/html": [
       "<div>\n",
       "<style scoped>\n",
       "    .dataframe tbody tr th:only-of-type {\n",
       "        vertical-align: middle;\n",
       "    }\n",
       "\n",
       "    .dataframe tbody tr th {\n",
       "        vertical-align: top;\n",
       "    }\n",
       "\n",
       "    .dataframe thead th {\n",
       "        text-align: right;\n",
       "    }\n",
       "</style>\n",
       "<table border=\"1\" class=\"dataframe\">\n",
       "  <thead>\n",
       "    <tr style=\"text-align: right;\">\n",
       "      <th></th>\n",
       "      <th>Distance Eyre Square</th>\n",
       "      <th>Distance Salthill</th>\n",
       "      <th>Distance NUIG</th>\n",
       "      <th>Distance GMIT</th>\n",
       "      <th>number of rooms</th>\n",
       "      <th>number of bathrooms</th>\n",
       "      <th>price per month</th>\n",
       "      <th>type</th>\n",
       "      <th>connection</th>\n",
       "      <th>BER</th>\n",
       "      <th>balcony</th>\n",
       "      <th>heating</th>\n",
       "    </tr>\n",
       "  </thead>\n",
       "  <tbody>\n",
       "    <tr>\n",
       "      <th>0</th>\n",
       "      <td>2.706816</td>\n",
       "      <td>4.449858</td>\n",
       "      <td>3.520573</td>\n",
       "      <td>0.209452</td>\n",
       "      <td>4</td>\n",
       "      <td>2</td>\n",
       "      <td>2100</td>\n",
       "      <td>house</td>\n",
       "      <td>NaN</td>\n",
       "      <td>d2</td>\n",
       "      <td>no</td>\n",
       "      <td>central</td>\n",
       "    </tr>\n",
       "    <tr>\n",
       "      <th>2</th>\n",
       "      <td>4.884620</td>\n",
       "      <td>3.551142</td>\n",
       "      <td>4.097072</td>\n",
       "      <td>7.434207</td>\n",
       "      <td>3</td>\n",
       "      <td>2</td>\n",
       "      <td>1800</td>\n",
       "      <td>house</td>\n",
       "      <td>NaN</td>\n",
       "      <td>a3</td>\n",
       "      <td>no</td>\n",
       "      <td>central</td>\n",
       "    </tr>\n",
       "    <tr>\n",
       "      <th>4</th>\n",
       "      <td>1.456473</td>\n",
       "      <td>3.093256</td>\n",
       "      <td>2.398740</td>\n",
       "      <td>1.176212</td>\n",
       "      <td>3</td>\n",
       "      <td>2</td>\n",
       "      <td>1600</td>\n",
       "      <td>house</td>\n",
       "      <td>NaN</td>\n",
       "      <td>d1</td>\n",
       "      <td>no</td>\n",
       "      <td>central</td>\n",
       "    </tr>\n",
       "    <tr>\n",
       "      <th>5</th>\n",
       "      <td>2.313815</td>\n",
       "      <td>1.099351</td>\n",
       "      <td>1.721166</td>\n",
       "      <td>4.863595</td>\n",
       "      <td>4</td>\n",
       "      <td>2</td>\n",
       "      <td>2390</td>\n",
       "      <td>house</td>\n",
       "      <td>NaN</td>\n",
       "      <td>c3</td>\n",
       "      <td>no</td>\n",
       "      <td>central</td>\n",
       "    </tr>\n",
       "    <tr>\n",
       "      <th>7</th>\n",
       "      <td>3.430798</td>\n",
       "      <td>1.602936</td>\n",
       "      <td>3.073510</td>\n",
       "      <td>5.870060</td>\n",
       "      <td>4</td>\n",
       "      <td>2</td>\n",
       "      <td>2000</td>\n",
       "      <td>house</td>\n",
       "      <td>NaN</td>\n",
       "      <td>c2</td>\n",
       "      <td>yes</td>\n",
       "      <td>central</td>\n",
       "    </tr>\n",
       "  </tbody>\n",
       "</table>\n",
       "</div>"
      ],
      "text/plain": [
       "   Distance Eyre Square  Distance Salthill  Distance NUIG  Distance GMIT  \\\n",
       "0              2.706816           4.449858       3.520573       0.209452   \n",
       "2              4.884620           3.551142       4.097072       7.434207   \n",
       "4              1.456473           3.093256       2.398740       1.176212   \n",
       "5              2.313815           1.099351       1.721166       4.863595   \n",
       "7              3.430798           1.602936       3.073510       5.870060   \n",
       "\n",
       "   number of rooms  number of bathrooms  price per month   type connection  \\\n",
       "0                4                    2             2100  house        NaN   \n",
       "2                3                    2             1800  house        NaN   \n",
       "4                3                    2             1600  house        NaN   \n",
       "5                4                    2             2390  house        NaN   \n",
       "7                4                    2             2000  house        NaN   \n",
       "\n",
       "  BER balcony  heating  \n",
       "0  d2      no  central  \n",
       "2  a3      no  central  \n",
       "4  d1      no  central  \n",
       "5  c3      no  central  \n",
       "7  c2     yes  central  "
      ]
     },
     "execution_count": 11,
     "metadata": {},
     "output_type": "execute_result"
    }
   ],
   "source": [
    "df.head()"
   ]
  },
  {
   "cell_type": "code",
   "execution_count": 13,
   "metadata": {},
   "outputs": [],
   "source": [
    "\n",
    "df = df.dropna() "
   ]
  },
  {
   "cell_type": "code",
   "execution_count": 14,
   "metadata": {},
   "outputs": [],
   "source": [
    "df=df.drop(columns='type') "
   ]
  },
  {
   "cell_type": "code",
   "execution_count": 15,
   "metadata": {},
   "outputs": [
    {
     "data": {
      "image/png": "[encoded data removed]",
      "text/plain": [
       "<Figure size 1440x360 with 1 Axes>"
      ]
     },
     "metadata": {
      "needs_background": "light"
     },
     "output_type": "display_data"
    }
   ],
   "source": [
    "df.boxplot(figsize=(20,5))\n",
    "plt.show() "
   ]
  },
  {
   "cell_type": "code",
   "execution_count": 17,
   "metadata": {},
   "outputs": [
    {
     "data": {
      "image/png": "[encoded data removed]",
      "text/plain": [
       "<Figure size 432x288 with 4 Axes>"
      ]
     },
     "metadata": {
      "needs_background": "light"
     },
     "output_type": "display_data"
    }
   ],
   "source": [
    "import matplotlib.pyplot as plt\n",
    "import numpy as np\n",
    "\n",
    "\n",
    "fig, axs = plt.subplots(2, 2)\n",
    "\n",
    "\n",
    "axs[0, 0].boxplot(df['number of rooms'])\n",
    "axs[0, 0].set_title('Number of Rooms')\n",
    "\n",
    "axs[0, 1].boxplot(df['price per month'])\n",
    "axs[0, 1].set_title('Price Per Month')\n",
    "\n",
    "axs[1, 1].boxplot(df['number of bathrooms'])\n",
    "axs[1, 1].set_title('Number of Bathrooms')\n",
    "\n",
    "axs[1, 0].boxplot(df['Distance Salthill'])\n",
    "axs[1, 0].set_title('Distance  Salthill')\n",
    "\n",
    "fig.subplots_adjust(left=0.08, right=0.98, bottom=0.05, top=0.9,\n",
    "                    hspace=0.4, wspace=0.3)\n",
    "\n",
    "plt.show()"
   ]
  },
  {
   "cell_type": "code",
   "execution_count": 18,
   "metadata": {},
   "outputs": [
    {
     "data": {
      "image/png": "[encoded data removed]",
      "text/plain": [
       "<Figure size 432x288 with 1 Axes>"
      ]
     },
     "metadata": {
      "needs_background": "light"
     },
     "output_type": "display_data"
    }
   ],
   "source": [
    "df.boxplot(column='number of bathrooms')\n",
    "plt.show()"
   ]
  },
  {
   "cell_type": "markdown",
   "metadata": {},
   "source": [
    "large house with 5 bathrooms?"
   ]
  },
  {
   "cell_type": "code",
   "execution_count": 20,
   "metadata": {},
   "outputs": [
    {
     "data": {
      "image/png": "[encoded data removed]",
      "text/plain": [
       "<Figure size 432x288 with 1 Axes>"
      ]
     },
     "metadata": {
      "needs_background": "light"
     },
     "output_type": "display_data"
    }
   ],
   "source": [
    "df.boxplot(column='Distance Salthill')\n",
    "plt.show()"
   ]
  },
  {
   "cell_type": "markdown",
   "metadata": {},
   "source": [
    "things can be far away from certain palces \n"
   ]
  },
  {
   "cell_type": "code",
   "execution_count": 21,
   "metadata": {},
   "outputs": [
    {
     "data": {
      "image/png": "[encoded data removed]",
      "text/plain": [
       "<Figure size 432x288 with 1 Axes>"
      ]
     },
     "metadata": {
      "needs_background": "light"
     },
     "output_type": "display_data"
    }
   ],
   "source": [
    "df.boxplot(column='Distance NUIG')\n",
    "plt.show()"
   ]
  },
  {
   "cell_type": "markdown",
   "metadata": {},
   "source": [
    "far away from stuff, "
   ]
  },
  {
   "cell_type": "code",
   "execution_count": 22,
   "metadata": {},
   "outputs": [
    {
     "data": {
      "text/html": [
       "<div>\n",
       "<style scoped>\n",
       "    .dataframe tbody tr th:only-of-type {\n",
       "        vertical-align: middle;\n",
       "    }\n",
       "\n",
       "    .dataframe tbody tr th {\n",
       "        vertical-align: top;\n",
       "    }\n",
       "\n",
       "    .dataframe thead th {\n",
       "        text-align: right;\n",
       "    }\n",
       "</style>\n",
       "<table border=\"1\" class=\"dataframe\">\n",
       "  <thead>\n",
       "    <tr style=\"text-align: right;\">\n",
       "      <th></th>\n",
       "      <th>Distance Eyre Square</th>\n",
       "      <th>Distance Salthill</th>\n",
       "      <th>Distance NUIG</th>\n",
       "      <th>Distance GMIT</th>\n",
       "      <th>number of rooms</th>\n",
       "      <th>number of bathrooms</th>\n",
       "      <th>price per month</th>\n",
       "    </tr>\n",
       "  </thead>\n",
       "  <tbody>\n",
       "    <tr>\n",
       "      <th>count</th>\n",
       "      <td>128.000000</td>\n",
       "      <td>128.000000</td>\n",
       "      <td>128.000000</td>\n",
       "      <td>128.000000</td>\n",
       "      <td>128.000000</td>\n",
       "      <td>128.000000</td>\n",
       "      <td>128.000000</td>\n",
       "    </tr>\n",
       "    <tr>\n",
       "      <th>mean</th>\n",
       "      <td>2.537873</td>\n",
       "      <td>2.702803</td>\n",
       "      <td>2.387336</td>\n",
       "      <td>3.998515</td>\n",
       "      <td>3.460938</td>\n",
       "      <td>2.203125</td>\n",
       "      <td>1835.054688</td>\n",
       "    </tr>\n",
       "    <tr>\n",
       "      <th>std</th>\n",
       "      <td>1.445358</td>\n",
       "      <td>1.399539</td>\n",
       "      <td>1.383277</td>\n",
       "      <td>2.094466</td>\n",
       "      <td>0.782710</td>\n",
       "      <td>0.746217</td>\n",
       "      <td>457.764257</td>\n",
       "    </tr>\n",
       "    <tr>\n",
       "      <th>min</th>\n",
       "      <td>0.007512</td>\n",
       "      <td>0.222579</td>\n",
       "      <td>0.311939</td>\n",
       "      <td>0.287843</td>\n",
       "      <td>1.000000</td>\n",
       "      <td>1.000000</td>\n",
       "      <td>620.000000</td>\n",
       "    </tr>\n",
       "    <tr>\n",
       "      <th>25%</th>\n",
       "      <td>1.528295</td>\n",
       "      <td>1.711574</td>\n",
       "      <td>1.265292</td>\n",
       "      <td>2.369964</td>\n",
       "      <td>3.000000</td>\n",
       "      <td>2.000000</td>\n",
       "      <td>1500.000000</td>\n",
       "    </tr>\n",
       "    <tr>\n",
       "      <th>50%</th>\n",
       "      <td>2.414687</td>\n",
       "      <td>2.474440</td>\n",
       "      <td>1.956178</td>\n",
       "      <td>4.029597</td>\n",
       "      <td>3.000000</td>\n",
       "      <td>2.000000</td>\n",
       "      <td>1800.000000</td>\n",
       "    </tr>\n",
       "    <tr>\n",
       "      <th>75%</th>\n",
       "      <td>3.789077</td>\n",
       "      <td>3.437742</td>\n",
       "      <td>3.472265</td>\n",
       "      <td>5.353093</td>\n",
       "      <td>4.000000</td>\n",
       "      <td>3.000000</td>\n",
       "      <td>2057.500000</td>\n",
       "    </tr>\n",
       "    <tr>\n",
       "      <th>max</th>\n",
       "      <td>5.477031</td>\n",
       "      <td>7.005967</td>\n",
       "      <td>6.308555</td>\n",
       "      <td>8.012278</td>\n",
       "      <td>5.000000</td>\n",
       "      <td>5.000000</td>\n",
       "      <td>3700.000000</td>\n",
       "    </tr>\n",
       "  </tbody>\n",
       "</table>\n",
       "</div>"
      ],
      "text/plain": [
       "       Distance Eyre Square  Distance Salthill  Distance NUIG  Distance GMIT  \\\n",
       "count            128.000000         128.000000     128.000000     128.000000   \n",
       "mean               2.537873           2.702803       2.387336       3.998515   \n",
       "std                1.445358           1.399539       1.383277       2.094466   \n",
       "min                0.007512           0.222579       0.311939       0.287843   \n",
       "25%                1.528295           1.711574       1.265292       2.369964   \n",
       "50%                2.414687           2.474440       1.956178       4.029597   \n",
       "75%                3.789077           3.437742       3.472265       5.353093   \n",
       "max                5.477031           7.005967       6.308555       8.012278   \n",
       "\n",
       "       number of rooms  number of bathrooms  price per month  \n",
       "count       128.000000           128.000000       128.000000  \n",
       "mean          3.460938             2.203125      1835.054688  \n",
       "std           0.782710             0.746217       457.764257  \n",
       "min           1.000000             1.000000       620.000000  \n",
       "25%           3.000000             2.000000      1500.000000  \n",
       "50%           3.000000             2.000000      1800.000000  \n",
       "75%           4.000000             3.000000      2057.500000  \n",
       "max           5.000000             5.000000      3700.000000  "
      ]
     },
     "execution_count": 22,
     "metadata": {},
     "output_type": "execute_result"
    }
   ],
   "source": [
    "df.describe()"
   ]
  },
  {
   "cell_type": "markdown",
   "metadata": {},
   "source": [
    "things seem to be closer to the collage in this one "
   ]
  },
  {
   "cell_type": "code",
   "execution_count": 23,
   "metadata": {},
   "outputs": [
    {
     "data": {
      "text/html": [
       "<div>\n",
       "<style scoped>\n",
       "    .dataframe tbody tr th:only-of-type {\n",
       "        vertical-align: middle;\n",
       "    }\n",
       "\n",
       "    .dataframe tbody tr th {\n",
       "        vertical-align: top;\n",
       "    }\n",
       "\n",
       "    .dataframe thead th {\n",
       "        text-align: right;\n",
       "    }\n",
       "</style>\n",
       "<table border=\"1\" class=\"dataframe\">\n",
       "  <thead>\n",
       "    <tr style=\"text-align: right;\">\n",
       "      <th></th>\n",
       "      <th>Distance Eyre Square</th>\n",
       "      <th>Distance Salthill</th>\n",
       "      <th>Distance NUIG</th>\n",
       "      <th>Distance GMIT</th>\n",
       "      <th>number of rooms</th>\n",
       "      <th>number of bathrooms</th>\n",
       "      <th>price per month</th>\n",
       "      <th>connection</th>\n",
       "      <th>BER</th>\n",
       "      <th>balcony</th>\n",
       "      <th>heating</th>\n",
       "    </tr>\n",
       "  </thead>\n",
       "  <tbody>\n",
       "    <tr>\n",
       "      <th>13</th>\n",
       "      <td>2.446769</td>\n",
       "      <td>1.037478</td>\n",
       "      <td>1.917976</td>\n",
       "      <td>4.984487</td>\n",
       "      <td>4</td>\n",
       "      <td>3</td>\n",
       "      <td>2800</td>\n",
       "      <td>detached</td>\n",
       "      <td>c1</td>\n",
       "      <td>no</td>\n",
       "      <td>central</td>\n",
       "    </tr>\n",
       "    <tr>\n",
       "      <th>17</th>\n",
       "      <td>2.627352</td>\n",
       "      <td>1.430638</td>\n",
       "      <td>1.954203</td>\n",
       "      <td>5.180881</td>\n",
       "      <td>3</td>\n",
       "      <td>3</td>\n",
       "      <td>1500</td>\n",
       "      <td>detached</td>\n",
       "      <td>d1</td>\n",
       "      <td>no</td>\n",
       "      <td>central</td>\n",
       "    </tr>\n",
       "    <tr>\n",
       "      <th>18</th>\n",
       "      <td>1.907742</td>\n",
       "      <td>1.782552</td>\n",
       "      <td>0.975157</td>\n",
       "      <td>4.370977</td>\n",
       "      <td>3</td>\n",
       "      <td>1</td>\n",
       "      <td>1300</td>\n",
       "      <td>attached</td>\n",
       "      <td>b3</td>\n",
       "      <td>no</td>\n",
       "      <td>central</td>\n",
       "    </tr>\n",
       "    <tr>\n",
       "      <th>19</th>\n",
       "      <td>1.202837</td>\n",
       "      <td>0.697378</td>\n",
       "      <td>1.359845</td>\n",
       "      <td>3.586343</td>\n",
       "      <td>5</td>\n",
       "      <td>2</td>\n",
       "      <td>2500</td>\n",
       "      <td>detached</td>\n",
       "      <td>d2</td>\n",
       "      <td>no</td>\n",
       "      <td>central</td>\n",
       "    </tr>\n",
       "    <tr>\n",
       "      <th>21</th>\n",
       "      <td>0.007512</td>\n",
       "      <td>1.896556</td>\n",
       "      <td>1.000928</td>\n",
       "      <td>2.549793</td>\n",
       "      <td>3</td>\n",
       "      <td>2</td>\n",
       "      <td>620</td>\n",
       "      <td>attached</td>\n",
       "      <td>b3</td>\n",
       "      <td>yes</td>\n",
       "      <td>central</td>\n",
       "    </tr>\n",
       "  </tbody>\n",
       "</table>\n",
       "</div>"
      ],
      "text/plain": [
       "    Distance Eyre Square  Distance Salthill  Distance NUIG  Distance GMIT  \\\n",
       "13              2.446769           1.037478       1.917976       4.984487   \n",
       "17              2.627352           1.430638       1.954203       5.180881   \n",
       "18              1.907742           1.782552       0.975157       4.370977   \n",
       "19              1.202837           0.697378       1.359845       3.586343   \n",
       "21              0.007512           1.896556       1.000928       2.549793   \n",
       "\n",
       "    number of rooms  number of bathrooms  price per month connection BER  \\\n",
       "13                4                    3             2800   detached  c1   \n",
       "17                3                    3             1500   detached  d1   \n",
       "18                3                    1             1300   attached  b3   \n",
       "19                5                    2             2500   detached  d2   \n",
       "21                3                    2              620   attached  b3   \n",
       "\n",
       "   balcony  heating  \n",
       "13      no  central  \n",
       "17      no  central  \n",
       "18      no  central  \n",
       "19      no  central  \n",
       "21     yes  central  "
      ]
     },
     "execution_count": 23,
     "metadata": {},
     "output_type": "execute_result"
    }
   ],
   "source": [
    "df.head()"
   ]
  },
  {
   "cell_type": "code",
   "execution_count": 24,
   "metadata": {},
   "outputs": [
    {
     "data": {
      "text/plain": [
       "array(['c1', 'd1', 'b3', 'd2', 'c2', 'exempt', 'b1', 'f', 'c3', 'b2',\n",
       "       'e1', 'a3', 'g'], dtype=object)"
      ]
     },
     "execution_count": 24,
     "metadata": {},
     "output_type": "execute_result"
    }
   ],
   "source": [
    "df.BER.unique()"
   ]
  },
  {
   "cell_type": "code",
   "execution_count": 25,
   "metadata": {},
   "outputs": [
    {
     "data": {
      "text/html": [
       "<div>\n",
       "<style scoped>\n",
       "    .dataframe tbody tr th:only-of-type {\n",
       "        vertical-align: middle;\n",
       "    }\n",
       "\n",
       "    .dataframe tbody tr th {\n",
       "        vertical-align: top;\n",
       "    }\n",
       "\n",
       "    .dataframe thead th {\n",
       "        text-align: right;\n",
       "    }\n",
       "</style>\n",
       "<table border=\"1\" class=\"dataframe\">\n",
       "  <thead>\n",
       "    <tr style=\"text-align: right;\">\n",
       "      <th></th>\n",
       "      <th>Distance Eyre Square</th>\n",
       "      <th>Distance Salthill</th>\n",
       "      <th>Distance NUIG</th>\n",
       "      <th>Distance GMIT</th>\n",
       "      <th>number of rooms</th>\n",
       "      <th>number of bathrooms</th>\n",
       "      <th>price per month</th>\n",
       "      <th>connection</th>\n",
       "      <th>BER</th>\n",
       "      <th>balcony</th>\n",
       "      <th>heating</th>\n",
       "    </tr>\n",
       "  </thead>\n",
       "  <tbody>\n",
       "    <tr>\n",
       "      <th>384</th>\n",
       "      <td>0.274648</td>\n",
       "      <td>2.079926</td>\n",
       "      <td>1.260954</td>\n",
       "      <td>2.291622</td>\n",
       "      <td>2</td>\n",
       "      <td>3</td>\n",
       "      <td>2000</td>\n",
       "      <td>attached</td>\n",
       "      <td>4</td>\n",
       "      <td>yes</td>\n",
       "      <td>central</td>\n",
       "    </tr>\n",
       "    <tr>\n",
       "      <th>385</th>\n",
       "      <td>0.067139</td>\n",
       "      <td>1.862889</td>\n",
       "      <td>0.935101</td>\n",
       "      <td>2.610332</td>\n",
       "      <td>4</td>\n",
       "      <td>2</td>\n",
       "      <td>2080</td>\n",
       "      <td>attached</td>\n",
       "      <td>0</td>\n",
       "      <td>yes</td>\n",
       "      <td>electric</td>\n",
       "    </tr>\n",
       "    <tr>\n",
       "      <th>387</th>\n",
       "      <td>1.844155</td>\n",
       "      <td>3.701195</td>\n",
       "      <td>2.156375</td>\n",
       "      <td>1.897147</td>\n",
       "      <td>1</td>\n",
       "      <td>1</td>\n",
       "      <td>1000</td>\n",
       "      <td>detached</td>\n",
       "      <td>8</td>\n",
       "      <td>no</td>\n",
       "      <td>central</td>\n",
       "    </tr>\n",
       "    <tr>\n",
       "      <th>388</th>\n",
       "      <td>4.478571</td>\n",
       "      <td>6.195593</td>\n",
       "      <td>5.269398</td>\n",
       "      <td>1.934727</td>\n",
       "      <td>3</td>\n",
       "      <td>2</td>\n",
       "      <td>1450</td>\n",
       "      <td>detached</td>\n",
       "      <td>9</td>\n",
       "      <td>no</td>\n",
       "      <td>central</td>\n",
       "    </tr>\n",
       "    <tr>\n",
       "      <th>391</th>\n",
       "      <td>1.539927</td>\n",
       "      <td>0.356783</td>\n",
       "      <td>1.500652</td>\n",
       "      <td>3.960231</td>\n",
       "      <td>5</td>\n",
       "      <td>2</td>\n",
       "      <td>2000</td>\n",
       "      <td>detached</td>\n",
       "      <td>6</td>\n",
       "      <td>no</td>\n",
       "      <td>central</td>\n",
       "    </tr>\n",
       "  </tbody>\n",
       "</table>\n",
       "</div>"
      ],
      "text/plain": [
       "     Distance Eyre Square  Distance Salthill  Distance NUIG  Distance GMIT  \\\n",
       "384              0.274648           2.079926       1.260954       2.291622   \n",
       "385              0.067139           1.862889       0.935101       2.610332   \n",
       "387              1.844155           3.701195       2.156375       1.897147   \n",
       "388              4.478571           6.195593       5.269398       1.934727   \n",
       "391              1.539927           0.356783       1.500652       3.960231   \n",
       "\n",
       "     number of rooms  number of bathrooms  price per month connection  BER  \\\n",
       "384                2                    3             2000   attached    4   \n",
       "385                4                    2             2080   attached    0   \n",
       "387                1                    1             1000   detached    8   \n",
       "388                3                    2             1450   detached    9   \n",
       "391                5                    2             2000   detached    6   \n",
       "\n",
       "    balcony   heating  \n",
       "384     yes   central  \n",
       "385     yes  electric  \n",
       "387      no   central  \n",
       "388      no   central  \n",
       "391      no   central  "
      ]
     },
     "execution_count": 25,
     "metadata": {},
     "output_type": "execute_result"
    }
   ],
   "source": [
    "scale_mapper = {\n",
    "    \"a1\":15,\n",
    "    \"a2\":14,\n",
    "    \"a3\":13,\n",
    "    \"b1\":12,\n",
    "    \"b2\":11,\n",
    "    \"b3\":10,\n",
    "    \"c1\":9,\n",
    "    \"c2\":8,\n",
    "    \"c3\":7,\n",
    "    \"d1\":6,\n",
    "    \"d2\":5,\n",
    "    \"e1\":4,\n",
    "    \"e2\":3,\n",
    "    \"f\":2,\n",
    "    \"g\":1,\n",
    "    \"exempt\":0\n",
    "}\n",
    "\n",
    "df['BER'] = df['BER'].replace(scale_mapper)\n",
    "\n",
    "df.tail()\n"
   ]
  },
  {
   "cell_type": "code",
   "execution_count": 26,
   "metadata": {},
   "outputs": [
    {
     "data": {
      "image/png": "[encoded data removed]",
      "text/plain": [
       "<Figure size 1440x360 with 1 Axes>"
      ]
     },
     "metadata": {
      "needs_background": "light"
     },
     "output_type": "display_data"
    }
   ],
   "source": [
    "df.boxplot(figsize=(20,5))\n",
    "plt.show()"
   ]
  },
  {
   "cell_type": "code",
   "execution_count": 29,
   "metadata": {},
   "outputs": [
    {
     "data": {
      "image/png": "[encoded data removed]",
      "text/plain": [
       "<Figure size 432x288 with 4 Axes>"
      ]
     },
     "metadata": {
      "needs_background": "light"
     },
     "output_type": "display_data"
    },
    {
     "data": {
      "image/png": "[encoded data removed]",
      "text/plain": [
       "<Figure size 432x288 with 1 Axes>"
      ]
     },
     "metadata": {
      "needs_background": "light"
     },
     "output_type": "display_data"
    }
   ],
   "source": [
    "import matplotlib.pyplot as plt\n",
    "import numpy as np\n",
    "\n",
    "\n",
    "fig, axs = plt.subplots(2, 2)\n",
    "\n",
    "\n",
    "axs[0, 0].boxplot(df['number of rooms'])\n",
    "axs[0, 0].set_title('Number of Rooms')\n",
    "\n",
    "axs[0, 1].boxplot(df['price per month'])\n",
    "axs[0, 1].set_title('Price Per Month')\n",
    "\n",
    "axs[1, 1].boxplot(df['Distance Salthill'])\n",
    "axs[1, 1].set_title('Distance Salthill')\n",
    "\n",
    "axs[1, 0].boxplot(df['BER'])\n",
    "axs[1, 0].set_title('BER')\n",
    "\n",
    "\n",
    "fig.subplots_adjust(left=0.08, right=0.98, bottom=0.05, top=0.9,\n",
    "                    hspace=0.4, wspace=0.3)\n",
    "\n",
    "fig, ax = plt.subplots()\n",
    "ax.boxplot(df['BER'])\n",
    "ax.set_title('BER')\n",
    "plt.show()\n"
   ]
  },
  {
   "cell_type": "code",
   "execution_count": 30,
   "metadata": {},
   "outputs": [
    {
     "data": {
      "text/html": [
       "<div>\n",
       "<style scoped>\n",
       "    .dataframe tbody tr th:only-of-type {\n",
       "        vertical-align: middle;\n",
       "    }\n",
       "\n",
       "    .dataframe tbody tr th {\n",
       "        vertical-align: top;\n",
       "    }\n",
       "\n",
       "    .dataframe thead th {\n",
       "        text-align: right;\n",
       "    }\n",
       "</style>\n",
       "<table border=\"1\" class=\"dataframe\">\n",
       "  <thead>\n",
       "    <tr style=\"text-align: right;\">\n",
       "      <th></th>\n",
       "      <th>Distance Eyre Square</th>\n",
       "      <th>Distance Salthill</th>\n",
       "      <th>Distance NUIG</th>\n",
       "      <th>Distance GMIT</th>\n",
       "      <th>number of rooms</th>\n",
       "      <th>number of bathrooms</th>\n",
       "      <th>price per month</th>\n",
       "      <th>BER</th>\n",
       "      <th>connection_attached</th>\n",
       "      <th>connection_detached</th>\n",
       "      <th>connection_lone</th>\n",
       "      <th>balcony_no</th>\n",
       "      <th>balcony_yes</th>\n",
       "      <th>heating_central</th>\n",
       "      <th>heating_electric</th>\n",
       "    </tr>\n",
       "  </thead>\n",
       "  <tbody>\n",
       "    <tr>\n",
       "      <th>384</th>\n",
       "      <td>0.274648</td>\n",
       "      <td>2.079926</td>\n",
       "      <td>1.260954</td>\n",
       "      <td>2.291622</td>\n",
       "      <td>2</td>\n",
       "      <td>3</td>\n",
       "      <td>2000</td>\n",
       "      <td>4</td>\n",
       "      <td>1</td>\n",
       "      <td>0</td>\n",
       "      <td>0</td>\n",
       "      <td>0</td>\n",
       "      <td>1</td>\n",
       "      <td>1</td>\n",
       "      <td>0</td>\n",
       "    </tr>\n",
       "    <tr>\n",
       "      <th>385</th>\n",
       "      <td>0.067139</td>\n",
       "      <td>1.862889</td>\n",
       "      <td>0.935101</td>\n",
       "      <td>2.610332</td>\n",
       "      <td>4</td>\n",
       "      <td>2</td>\n",
       "      <td>2080</td>\n",
       "      <td>0</td>\n",
       "      <td>1</td>\n",
       "      <td>0</td>\n",
       "      <td>0</td>\n",
       "      <td>0</td>\n",
       "      <td>1</td>\n",
       "      <td>0</td>\n",
       "      <td>1</td>\n",
       "    </tr>\n",
       "    <tr>\n",
       "      <th>387</th>\n",
       "      <td>1.844155</td>\n",
       "      <td>3.701195</td>\n",
       "      <td>2.156375</td>\n",
       "      <td>1.897147</td>\n",
       "      <td>1</td>\n",
       "      <td>1</td>\n",
       "      <td>1000</td>\n",
       "      <td>8</td>\n",
       "      <td>0</td>\n",
       "      <td>1</td>\n",
       "      <td>0</td>\n",
       "      <td>1</td>\n",
       "      <td>0</td>\n",
       "      <td>1</td>\n",
       "      <td>0</td>\n",
       "    </tr>\n",
       "    <tr>\n",
       "      <th>388</th>\n",
       "      <td>4.478571</td>\n",
       "      <td>6.195593</td>\n",
       "      <td>5.269398</td>\n",
       "      <td>1.934727</td>\n",
       "      <td>3</td>\n",
       "      <td>2</td>\n",
       "      <td>1450</td>\n",
       "      <td>9</td>\n",
       "      <td>0</td>\n",
       "      <td>1</td>\n",
       "      <td>0</td>\n",
       "      <td>1</td>\n",
       "      <td>0</td>\n",
       "      <td>1</td>\n",
       "      <td>0</td>\n",
       "    </tr>\n",
       "    <tr>\n",
       "      <th>391</th>\n",
       "      <td>1.539927</td>\n",
       "      <td>0.356783</td>\n",
       "      <td>1.500652</td>\n",
       "      <td>3.960231</td>\n",
       "      <td>5</td>\n",
       "      <td>2</td>\n",
       "      <td>2000</td>\n",
       "      <td>6</td>\n",
       "      <td>0</td>\n",
       "      <td>1</td>\n",
       "      <td>0</td>\n",
       "      <td>1</td>\n",
       "      <td>0</td>\n",
       "      <td>1</td>\n",
       "      <td>0</td>\n",
       "    </tr>\n",
       "  </tbody>\n",
       "</table>\n",
       "</div>"
      ],
      "text/plain": [
       "     Distance Eyre Square  Distance Salthill  Distance NUIG  Distance GMIT  \\\n",
       "384              0.274648           2.079926       1.260954       2.291622   \n",
       "385              0.067139           1.862889       0.935101       2.610332   \n",
       "387              1.844155           3.701195       2.156375       1.897147   \n",
       "388              4.478571           6.195593       5.269398       1.934727   \n",
       "391              1.539927           0.356783       1.500652       3.960231   \n",
       "\n",
       "     number of rooms  number of bathrooms  price per month  BER  \\\n",
       "384                2                    3             2000    4   \n",
       "385                4                    2             2080    0   \n",
       "387                1                    1             1000    8   \n",
       "388                3                    2             1450    9   \n",
       "391                5                    2             2000    6   \n",
       "\n",
       "     connection_attached  connection_detached  connection_lone  balcony_no  \\\n",
       "384                    1                    0                0           0   \n",
       "385                    1                    0                0           0   \n",
       "387                    0                    1                0           1   \n",
       "388                    0                    1                0           1   \n",
       "391                    0                    1                0           1   \n",
       "\n",
       "     balcony_yes  heating_central  heating_electric  \n",
       "384            1                1                 0  \n",
       "385            1                0                 1  \n",
       "387            0                1                 0  \n",
       "388            0                1                 0  \n",
       "391            0                1                 0  "
      ]
     },
     "execution_count": 30,
     "metadata": {},
     "output_type": "execute_result"
    }
   ],
   "source": [
    "df = pd.get_dummies(df, columns=['connection','balcony','heating'])\n",
    "df.tail()\n",
    "\n"
   ]
  },
  {
   "cell_type": "code",
   "execution_count": 31,
   "metadata": {},
   "outputs": [
    {
     "data": {
      "image/png": "[encoded data removed]",
      "text/plain": [
       "<Figure size 432x288 with 2 Axes>"
      ]
     },
     "metadata": {
      "needs_background": "light"
     },
     "output_type": "display_data"
    }
   ],
   "source": [
    "sns.heatmap(df.corr());"
   ]
  },
  {
   "cell_type": "code",
   "execution_count": 32,
   "metadata": {},
   "outputs": [],
   "source": [
    "del df['balcony_no']"
   ]
  },
  {
   "cell_type": "code",
   "execution_count": 33,
   "metadata": {},
   "outputs": [],
   "source": [
    "del df['heating_central']"
   ]
  },
  {
   "cell_type": "code",
   "execution_count": 34,
   "metadata": {},
   "outputs": [],
   "source": [
    "del df['connection_lone']"
   ]
  },
  {
   "cell_type": "markdown",
   "metadata": {},
   "source": [
    "balcony_yes, heating_central, connection_lone"
   ]
  },
  {
   "cell_type": "code",
   "execution_count": 35,
   "metadata": {},
   "outputs": [
    {
     "data": {
      "text/html": [
       "<div>\n",
       "<style scoped>\n",
       "    .dataframe tbody tr th:only-of-type {\n",
       "        vertical-align: middle;\n",
       "    }\n",
       "\n",
       "    .dataframe tbody tr th {\n",
       "        vertical-align: top;\n",
       "    }\n",
       "\n",
       "    .dataframe thead th {\n",
       "        text-align: right;\n",
       "    }\n",
       "</style>\n",
       "<table border=\"1\" class=\"dataframe\">\n",
       "  <thead>\n",
       "    <tr style=\"text-align: right;\">\n",
       "      <th></th>\n",
       "      <th>Distance Eyre Square</th>\n",
       "      <th>Distance Salthill</th>\n",
       "      <th>Distance NUIG</th>\n",
       "      <th>Distance GMIT</th>\n",
       "      <th>number of rooms</th>\n",
       "      <th>number of bathrooms</th>\n",
       "      <th>price per month</th>\n",
       "      <th>BER</th>\n",
       "      <th>connection_attached</th>\n",
       "      <th>connection_detached</th>\n",
       "      <th>balcony_yes</th>\n",
       "      <th>heating_electric</th>\n",
       "    </tr>\n",
       "  </thead>\n",
       "  <tbody>\n",
       "    <tr>\n",
       "      <th>13</th>\n",
       "      <td>2.446769</td>\n",
       "      <td>1.037478</td>\n",
       "      <td>1.917976</td>\n",
       "      <td>4.984487</td>\n",
       "      <td>4</td>\n",
       "      <td>3</td>\n",
       "      <td>2800</td>\n",
       "      <td>9</td>\n",
       "      <td>0</td>\n",
       "      <td>1</td>\n",
       "      <td>0</td>\n",
       "      <td>0</td>\n",
       "    </tr>\n",
       "    <tr>\n",
       "      <th>17</th>\n",
       "      <td>2.627352</td>\n",
       "      <td>1.430638</td>\n",
       "      <td>1.954203</td>\n",
       "      <td>5.180881</td>\n",
       "      <td>3</td>\n",
       "      <td>3</td>\n",
       "      <td>1500</td>\n",
       "      <td>6</td>\n",
       "      <td>0</td>\n",
       "      <td>1</td>\n",
       "      <td>0</td>\n",
       "      <td>0</td>\n",
       "    </tr>\n",
       "    <tr>\n",
       "      <th>18</th>\n",
       "      <td>1.907742</td>\n",
       "      <td>1.782552</td>\n",
       "      <td>0.975157</td>\n",
       "      <td>4.370977</td>\n",
       "      <td>3</td>\n",
       "      <td>1</td>\n",
       "      <td>1300</td>\n",
       "      <td>10</td>\n",
       "      <td>1</td>\n",
       "      <td>0</td>\n",
       "      <td>0</td>\n",
       "      <td>0</td>\n",
       "    </tr>\n",
       "    <tr>\n",
       "      <th>19</th>\n",
       "      <td>1.202837</td>\n",
       "      <td>0.697378</td>\n",
       "      <td>1.359845</td>\n",
       "      <td>3.586343</td>\n",
       "      <td>5</td>\n",
       "      <td>2</td>\n",
       "      <td>2500</td>\n",
       "      <td>5</td>\n",
       "      <td>0</td>\n",
       "      <td>1</td>\n",
       "      <td>0</td>\n",
       "      <td>0</td>\n",
       "    </tr>\n",
       "    <tr>\n",
       "      <th>21</th>\n",
       "      <td>0.007512</td>\n",
       "      <td>1.896556</td>\n",
       "      <td>1.000928</td>\n",
       "      <td>2.549793</td>\n",
       "      <td>3</td>\n",
       "      <td>2</td>\n",
       "      <td>620</td>\n",
       "      <td>10</td>\n",
       "      <td>1</td>\n",
       "      <td>0</td>\n",
       "      <td>1</td>\n",
       "      <td>0</td>\n",
       "    </tr>\n",
       "  </tbody>\n",
       "</table>\n",
       "</div>"
      ],
      "text/plain": [
       "    Distance Eyre Square  Distance Salthill  Distance NUIG  Distance GMIT  \\\n",
       "13              2.446769           1.037478       1.917976       4.984487   \n",
       "17              2.627352           1.430638       1.954203       5.180881   \n",
       "18              1.907742           1.782552       0.975157       4.370977   \n",
       "19              1.202837           0.697378       1.359845       3.586343   \n",
       "21              0.007512           1.896556       1.000928       2.549793   \n",
       "\n",
       "    number of rooms  number of bathrooms  price per month  BER  \\\n",
       "13                4                    3             2800    9   \n",
       "17                3                    3             1500    6   \n",
       "18                3                    1             1300   10   \n",
       "19                5                    2             2500    5   \n",
       "21                3                    2              620   10   \n",
       "\n",
       "    connection_attached  connection_detached  balcony_yes  heating_electric  \n",
       "13                    0                    1            0                 0  \n",
       "17                    0                    1            0                 0  \n",
       "18                    1                    0            0                 0  \n",
       "19                    0                    1            0                 0  \n",
       "21                    1                    0            1                 0  "
      ]
     },
     "execution_count": 35,
     "metadata": {},
     "output_type": "execute_result"
    }
   ],
   "source": [
    "df.head()\n"
   ]
  },
  {
   "cell_type": "code",
   "execution_count": 36,
   "metadata": {},
   "outputs": [
    {
     "data": {
      "image/png": "[encoded data removed]",
      "text/plain": [
       "<Figure size 432x288 with 2 Axes>"
      ]
     },
     "metadata": {
      "needs_background": "light"
     },
     "output_type": "display_data"
    }
   ],
   "source": [
    "sns.heatmap(df.corr());\n"
   ]
  },
  {
   "cell_type": "code",
   "execution_count": 37,
   "metadata": {},
   "outputs": [
    {
     "data": {
      "text/html": [
       "<div>\n",
       "<style scoped>\n",
       "    .dataframe tbody tr th:only-of-type {\n",
       "        vertical-align: middle;\n",
       "    }\n",
       "\n",
       "    .dataframe tbody tr th {\n",
       "        vertical-align: top;\n",
       "    }\n",
       "\n",
       "    .dataframe thead th {\n",
       "        text-align: right;\n",
       "    }\n",
       "</style>\n",
       "<table border=\"1\" class=\"dataframe\">\n",
       "  <thead>\n",
       "    <tr style=\"text-align: right;\">\n",
       "      <th></th>\n",
       "      <th>Distance Eyre Square</th>\n",
       "      <th>Distance Salthill</th>\n",
       "      <th>Distance NUIG</th>\n",
       "      <th>Distance GMIT</th>\n",
       "      <th>number of rooms</th>\n",
       "      <th>number of bathrooms</th>\n",
       "      <th>price per month</th>\n",
       "      <th>BER</th>\n",
       "      <th>connection_attached</th>\n",
       "      <th>connection_detached</th>\n",
       "      <th>balcony_yes</th>\n",
       "      <th>heating_electric</th>\n",
       "    </tr>\n",
       "  </thead>\n",
       "  <tbody>\n",
       "    <tr>\n",
       "      <th>Distance Eyre Square</th>\n",
       "      <td>1.000000</td>\n",
       "      <td>0.525509</td>\n",
       "      <td>0.882247</td>\n",
       "      <td>0.564174</td>\n",
       "      <td>0.121889</td>\n",
       "      <td>0.263539</td>\n",
       "      <td>-0.269972</td>\n",
       "      <td>0.096117</td>\n",
       "      <td>-0.365228</td>\n",
       "      <td>0.422863</td>\n",
       "      <td>-0.027432</td>\n",
       "      <td>-0.212817</td>\n",
       "    </tr>\n",
       "    <tr>\n",
       "      <th>Distance Salthill</th>\n",
       "      <td>0.525509</td>\n",
       "      <td>1.000000</td>\n",
       "      <td>0.759916</td>\n",
       "      <td>-0.317061</td>\n",
       "      <td>-0.036604</td>\n",
       "      <td>0.098202</td>\n",
       "      <td>-0.323853</td>\n",
       "      <td>0.174960</td>\n",
       "      <td>-0.054214</td>\n",
       "      <td>0.165912</td>\n",
       "      <td>0.008324</td>\n",
       "      <td>-0.201624</td>\n",
       "    </tr>\n",
       "    <tr>\n",
       "      <th>Distance NUIG</th>\n",
       "      <td>0.882247</td>\n",
       "      <td>0.759916</td>\n",
       "      <td>1.000000</td>\n",
       "      <td>0.180731</td>\n",
       "      <td>0.033170</td>\n",
       "      <td>0.244686</td>\n",
       "      <td>-0.324428</td>\n",
       "      <td>0.113552</td>\n",
       "      <td>-0.211373</td>\n",
       "      <td>0.305512</td>\n",
       "      <td>0.044591</td>\n",
       "      <td>-0.158733</td>\n",
       "    </tr>\n",
       "    <tr>\n",
       "      <th>Distance GMIT</th>\n",
       "      <td>0.564174</td>\n",
       "      <td>-0.317061</td>\n",
       "      <td>0.180731</td>\n",
       "      <td>1.000000</td>\n",
       "      <td>0.146162</td>\n",
       "      <td>0.264761</td>\n",
       "      <td>0.011206</td>\n",
       "      <td>-0.001121</td>\n",
       "      <td>-0.294297</td>\n",
       "      <td>0.289404</td>\n",
       "      <td>0.051518</td>\n",
       "      <td>-0.017418</td>\n",
       "    </tr>\n",
       "    <tr>\n",
       "      <th>number of rooms</th>\n",
       "      <td>0.121889</td>\n",
       "      <td>-0.036604</td>\n",
       "      <td>0.033170</td>\n",
       "      <td>0.146162</td>\n",
       "      <td>1.000000</td>\n",
       "      <td>0.323760</td>\n",
       "      <td>0.482373</td>\n",
       "      <td>0.090056</td>\n",
       "      <td>-0.258393</td>\n",
       "      <td>0.203392</td>\n",
       "      <td>-0.087020</td>\n",
       "      <td>-0.240975</td>\n",
       "    </tr>\n",
       "    <tr>\n",
       "      <th>number of bathrooms</th>\n",
       "      <td>0.263539</td>\n",
       "      <td>0.098202</td>\n",
       "      <td>0.244686</td>\n",
       "      <td>0.264761</td>\n",
       "      <td>0.323760</td>\n",
       "      <td>1.000000</td>\n",
       "      <td>0.337433</td>\n",
       "      <td>0.352494</td>\n",
       "      <td>0.016072</td>\n",
       "      <td>0.033439</td>\n",
       "      <td>0.092402</td>\n",
       "      <td>-0.116263</td>\n",
       "    </tr>\n",
       "    <tr>\n",
       "      <th>price per month</th>\n",
       "      <td>-0.269972</td>\n",
       "      <td>-0.323853</td>\n",
       "      <td>-0.324428</td>\n",
       "      <td>0.011206</td>\n",
       "      <td>0.482373</td>\n",
       "      <td>0.337433</td>\n",
       "      <td>1.000000</td>\n",
       "      <td>0.236617</td>\n",
       "      <td>-0.067945</td>\n",
       "      <td>-0.044520</td>\n",
       "      <td>-0.017026</td>\n",
       "      <td>-0.037695</td>\n",
       "    </tr>\n",
       "    <tr>\n",
       "      <th>BER</th>\n",
       "      <td>0.096117</td>\n",
       "      <td>0.174960</td>\n",
       "      <td>0.113552</td>\n",
       "      <td>-0.001121</td>\n",
       "      <td>0.090056</td>\n",
       "      <td>0.352494</td>\n",
       "      <td>0.236617</td>\n",
       "      <td>1.000000</td>\n",
       "      <td>0.110468</td>\n",
       "      <td>-0.046827</td>\n",
       "      <td>0.081472</td>\n",
       "      <td>-0.138957</td>\n",
       "    </tr>\n",
       "    <tr>\n",
       "      <th>connection_attached</th>\n",
       "      <td>-0.365228</td>\n",
       "      <td>-0.054214</td>\n",
       "      <td>-0.211373</td>\n",
       "      <td>-0.294297</td>\n",
       "      <td>-0.258393</td>\n",
       "      <td>0.016072</td>\n",
       "      <td>-0.067945</td>\n",
       "      <td>0.110468</td>\n",
       "      <td>1.000000</td>\n",
       "      <td>-0.756245</td>\n",
       "      <td>0.216099</td>\n",
       "      <td>0.303708</td>\n",
       "    </tr>\n",
       "    <tr>\n",
       "      <th>connection_detached</th>\n",
       "      <td>0.422863</td>\n",
       "      <td>0.165912</td>\n",
       "      <td>0.305512</td>\n",
       "      <td>0.289404</td>\n",
       "      <td>0.203392</td>\n",
       "      <td>0.033439</td>\n",
       "      <td>-0.044520</td>\n",
       "      <td>-0.046827</td>\n",
       "      <td>-0.756245</td>\n",
       "      <td>1.000000</td>\n",
       "      <td>-0.115969</td>\n",
       "      <td>-0.208037</td>\n",
       "    </tr>\n",
       "    <tr>\n",
       "      <th>balcony_yes</th>\n",
       "      <td>-0.027432</td>\n",
       "      <td>0.008324</td>\n",
       "      <td>0.044591</td>\n",
       "      <td>0.051518</td>\n",
       "      <td>-0.087020</td>\n",
       "      <td>0.092402</td>\n",
       "      <td>-0.017026</td>\n",
       "      <td>0.081472</td>\n",
       "      <td>0.216099</td>\n",
       "      <td>-0.115969</td>\n",
       "      <td>1.000000</td>\n",
       "      <td>0.226045</td>\n",
       "    </tr>\n",
       "    <tr>\n",
       "      <th>heating_electric</th>\n",
       "      <td>-0.212817</td>\n",
       "      <td>-0.201624</td>\n",
       "      <td>-0.158733</td>\n",
       "      <td>-0.017418</td>\n",
       "      <td>-0.240975</td>\n",
       "      <td>-0.116263</td>\n",
       "      <td>-0.037695</td>\n",
       "      <td>-0.138957</td>\n",
       "      <td>0.303708</td>\n",
       "      <td>-0.208037</td>\n",
       "      <td>0.226045</td>\n",
       "      <td>1.000000</td>\n",
       "    </tr>\n",
       "  </tbody>\n",
       "</table>\n",
       "</div>"
      ],
      "text/plain": [
       "                      Distance Eyre Square  Distance Salthill  Distance NUIG  \\\n",
       "Distance Eyre Square              1.000000           0.525509       0.882247   \n",
       "Distance Salthill                 0.525509           1.000000       0.759916   \n",
       "Distance NUIG                     0.882247           0.759916       1.000000   \n",
       "Distance GMIT                     0.564174          -0.317061       0.180731   \n",
       "number of rooms                   0.121889          -0.036604       0.033170   \n",
       "number of bathrooms               0.263539           0.098202       0.244686   \n",
       "price per month                  -0.269972          -0.323853      -0.324428   \n",
       "BER                               0.096117           0.174960       0.113552   \n",
       "connection_attached              -0.365228          -0.054214      -0.211373   \n",
       "connection_detached               0.422863           0.165912       0.305512   \n",
       "balcony_yes                      -0.027432           0.008324       0.044591   \n",
       "heating_electric                 -0.212817          -0.201624      -0.158733   \n",
       "\n",
       "                      Distance GMIT  number of rooms  number of bathrooms  \\\n",
       "Distance Eyre Square       0.564174         0.121889             0.263539   \n",
       "Distance Salthill         -0.317061        -0.036604             0.098202   \n",
       "Distance NUIG              0.180731         0.033170             0.244686   \n",
       "Distance GMIT              1.000000         0.146162             0.264761   \n",
       "number of rooms            0.146162         1.000000             0.323760   \n",
       "number of bathrooms        0.264761         0.323760             1.000000   \n",
       "price per month            0.011206         0.482373             0.337433   \n",
       "BER                       -0.001121         0.090056             0.352494   \n",
       "connection_attached       -0.294297        -0.258393             0.016072   \n",
       "connection_detached        0.289404         0.203392             0.033439   \n",
       "balcony_yes                0.051518        -0.087020             0.092402   \n",
       "heating_electric          -0.017418        -0.240975            -0.116263   \n",
       "\n",
       "                      price per month       BER  connection_attached  \\\n",
       "Distance Eyre Square        -0.269972  0.096117            -0.365228   \n",
       "Distance Salthill           -0.323853  0.174960            -0.054214   \n",
       "Distance NUIG               -0.324428  0.113552            -0.211373   \n",
       "Distance GMIT                0.011206 -0.001121            -0.294297   \n",
       "number of rooms              0.482373  0.090056            -0.258393   \n",
       "number of bathrooms          0.337433  0.352494             0.016072   \n",
       "price per month              1.000000  0.236617            -0.067945   \n",
       "BER                          0.236617  1.000000             0.110468   \n",
       "connection_attached         -0.067945  0.110468             1.000000   \n",
       "connection_detached         -0.044520 -0.046827            -0.756245   \n",
       "balcony_yes                 -0.017026  0.081472             0.216099   \n",
       "heating_electric            -0.037695 -0.138957             0.303708   \n",
       "\n",
       "                      connection_detached  balcony_yes  heating_electric  \n",
       "Distance Eyre Square             0.422863    -0.027432         -0.212817  \n",
       "Distance Salthill                0.165912     0.008324         -0.201624  \n",
       "Distance NUIG                    0.305512     0.044591         -0.158733  \n",
       "Distance GMIT                    0.289404     0.051518         -0.017418  \n",
       "number of rooms                  0.203392    -0.087020         -0.240975  \n",
       "number of bathrooms              0.033439     0.092402         -0.116263  \n",
       "price per month                 -0.044520    -0.017026         -0.037695  \n",
       "BER                             -0.046827     0.081472         -0.138957  \n",
       "connection_attached             -0.756245     0.216099          0.303708  \n",
       "connection_detached              1.000000    -0.115969         -0.208037  \n",
       "balcony_yes                     -0.115969     1.000000          0.226045  \n",
       "heating_electric                -0.208037     0.226045          1.000000  "
      ]
     },
     "execution_count": 37,
     "metadata": {},
     "output_type": "execute_result"
    }
   ],
   "source": [
    "df.corr() #correlcation matric, similar to above but just the numbers "
   ]
  },
  {
   "cell_type": "code",
   "execution_count": 40,
   "metadata": {},
   "outputs": [
    {
     "data": {
      "image/png": "[encoded data removed]",
      "text/plain": [
       "<Figure size 432x288 with 4 Axes>"
      ]
     },
     "metadata": {
      "needs_background": "light"
     },
     "output_type": "display_data"
    },
    {
     "data": {
      "image/png": "[encoded data removed]",
      "text/plain": [
       "<Figure size 432x288 with 1 Axes>"
      ]
     },
     "metadata": {
      "needs_background": "light"
     },
     "output_type": "display_data"
    }
   ],
   "source": [
    "import matplotlib.pyplot as plt\n",
    "import numpy as np\n",
    "\n",
    "\n",
    "fig, axs = plt.subplots(2, 2)\n",
    "\n",
    "\n",
    "axs[0, 0].boxplot(df['number of rooms'])\n",
    "axs[0, 0].set_title('Number of Rooms')\n",
    "\n",
    "axs[0, 1].boxplot(df['price per month'])\n",
    "axs[0, 1].set_title('Price Per Month')\n",
    "\n",
    "axs[1, 1].boxplot(df['number of bathrooms'])\n",
    "axs[1, 1].set_title('Number of Bath Rooms')\n",
    "\n",
    "axs[1, 0].boxplot(df['heating_electric'])\n",
    "axs[1, 0].set_title('Heating Electric')\n",
    "\n",
    "\n",
    "\n",
    "\n",
    "\n",
    "\n",
    "\n",
    "\n",
    "fig.subplots_adjust(left=0.08, right=0.98, bottom=0.05, top=0.9,\n",
    "                    hspace=0.4, wspace=0.3)\n",
    "\n",
    "\n",
    "\n",
    "fig, ax = plt.subplots()\n",
    "ax.boxplot(df['BER'])\n",
    "ax.set_title('BER')\n",
    "\n",
    "\n",
    "plt.show()"
   ]
  },
  {
   "cell_type": "markdown",
   "metadata": {},
   "source": [
    "mid inverse, distance es, s, c, no effect gmit. mid rooms, baths, low + ber, nothing for detached low postive lone, nothing balcony \n"
   ]
  },
  {
   "cell_type": "code",
   "execution_count": 42,
   "metadata": {},
   "outputs": [],
   "source": [
    "#robust_scaler = RobustScaler()\n",
    "MinMax_scaler = MinMaxScaler()\n",
    "df[['Distance Eyre Square',\n",
    "    'Distance Salthill','Distance NUIG','Distance GMIT','number of rooms','number of bathrooms']] = MinMax_scaler.fit_transform(df[['Distance Eyre Square',\n",
    "    'Distance Salthill','Distance NUIG','Distance GMIT','number of rooms','number of bathrooms']])\n",
    "\n"
   ]
  },
  {
   "cell_type": "code",
   "execution_count": 44,
   "metadata": {},
   "outputs": [],
   "source": [
    "df['BER'] = df['BER']/15\n"
   ]
  },
  {
   "cell_type": "code",
   "execution_count": 46,
   "metadata": {},
   "outputs": [
    {
     "data": {
      "text/plain": [
       "array([0.6       , 0.4       , 0.66666667, 0.33333333, 0.53333333,\n",
       "       0.        , 0.8       , 0.13333333, 0.46666667, 0.73333333,\n",
       "       0.26666667, 0.86666667, 0.06666667])"
      ]
     },
     "execution_count": 46,
     "metadata": {},
     "output_type": "execute_result"
    }
   ],
   "source": [
    "df.BER.unique() "
   ]
  },
  {
   "cell_type": "code",
   "execution_count": 47,
   "metadata": {},
   "outputs": [
    {
     "data": {
      "text/html": [
       "<div>\n",
       "<style scoped>\n",
       "    .dataframe tbody tr th:only-of-type {\n",
       "        vertical-align: middle;\n",
       "    }\n",
       "\n",
       "    .dataframe tbody tr th {\n",
       "        vertical-align: top;\n",
       "    }\n",
       "\n",
       "    .dataframe thead th {\n",
       "        text-align: right;\n",
       "    }\n",
       "</style>\n",
       "<table border=\"1\" class=\"dataframe\">\n",
       "  <thead>\n",
       "    <tr style=\"text-align: right;\">\n",
       "      <th></th>\n",
       "      <th>Distance Eyre Square</th>\n",
       "      <th>Distance Salthill</th>\n",
       "      <th>Distance NUIG</th>\n",
       "      <th>Distance GMIT</th>\n",
       "      <th>number of rooms</th>\n",
       "      <th>number of bathrooms</th>\n",
       "      <th>price per month</th>\n",
       "      <th>BER</th>\n",
       "      <th>connection_attached</th>\n",
       "      <th>connection_detached</th>\n",
       "      <th>balcony_yes</th>\n",
       "      <th>heating_electric</th>\n",
       "    </tr>\n",
       "  </thead>\n",
       "  <tbody>\n",
       "    <tr>\n",
       "      <th>Distance Eyre Square</th>\n",
       "      <td>1.000000</td>\n",
       "      <td>0.525509</td>\n",
       "      <td>0.882247</td>\n",
       "      <td>0.564174</td>\n",
       "      <td>0.121889</td>\n",
       "      <td>0.263539</td>\n",
       "      <td>-0.269972</td>\n",
       "      <td>0.096117</td>\n",
       "      <td>-0.365228</td>\n",
       "      <td>0.422863</td>\n",
       "      <td>-0.027432</td>\n",
       "      <td>-0.212817</td>\n",
       "    </tr>\n",
       "    <tr>\n",
       "      <th>Distance Salthill</th>\n",
       "      <td>0.525509</td>\n",
       "      <td>1.000000</td>\n",
       "      <td>0.759916</td>\n",
       "      <td>-0.317061</td>\n",
       "      <td>-0.036604</td>\n",
       "      <td>0.098202</td>\n",
       "      <td>-0.323853</td>\n",
       "      <td>0.174960</td>\n",
       "      <td>-0.054214</td>\n",
       "      <td>0.165912</td>\n",
       "      <td>0.008324</td>\n",
       "      <td>-0.201624</td>\n",
       "    </tr>\n",
       "    <tr>\n",
       "      <th>Distance NUIG</th>\n",
       "      <td>0.882247</td>\n",
       "      <td>0.759916</td>\n",
       "      <td>1.000000</td>\n",
       "      <td>0.180731</td>\n",
       "      <td>0.033170</td>\n",
       "      <td>0.244686</td>\n",
       "      <td>-0.324428</td>\n",
       "      <td>0.113552</td>\n",
       "      <td>-0.211373</td>\n",
       "      <td>0.305512</td>\n",
       "      <td>0.044591</td>\n",
       "      <td>-0.158733</td>\n",
       "    </tr>\n",
       "    <tr>\n",
       "      <th>Distance GMIT</th>\n",
       "      <td>0.564174</td>\n",
       "      <td>-0.317061</td>\n",
       "      <td>0.180731</td>\n",
       "      <td>1.000000</td>\n",
       "      <td>0.146162</td>\n",
       "      <td>0.264761</td>\n",
       "      <td>0.011206</td>\n",
       "      <td>-0.001121</td>\n",
       "      <td>-0.294297</td>\n",
       "      <td>0.289404</td>\n",
       "      <td>0.051518</td>\n",
       "      <td>-0.017418</td>\n",
       "    </tr>\n",
       "    <tr>\n",
       "      <th>number of rooms</th>\n",
       "      <td>0.121889</td>\n",
       "      <td>-0.036604</td>\n",
       "      <td>0.033170</td>\n",
       "      <td>0.146162</td>\n",
       "      <td>1.000000</td>\n",
       "      <td>0.323760</td>\n",
       "      <td>0.482373</td>\n",
       "      <td>0.090056</td>\n",
       "      <td>-0.258393</td>\n",
       "      <td>0.203392</td>\n",
       "      <td>-0.087020</td>\n",
       "      <td>-0.240975</td>\n",
       "    </tr>\n",
       "    <tr>\n",
       "      <th>number of bathrooms</th>\n",
       "      <td>0.263539</td>\n",
       "      <td>0.098202</td>\n",
       "      <td>0.244686</td>\n",
       "      <td>0.264761</td>\n",
       "      <td>0.323760</td>\n",
       "      <td>1.000000</td>\n",
       "      <td>0.337433</td>\n",
       "      <td>0.352494</td>\n",
       "      <td>0.016072</td>\n",
       "      <td>0.033439</td>\n",
       "      <td>0.092402</td>\n",
       "      <td>-0.116263</td>\n",
       "    </tr>\n",
       "    <tr>\n",
       "      <th>price per month</th>\n",
       "      <td>-0.269972</td>\n",
       "      <td>-0.323853</td>\n",
       "      <td>-0.324428</td>\n",
       "      <td>0.011206</td>\n",
       "      <td>0.482373</td>\n",
       "      <td>0.337433</td>\n",
       "      <td>1.000000</td>\n",
       "      <td>0.236617</td>\n",
       "      <td>-0.067945</td>\n",
       "      <td>-0.044520</td>\n",
       "      <td>-0.017026</td>\n",
       "      <td>-0.037695</td>\n",
       "    </tr>\n",
       "    <tr>\n",
       "      <th>BER</th>\n",
       "      <td>0.096117</td>\n",
       "      <td>0.174960</td>\n",
       "      <td>0.113552</td>\n",
       "      <td>-0.001121</td>\n",
       "      <td>0.090056</td>\n",
       "      <td>0.352494</td>\n",
       "      <td>0.236617</td>\n",
       "      <td>1.000000</td>\n",
       "      <td>0.110468</td>\n",
       "      <td>-0.046827</td>\n",
       "      <td>0.081472</td>\n",
       "      <td>-0.138957</td>\n",
       "    </tr>\n",
       "    <tr>\n",
       "      <th>connection_attached</th>\n",
       "      <td>-0.365228</td>\n",
       "      <td>-0.054214</td>\n",
       "      <td>-0.211373</td>\n",
       "      <td>-0.294297</td>\n",
       "      <td>-0.258393</td>\n",
       "      <td>0.016072</td>\n",
       "      <td>-0.067945</td>\n",
       "      <td>0.110468</td>\n",
       "      <td>1.000000</td>\n",
       "      <td>-0.756245</td>\n",
       "      <td>0.216099</td>\n",
       "      <td>0.303708</td>\n",
       "    </tr>\n",
       "    <tr>\n",
       "      <th>connection_detached</th>\n",
       "      <td>0.422863</td>\n",
       "      <td>0.165912</td>\n",
       "      <td>0.305512</td>\n",
       "      <td>0.289404</td>\n",
       "      <td>0.203392</td>\n",
       "      <td>0.033439</td>\n",
       "      <td>-0.044520</td>\n",
       "      <td>-0.046827</td>\n",
       "      <td>-0.756245</td>\n",
       "      <td>1.000000</td>\n",
       "      <td>-0.115969</td>\n",
       "      <td>-0.208037</td>\n",
       "    </tr>\n",
       "    <tr>\n",
       "      <th>balcony_yes</th>\n",
       "      <td>-0.027432</td>\n",
       "      <td>0.008324</td>\n",
       "      <td>0.044591</td>\n",
       "      <td>0.051518</td>\n",
       "      <td>-0.087020</td>\n",
       "      <td>0.092402</td>\n",
       "      <td>-0.017026</td>\n",
       "      <td>0.081472</td>\n",
       "      <td>0.216099</td>\n",
       "      <td>-0.115969</td>\n",
       "      <td>1.000000</td>\n",
       "      <td>0.226045</td>\n",
       "    </tr>\n",
       "    <tr>\n",
       "      <th>heating_electric</th>\n",
       "      <td>-0.212817</td>\n",
       "      <td>-0.201624</td>\n",
       "      <td>-0.158733</td>\n",
       "      <td>-0.017418</td>\n",
       "      <td>-0.240975</td>\n",
       "      <td>-0.116263</td>\n",
       "      <td>-0.037695</td>\n",
       "      <td>-0.138957</td>\n",
       "      <td>0.303708</td>\n",
       "      <td>-0.208037</td>\n",
       "      <td>0.226045</td>\n",
       "      <td>1.000000</td>\n",
       "    </tr>\n",
       "  </tbody>\n",
       "</table>\n",
       "</div>"
      ],
      "text/plain": [
       "                      Distance Eyre Square  Distance Salthill  Distance NUIG  \\\n",
       "Distance Eyre Square              1.000000           0.525509       0.882247   \n",
       "Distance Salthill                 0.525509           1.000000       0.759916   \n",
       "Distance NUIG                     0.882247           0.759916       1.000000   \n",
       "Distance GMIT                     0.564174          -0.317061       0.180731   \n",
       "number of rooms                   0.121889          -0.036604       0.033170   \n",
       "number of bathrooms               0.263539           0.098202       0.244686   \n",
       "price per month                  -0.269972          -0.323853      -0.324428   \n",
       "BER                               0.096117           0.174960       0.113552   \n",
       "connection_attached              -0.365228          -0.054214      -0.211373   \n",
       "connection_detached               0.422863           0.165912       0.305512   \n",
       "balcony_yes                      -0.027432           0.008324       0.044591   \n",
       "heating_electric                 -0.212817          -0.201624      -0.158733   \n",
       "\n",
       "                      Distance GMIT  number of rooms  number of bathrooms  \\\n",
       "Distance Eyre Square       0.564174         0.121889             0.263539   \n",
       "Distance Salthill         -0.317061        -0.036604             0.098202   \n",
       "Distance NUIG              0.180731         0.033170             0.244686   \n",
       "Distance GMIT              1.000000         0.146162             0.264761   \n",
       "number of rooms            0.146162         1.000000             0.323760   \n",
       "number of bathrooms        0.264761         0.323760             1.000000   \n",
       "price per month            0.011206         0.482373             0.337433   \n",
       "BER                       -0.001121         0.090056             0.352494   \n",
       "connection_attached       -0.294297        -0.258393             0.016072   \n",
       "connection_detached        0.289404         0.203392             0.033439   \n",
       "balcony_yes                0.051518        -0.087020             0.092402   \n",
       "heating_electric          -0.017418        -0.240975            -0.116263   \n",
       "\n",
       "                      price per month       BER  connection_attached  \\\n",
       "Distance Eyre Square        -0.269972  0.096117            -0.365228   \n",
       "Distance Salthill           -0.323853  0.174960            -0.054214   \n",
       "Distance NUIG               -0.324428  0.113552            -0.211373   \n",
       "Distance GMIT                0.011206 -0.001121            -0.294297   \n",
       "number of rooms              0.482373  0.090056            -0.258393   \n",
       "number of bathrooms          0.337433  0.352494             0.016072   \n",
       "price per month              1.000000  0.236617            -0.067945   \n",
       "BER                          0.236617  1.000000             0.110468   \n",
       "connection_attached         -0.067945  0.110468             1.000000   \n",
       "connection_detached         -0.044520 -0.046827            -0.756245   \n",
       "balcony_yes                 -0.017026  0.081472             0.216099   \n",
       "heating_electric            -0.037695 -0.138957             0.303708   \n",
       "\n",
       "                      connection_detached  balcony_yes  heating_electric  \n",
       "Distance Eyre Square             0.422863    -0.027432         -0.212817  \n",
       "Distance Salthill                0.165912     0.008324         -0.201624  \n",
       "Distance NUIG                    0.305512     0.044591         -0.158733  \n",
       "Distance GMIT                    0.289404     0.051518         -0.017418  \n",
       "number of rooms                  0.203392    -0.087020         -0.240975  \n",
       "number of bathrooms              0.033439     0.092402         -0.116263  \n",
       "price per month                 -0.044520    -0.017026         -0.037695  \n",
       "BER                             -0.046827     0.081472         -0.138957  \n",
       "connection_attached             -0.756245     0.216099          0.303708  \n",
       "connection_detached              1.000000    -0.115969         -0.208037  \n",
       "balcony_yes                     -0.115969     1.000000          0.226045  \n",
       "heating_electric                -0.208037     0.226045          1.000000  "
      ]
     },
     "execution_count": 47,
     "metadata": {},
     "output_type": "execute_result"
    }
   ],
   "source": [
    "df.corr()\n"
   ]
  },
  {
   "cell_type": "code",
   "execution_count": 48,
   "metadata": {},
   "outputs": [
    {
     "data": {
      "image/png": "[encoded data removed]",
      "text/plain": [
       "<Figure size 432x288 with 2 Axes>"
      ]
     },
     "metadata": {
      "needs_background": "light"
     },
     "output_type": "display_data"
    }
   ],
   "source": [
    "df_new=df.rename(columns={'pricer per month': 'price per month'})\n",
    "df_new=df_new.rename(columns={'number of baths rooms': 'number of bath rooms'})\n",
    "sns.heatmap(df_new.corr());"
   ]
  },
  {
   "cell_type": "code",
   "execution_count": 49,
   "metadata": {},
   "outputs": [
    {
     "data": {
      "image/png": "[encoded data removed]",
      "text/plain": [
       "<Figure size 1440x360 with 1 Axes>"
      ]
     },
     "metadata": {
      "needs_background": "light"
     },
     "output_type": "display_data"
    }
   ],
   "source": [
    "df.boxplot(figsize=(20,5))\n",
    "plt.show() "
   ]
  },
  {
   "cell_type": "code",
   "execution_count": 52,
   "metadata": {
    "scrolled": true
   },
   "outputs": [
    {
     "data": {
      "text/html": [
       "<div>\n",
       "<style scoped>\n",
       "    .dataframe tbody tr th:only-of-type {\n",
       "        vertical-align: middle;\n",
       "    }\n",
       "\n",
       "    .dataframe tbody tr th {\n",
       "        vertical-align: top;\n",
       "    }\n",
       "\n",
       "    .dataframe thead th {\n",
       "        text-align: right;\n",
       "    }\n",
       "</style>\n",
       "<table border=\"1\" class=\"dataframe\">\n",
       "  <thead>\n",
       "    <tr style=\"text-align: right;\">\n",
       "      <th></th>\n",
       "      <th>Distance Eyre Square</th>\n",
       "      <th>Distance Salthill</th>\n",
       "      <th>Distance NUIG</th>\n",
       "      <th>Distance GMIT</th>\n",
       "      <th>number of rooms</th>\n",
       "      <th>number of bathrooms</th>\n",
       "      <th>price per month</th>\n",
       "      <th>BER</th>\n",
       "      <th>connection_attached</th>\n",
       "      <th>connection_detached</th>\n",
       "      <th>balcony_yes</th>\n",
       "      <th>heating_electric</th>\n",
       "    </tr>\n",
       "  </thead>\n",
       "  <tbody>\n",
       "    <tr>\n",
       "      <th>count</th>\n",
       "      <td>128.000000</td>\n",
       "      <td>128.000000</td>\n",
       "      <td>128.000000</td>\n",
       "      <td>128.000000</td>\n",
       "      <td>128.000000</td>\n",
       "      <td>128.000000</td>\n",
       "      <td>128.000000</td>\n",
       "      <td>128.000000</td>\n",
       "      <td>128.000000</td>\n",
       "      <td>128.000000</td>\n",
       "      <td>128.000000</td>\n",
       "      <td>128.000000</td>\n",
       "    </tr>\n",
       "    <tr>\n",
       "      <th>mean</th>\n",
       "      <td>0.462630</td>\n",
       "      <td>0.365632</td>\n",
       "      <td>0.346095</td>\n",
       "      <td>0.480381</td>\n",
       "      <td>0.615234</td>\n",
       "      <td>0.300781</td>\n",
       "      <td>1835.054688</td>\n",
       "      <td>0.450521</td>\n",
       "      <td>0.281250</td>\n",
       "      <td>0.593750</td>\n",
       "      <td>0.093750</td>\n",
       "      <td>0.070312</td>\n",
       "    </tr>\n",
       "    <tr>\n",
       "      <th>std</th>\n",
       "      <td>0.264257</td>\n",
       "      <td>0.206319</td>\n",
       "      <td>0.230676</td>\n",
       "      <td>0.271148</td>\n",
       "      <td>0.195678</td>\n",
       "      <td>0.186554</td>\n",
       "      <td>457.764257</td>\n",
       "      <td>0.218120</td>\n",
       "      <td>0.451376</td>\n",
       "      <td>0.493062</td>\n",
       "      <td>0.292626</td>\n",
       "      <td>0.256678</td>\n",
       "    </tr>\n",
       "    <tr>\n",
       "      <th>min</th>\n",
       "      <td>0.000000</td>\n",
       "      <td>0.000000</td>\n",
       "      <td>0.000000</td>\n",
       "      <td>0.000000</td>\n",
       "      <td>0.000000</td>\n",
       "      <td>0.000000</td>\n",
       "      <td>620.000000</td>\n",
       "      <td>0.000000</td>\n",
       "      <td>0.000000</td>\n",
       "      <td>0.000000</td>\n",
       "      <td>0.000000</td>\n",
       "      <td>0.000000</td>\n",
       "    </tr>\n",
       "    <tr>\n",
       "      <th>25%</th>\n",
       "      <td>0.278047</td>\n",
       "      <td>0.219506</td>\n",
       "      <td>0.158982</td>\n",
       "      <td>0.269550</td>\n",
       "      <td>0.500000</td>\n",
       "      <td>0.250000</td>\n",
       "      <td>1500.000000</td>\n",
       "      <td>0.400000</td>\n",
       "      <td>0.000000</td>\n",
       "      <td>0.000000</td>\n",
       "      <td>0.000000</td>\n",
       "      <td>0.000000</td>\n",
       "    </tr>\n",
       "    <tr>\n",
       "      <th>50%</th>\n",
       "      <td>0.440107</td>\n",
       "      <td>0.331967</td>\n",
       "      <td>0.274194</td>\n",
       "      <td>0.484405</td>\n",
       "      <td>0.500000</td>\n",
       "      <td>0.250000</td>\n",
       "      <td>1800.000000</td>\n",
       "      <td>0.466667</td>\n",
       "      <td>0.000000</td>\n",
       "      <td>1.000000</td>\n",
       "      <td>0.000000</td>\n",
       "      <td>0.000000</td>\n",
       "    </tr>\n",
       "    <tr>\n",
       "      <th>75%</th>\n",
       "      <td>0.691389</td>\n",
       "      <td>0.473976</td>\n",
       "      <td>0.527018</td>\n",
       "      <td>0.655744</td>\n",
       "      <td>0.750000</td>\n",
       "      <td>0.500000</td>\n",
       "      <td>2057.500000</td>\n",
       "      <td>0.600000</td>\n",
       "      <td>1.000000</td>\n",
       "      <td>1.000000</td>\n",
       "      <td>0.000000</td>\n",
       "      <td>0.000000</td>\n",
       "    </tr>\n",
       "    <tr>\n",
       "      <th>max</th>\n",
       "      <td>1.000000</td>\n",
       "      <td>1.000000</td>\n",
       "      <td>1.000000</td>\n",
       "      <td>1.000000</td>\n",
       "      <td>1.000000</td>\n",
       "      <td>1.000000</td>\n",
       "      <td>3700.000000</td>\n",
       "      <td>0.866667</td>\n",
       "      <td>1.000000</td>\n",
       "      <td>1.000000</td>\n",
       "      <td>1.000000</td>\n",
       "      <td>1.000000</td>\n",
       "    </tr>\n",
       "  </tbody>\n",
       "</table>\n",
       "</div>"
      ],
      "text/plain": [
       "       Distance Eyre Square  Distance Salthill  Distance NUIG  Distance GMIT  \\\n",
       "count            128.000000         128.000000     128.000000     128.000000   \n",
       "mean               0.462630           0.365632       0.346095       0.480381   \n",
       "std                0.264257           0.206319       0.230676       0.271148   \n",
       "min                0.000000           0.000000       0.000000       0.000000   \n",
       "25%                0.278047           0.219506       0.158982       0.269550   \n",
       "50%                0.440107           0.331967       0.274194       0.484405   \n",
       "75%                0.691389           0.473976       0.527018       0.655744   \n",
       "max                1.000000           1.000000       1.000000       1.000000   \n",
       "\n",
       "       number of rooms  number of bathrooms  price per month         BER  \\\n",
       "count       128.000000           128.000000       128.000000  128.000000   \n",
       "mean          0.615234             0.300781      1835.054688    0.450521   \n",
       "std           0.195678             0.186554       457.764257    0.218120   \n",
       "min           0.000000             0.000000       620.000000    0.000000   \n",
       "25%           0.500000             0.250000      1500.000000    0.400000   \n",
       "50%           0.500000             0.250000      1800.000000    0.466667   \n",
       "75%           0.750000             0.500000      2057.500000    0.600000   \n",
       "max           1.000000             1.000000      3700.000000    0.866667   \n",
       "\n",
       "       connection_attached  connection_detached  balcony_yes  heating_electric  \n",
       "count           128.000000           128.000000   128.000000        128.000000  \n",
       "mean              0.281250             0.593750     0.093750          0.070312  \n",
       "std               0.451376             0.493062     0.292626          0.256678  \n",
       "min               0.000000             0.000000     0.000000          0.000000  \n",
       "25%               0.000000             0.000000     0.000000          0.000000  \n",
       "50%               0.000000             1.000000     0.000000          0.000000  \n",
       "75%               1.000000             1.000000     0.000000          0.000000  \n",
       "max               1.000000             1.000000     1.000000          1.000000  "
      ]
     },
     "execution_count": 52,
     "metadata": {},
     "output_type": "execute_result"
    }
   ],
   "source": [
    "df.describe()\n"
   ]
  },
  {
   "cell_type": "code",
   "execution_count": 53,
   "metadata": {},
   "outputs": [],
   "source": [
    "import statsmodels.api as sn "
   ]
  },
  {
   "cell_type": "code",
   "execution_count": 54,
   "metadata": {},
   "outputs": [],
   "source": [
    "X = sn.add_constant(df['number of rooms'])"
   ]
  },
  {
   "cell_type": "code",
   "execution_count": 55,
   "metadata": {},
   "outputs": [],
   "source": [
    "ln=sn.OLS(df['price per month'],X).fit()"
   ]
  },
  {
   "cell_type": "code",
   "execution_count": 56,
   "metadata": {},
   "outputs": [
    {
     "data": {
      "text/html": [
       "<table class=\"simpletable\">\n",
       "<caption>OLS Regression Results</caption>\n",
       "<tr>\n",
       "  <th>Dep. Variable:</th>     <td>price per month</td> <th>  R-squared:         </th> <td>   0.233</td>\n",
       "</tr>\n",
       "<tr>\n",
       "  <th>Model:</th>                   <td>OLS</td>       <th>  Adj. R-squared:    </th> <td>   0.227</td>\n",
       "</tr>\n",
       "<tr>\n",
       "  <th>Method:</th>             <td>Least Squares</td>  <th>  F-statistic:       </th> <td>   38.21</td>\n",
       "</tr>\n",
       "<tr>\n",
       "  <th>Date:</th>             <td>Sun, 15 Aug 2021</td> <th>  Prob (F-statistic):</th> <td>8.13e-09</td>\n",
       "</tr>\n",
       "<tr>\n",
       "  <th>Time:</th>                 <td>16:29:16</td>     <th>  Log-Likelihood:    </th> <td> -948.34</td>\n",
       "</tr>\n",
       "<tr>\n",
       "  <th>No. Observations:</th>      <td>   128</td>      <th>  AIC:               </th> <td>   1901.</td>\n",
       "</tr>\n",
       "<tr>\n",
       "  <th>Df Residuals:</th>          <td>   126</td>      <th>  BIC:               </th> <td>   1906.</td>\n",
       "</tr>\n",
       "<tr>\n",
       "  <th>Df Model:</th>              <td>     1</td>      <th>                     </th>     <td> </td>   \n",
       "</tr>\n",
       "<tr>\n",
       "  <th>Covariance Type:</th>      <td>nonrobust</td>    <th>                     </th>     <td> </td>   \n",
       "</tr>\n",
       "</table>\n",
       "<table class=\"simpletable\">\n",
       "<tr>\n",
       "         <td></td>            <th>coef</th>     <th>std err</th>      <th>t</th>      <th>P>|t|</th>  <th>[0.025</th>    <th>0.975]</th>  \n",
       "</tr>\n",
       "<tr>\n",
       "  <th>const</th>           <td> 1140.7903</td> <td>  117.818</td> <td>    9.683</td> <td> 0.000</td> <td>  907.632</td> <td> 1373.949</td>\n",
       "</tr>\n",
       "<tr>\n",
       "  <th>number of rooms</th> <td> 1128.4551</td> <td>  182.559</td> <td>    6.181</td> <td> 0.000</td> <td>  767.177</td> <td> 1489.733</td>\n",
       "</tr>\n",
       "</table>\n",
       "<table class=\"simpletable\">\n",
       "<tr>\n",
       "  <th>Omnibus:</th>       <td>18.001</td> <th>  Durbin-Watson:     </th> <td>   1.971</td>\n",
       "</tr>\n",
       "<tr>\n",
       "  <th>Prob(Omnibus):</th> <td> 0.000</td> <th>  Jarque-Bera (JB):  </th> <td>  24.657</td>\n",
       "</tr>\n",
       "<tr>\n",
       "  <th>Skew:</th>          <td> 0.752</td> <th>  Prob(JB):          </th> <td>4.42e-06</td>\n",
       "</tr>\n",
       "<tr>\n",
       "  <th>Kurtosis:</th>      <td> 4.536</td> <th>  Cond. No.          </th> <td>    7.13</td>\n",
       "</tr>\n",
       "</table><br/><br/>Warnings:<br/>[1] Standard Errors assume that the covariance matrix of the errors is correctly specified."
      ],
      "text/plain": [
       "<class 'statsmodels.iolib.summary.Summary'>\n",
       "\"\"\"\n",
       "                            OLS Regression Results                            \n",
       "==============================================================================\n",
       "Dep. Variable:        price per month   R-squared:                       0.233\n",
       "Model:                            OLS   Adj. R-squared:                  0.227\n",
       "Method:                 Least Squares   F-statistic:                     38.21\n",
       "Date:                Sun, 15 Aug 2021   Prob (F-statistic):           8.13e-09\n",
       "Time:                        16:29:16   Log-Likelihood:                -948.34\n",
       "No. Observations:                 128   AIC:                             1901.\n",
       "Df Residuals:                     126   BIC:                             1906.\n",
       "Df Model:                           1                                         \n",
       "Covariance Type:            nonrobust                                         \n",
       "===================================================================================\n",
       "                      coef    std err          t      P>|t|      [0.025      0.975]\n",
       "-----------------------------------------------------------------------------------\n",
       "const            1140.7903    117.818      9.683      0.000     907.632    1373.949\n",
       "number of rooms  1128.4551    182.559      6.181      0.000     767.177    1489.733\n",
       "==============================================================================\n",
       "Omnibus:                       18.001   Durbin-Watson:                   1.971\n",
       "Prob(Omnibus):                  0.000   Jarque-Bera (JB):               24.657\n",
       "Skew:                           0.752   Prob(JB):                     4.42e-06\n",
       "Kurtosis:                       4.536   Cond. No.                         7.13\n",
       "==============================================================================\n",
       "\n",
       "Warnings:\n",
       "[1] Standard Errors assume that the covariance matrix of the errors is correctly specified.\n",
       "\"\"\""
      ]
     },
     "execution_count": 56,
     "metadata": {},
     "output_type": "execute_result"
    }
   ],
   "source": [
    "ln.summary() "
   ]
  },
  {
   "cell_type": "code",
   "execution_count": 57,
   "metadata": {},
   "outputs": [],
   "source": [
    "y=df['price per month']"
   ]
  },
  {
   "cell_type": "code",
   "execution_count": 58,
   "metadata": {},
   "outputs": [],
   "source": [
    "x=df[['number of rooms']]"
   ]
  },
  {
   "cell_type": "code",
   "execution_count": 59,
   "metadata": {},
   "outputs": [],
   "source": [
    "ln2=LinearRegression()"
   ]
  },
  {
   "cell_type": "code",
   "execution_count": 60,
   "metadata": {},
   "outputs": [
    {
     "data": {
      "text/plain": [
       "LinearRegression(copy_X=True, fit_intercept=True, n_jobs=None, normalize=False)"
      ]
     },
     "execution_count": 60,
     "metadata": {},
     "output_type": "execute_result"
    }
   ],
   "source": [
    "ln2.fit(x,y)"
   ]
  },
  {
   "cell_type": "code",
   "execution_count": 61,
   "metadata": {},
   "outputs": [
    {
     "name": "stdout",
     "output_type": "stream",
     "text": [
      "1140.790340395622 [1128.45506577]\n"
     ]
    }
   ],
   "source": [
    "print(ln2.intercept_,ln2.coef_)"
   ]
  },
  {
   "cell_type": "code",
   "execution_count": 62,
   "metadata": {},
   "outputs": [],
   "source": []
  },
  {
   "cell_type": "code",
   "execution_count": 63,
   "metadata": {},
   "outputs": [],
   "source": []
  },
  {
   "cell_type": "code",
   "execution_count": 64,
   "metadata": {},
   "outputs": [],
   "source": []
  },
  {
   "cell_type": "code",
   "execution_count": 67,
   "metadata": {},
   "outputs": [
    {
     "data": {
      "text/plain": [
       "<seaborn.axisgrid.JointGrid at 0x7f80941a3dd0>"
      ]
     },
     "execution_count": 67,
     "metadata": {},
     "output_type": "execute_result"
    },
    {
     "data": {
      "image/png": "[encoded data removed]",
      "text/plain": [
       "<Figure size 432x432 with 3 Axes>"
      ]
     },
     "metadata": {
      "needs_background": "light"
     },
     "output_type": "display_data"
    }
   ],
   "source": [
    "sns.jointplot(x=df['Distance Eyre Square'],y=df['price per month'],data=df,kind='reg')"
   ]
  },
  {
   "cell_type": "code",
   "execution_count": 68,
   "metadata": {},
   "outputs": [],
   "source": [
    "x_multi=df.drop('price per month',axis=1) \n",
    "\n"
   ]
  },
  {
   "cell_type": "code",
   "execution_count": 69,
   "metadata": {},
   "outputs": [
    {
     "data": {
      "text/html": [
       "<div>\n",
       "<style scoped>\n",
       "    .dataframe tbody tr th:only-of-type {\n",
       "        vertical-align: middle;\n",
       "    }\n",
       "\n",
       "    .dataframe tbody tr th {\n",
       "        vertical-align: top;\n",
       "    }\n",
       "\n",
       "    .dataframe thead th {\n",
       "        text-align: right;\n",
       "    }\n",
       "</style>\n",
       "<table border=\"1\" class=\"dataframe\">\n",
       "  <thead>\n",
       "    <tr style=\"text-align: right;\">\n",
       "      <th></th>\n",
       "      <th>Distance Eyre Square</th>\n",
       "      <th>Distance Salthill</th>\n",
       "      <th>Distance NUIG</th>\n",
       "      <th>Distance GMIT</th>\n",
       "      <th>number of rooms</th>\n",
       "      <th>number of bathrooms</th>\n",
       "      <th>BER</th>\n",
       "      <th>connection_attached</th>\n",
       "      <th>connection_detached</th>\n",
       "      <th>balcony_yes</th>\n",
       "      <th>heating_electric</th>\n",
       "    </tr>\n",
       "  </thead>\n",
       "  <tbody>\n",
       "    <tr>\n",
       "      <th>13</th>\n",
       "      <td>0.445973</td>\n",
       "      <td>0.120132</td>\n",
       "      <td>0.267824</td>\n",
       "      <td>0.608024</td>\n",
       "      <td>0.75</td>\n",
       "      <td>0.50</td>\n",
       "      <td>0.600000</td>\n",
       "      <td>0</td>\n",
       "      <td>1</td>\n",
       "      <td>0</td>\n",
       "      <td>0</td>\n",
       "    </tr>\n",
       "    <tr>\n",
       "      <th>17</th>\n",
       "      <td>0.478989</td>\n",
       "      <td>0.178091</td>\n",
       "      <td>0.273865</td>\n",
       "      <td>0.633449</td>\n",
       "      <td>0.50</td>\n",
       "      <td>0.50</td>\n",
       "      <td>0.400000</td>\n",
       "      <td>0</td>\n",
       "      <td>1</td>\n",
       "      <td>0</td>\n",
       "      <td>0</td>\n",
       "    </tr>\n",
       "    <tr>\n",
       "      <th>18</th>\n",
       "      <td>0.347422</td>\n",
       "      <td>0.229970</td>\n",
       "      <td>0.110599</td>\n",
       "      <td>0.528600</td>\n",
       "      <td>0.50</td>\n",
       "      <td>0.00</td>\n",
       "      <td>0.666667</td>\n",
       "      <td>1</td>\n",
       "      <td>0</td>\n",
       "      <td>0</td>\n",
       "      <td>0</td>\n",
       "    </tr>\n",
       "    <tr>\n",
       "      <th>19</th>\n",
       "      <td>0.218543</td>\n",
       "      <td>0.069994</td>\n",
       "      <td>0.174749</td>\n",
       "      <td>0.427021</td>\n",
       "      <td>1.00</td>\n",
       "      <td>0.25</td>\n",
       "      <td>0.333333</td>\n",
       "      <td>0</td>\n",
       "      <td>1</td>\n",
       "      <td>0</td>\n",
       "      <td>0</td>\n",
       "    </tr>\n",
       "    <tr>\n",
       "      <th>21</th>\n",
       "      <td>0.000000</td>\n",
       "      <td>0.246776</td>\n",
       "      <td>0.114896</td>\n",
       "      <td>0.292830</td>\n",
       "      <td>0.50</td>\n",
       "      <td>0.25</td>\n",
       "      <td>0.666667</td>\n",
       "      <td>1</td>\n",
       "      <td>0</td>\n",
       "      <td>1</td>\n",
       "      <td>0</td>\n",
       "    </tr>\n",
       "  </tbody>\n",
       "</table>\n",
       "</div>"
      ],
      "text/plain": [
       "    Distance Eyre Square  Distance Salthill  Distance NUIG  Distance GMIT  \\\n",
       "13              0.445973           0.120132       0.267824       0.608024   \n",
       "17              0.478989           0.178091       0.273865       0.633449   \n",
       "18              0.347422           0.229970       0.110599       0.528600   \n",
       "19              0.218543           0.069994       0.174749       0.427021   \n",
       "21              0.000000           0.246776       0.114896       0.292830   \n",
       "\n",
       "    number of rooms  number of bathrooms       BER  connection_attached  \\\n",
       "13             0.75                 0.50  0.600000                    0   \n",
       "17             0.50                 0.50  0.400000                    0   \n",
       "18             0.50                 0.00  0.666667                    1   \n",
       "19             1.00                 0.25  0.333333                    0   \n",
       "21             0.50                 0.25  0.666667                    1   \n",
       "\n",
       "    connection_detached  balcony_yes  heating_electric  \n",
       "13                    1            0                 0  \n",
       "17                    1            0                 0  \n",
       "18                    0            0                 0  \n",
       "19                    1            0                 0  \n",
       "21                    0            1                 0  "
      ]
     },
     "execution_count": 69,
     "metadata": {},
     "output_type": "execute_result"
    }
   ],
   "source": [
    "x_multi.head()\n"
   ]
  },
  {
   "cell_type": "code",
   "execution_count": 70,
   "metadata": {},
   "outputs": [],
   "source": [
    "y_multi = df['price per month']"
   ]
  },
  {
   "cell_type": "code",
   "execution_count": 71,
   "metadata": {},
   "outputs": [
    {
     "data": {
      "text/plain": [
       "13    2800\n",
       "17    1500\n",
       "18    1300\n",
       "19    2500\n",
       "21     620\n",
       "Name: price per month, dtype: int64"
      ]
     },
     "execution_count": 71,
     "metadata": {},
     "output_type": "execute_result"
    }
   ],
   "source": [
    "y_multi.head()"
   ]
  },
  {
   "cell_type": "code",
   "execution_count": 72,
   "metadata": {},
   "outputs": [],
   "source": [
    "x_multi_cons=sn.add_constant(x_multi) "
   ]
  },
  {
   "cell_type": "code",
   "execution_count": 73,
   "metadata": {},
   "outputs": [
    {
     "data": {
      "text/html": [
       "<div>\n",
       "<style scoped>\n",
       "    .dataframe tbody tr th:only-of-type {\n",
       "        vertical-align: middle;\n",
       "    }\n",
       "\n",
       "    .dataframe tbody tr th {\n",
       "        vertical-align: top;\n",
       "    }\n",
       "\n",
       "    .dataframe thead th {\n",
       "        text-align: right;\n",
       "    }\n",
       "</style>\n",
       "<table border=\"1\" class=\"dataframe\">\n",
       "  <thead>\n",
       "    <tr style=\"text-align: right;\">\n",
       "      <th></th>\n",
       "      <th>const</th>\n",
       "      <th>Distance Eyre Square</th>\n",
       "      <th>Distance Salthill</th>\n",
       "      <th>Distance NUIG</th>\n",
       "      <th>Distance GMIT</th>\n",
       "      <th>number of rooms</th>\n",
       "      <th>number of bathrooms</th>\n",
       "      <th>BER</th>\n",
       "      <th>connection_attached</th>\n",
       "      <th>connection_detached</th>\n",
       "      <th>balcony_yes</th>\n",
       "      <th>heating_electric</th>\n",
       "    </tr>\n",
       "  </thead>\n",
       "  <tbody>\n",
       "    <tr>\n",
       "      <th>13</th>\n",
       "      <td>1.0</td>\n",
       "      <td>0.445973</td>\n",
       "      <td>0.120132</td>\n",
       "      <td>0.267824</td>\n",
       "      <td>0.608024</td>\n",
       "      <td>0.75</td>\n",
       "      <td>0.50</td>\n",
       "      <td>0.600000</td>\n",
       "      <td>0</td>\n",
       "      <td>1</td>\n",
       "      <td>0</td>\n",
       "      <td>0</td>\n",
       "    </tr>\n",
       "    <tr>\n",
       "      <th>17</th>\n",
       "      <td>1.0</td>\n",
       "      <td>0.478989</td>\n",
       "      <td>0.178091</td>\n",
       "      <td>0.273865</td>\n",
       "      <td>0.633449</td>\n",
       "      <td>0.50</td>\n",
       "      <td>0.50</td>\n",
       "      <td>0.400000</td>\n",
       "      <td>0</td>\n",
       "      <td>1</td>\n",
       "      <td>0</td>\n",
       "      <td>0</td>\n",
       "    </tr>\n",
       "    <tr>\n",
       "      <th>18</th>\n",
       "      <td>1.0</td>\n",
       "      <td>0.347422</td>\n",
       "      <td>0.229970</td>\n",
       "      <td>0.110599</td>\n",
       "      <td>0.528600</td>\n",
       "      <td>0.50</td>\n",
       "      <td>0.00</td>\n",
       "      <td>0.666667</td>\n",
       "      <td>1</td>\n",
       "      <td>0</td>\n",
       "      <td>0</td>\n",
       "      <td>0</td>\n",
       "    </tr>\n",
       "    <tr>\n",
       "      <th>19</th>\n",
       "      <td>1.0</td>\n",
       "      <td>0.218543</td>\n",
       "      <td>0.069994</td>\n",
       "      <td>0.174749</td>\n",
       "      <td>0.427021</td>\n",
       "      <td>1.00</td>\n",
       "      <td>0.25</td>\n",
       "      <td>0.333333</td>\n",
       "      <td>0</td>\n",
       "      <td>1</td>\n",
       "      <td>0</td>\n",
       "      <td>0</td>\n",
       "    </tr>\n",
       "    <tr>\n",
       "      <th>21</th>\n",
       "      <td>1.0</td>\n",
       "      <td>0.000000</td>\n",
       "      <td>0.246776</td>\n",
       "      <td>0.114896</td>\n",
       "      <td>0.292830</td>\n",
       "      <td>0.50</td>\n",
       "      <td>0.25</td>\n",
       "      <td>0.666667</td>\n",
       "      <td>1</td>\n",
       "      <td>0</td>\n",
       "      <td>1</td>\n",
       "      <td>0</td>\n",
       "    </tr>\n",
       "  </tbody>\n",
       "</table>\n",
       "</div>"
      ],
      "text/plain": [
       "    const  Distance Eyre Square  Distance Salthill  Distance NUIG  \\\n",
       "13    1.0              0.445973           0.120132       0.267824   \n",
       "17    1.0              0.478989           0.178091       0.273865   \n",
       "18    1.0              0.347422           0.229970       0.110599   \n",
       "19    1.0              0.218543           0.069994       0.174749   \n",
       "21    1.0              0.000000           0.246776       0.114896   \n",
       "\n",
       "    Distance GMIT  number of rooms  number of bathrooms       BER  \\\n",
       "13       0.608024             0.75                 0.50  0.600000   \n",
       "17       0.633449             0.50                 0.50  0.400000   \n",
       "18       0.528600             0.50                 0.00  0.666667   \n",
       "19       0.427021             1.00                 0.25  0.333333   \n",
       "21       0.292830             0.50                 0.25  0.666667   \n",
       "\n",
       "    connection_attached  connection_detached  balcony_yes  heating_electric  \n",
       "13                    0                    1            0                 0  \n",
       "17                    0                    1            0                 0  \n",
       "18                    1                    0            0                 0  \n",
       "19                    0                    1            0                 0  \n",
       "21                    1                    0            1                 0  "
      ]
     },
     "execution_count": 73,
     "metadata": {},
     "output_type": "execute_result"
    }
   ],
   "source": [
    "x_multi_cons.head() "
   ]
  },
  {
   "cell_type": "code",
   "execution_count": 74,
   "metadata": {},
   "outputs": [],
   "source": [
    "ln_multi=sn.OLS(y_multi,x_multi_cons).fit()\n"
   ]
  },
  {
   "cell_type": "code",
   "execution_count": 75,
   "metadata": {},
   "outputs": [
    {
     "data": {
      "text/html": [
       "<table class=\"simpletable\">\n",
       "<caption>OLS Regression Results</caption>\n",
       "<tr>\n",
       "  <th>Dep. Variable:</th>     <td>price per month</td> <th>  R-squared:         </th> <td>   0.492</td>\n",
       "</tr>\n",
       "<tr>\n",
       "  <th>Model:</th>                   <td>OLS</td>       <th>  Adj. R-squared:    </th> <td>   0.444</td>\n",
       "</tr>\n",
       "<tr>\n",
       "  <th>Method:</th>             <td>Least Squares</td>  <th>  F-statistic:       </th> <td>   10.21</td>\n",
       "</tr>\n",
       "<tr>\n",
       "  <th>Date:</th>             <td>Sun, 15 Aug 2021</td> <th>  Prob (F-statistic):</th> <td>7.95e-13</td>\n",
       "</tr>\n",
       "<tr>\n",
       "  <th>Time:</th>                 <td>16:29:54</td>     <th>  Log-Likelihood:    </th> <td> -921.96</td>\n",
       "</tr>\n",
       "<tr>\n",
       "  <th>No. Observations:</th>      <td>   128</td>      <th>  AIC:               </th> <td>   1868.</td>\n",
       "</tr>\n",
       "<tr>\n",
       "  <th>Df Residuals:</th>          <td>   116</td>      <th>  BIC:               </th> <td>   1902.</td>\n",
       "</tr>\n",
       "<tr>\n",
       "  <th>Df Model:</th>              <td>    11</td>      <th>                     </th>     <td> </td>   \n",
       "</tr>\n",
       "<tr>\n",
       "  <th>Covariance Type:</th>      <td>nonrobust</td>    <th>                     </th>     <td> </td>   \n",
       "</tr>\n",
       "</table>\n",
       "<table class=\"simpletable\">\n",
       "<tr>\n",
       "            <td></td>              <th>coef</th>     <th>std err</th>      <th>t</th>      <th>P>|t|</th>  <th>[0.025</th>    <th>0.975]</th>  \n",
       "</tr>\n",
       "<tr>\n",
       "  <th>const</th>                <td> 1488.8104</td> <td>  191.334</td> <td>    7.781</td> <td> 0.000</td> <td> 1109.849</td> <td> 1867.771</td>\n",
       "</tr>\n",
       "<tr>\n",
       "  <th>Distance Eyre Square</th> <td> -273.5446</td> <td>  672.683</td> <td>   -0.407</td> <td> 0.685</td> <td>-1605.878</td> <td> 1058.788</td>\n",
       "</tr>\n",
       "<tr>\n",
       "  <th>Distance Salthill</th>    <td> -560.7078</td> <td>  374.281</td> <td>   -1.498</td> <td> 0.137</td> <td>-1302.018</td> <td>  180.603</td>\n",
       "</tr>\n",
       "<tr>\n",
       "  <th>Distance NUIG</th>        <td> -153.2393</td> <td>  567.803</td> <td>   -0.270</td> <td> 0.788</td> <td>-1277.845</td> <td>  971.367</td>\n",
       "</tr>\n",
       "<tr>\n",
       "  <th>Distance GMIT</th>        <td> -215.6639</td> <td>  378.889</td> <td>   -0.569</td> <td> 0.570</td> <td> -966.101</td> <td>  534.773</td>\n",
       "</tr>\n",
       "<tr>\n",
       "  <th>number of rooms</th>      <td>  903.8809</td> <td>  175.762</td> <td>    5.143</td> <td> 0.000</td> <td>  555.763</td> <td> 1251.999</td>\n",
       "</tr>\n",
       "<tr>\n",
       "  <th>number of bathrooms</th>  <td>  673.6659</td> <td>  204.287</td> <td>    3.298</td> <td> 0.001</td> <td>  269.050</td> <td> 1078.282</td>\n",
       "</tr>\n",
       "<tr>\n",
       "  <th>BER</th>                  <td>  420.3448</td> <td>  153.941</td> <td>    2.731</td> <td> 0.007</td> <td>  115.445</td> <td>  725.244</td>\n",
       "</tr>\n",
       "<tr>\n",
       "  <th>connection_attached</th>  <td> -223.0933</td> <td>  111.811</td> <td>   -1.995</td> <td> 0.048</td> <td> -444.549</td> <td>   -1.638</td>\n",
       "</tr>\n",
       "<tr>\n",
       "  <th>connection_detached</th>  <td>  -99.4181</td> <td>   97.809</td> <td>   -1.016</td> <td> 0.312</td> <td> -293.141</td> <td>   94.305</td>\n",
       "</tr>\n",
       "<tr>\n",
       "  <th>balcony_yes</th>          <td>    6.7834</td> <td>  115.583</td> <td>    0.059</td> <td> 0.953</td> <td> -222.143</td> <td>  235.710</td>\n",
       "</tr>\n",
       "<tr>\n",
       "  <th>heating_electric</th>     <td>  106.4215</td> <td>  135.166</td> <td>    0.787</td> <td> 0.433</td> <td> -161.291</td> <td>  374.134</td>\n",
       "</tr>\n",
       "</table>\n",
       "<table class=\"simpletable\">\n",
       "<tr>\n",
       "  <th>Omnibus:</th>       <td>21.255</td> <th>  Durbin-Watson:     </th> <td>   1.886</td>\n",
       "</tr>\n",
       "<tr>\n",
       "  <th>Prob(Omnibus):</th> <td> 0.000</td> <th>  Jarque-Bera (JB):  </th> <td>  77.369</td>\n",
       "</tr>\n",
       "<tr>\n",
       "  <th>Skew:</th>          <td> 0.436</td> <th>  Prob(JB):          </th> <td>1.58e-17</td>\n",
       "</tr>\n",
       "<tr>\n",
       "  <th>Kurtosis:</th>      <td> 6.708</td> <th>  Cond. No.          </th> <td>    52.5</td>\n",
       "</tr>\n",
       "</table><br/><br/>Warnings:<br/>[1] Standard Errors assume that the covariance matrix of the errors is correctly specified."
      ],
      "text/plain": [
       "<class 'statsmodels.iolib.summary.Summary'>\n",
       "\"\"\"\n",
       "                            OLS Regression Results                            \n",
       "==============================================================================\n",
       "Dep. Variable:        price per month   R-squared:                       0.492\n",
       "Model:                            OLS   Adj. R-squared:                  0.444\n",
       "Method:                 Least Squares   F-statistic:                     10.21\n",
       "Date:                Sun, 15 Aug 2021   Prob (F-statistic):           7.95e-13\n",
       "Time:                        16:29:54   Log-Likelihood:                -921.96\n",
       "No. Observations:                 128   AIC:                             1868.\n",
       "Df Residuals:                     116   BIC:                             1902.\n",
       "Df Model:                          11                                         \n",
       "Covariance Type:            nonrobust                                         \n",
       "========================================================================================\n",
       "                           coef    std err          t      P>|t|      [0.025      0.975]\n",
       "----------------------------------------------------------------------------------------\n",
       "const                 1488.8104    191.334      7.781      0.000    1109.849    1867.771\n",
       "Distance Eyre Square  -273.5446    672.683     -0.407      0.685   -1605.878    1058.788\n",
       "Distance Salthill     -560.7078    374.281     -1.498      0.137   -1302.018     180.603\n",
       "Distance NUIG         -153.2393    567.803     -0.270      0.788   -1277.845     971.367\n",
       "Distance GMIT         -215.6639    378.889     -0.569      0.570    -966.101     534.773\n",
       "number of rooms        903.8809    175.762      5.143      0.000     555.763    1251.999\n",
       "number of bathrooms    673.6659    204.287      3.298      0.001     269.050    1078.282\n",
       "BER                    420.3448    153.941      2.731      0.007     115.445     725.244\n",
       "connection_attached   -223.0933    111.811     -1.995      0.048    -444.549      -1.638\n",
       "connection_detached    -99.4181     97.809     -1.016      0.312    -293.141      94.305\n",
       "balcony_yes              6.7834    115.583      0.059      0.953    -222.143     235.710\n",
       "heating_electric       106.4215    135.166      0.787      0.433    -161.291     374.134\n",
       "==============================================================================\n",
       "Omnibus:                       21.255   Durbin-Watson:                   1.886\n",
       "Prob(Omnibus):                  0.000   Jarque-Bera (JB):               77.369\n",
       "Skew:                           0.436   Prob(JB):                     1.58e-17\n",
       "Kurtosis:                       6.708   Cond. No.                         52.5\n",
       "==============================================================================\n",
       "\n",
       "Warnings:\n",
       "[1] Standard Errors assume that the covariance matrix of the errors is correctly specified.\n",
       "\"\"\""
      ]
     },
     "execution_count": 75,
     "metadata": {},
     "output_type": "execute_result"
    }
   ],
   "source": [
    "ln_multi.summary() "
   ]
  },
  {
   "cell_type": "markdown",
   "metadata": {},
   "source": [
    "number of rooms,\n",
    "baths\n",
    "ber\n",
    "and connectiong detached seems important \n",
    "a lot of the P values are pretty big, larger than the .5 we were looking for \n"
   ]
  },
  {
   "cell_type": "code",
   "execution_count": 76,
   "metadata": {},
   "outputs": [],
   "source": [
    "lm3=LinearRegression()"
   ]
  },
  {
   "cell_type": "code",
   "execution_count": 77,
   "metadata": {},
   "outputs": [
    {
     "data": {
      "text/plain": [
       "LinearRegression(copy_X=True, fit_intercept=True, n_jobs=None, normalize=False)"
      ]
     },
     "execution_count": 77,
     "metadata": {},
     "output_type": "execute_result"
    }
   ],
   "source": [
    "lm3.fit(x_multi,y_multi)\n"
   ]
  },
  {
   "cell_type": "code",
   "execution_count": 78,
   "metadata": {},
   "outputs": [
    {
     "name": "stdout",
     "output_type": "stream",
     "text": [
      "1488.8104138379779 [-273.54463373 -560.70777085 -153.23925947 -215.66389996  903.88093858\n",
      "  673.66591327  420.34477272 -223.09330368  -99.41812317    6.78336426\n",
      "  106.42150601]\n"
     ]
    }
   ],
   "source": [
    "print(lm3.intercept_,lm3.coef_) \n"
   ]
  },
  {
   "cell_type": "code",
   "execution_count": 79,
   "metadata": {},
   "outputs": [],
   "source": [
    "from sklearn.model_selection import train_test_split"
   ]
  },
  {
   "cell_type": "code",
   "execution_count": 80,
   "metadata": {},
   "outputs": [],
   "source": [
    "X_train,X_test,Y_train,Y_test =train_test_split(x_multi,y_multi, test_size = 0.2,random_state=0)"
   ]
  },
  {
   "cell_type": "code",
   "execution_count": 81,
   "metadata": {},
   "outputs": [
    {
     "name": "stdout",
     "output_type": "stream",
     "text": [
      "(102, 11) (26, 11) (102,) (26,)\n"
     ]
    }
   ],
   "source": [
    "print(X_train.shape,X_test.shape,Y_train.shape,Y_test.shape) "
   ]
  },
  {
   "cell_type": "code",
   "execution_count": 82,
   "metadata": {},
   "outputs": [],
   "source": [
    "ln_a =LinearRegression()"
   ]
  },
  {
   "cell_type": "code",
   "execution_count": 83,
   "metadata": {},
   "outputs": [
    {
     "data": {
      "text/plain": [
       "LinearRegression(copy_X=True, fit_intercept=True, n_jobs=None, normalize=False)"
      ]
     },
     "execution_count": 83,
     "metadata": {},
     "output_type": "execute_result"
    }
   ],
   "source": [
    "ln_a.fit(X_train,Y_train)"
   ]
  },
  {
   "cell_type": "code",
   "execution_count": 84,
   "metadata": {},
   "outputs": [],
   "source": [
    "Y_test_a=ln_a.predict(X_test)"
   ]
  },
  {
   "cell_type": "code",
   "execution_count": 85,
   "metadata": {},
   "outputs": [],
   "source": [
    "Y_train_a=ln_a.predict(X_train)"
   ]
  },
  {
   "cell_type": "code",
   "execution_count": 86,
   "metadata": {},
   "outputs": [],
   "source": [
    "from sklearn.metrics import r2_score"
   ]
  },
  {
   "cell_type": "code",
   "execution_count": 87,
   "metadata": {},
   "outputs": [
    {
     "data": {
      "text/plain": [
       "-0.0288384309869536"
      ]
     },
     "execution_count": 87,
     "metadata": {},
     "output_type": "execute_result"
    }
   ],
   "source": [
    "r2_score(Y_test,Y_test_a)"
   ]
  },
  {
   "cell_type": "code",
   "execution_count": 88,
   "metadata": {},
   "outputs": [
    {
     "data": {
      "text/plain": [
       "0.5559774127346002"
      ]
     },
     "execution_count": 88,
     "metadata": {},
     "output_type": "execute_result"
    }
   ],
   "source": [
    "r2_score(Y_train,Y_train_a)"
   ]
  },
  {
   "cell_type": "code",
   "execution_count": null,
   "metadata": {},
   "outputs": [],
   "source": []
  },
  {
   "cell_type": "code",
   "execution_count": 89,
   "metadata": {},
   "outputs": [],
   "source": [
    "y_pred=ln_a.predict(X_test)"
   ]
  },
  {
   "cell_type": "code",
   "execution_count": 90,
   "metadata": {},
   "outputs": [
    {
     "name": "stdout",
     "output_type": "stream",
     "text": [
      "1417.99528491187 [ 177.22139279 -127.77716678 -847.30596862 -293.69856599 1080.54871991\n",
      "  747.141544    192.23421434 -286.14687738 -159.59620988  -19.76231735\n",
      "  205.91259589]\n"
     ]
    }
   ],
   "source": [
    "print(ln_a.intercept_,ln_a.coef_)"
   ]
  },
  {
   "cell_type": "code",
   "execution_count": 91,
   "metadata": {},
   "outputs": [],
   "source": [
    "def rmse(y_true, y_pred):\n",
    "    '''\n",
    "    Compute Root Mean Square Percentage Error between two arrays.\n",
    "    '''\n",
    "    loss = np.sqrt(np.mean(np.square(((y_true - y_pred) / y_true)), axis=0))*100\n",
    "\n",
    "    return loss"
   ]
  },
  {
   "cell_type": "code",
   "execution_count": 92,
   "metadata": {},
   "outputs": [
    {
     "name": "stdout",
     "output_type": "stream",
     "text": [
      "R2: -0.0288384309869536\n",
      "RMSE: 413.20822113006665\n",
      "Root Mean Square Percentage Error: 21.381369906186826\n"
     ]
    }
   ],
   "source": [
    "from sklearn import metrics \n",
    "\n",
    "print('R2:',r2_score(Y_test,Y_test_a))\n",
    "print('RMSE:',np.sqrt(metrics.mean_squared_error(Y_test,y_pred)))\n",
    "print('Root Mean Square Percentage Error:', rmse(Y_test, y_pred))"
   ]
  },
  {
   "cell_type": "code",
   "execution_count": 93,
   "metadata": {},
   "outputs": [],
   "source": [
    "from sklearn import preprocessing "
   ]
  },
  {
   "cell_type": "code",
   "execution_count": 94,
   "metadata": {},
   "outputs": [],
   "source": [
    "scaler=preprocessing.StandardScaler().fit(X_train) "
   ]
  },
  {
   "cell_type": "code",
   "execution_count": 95,
   "metadata": {},
   "outputs": [],
   "source": [
    "\n",
    "X_train_s=X_train"
   ]
  },
  {
   "cell_type": "code",
   "execution_count": 96,
   "metadata": {},
   "outputs": [],
   "source": [
    "\n",
    "X_test_s=X_test"
   ]
  },
  {
   "cell_type": "code",
   "execution_count": 97,
   "metadata": {},
   "outputs": [],
   "source": [
    "from sklearn.linear_model import Ridge"
   ]
  },
  {
   "cell_type": "code",
   "execution_count": 98,
   "metadata": {},
   "outputs": [
    {
     "data": {
      "text/plain": [
       "Ridge(alpha=0.5, copy_X=True, fit_intercept=True, max_iter=None,\n",
       "      normalize=False, random_state=None, solver='auto', tol=0.001)"
      ]
     },
     "execution_count": 98,
     "metadata": {},
     "output_type": "execute_result"
    }
   ],
   "source": [
    "ln_r=Ridge(alpha=0.5)\n",
    "ln_r.fit(X_train_s,Y_train)"
   ]
  },
  {
   "cell_type": "code",
   "execution_count": 99,
   "metadata": {},
   "outputs": [
    {
     "data": {
      "text/plain": [
       "0.06318353124429887"
      ]
     },
     "execution_count": 99,
     "metadata": {},
     "output_type": "execute_result"
    }
   ],
   "source": [
    "r2_score(Y_test,ln_r.predict(X_test_s))"
   ]
  },
  {
   "cell_type": "code",
   "execution_count": 100,
   "metadata": {},
   "outputs": [
    {
     "name": "stdout",
     "output_type": "stream",
     "text": [
      "1453.8945360291589 [-238.87670585 -138.19253263 -419.29004172  -96.0606258   989.42100575\n",
      "  617.44687308  205.16145373 -273.49338793 -141.10404757  -41.87598167\n",
      "  147.22277037]\n"
     ]
    }
   ],
   "source": [
    "print(ln_r.intercept_,ln_r.coef_) "
   ]
  },
  {
   "cell_type": "code",
   "execution_count": 101,
   "metadata": {},
   "outputs": [],
   "source": [
    "y_pred3=ln_r.predict(X_test_s)"
   ]
  },
  {
   "cell_type": "code",
   "execution_count": 102,
   "metadata": {},
   "outputs": [
    {
     "name": "stdout",
     "output_type": "stream",
     "text": [
      "R2: 0.06318353124429887\n",
      "MAE: 306.39783213107575\n",
      "MSE: 155469.51565467025\n",
      "RMSE: 394.2962283038861\n",
      "Root Mean Square Percentage Error: 20.77767567084367\n"
     ]
    }
   ],
   "source": [
    "from sklearn import metrics \n",
    "print('R2:', r2_score(Y_test,ln_r.predict(X_test_s)))\n",
    "print('MAE:', metrics.mean_absolute_error(Y_test,y_pred3))\n",
    "print('MSE:',metrics.mean_squared_error(Y_test,y_pred3))\n",
    "print('RMSE:',np.sqrt(metrics.mean_squared_error(Y_test,y_pred3)))\n",
    "print('Root Mean Square Percentage Error:', rmse(Y_test, y_pred3))"
   ]
  },
  {
   "cell_type": "markdown",
   "metadata": {},
   "source": [
    "still very low r2, rmse is much higher "
   ]
  },
  {
   "cell_type": "code",
   "execution_count": 103,
   "metadata": {},
   "outputs": [],
   "source": [
    "from sklearn.model_selection import validation_curve"
   ]
  },
  {
   "cell_type": "code",
   "execution_count": 104,
   "metadata": {},
   "outputs": [],
   "source": [
    "param_range=np.logspace(-2,8,100) #creates 100 values"
   ]
  },
  {
   "cell_type": "code",
   "execution_count": 105,
   "metadata": {},
   "outputs": [
    {
     "data": {
      "text/plain": [
       "array([1.00000000e-02, 1.26185688e-02, 1.59228279e-02, 2.00923300e-02,\n",
       "       2.53536449e-02, 3.19926714e-02, 4.03701726e-02, 5.09413801e-02,\n",
       "       6.42807312e-02, 8.11130831e-02, 1.02353102e-01, 1.29154967e-01,\n",
       "       1.62975083e-01, 2.05651231e-01, 2.59502421e-01, 3.27454916e-01,\n",
       "       4.13201240e-01, 5.21400829e-01, 6.57933225e-01, 8.30217568e-01,\n",
       "       1.04761575e+00, 1.32194115e+00, 1.66810054e+00, 2.10490414e+00,\n",
       "       2.65608778e+00, 3.35160265e+00, 4.22924287e+00, 5.33669923e+00,\n",
       "       6.73415066e+00, 8.49753436e+00, 1.07226722e+01, 1.35304777e+01,\n",
       "       1.70735265e+01, 2.15443469e+01, 2.71858824e+01, 3.43046929e+01,\n",
       "       4.32876128e+01, 5.46227722e+01, 6.89261210e+01, 8.69749003e+01,\n",
       "       1.09749877e+02, 1.38488637e+02, 1.74752840e+02, 2.20513074e+02,\n",
       "       2.78255940e+02, 3.51119173e+02, 4.43062146e+02, 5.59081018e+02,\n",
       "       7.05480231e+02, 8.90215085e+02, 1.12332403e+03, 1.41747416e+03,\n",
       "       1.78864953e+03, 2.25701972e+03, 2.84803587e+03, 3.59381366e+03,\n",
       "       4.53487851e+03, 5.72236766e+03, 7.22080902e+03, 9.11162756e+03,\n",
       "       1.14975700e+04, 1.45082878e+04, 1.83073828e+04, 2.31012970e+04,\n",
       "       2.91505306e+04, 3.67837977e+04, 4.64158883e+04, 5.85702082e+04,\n",
       "       7.39072203e+04, 9.32603347e+04, 1.17681195e+05, 1.48496826e+05,\n",
       "       1.87381742e+05, 2.36448941e+05, 2.98364724e+05, 3.76493581e+05,\n",
       "       4.75081016e+05, 5.99484250e+05, 7.56463328e+05, 9.54548457e+05,\n",
       "       1.20450354e+06, 1.51991108e+06, 1.91791026e+06, 2.42012826e+06,\n",
       "       3.05385551e+06, 3.85352859e+06, 4.86260158e+06, 6.13590727e+06,\n",
       "       7.74263683e+06, 9.77009957e+06, 1.23284674e+07, 1.55567614e+07,\n",
       "       1.96304065e+07, 2.47707636e+07, 3.12571585e+07, 3.94420606e+07,\n",
       "       4.97702356e+07, 6.28029144e+07, 7.92482898e+07, 1.00000000e+08])"
      ]
     },
     "execution_count": 105,
     "metadata": {},
     "output_type": "execute_result"
    }
   ],
   "source": [
    "param_range\n"
   ]
  },
  {
   "cell_type": "code",
   "execution_count": 106,
   "metadata": {},
   "outputs": [],
   "source": [
    "train_scores,test_scores=validation_curve(Ridge(),X_train_s,Y_train,\"alpha\",param_range,scoring='r2')"
   ]
  },
  {
   "cell_type": "code",
   "execution_count": 107,
   "metadata": {},
   "outputs": [
    {
     "name": "stdout",
     "output_type": "stream",
     "text": [
      "[[5.49469674e-01 6.30053890e-01 5.26795931e-01 6.00887242e-01\n",
      "  5.34807540e-01]\n",
      " [5.49379664e-01 6.30051132e-01 5.26792217e-01 6.00866986e-01\n",
      "  5.34770844e-01]\n",
      " [5.49250476e-01 6.30046819e-01 5.26786420e-01 6.00837211e-01\n",
      "  5.34716930e-01]\n",
      " [5.49069052e-01 6.30040098e-01 5.26777405e-01 6.00794175e-01\n",
      "  5.34639074e-01]\n",
      " [5.48820556e-01 6.30029649e-01 5.26763445e-01 6.00733147e-01\n",
      "  5.34528868e-01]\n",
      " [5.48489603e-01 6.30013450e-01 5.26741922e-01 6.00648422e-01\n",
      "  5.34376346e-01]\n",
      " [5.48062138e-01 6.29988393e-01 5.26708901e-01 6.00533432e-01\n",
      "  5.34170415e-01]\n",
      " [5.47527628e-01 6.29949710e-01 5.26658496e-01 6.00380913e-01\n",
      "  5.33899540e-01]\n",
      " [5.46880855e-01 6.29890089e-01 5.26581964e-01 6.00182956e-01\n",
      "  5.33552449e-01]\n",
      " [5.46122336e-01 6.29798330e-01 5.26466404e-01 5.99930630e-01\n",
      "  5.33118387e-01]\n",
      " [5.45256492e-01 6.29657338e-01 5.26292914e-01 5.99612778e-01\n",
      "  5.32586259e-01]\n",
      " [5.44287072e-01 6.29441173e-01 5.26033968e-01 5.99213571e-01\n",
      "  5.31942032e-01]\n",
      " [5.43209992e-01 6.29110810e-01 5.25649747e-01 5.98708492e-01\n",
      "  5.31163963e-01]\n",
      " [5.42004160e-01 6.28608230e-01 5.25082982e-01 5.98058535e-01\n",
      "  5.30215541e-01]\n",
      " [5.40620944e-01 6.27848475e-01 5.24251892e-01 5.97202540e-01\n",
      "  5.29036378e-01]\n",
      " [5.38972723e-01 6.26709471e-01 5.23040799e-01 5.96047636e-01\n",
      "  5.27531425e-01]\n",
      " [5.36920775e-01 6.25019876e-01 5.21288446e-01 5.94457931e-01\n",
      "  5.25559100e-01]\n",
      " [5.34262964e-01 6.22545977e-01 5.18774914e-01 5.92242045e-01\n",
      "  5.22919429e-01]\n",
      " [5.30722581e-01 6.18979927e-01 5.15209479e-01 5.89140925e-01\n",
      "  5.19344202e-01]\n",
      " [5.25941154e-01 6.13933067e-01 5.10223642e-01 5.84818652e-01\n",
      "  5.14492634e-01]\n",
      " [5.19479781e-01 6.06939404e-01 5.03375300e-01 5.78860339e-01\n",
      "  5.07957272e-01]\n",
      " [5.10834755e-01 5.97474637e-01 4.94170518e-01 5.70782106e-01\n",
      "  4.99285167e-01]\n",
      " [4.99472877e-01 5.84994639e-01 4.82107541e-01 5.60057693e-01\n",
      "  4.88017362e-01]\n",
      " [4.84888849e-01 5.68993425e-01 4.66742476e-01 5.46164094e-01\n",
      "  4.73745143e-01]\n",
      " [4.66681257e-01 5.49074946e-01 4.47768390e-01 5.28644394e-01\n",
      "  4.56175080e-01]\n",
      " [4.44635910e-01 5.25027215e-01 4.25091911e-01 5.07180884e-01\n",
      "  4.35189519e-01]\n",
      " [4.18798686e-01 4.96883636e-01 3.98887783e-01 4.81666695e-01\n",
      "  4.10887920e-01]\n",
      " [3.89517805e-01 4.64957059e-01 3.69614979e-01 4.52261506e-01\n",
      "  3.83598955e-01]\n",
      " [3.57440153e-01 4.29837269e-01 3.37987424e-01 4.19417331e-01\n",
      "  3.53861507e-01]\n",
      " [3.23457207e-01 3.92350678e-01 3.04904226e-01 3.83864620e-01\n",
      "  3.22380494e-01]\n",
      " [2.88609650e-01 3.53488977e-01 2.71353996e-01 3.46556425e-01\n",
      "  2.89967040e-01]\n",
      " [2.53970710e-01 3.14318861e-01 2.38312317e-01 3.08577560e-01\n",
      "  2.57471886e-01]\n",
      " [2.20532553e-01 2.75886794e-01 2.06650517e-01 2.71034231e-01\n",
      "  2.25718662e-01]\n",
      " [1.89116856e-01 2.39132098e-01 1.77069128e-01 2.34944462e-01\n",
      "  1.95442708e-01]\n",
      " [1.60321979e-01 2.04819336e-01 1.50062557e-01 2.01149131e-01\n",
      "  1.67241556e-01]\n",
      " [1.34508847e-01 1.73497555e-01 1.25914573e-01 1.70257317e-01\n",
      "  1.41543202e-01]\n",
      " [1.11819056e-01 1.45489067e-01 1.04718614e-01 1.42630288e-01\n",
      "  1.18595996e-01]\n",
      " [9.22139741e-02 1.20905017e-01 8.64138298e-02 1.18399244e-01\n",
      "  9.84796031e-02]\n",
      " [7.55229395e-02 9.96803843e-02 7.08274494e-02 9.75059295e-02\n",
      "  8.11321588e-02]\n",
      " [6.14908450e-02 8.16189802e-02 5.77158640e-02 7.97535938e-02\n",
      "  6.63861873e-02]\n",
      " [4.98189865e-02 6.64395508e-02 4.67996351e-02 6.48577284e-02\n",
      "  5.40059427e-02]\n",
      " [4.01964617e-02 5.38166110e-02 3.77903683e-02 5.24897269e-02\n",
      "  4.37206935e-02]\n",
      " [3.23219511e-02 4.34126466e-02 3.04094102e-02 4.23103745e-02\n",
      "  3.52510056e-02]\n",
      " [2.59171741e-02 3.49009121e-02 2.43994765e-02 3.39929195e-02\n",
      "  2.83272962e-02]\n",
      " [2.07338844e-02 2.79797374e-02 1.95307651e-02 2.72371191e-02\n",
      "  2.27013818e-02]\n",
      " [1.65562817e-02 2.23800548e-02 1.56031116e-02 2.17763157e-02\n",
      "  1.81524464e-02]\n",
      " [1.32004389e-02 1.78680192e-02 1.24455268e-02 1.73796080e-02\n",
      "  1.44889923e-02]\n",
      " [1.05119753e-02 1.42443942e-02 9.91416053e-03 1.38508767e-02\n",
      "  1.15481672e-02]\n",
      " [8.36285303e-03 1.13420229e-02 7.88945215e-03 1.10260036e-02\n",
      "  9.19355878e-03]\n",
      " [6.64787955e-03 9.02233880e-03 6.27298388e-03 8.76922970e-03\n",
      "  7.31224024e-03]\n",
      " [5.28127309e-03 7.17155490e-03 4.98436387e-03 6.96926615e-03\n",
      "  5.81158498e-03]\n",
      " [4.19349310e-03 5.69692424e-03 3.95832767e-03 5.53552956e-03\n",
      "  4.61616531e-03]\n",
      " [3.32842877e-03 4.52329166e-03 3.14215159e-03 4.39470104e-03\n",
      "  3.66490799e-03]\n",
      " [2.64097350e-03 3.59003871e-03 2.49340983e-03 3.48769712e-03\n",
      "  2.90858416e-03]\n",
      " [2.09497371e-03 2.84845084e-03 1.97806981e-03 2.76707143e-03\n",
      "  2.30765278e-03]\n",
      " [1.66151961e-03 2.25949327e-03 1.56889973e-03 2.19482759e-03\n",
      "  1.83044301e-03]\n",
      " [1.31753673e-03 1.79195935e-03 1.24415281e-03 1.74060324e-03\n",
      "  1.45164394e-03]\n",
      " [1.04463531e-03 1.42094602e-03 9.86489875e-04 1.38017808e-03\n",
      "  1.15106280e-03]\n",
      " [8.28176270e-04 1.12660920e-03 7.82103427e-04 1.09425780e-03\n",
      "  9.12612414e-04]\n",
      " [6.56517093e-04 8.93154082e-04 6.20009232e-04 8.67488771e-04\n",
      "  7.23490482e-04]\n",
      " [5.20405247e-04 7.08020238e-04 4.91475977e-04 6.87663695e-04\n",
      "  5.73517705e-04]\n",
      " [4.12491862e-04 5.61226465e-04 3.89567545e-04 5.45083422e-04\n",
      "  4.54605945e-04]\n",
      " [3.26942763e-04 4.44845652e-04 3.08776666e-04 4.32045757e-04\n",
      "  3.60332135e-04]\n",
      " [2.59127971e-04 3.52584892e-04 2.44732302e-04 3.42436914e-04\n",
      "  2.85597700e-04]\n",
      " [2.05374226e-04 2.79450365e-04 1.93966315e-04 2.71405577e-04\n",
      "  2.26356827e-04]\n",
      " [1.62767962e-04 2.21480283e-04 1.53727646e-04 2.15103236e-04\n",
      "  1.79399953e-04]\n",
      " [1.28998615e-04 1.75532306e-04 1.21834483e-04 1.70477543e-04\n",
      "  1.42181470e-04]\n",
      " [1.02234089e-04 1.39114497e-04 9.65567387e-05 1.35108017e-04\n",
      "  1.12682712e-04]\n",
      " [8.10218402e-05 1.10250977e-04 7.65227015e-05 1.07075491e-04\n",
      "  8.93030965e-05]\n",
      " [6.42103529e-05 8.73752277e-05 6.06449029e-05 8.48584461e-05\n",
      "  7.07736732e-05]\n",
      " [5.08868188e-05 6.92453922e-05 4.80612861e-05 6.72507205e-05\n",
      "  5.60884936e-05]\n",
      " [4.03276950e-05 5.48770569e-05 3.80885247e-05 5.32962098e-05\n",
      "  4.44501567e-05]\n",
      " [3.19594868e-05 4.34899254e-05 3.01849927e-05 4.22370659e-05\n",
      "  3.52266075e-05]\n",
      " [2.53276470e-05 3.44655222e-05 2.39213971e-05 3.34726115e-05\n",
      "  2.79168725e-05]\n",
      " [2.00719158e-05 2.73136510e-05 1.89574907e-05 2.65267605e-05\n",
      "  2.21238880e-05]\n",
      " [1.59067684e-05 2.16457986e-05 1.50236081e-05 2.10221852e-05\n",
      "  1.75329561e-05]\n",
      " [1.26059163e-05 1.71540491e-05 1.19060285e-05 1.66598360e-05\n",
      "  1.38946641e-05]\n",
      " [9.99001985e-06 1.35943683e-05 9.43537166e-06 1.32027065e-05\n",
      "  1.10113441e-05]\n",
      " [7.91694923e-06 1.07733533e-05 7.47740064e-06 1.04629640e-05\n",
      "  8.72633983e-06]\n",
      " [6.27406530e-06 8.53772892e-06 5.92573095e-06 8.29174820e-06\n",
      "  6.91549892e-06]\n",
      " [4.97210103e-06 6.76602343e-06 4.69605225e-06 6.57108634e-06\n",
      "  5.48042960e-06]\n",
      " [3.94031230e-06 5.36196996e-06 3.72154852e-06 5.20748466e-06\n",
      "  4.34315613e-06]\n",
      " [3.12263468e-06 4.24927710e-06 2.94926822e-06 4.12684951e-06\n",
      "  3.44188287e-06]\n",
      " [2.47463745e-06 3.36748421e-06 2.33724756e-06 3.27046205e-06\n",
      "  2.72763702e-06]\n",
      " [1.96110966e-06 2.66867664e-06 1.85223056e-06 2.59178799e-06\n",
      "  2.16160802e-06]\n",
      " [1.55414700e-06 2.11488248e-06 1.46786219e-06 2.05394939e-06\n",
      "  1.71303885e-06]\n",
      " [1.23163563e-06 1.67600938e-06 1.16325641e-06 1.62772085e-06\n",
      "  1.35755491e-06]\n",
      " [9.76050617e-07 1.32820952e-06 9.21861267e-07 1.28994162e-06\n",
      "  1.07583963e-06]\n",
      " [7.73503702e-07 1.05258379e-06 7.30559575e-07 1.02225710e-06\n",
      "  8.52584869e-07]\n",
      " [6.12988632e-07 8.34154948e-07 5.78956149e-07 8.10121540e-07\n",
      "  6.75659156e-07]\n",
      " [4.85783118e-07 6.61053715e-07 4.58812960e-07 6.42007635e-07\n",
      "  5.35448469e-07]\n",
      " [3.84974883e-07 5.23873880e-07 3.63601495e-07 5.08780177e-07\n",
      "  4.24333844e-07]\n",
      " [3.05086054e-07 4.15161163e-07 2.88148011e-07 4.03199656e-07\n",
      "  3.36277371e-07]\n",
      " [2.41775508e-07 3.29008167e-07 2.28352399e-07 3.19528874e-07\n",
      "  2.66494101e-07]\n",
      " [1.91602973e-07 2.60733375e-07 1.80965389e-07 2.53221195e-07\n",
      "  2.11192040e-07]\n",
      " [1.51842090e-07 2.06626758e-07 1.43411987e-07 2.00673483e-07\n",
      "  1.67366094e-07]\n",
      " [1.20332266e-07 1.63748184e-07 1.13651554e-07 1.59030313e-07\n",
      "  1.32634776e-07]\n",
      " [9.53612674e-08 1.29767642e-07 9.00669171e-08 1.26028810e-07\n",
      "  1.05110797e-07]\n",
      " [7.55721763e-08 1.02838642e-07 7.13764944e-08 9.98756808e-08\n",
      "  8.32985129e-08]\n",
      " [5.98896589e-08 8.14978676e-08 5.65646529e-08 7.91497716e-08\n",
      "  6.60126492e-08]]\n",
      "[[ 5.18677846e-01  8.68954927e-02  5.65454319e-01 -3.87382531e-01\n",
      "   5.85616824e-01]\n",
      " [ 5.19229156e-01  8.71817012e-02  5.65547635e-01 -3.86257606e-01\n",
      "   5.86574276e-01]\n",
      " [ 5.19830026e-01  8.75292202e-02  5.65673577e-01 -3.84893661e-01\n",
      "   5.87710045e-01]\n",
      " [ 5.20459264e-01  8.79480484e-02  5.65843824e-01 -3.83250213e-01\n",
      "   5.89039688e-01]\n",
      " [ 5.21083464e-01  8.84486806e-02  5.66073759e-01 -3.81282063e-01\n",
      "   5.90572762e-01]\n",
      " [ 5.21655802e-01  8.90418556e-02  5.66383133e-01 -3.78937901e-01\n",
      "   5.92310120e-01]\n",
      " [ 5.22116364e-01  8.97383616e-02  5.66796490e-01 -3.76157574e-01\n",
      "   5.94241584e-01]\n",
      " [ 5.22394237e-01  9.05489859e-02  5.67343122e-01 -3.72867705e-01\n",
      "   5.96344612e-01]\n",
      " [ 5.22410938e-01  9.14846621e-02  5.68056273e-01 -3.68975697e-01\n",
      "   5.98584363e-01]\n",
      " [ 5.22084096e-01  9.25567510e-02  5.68971304e-01 -3.64362894e-01\n",
      "   6.00915120e-01]\n",
      " [ 5.21329882e-01  9.37772009e-02  5.70122591e-01 -3.58878357e-01\n",
      "   6.03282262e-01]\n",
      " [ 5.20062887e-01  9.51580944e-02  5.71538904e-01 -3.52335226e-01\n",
      "   6.05623204e-01]\n",
      " [ 5.18192972e-01  9.67098714e-02  5.73236950e-01 -3.44511692e-01\n",
      "   6.07865344e-01]\n",
      " [ 5.15619528e-01  9.84374195e-02  5.75212509e-01 -3.35158261e-01\n",
      "   6.09919098e-01]\n",
      " [ 5.12224421e-01  1.00333313e-01  5.77428251e-01 -3.24012534e-01\n",
      "   6.11664842e-01]\n",
      " [ 5.07865148e-01  1.02367853e-01  5.79797113e-01 -3.10822212e-01\n",
      "   6.12933570e-01]\n",
      " [ 5.02369762e-01  1.04476289e-01  5.82160405e-01 -2.95376264e-01\n",
      "   6.13482586e-01]\n",
      " [ 4.95535003e-01  1.06544728e-01  5.84261112e-01 -2.77542710e-01\n",
      "   6.12969427e-01]\n",
      " [ 4.87129017e-01  1.08397681e-01  5.85715419e-01 -2.57308967e-01\n",
      "   6.10929776e-01]\n",
      " [ 4.76900005e-01  1.09791591e-01  5.85989184e-01 -2.34817643e-01\n",
      "   6.06767984e-01]\n",
      " [ 4.64591881e-01  1.10419360e-01  5.84389874e-01 -2.10388566e-01\n",
      "   5.99770995e-01]\n",
      " [ 4.49967273e-01  1.09929907e-01  5.80086601e-01 -1.84518821e-01\n",
      "   5.89155923e-01]\n",
      " [ 4.32836882e-01  1.07963551e-01  5.72168838e-01 -1.57858228e-01\n",
      "   5.74156131e-01]\n",
      " [ 4.13092457e-01  1.04199021e-01  5.59746573e-01 -1.31166631e-01\n",
      "   5.54139501e-01]\n",
      " [ 3.90738954e-01  9.84029588e-02  5.42081653e-01 -1.05266716e-01\n",
      "   5.28738120e-01]\n",
      " [ 3.65920420e-01  9.04704912e-02  5.18726231e-01 -8.10052426e-02\n",
      "   4.97957091e-01]\n",
      " [ 3.38934197e-01  8.04474176e-02  4.89635998e-01 -5.92244516e-02\n",
      "   4.62229239e-01]\n",
      " [ 3.10229192e-01  6.85299458e-02  4.55228254e-01 -4.07304438e-02\n",
      "   4.22395703e-01]\n",
      " [ 2.80385896e-01  5.50440029e-02  4.16367796e-01 -2.62393687e-02\n",
      "   3.79615250e-01]\n",
      " [ 2.50078448e-01  4.04102360e-02  3.74281702e-01 -1.62935996e-02\n",
      "   3.35226901e-01]\n",
      " [ 2.20022150e-01  2.51020064e-02  3.30420721e-01 -1.11638560e-02\n",
      "   2.90600614e-01]\n",
      " [ 1.90913211e-01  9.60276141e-03  2.86295361e-01 -1.07730556e-02\n",
      "   2.47006661e-01]\n",
      " [ 1.63370042e-01 -5.63251189e-03  2.43317491e-01 -1.46783211e-02\n",
      "   2.05521243e-01]\n",
      " [ 1.37885922e-01 -2.02085649e-02  2.02673783e-01 -2.21269591e-02\n",
      "   1.66972333e-01]\n",
      " [ 1.14800534e-01 -3.38117977e-02  1.65247604e-01 -3.21726970e-02\n",
      "   1.31921292e-01]\n",
      " [ 9.42933277e-02 -4.62216035e-02  1.31593652e-01 -4.38169843e-02\n",
      "   1.00672747e-01]\n",
      " [ 7.63965928e-02 -5.73110744e-02  1.01958314e-01 -5.61365828e-02\n",
      "   7.33049461e-02]\n",
      " [ 6.10223238e-02 -6.70384197e-02  7.63313674e-02 -6.83709688e-02\n",
      "   4.97130987e-02]\n",
      " [ 4.79955714e-02 -7.54317891e-02  5.45124550e-02 -7.99615694e-02\n",
      "   2.96583925e-02]\n",
      " [ 3.70877319e-02 -8.25708805e-02  3.61781445e-02 -9.05500028e-02\n",
      "   1.28161343e-02]\n",
      " [ 2.80453122e-02 -8.85685188e-02  2.09401024e-02 -9.99498321e-02\n",
      "  -1.18200815e-03]\n",
      " [ 2.06120337e-02 -9.35545207e-02  8.38997535e-03 -1.08106565e-01\n",
      "  -1.27145469e-02]\n",
      " [ 1.45440010e-02 -9.76630503e-02 -1.86953200e-03 -1.15056894e-01\n",
      "  -2.21462877e-02]\n",
      " [ 9.61880290e-03 -1.01023711e-01 -1.02055780e-02 -1.20893503e-01\n",
      "  -2.98132389e-02]\n",
      " [ 5.63990209e-03 -1.03755985e-01 -1.69453644e-02 -1.25737898e-01\n",
      "  -3.60146711e-02]\n",
      " [ 2.43770829e-03 -1.05966331e-01 -2.23728113e-02 -1.29721277e-01\n",
      "  -4.10104272e-02]\n",
      " [-1.31465175e-04 -1.07747205e-01 -2.67293905e-02 -1.32972215e-01\n",
      "  -4.50217294e-02]\n",
      " [-2.18764223e-03 -1.09177339e-01 -3.02173480e-02 -1.35609540e-01\n",
      "  -4.82340648e-02]\n",
      " [-3.82997461e-03 -1.10322760e-01 -3.30040810e-02 -1.37738856e-01\n",
      "  -5.08011124e-02]\n",
      " [-5.13966106e-03 -1.11238190e-01 -3.52268715e-02 -1.39451468e-01\n",
      "  -5.28490095e-02]\n",
      " [-6.18274329e-03 -1.11968555e-01 -3.69974934e-02 -1.40824743e-01\n",
      "  -5.44805282e-02]\n",
      " [-7.01264515e-03 -1.12550468e-01 -3.84064382e-02 -1.41923253e-01\n",
      "  -5.57789178e-02]\n",
      " [-7.67239886e-03 -1.13013595e-01 -3.95266403e-02 -1.42800283e-01\n",
      "  -5.68113059e-02]\n",
      " [-8.19654918e-03 -1.13381860e-01 -4.04166766e-02 -1.43499417e-01\n",
      "  -5.76316243e-02]\n",
      " [-8.61275322e-03 -1.13674491e-01 -4.11234622e-02 -1.44056062e-01\n",
      "  -5.82830796e-02]\n",
      " [-8.94310682e-03 -1.13906892e-01 -4.16844893e-02 -1.44498830e-01\n",
      "  -5.88002079e-02]\n",
      " [-9.20523315e-03 -1.14091379e-01 -4.21296674e-02 -1.44850748e-01\n",
      "  -5.92105653e-02]\n",
      " [-9.41316938e-03 -1.14237778e-01 -4.24828246e-02 -1.45130287e-01\n",
      "  -5.95361077e-02]\n",
      " [-9.57808462e-03 -1.14353921e-01 -4.27629228e-02 -1.45352227e-01\n",
      "  -5.97943089e-02]\n",
      " [-9.70885845e-03 -1.14446040e-01 -4.29850386e-02 -1.45528368e-01\n",
      "  -5.99990639e-02]\n",
      " [-9.81254559e-03 -1.14519092e-01 -4.31611513e-02 -1.45668118e-01\n",
      "  -6.01614135e-02]\n",
      " [-9.89474800e-03 -1.14577015e-01 -4.33007740e-02 -1.45778970e-01\n",
      "  -6.02901260e-02]\n",
      " [-9.95991220e-03 -1.14622938e-01 -4.34114581e-02 -1.45866883e-01\n",
      "  -6.03921620e-02]\n",
      " [-1.00115664e-02 -1.14659343e-01 -4.34991957e-02 -1.45936592e-01\n",
      "  -6.04730449e-02]\n",
      " [-1.00525094e-02 -1.14688201e-01 -4.35687402e-02 -1.45991861e-01\n",
      "  -6.05371564e-02]\n",
      " [-1.00849611e-02 -1.14711075e-01 -4.36238618e-02 -1.46035676e-01\n",
      "  -6.05879719e-02]\n",
      " [-1.01106816e-02 -1.14729205e-01 -4.36675503e-02 -1.46070409e-01\n",
      "  -6.06282476e-02]\n",
      " [-1.01310667e-02 -1.14743575e-01 -4.37021761e-02 -1.46097941e-01\n",
      "  -6.06601686e-02]\n",
      " [-1.01472228e-02 -1.14754964e-01 -4.37296186e-02 -1.46119763e-01\n",
      "  -6.06854676e-02]\n",
      " [-1.01600269e-02 -1.14763991e-01 -4.37513678e-02 -1.46137059e-01\n",
      "  -6.07055179e-02]\n",
      " [-1.01701745e-02 -1.14771145e-01 -4.37686044e-02 -1.46150768e-01\n",
      "  -6.07214082e-02]\n",
      " [-1.01782166e-02 -1.14776814e-01 -4.37822647e-02 -1.46161632e-01\n",
      "  -6.07340015e-02]\n",
      " [-1.01845900e-02 -1.14781307e-01 -4.37930906e-02 -1.46170243e-01\n",
      "  -6.07439818e-02]\n",
      " [-1.01896410e-02 -1.14784868e-01 -4.38016702e-02 -1.46177067e-01\n",
      "  -6.07518912e-02]\n",
      " [-1.01936438e-02 -1.14787690e-01 -4.38084695e-02 -1.46182476e-01\n",
      "  -6.07581595e-02]\n",
      " [-1.01968161e-02 -1.14789927e-01 -4.38138579e-02 -1.46186762e-01\n",
      "  -6.07631270e-02]\n",
      " [-1.01993301e-02 -1.14791699e-01 -4.38181281e-02 -1.46190159e-01\n",
      "  -6.07670637e-02]\n",
      " [-1.02013224e-02 -1.14793104e-01 -4.38215123e-02 -1.46192851e-01\n",
      "  -6.07701835e-02]\n",
      " [-1.02029012e-02 -1.14794217e-01 -4.38241942e-02 -1.46194984e-01\n",
      "  -6.07726560e-02]\n",
      " [-1.02041525e-02 -1.14795099e-01 -4.38263196e-02 -1.46196675e-01\n",
      "  -6.07746153e-02]\n",
      " [-1.02051441e-02 -1.14795798e-01 -4.38280039e-02 -1.46198015e-01\n",
      "  -6.07761681e-02]\n",
      " [-1.02059299e-02 -1.14796352e-01 -4.38293387e-02 -1.46199076e-01\n",
      "  -6.07773987e-02]\n",
      " [-1.02065527e-02 -1.14796791e-01 -4.38303965e-02 -1.46199918e-01\n",
      "  -6.07783738e-02]\n",
      " [-1.02070462e-02 -1.14797139e-01 -4.38312348e-02 -1.46200585e-01\n",
      "  -6.07791467e-02]\n",
      " [-1.02074373e-02 -1.14797415e-01 -4.38318992e-02 -1.46201113e-01\n",
      "  -6.07797591e-02]\n",
      " [-1.02077472e-02 -1.14797633e-01 -4.38324256e-02 -1.46201532e-01\n",
      "  -6.07802445e-02]\n",
      " [-1.02079929e-02 -1.14797807e-01 -4.38328429e-02 -1.46201864e-01\n",
      "  -6.07806291e-02]\n",
      " [-1.02081875e-02 -1.14797944e-01 -4.38331735e-02 -1.46202127e-01\n",
      "  -6.07809339e-02]\n",
      " [-1.02083418e-02 -1.14798053e-01 -4.38334355e-02 -1.46202335e-01\n",
      "  -6.07811755e-02]\n",
      " [-1.02084640e-02 -1.14798139e-01 -4.38336432e-02 -1.46202501e-01\n",
      "  -6.07813669e-02]\n",
      " [-1.02085609e-02 -1.14798207e-01 -4.38338078e-02 -1.46202632e-01\n",
      "  -6.07815187e-02]\n",
      " [-1.02086377e-02 -1.14798261e-01 -4.38339382e-02 -1.46202735e-01\n",
      "  -6.07816389e-02]\n",
      " [-1.02086985e-02 -1.14798304e-01 -4.38340415e-02 -1.46202818e-01\n",
      "  -6.07817342e-02]\n",
      " [-1.02087468e-02 -1.14798338e-01 -4.38341234e-02 -1.46202883e-01\n",
      "  -6.07818097e-02]\n",
      " [-1.02087850e-02 -1.14798365e-01 -4.38341883e-02 -1.46202934e-01\n",
      "  -6.07818695e-02]\n",
      " [-1.02088152e-02 -1.14798386e-01 -4.38342398e-02 -1.46202975e-01\n",
      "  -6.07819169e-02]\n",
      " [-1.02088392e-02 -1.14798403e-01 -4.38342805e-02 -1.46203008e-01\n",
      "  -6.07819545e-02]\n",
      " [-1.02088583e-02 -1.14798417e-01 -4.38343128e-02 -1.46203033e-01\n",
      "  -6.07819843e-02]\n",
      " [-1.02088733e-02 -1.14798427e-01 -4.38343384e-02 -1.46203054e-01\n",
      "  -6.07820079e-02]\n",
      " [-1.02088853e-02 -1.14798436e-01 -4.38343587e-02 -1.46203070e-01\n",
      "  -6.07820266e-02]]\n"
     ]
    }
   ],
   "source": [
    "print(train_scores)\n",
    "print(test_scores)"
   ]
  },
  {
   "cell_type": "code",
   "execution_count": 108,
   "metadata": {},
   "outputs": [],
   "source": [
    "train_mean=np.mean(train_scores,axis=1)"
   ]
  },
  {
   "cell_type": "code",
   "execution_count": 109,
   "metadata": {},
   "outputs": [],
   "source": [
    "test_mean=np.mean(test_scores,axis=1)"
   ]
  },
  {
   "cell_type": "code",
   "execution_count": 110,
   "metadata": {},
   "outputs": [
    {
     "data": {
      "text/plain": [
       "array([5.68402855e-01, 5.68372169e-01, 5.68327571e-01, 5.68263961e-01,\n",
       "       5.68175133e-01, 5.68053949e-01, 5.67892656e-01, 5.67683257e-01,\n",
       "       5.67417663e-01, 5.67087218e-01, 5.66681156e-01, 5.66183563e-01,\n",
       "       5.65568601e-01, 5.64793890e-01, 5.63792046e-01, 5.62460411e-01,\n",
       "       5.60649226e-01, 5.58149066e-01, 5.54679423e-01, 5.49881830e-01,\n",
       "       5.43322419e-01, 5.34509436e-01, 5.22930022e-01, 5.08106797e-01,\n",
       "       4.89668813e-01, 4.67425088e-01, 4.41424944e-01, 4.11990061e-01,\n",
       "       3.79708737e-01, 3.45391445e-01, 3.09995218e-01, 2.74530267e-01,\n",
       "       2.39964552e-01, 2.07141051e-01, 1.76718912e-01, 1.49144299e-01,\n",
       "       1.24650604e-01, 1.03282333e-01, 8.49337723e-02, 6.93930941e-02,\n",
       "       5.63843687e-02, 4.56027723e-02, 3.67410776e-02, 2.95075557e-02,\n",
       "       2.36365776e-02, 1.88936420e-02, 1.50765170e-02, 1.20139148e-02,\n",
       "       9.56277809e-03, 7.60493443e-03, 6.04360860e-03, 4.80008797e-03,\n",
       "       3.81069621e-03, 3.02414066e-03, 2.39924371e-03, 1.90303664e-03,\n",
       "       1.50917921e-03, 1.19666242e-03, 9.48751823e-04, 7.52131932e-04,\n",
       "       5.96216573e-04, 4.72595048e-04, 3.74588595e-04, 2.96895956e-04,\n",
       "       2.35310662e-04, 1.86495816e-04, 1.47804884e-04, 1.17139211e-04,\n",
       "       9.28348212e-05, 7.35725205e-05, 5.83065422e-05, 4.62079286e-05,\n",
       "       3.66196156e-05, 2.90208101e-05, 2.29987412e-05, 1.82262633e-05,\n",
       "       1.44440988e-05, 1.14467621e-05, 9.07140139e-06, 7.18895446e-06,\n",
       "       5.69713853e-06, 4.51489432e-06, 3.57798248e-06, 2.83549365e-06,\n",
       "       2.24708257e-06, 1.78077598e-06, 1.41123544e-06, 1.11838053e-06,\n",
       "       8.86297808e-07, 7.02376085e-07, 5.56621179e-07, 4.41112856e-07,\n",
       "       3.49574451e-07, 2.77031810e-07, 2.19542994e-07, 1.73984082e-07,\n",
       "       1.37879419e-07, 1.09267087e-07, 8.65923012e-08, 6.86229200e-08])"
      ]
     },
     "execution_count": 110,
     "metadata": {},
     "output_type": "execute_result"
    }
   ],
   "source": [
    "train_mean"
   ]
  },
  {
   "cell_type": "code",
   "execution_count": 111,
   "metadata": {},
   "outputs": [
    {
     "data": {
      "text/plain": [
       "0.30975670873908323"
      ]
     },
     "execution_count": 111,
     "metadata": {},
     "output_type": "execute_result"
    }
   ],
   "source": [
    "max(test_mean)"
   ]
  },
  {
   "cell_type": "code",
   "execution_count": 112,
   "metadata": {},
   "outputs": [
    {
     "data": {
      "text/plain": [
       "<seaborn.axisgrid.JointGrid at 0x7f80939cbfd0>"
      ]
     },
     "execution_count": 112,
     "metadata": {},
     "output_type": "execute_result"
    },
    {
     "data": {
      "image/png": "[encoded data removed]",
      "text/plain": [
       "<Figure size 432x432 with 3 Axes>"
      ]
     },
     "metadata": {
      "needs_background": "light"
     },
     "output_type": "display_data"
    }
   ],
   "source": [
    "sns.jointplot(x=np.log(param_range),y=test_mean) #highest point is from the max above "
   ]
  },
  {
   "cell_type": "code",
   "execution_count": 113,
   "metadata": {},
   "outputs": [
    {
     "data": {
      "text/plain": [
       "(array([20]),)"
      ]
     },
     "execution_count": 113,
     "metadata": {},
     "output_type": "execute_result"
    }
   ],
   "source": [
    "np.where(test_mean==max(test_mean))"
   ]
  },
  {
   "cell_type": "code",
   "execution_count": 114,
   "metadata": {},
   "outputs": [
    {
     "data": {
      "text/plain": [
       "1.0476157527896652"
      ]
     },
     "execution_count": 114,
     "metadata": {},
     "output_type": "execute_result"
    }
   ],
   "source": [
    "param_range[20]"
   ]
  },
  {
   "cell_type": "code",
   "execution_count": 115,
   "metadata": {},
   "outputs": [],
   "source": [
    "ln_r_best=Ridge(alpha=param_range[20])"
   ]
  },
  {
   "cell_type": "code",
   "execution_count": 116,
   "metadata": {},
   "outputs": [
    {
     "data": {
      "text/plain": [
       "Ridge(alpha=1.0476157527896652, copy_X=True, fit_intercept=True, max_iter=None,\n",
       "      normalize=False, random_state=None, solver='auto', tol=0.001)"
      ]
     },
     "execution_count": 116,
     "metadata": {},
     "output_type": "execute_result"
    }
   ],
   "source": [
    "ln_r_best.fit(X_train_s,Y_train)"
   ]
  },
  {
   "cell_type": "code",
   "execution_count": 117,
   "metadata": {},
   "outputs": [
    {
     "data": {
      "text/plain": [
       "0.10033737670487686"
      ]
     },
     "execution_count": 117,
     "metadata": {},
     "output_type": "execute_result"
    }
   ],
   "source": [
    "r2_score(Y_test,ln_r_best.predict(X_test_s))"
   ]
  },
  {
   "cell_type": "code",
   "execution_count": 118,
   "metadata": {},
   "outputs": [
    {
     "data": {
      "text/plain": [
       "0.5388332917703802"
      ]
     },
     "execution_count": 118,
     "metadata": {},
     "output_type": "execute_result"
    }
   ],
   "source": [
    "r2_score(Y_train,ln_r_best.predict(X_train_s))"
   ]
  },
  {
   "cell_type": "code",
   "execution_count": 119,
   "metadata": {},
   "outputs": [],
   "source": [
    "def pretty_print_coefs(coefs, names = None, sort = False):\n",
    "    if names == None:\n",
    "        names = [\"X%s\" % x for x in range(len(coefs))]\n",
    "    lst = zip(coefs, names)\n",
    "    if sort:\n",
    "        lst = sorted(lst,  key = lambda x:-np.abs(x[0]))\n",
    "    return \" + \".join(\"%s * %s\" % (round(coef, 3), name)\n",
    "                                   for coef, name in lst)\n",
    "\n"
   ]
  },
  {
   "cell_type": "code",
   "execution_count": 120,
   "metadata": {},
   "outputs": [
    {
     "name": "stdout",
     "output_type": "stream",
     "text": [
      "Ridge model Best: -262.514 * X0 + -160.907 * X1 + -352.701 * X2 + -69.352 * X3 + 893.628 * X4 + 548.15 * X5 + 199.92 * X6 + -256.994 * X7 + -127.919 * X8 + -42.149 * X9 + 113.791 * X10\n"
     ]
    }
   ],
   "source": [
    "print (\"Ridge model Best:\", pretty_print_coefs(ln_r_best.coef_)) #https://www.datacamp.com/community/tutorials/feature-selection-python"
   ]
  },
  {
   "cell_type": "code",
   "execution_count": 121,
   "metadata": {},
   "outputs": [
    {
     "data": {
      "text/plain": [
       "array([-262.5138845 , -160.906864  , -352.70140596,  -69.35154885,\n",
       "        893.62776872,  548.1501346 ,  199.9203965 , -256.99382077,\n",
       "       -127.91853172,  -42.14935702,  113.79058986])"
      ]
     },
     "execution_count": 121,
     "metadata": {},
     "output_type": "execute_result"
    }
   ],
   "source": [
    "ln_r_best.coef_"
   ]
  },
  {
   "cell_type": "code",
   "execution_count": 122,
   "metadata": {},
   "outputs": [],
   "source": [
    "# info about ridge method https://machinelearningmastery.com/ridge-regression-with-python/ https://scikit-learn.org/stable/modules/linear_model.html\n",
    "# http://www.science.smith.edu/~jcrouser/SDS293/labs/lab10-py.html As expected, none of the coefficients are exactly zero - ridge regression does not perform variable selection!"
   ]
  },
  {
   "cell_type": "code",
   "execution_count": 123,
   "metadata": {},
   "outputs": [],
   "source": [
    "y_pred2=ln_r_best.predict(X_test)"
   ]
  },
  {
   "cell_type": "code",
   "execution_count": 124,
   "metadata": {},
   "outputs": [
    {
     "name": "stdout",
     "output_type": "stream",
     "text": [
      "R2: 0.10033737670487686\n",
      "RMSE: 386.39829675495344\n",
      "RMSPE: 20.592051152292655\n"
     ]
    }
   ],
   "source": [
    "from sklearn import metrics \n",
    "print('R2:', r2_score(Y_test,ln_r_best.predict(X_test_s)))\n",
    "print('RMSE:',np.sqrt(metrics.mean_squared_error(Y_test,y_pred2)))\n",
    "print('RMSPE:', rmse(Y_test, y_pred2))"
   ]
  },
  {
   "cell_type": "code",
   "execution_count": 125,
   "metadata": {},
   "outputs": [
    {
     "name": "stdout",
     "output_type": "stream",
     "text": [
      "* 1 R2: -0.0288384309869536\n",
      "* 2 R2: 0.06318353124429887\n",
      "* 3 R2: 0.10033737670487686\n",
      "\n",
      "* 1 MAE: 317.58347812783575\n",
      "* 2 MAE: 306.39783213107575\n",
      "* 3 MAE: 301.9554796926721\n",
      "\n",
      "* 1 MSE: 170741.03400947404\n",
      "* 2 MSE: 155469.51565467025\n",
      "* 3 MSE: 149303.64373512904\n",
      "\n",
      "* 1 RMSE: 413.20822113006665\n",
      "* 2 RMSE: 394.2962283038861\n",
      "* 3 RMSE: 386.39829675495344\n"
     ]
    }
   ],
   "source": [
    "print('* 1 R2:',r2_score(Y_test,Y_test_a))\n",
    "print('* 2 R2:', r2_score(Y_test,ln_r.predict(X_test_s)))\n",
    "print('* 3 R2:', r2_score(Y_test,ln_r_best.predict(X_test_s)))\n",
    "print('')\n",
    "print('* 1 MAE:', metrics.mean_absolute_error(Y_test,y_pred))\n",
    "print('* 2 MAE:', metrics.mean_absolute_error(Y_test,y_pred3))\n",
    "print('* 3 MAE:', metrics.mean_absolute_error(Y_test,y_pred2))\n",
    "print('')\n",
    "print('* 1 MSE:',metrics.mean_squared_error(Y_test,y_pred))\n",
    "print('* 2 MSE:',metrics.mean_squared_error(Y_test,y_pred3))\n",
    "print('* 3 MSE:',metrics.mean_squared_error(Y_test,y_pred2))\n",
    "print('')\n",
    "print('* 1 RMSE:',np.sqrt(metrics.mean_squared_error(Y_test,y_pred)))\n",
    "print('* 2 RMSE:',np.sqrt(metrics.mean_squared_error(Y_test,y_pred3)))\n",
    "print('* 3 RMSE:',np.sqrt(metrics.mean_squared_error(Y_test,y_pred2)))\n",
    "\n",
    "# here is looks like hte simple linergression has done the best job "
   ]
  },
  {
   "cell_type": "markdown",
   "metadata": {},
   "source": [
    "balcony_no, heating_electric, connection_attached\n",
    "\n",
    "* 1 R2: 0.4018913080643862\n",
    "* 2 R2: 0.40441837716372475\n",
    "* 3 R2: 0.4039092200528832\n",
    "\n",
    "* 1 MAE: 298.40242201478765\n",
    "* 2 MAE: 428.78946586995517\n",
    "* 3 MAE: 431.0472423037489\n",
    "\n",
    "* 1 MSE: 230098.80756954738\n",
    "* 2 MSE: 268892.83504856785\n",
    "* 3 MSE: 272384.24294414476\n",
    "\n",
    "* 1 RMSE: 479.6861552823339\n",
    "* 2 RMSE: 518.5487778874499\n",
    "* 3 RMSE: 521.9044385173829\n",
    "\n",
    "Linear regression has the best RMSE and R2\n",
    "\n",
    "--------------------------\n",
    "\n",
    "balcony_yes, heating_electric, connection_attached\n",
    "\n",
    "* 1 R2: 0.4018913080643862\n",
    "* 2 R2: 0.40441837716372475\n",
    "* 3 R2: 0.4039092200528833\n",
    "\n",
    "* 1 MAE: 298.40242201478753\n",
    "* 2 MAE: 436.1756715962482\n",
    "* 3 MAE: 439.417839657691\n",
    "\n",
    "* 1 MSE: 230098.80756954738\n",
    "* 2 MSE: 272056.8483329807\n",
    "* 3 MSE: 275961.18048965855\n",
    "\n",
    "* 1 RMSE: 479.6861552823339\n",
    "* 2 RMSE: 521.5906904201614\n",
    "* 3 RMSE: 525.3200743257947\n",
    "\n",
    "\n",
    "\n",
    "\n",
    "\n",
    "----------------------------\n",
    "\n",
    "balcony_yes, heating_central, connection_attached\n",
    "\n",
    "* 1 R2: 0.401891308064386\n",
    "* 2 R2: 0.40441837716372475\n",
    "* 3 R2: 0.3397477571148829\n",
    "\n",
    "* 1 MAE: 298.4024220147877\n",
    "* 2 MAE: 460.1771354043641\n",
    "* 3 MAE: 438.2487465067006\n",
    "\n",
    "* 1 MSE: 230098.80756954747\n",
    "* 2 MSE: 284430.9434177551\n",
    "* 3 MSE: 293952.97139508673\n",
    "\n",
    "* 1 RMSE: 479.686155282334\n",
    "* 2 RMSE: 533.3206759706163\n",
    "* 3 RMSE: 542.1742998290188\n",
    "\n",
    " not much of a change \n",
    " \n",
    " \n",
    " -----------------------------\n",
    " \n",
    " balcony_yes, heating_central, connection_lone\n",
    " \n",
    "* 1 R2: 0.401891308064386\n",
    "* 2 R2: 0.40550919986046285\n",
    "* 3 R2: 0.3589006634688163\n",
    "\n",
    "* 1 MAE: 298.40242201478753\n",
    "* 2 MAE: 385.0358991130297\n",
    "* 3 MAE: 412.1382273330243\n",
    "\n",
    "* 1 MSE: 230098.80756954747\n",
    "* 2 MSE: 257897.8513467013\n",
    "* 3 MSE: 283441.5304840219\n",
    "\n",
    "* 1 RMSE: 479.686155282334\n",
    "* 2 RMSE: 507.8364415308351\n",
    "* 3 RMSE: 532.3922712474533\n",
    "\n",
    "not a lot of change here \n",
    "\n",
    "\n",
    "-------------------------------\n",
    "\n",
    "* 1 R2: 0.401891308064386\n",
    "* 2 R2: 0.40550919986046274\n",
    "* 3 R2: 0.3589006634688163\n",
    "\n",
    "* 1 MAE: 298.4024220147876\n",
    "* 2 MAE: 432.8097560324263\n",
    "* 3 MAE: 452.3000463079552\n",
    "\n",
    "* 1 MSE: 230098.80756954747\n",
    "* 2 MSE: 343181.76941160636\n",
    "* 3 MSE: 349533.1635432941\n",
    "\n",
    "* 1 RMSE: 479.686155282334\n",
    "* 2 RMSE: 585.8171808777943\n",
    "* 3 RMSE: 591.2132978403769\n",
    "\n",
    "different scaling didn't seem to make much of a difference minmax used on this run "
   ]
  },
  {
   "cell_type": "code",
   "execution_count": 126,
   "metadata": {},
   "outputs": [
    {
     "data": {
      "image/png": "[encoded data removed]",
      "text/plain": [
       "<Figure size 432x288 with 1 Axes>"
      ]
     },
     "metadata": {
      "needs_background": "light"
     },
     "output_type": "display_data"
    }
   ],
   "source": [
    "LR_metrics =np.array([r2_score(Y_test,Y_test_a),metrics.mean_absolute_error(Y_test,y_pred),metrics.mean_squared_error(Y_test,y_pred),np.sqrt(metrics.mean_squared_error(Y_test,y_pred))])\n",
    "R_metrics=np.array([r2_score(Y_test,ln_r.predict(X_test_s)),metrics.mean_absolute_error(Y_test,y_pred3),metrics.mean_squared_error(Y_test,y_pred3),np.sqrt(metrics.mean_squared_error(Y_test,y_pred3))])\n",
    "RB_metrics=np.array([r2_score(Y_test,ln_r_best.predict(X_test_s)),metrics.mean_absolute_error(Y_test,y_pred2),metrics.mean_squared_error(Y_test,y_pred2),np.sqrt(metrics.mean_squared_error(Y_test,y_pred2))])\n",
    "index = ['R2', 'MAE', 'MSE','RMSE']\n",
    "df_metrics = pd.DataFrame({'Ridge': R_metrics, 'Linear Regression': LR_metrics,'Ridge Best': RB_metrics}, index=index)\n",
    "df_metrics.plot.bar(rot=0)\n",
    "plt.legend(loc=\"lower right\")\n",
    "plt.show()\n"
   ]
  },
  {
   "cell_type": "code",
   "execution_count": null,
   "metadata": {},
   "outputs": [],
   "source": []
  },
  {
   "cell_type": "code",
   "execution_count": 127,
   "metadata": {},
   "outputs": [],
   "source": [
    "LR_metrics2=np.delete(LR_metrics,2)\n",
    "R_metrics2=np.delete(R_metrics,2)\n",
    "RB_metrics2=np.delete(RB_metrics,2)\n"
   ]
  },
  {
   "cell_type": "code",
   "execution_count": 128,
   "metadata": {},
   "outputs": [
    {
     "data": {
      "image/png": "[encoded data removed]",
      "text/plain": [
       "<Figure size 432x288 with 1 Axes>"
      ]
     },
     "metadata": {
      "needs_background": "light"
     },
     "output_type": "display_data"
    }
   ],
   "source": [
    "index = ['R2', 'MAE','RMSE']\n",
    "df_metrics = pd.DataFrame({'Ridge': R_metrics2, 'Linear Regression': LR_metrics2,'Ridge Best': RB_metrics2}, index=index)\n",
    "df_metrics.plot.bar(rot=0)\n",
    "plt.legend(loc=\"lower right\")\n",
    "plt.show()"
   ]
  },
  {
   "cell_type": "code",
   "execution_count": 129,
   "metadata": {},
   "outputs": [
    {
     "data": {
      "image/png": "[encoded data removed]",
      "text/plain": [
       "<Figure size 432x288 with 1 Axes>"
      ]
     },
     "metadata": {
      "needs_background": "light"
     },
     "output_type": "display_data"
    }
   ],
   "source": [
    "index3=['Distance Eyre Square','Distance Salthil','Distance Collage','Distance GMIT','Number of Rooms','Number of Bath rooms','BER','Attached','Detached','Balcony','Heating Electric']\n",
    "All_coef=pd.DataFrame({'Linear Regression': ln_a.coef_, 'Ridge': ln_r.coef_, 'Ridge Best': ln_r_best.coef_}, index=index3)\n",
    "\n",
    "All_coef.plot.bar(rot=0)\n",
    "\n",
    "\n",
    "\n",
    "plt.xticks(rotation=30, horizontalalignment=\"center\")\n",
    "plt.ylabel('Coefficient Value')\n",
    "plt.legend(loc=\"upper right\")\n",
    "plt.show()\n"
   ]
  },
  {
   "cell_type": "markdown",
   "metadata": {},
   "source": [
    "LN does the best but the r2 is still hella poor"
   ]
  },
  {
   "cell_type": "code",
   "execution_count": 130,
   "metadata": {},
   "outputs": [
    {
     "data": {
      "image/png": "[encoded data removed]",
      "text/plain": [
       "<Figure size 432x288 with 1 Axes>"
      ]
     },
     "metadata": {
      "needs_background": "light"
     },
     "output_type": "display_data"
    }
   ],
   "source": [
    "LR2_metrics =np.array([r2_score(Y_test,Y_test_a),np.sqrt(metrics.mean_squared_error(Y_test,y_pred)),rmse(Y_test,y_pred)])\n",
    "R2_metrics=np.array([r2_score(Y_test,ln_r.predict(X_test_s)),np.sqrt(metrics.mean_squared_error(Y_test,y_pred3)),rmse(Y_test,y_pred3)])\n",
    "RB2_metrics=np.array([r2_score(Y_test,ln_r_best.predict(X_test_s)),np.sqrt(metrics.mean_squared_error(Y_test,y_pred2)),rmse(Y_test,y_pred2)])\n",
    "\n",
    "df_metrics2 = pd.DataFrame({'Linear Regression': LR2_metrics,'Ridge': R2_metrics, 'Ridge Best': RB2_metrics}, index=index)\n",
    "df_metrics2.plot.bar(rot=0)\n",
    "plt.legend(loc=\"lower right\")\n",
    "plt.show()"
   ]
  },
  {
   "cell_type": "code",
   "execution_count": 131,
   "metadata": {},
   "outputs": [
    {
     "data": {
      "text/html": [
       "<div>\n",
       "<style scoped>\n",
       "    .dataframe tbody tr th:only-of-type {\n",
       "        vertical-align: middle;\n",
       "    }\n",
       "\n",
       "    .dataframe tbody tr th {\n",
       "        vertical-align: top;\n",
       "    }\n",
       "\n",
       "    .dataframe thead th {\n",
       "        text-align: right;\n",
       "    }\n",
       "</style>\n",
       "<table border=\"1\" class=\"dataframe\">\n",
       "  <thead>\n",
       "    <tr style=\"text-align: right;\">\n",
       "      <th></th>\n",
       "      <th>Linear Regression</th>\n",
       "      <th>Ridge</th>\n",
       "      <th>Ridge Best</th>\n",
       "    </tr>\n",
       "  </thead>\n",
       "  <tbody>\n",
       "    <tr>\n",
       "      <th>R2</th>\n",
       "      <td>-0.028838</td>\n",
       "      <td>0.063184</td>\n",
       "      <td>0.100337</td>\n",
       "    </tr>\n",
       "    <tr>\n",
       "      <th>MAE</th>\n",
       "      <td>413.208221</td>\n",
       "      <td>394.296228</td>\n",
       "      <td>386.398297</td>\n",
       "    </tr>\n",
       "    <tr>\n",
       "      <th>RMSE</th>\n",
       "      <td>21.381370</td>\n",
       "      <td>20.777676</td>\n",
       "      <td>20.592051</td>\n",
       "    </tr>\n",
       "  </tbody>\n",
       "</table>\n",
       "</div>"
      ],
      "text/plain": [
       "      Linear Regression       Ridge  Ridge Best\n",
       "R2            -0.028838    0.063184    0.100337\n",
       "MAE          413.208221  394.296228  386.398297\n",
       "RMSE          21.381370   20.777676   20.592051"
      ]
     },
     "execution_count": 131,
     "metadata": {},
     "output_type": "execute_result"
    }
   ],
   "source": [
    "df_metrics2"
   ]
  },
  {
   "cell_type": "code",
   "execution_count": null,
   "metadata": {},
   "outputs": [],
   "source": []
  }
 ],
 "metadata": {
  "kernelspec": {
   "display_name": "Python 3",
   "language": "python",
   "name": "python3"
  },
  "language_info": {
   "codemirror_mode": {
    "name": "ipython",
    "version": 3
   },
   "file_extension": ".py",
   "mimetype": "text/x-python",
   "name": "python",
   "nbconvert_exporter": "python",
   "pygments_lexer": "ipython3",
   "version": "3.7.6"
  }
 },
 "nbformat": 4,
 "nbformat_minor": 4
}
