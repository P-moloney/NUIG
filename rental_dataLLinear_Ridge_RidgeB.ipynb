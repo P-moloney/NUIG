{
 "cells": [
  {
   "cell_type": "code",
   "execution_count": 1,
   "metadata": {},
   "outputs": [],
   "source": [
    "import pandas as pd\n",
    "import numpy as np\n",
    "from sklearn.pipeline import Pipeline, make_pipeline, FeatureUnion\n",
    "from sklearn.compose import ColumnTransformer\n",
    "from sklearn.base import BaseEstimator, TransformerMixin\n",
    "from sklearn.preprocessing import StandardScaler, RobustScaler, FunctionTransformer\n",
    "from sklearn.model_selection import train_test_split, GridSearchCV\n",
    "import pickle\n",
    "import matplotlib.pyplot as plt\n",
    "%matplotlib inline\n",
    "import seaborn as sns\n",
    "\n",
    "# imports necessary for dimensionality reduction\n",
    "from sklearn.decomposition import PCA\n",
    "from sklearn.feature_selection import RFE\n",
    "from sklearn import svm\n",
    "\n",
    "# regression algorithms\n",
    "from sklearn.ensemble import RandomForestRegressor\n",
    "from sklearn.linear_model import LinearRegression\n",
    "\n",
    "# metrics for evaluating regression models\n",
    "from sklearn.metrics import mean_squared_error, mean_absolute_error, r2_score\n",
    "\n",
    "\n",
    "#fix balcony column\n",
    "# drop columns lattitude longtitude eircode "
   ]
  },
  {
   "cell_type": "code",
   "execution_count": 2,
   "metadata": {},
   "outputs": [],
   "source": [
    "missing_value_formats = [\"n.a.\",\"?\",\"NA\",\"n/a\", \"na\", \"--\"]\n",
    "df = pd.read_csv('/Users/patrickmoloney/Downloads/data-rental2.csv', na_values = missing_value_formats)"
   ]
  },
  {
   "cell_type": "code",
   "execution_count": 3,
   "metadata": {},
   "outputs": [
    {
     "data": {
      "text/html": [
       "<div>\n",
       "<style scoped>\n",
       "    .dataframe tbody tr th:only-of-type {\n",
       "        vertical-align: middle;\n",
       "    }\n",
       "\n",
       "    .dataframe tbody tr th {\n",
       "        vertical-align: top;\n",
       "    }\n",
       "\n",
       "    .dataframe thead th {\n",
       "        text-align: right;\n",
       "    }\n",
       "</style>\n",
       "<table border=\"1\" class=\"dataframe\">\n",
       "  <thead>\n",
       "    <tr style=\"text-align: right;\">\n",
       "      <th></th>\n",
       "      <th>approx</th>\n",
       "      <th>number</th>\n",
       "      <th>address 1</th>\n",
       "      <th>address 2</th>\n",
       "      <th>address 3</th>\n",
       "      <th>eircode</th>\n",
       "      <th>lattitude</th>\n",
       "      <th>longtitude</th>\n",
       "      <th>lattitude eyre square</th>\n",
       "      <th>longtitude eyre square</th>\n",
       "      <th>...</th>\n",
       "      <th>Distance GMIT</th>\n",
       "      <th>number of rooms</th>\n",
       "      <th>number of bathrooms</th>\n",
       "      <th>price per month</th>\n",
       "      <th>type</th>\n",
       "      <th>connection</th>\n",
       "      <th>BER</th>\n",
       "      <th>balcony</th>\n",
       "      <th>floor</th>\n",
       "      <th>heating</th>\n",
       "    </tr>\n",
       "  </thead>\n",
       "  <tbody>\n",
       "    <tr>\n",
       "      <th>0</th>\n",
       "      <td>no</td>\n",
       "      <td>Chaplaincy House</td>\n",
       "      <td>Ballybane Road</td>\n",
       "      <td>Ballybane</td>\n",
       "      <td>NaN</td>\n",
       "      <td>H91 E2NY</td>\n",
       "      <td>53.279666</td>\n",
       "      <td>-9.008728</td>\n",
       "      <td>53.274839</td>\n",
       "      <td>-9.04863</td>\n",
       "      <td>...</td>\n",
       "      <td>0.209452</td>\n",
       "      <td>4</td>\n",
       "      <td>2</td>\n",
       "      <td>2100</td>\n",
       "      <td>house</td>\n",
       "      <td>NaN</td>\n",
       "      <td>d2</td>\n",
       "      <td>no</td>\n",
       "      <td>NaN</td>\n",
       "      <td>central</td>\n",
       "    </tr>\n",
       "    <tr>\n",
       "      <th>1</th>\n",
       "      <td>yes</td>\n",
       "      <td>NaN</td>\n",
       "      <td>cappagh road</td>\n",
       "      <td>knocknacarra</td>\n",
       "      <td>NaN</td>\n",
       "      <td>H91 PV0Y</td>\n",
       "      <td>53.271272</td>\n",
       "      <td>-9.132431</td>\n",
       "      <td>53.274839</td>\n",
       "      <td>-9.04863</td>\n",
       "      <td>...</td>\n",
       "      <td>8.135066</td>\n",
       "      <td>1</td>\n",
       "      <td>1</td>\n",
       "      <td>850</td>\n",
       "      <td>apartment</td>\n",
       "      <td>NaN</td>\n",
       "      <td>c1</td>\n",
       "      <td>no</td>\n",
       "      <td>ground</td>\n",
       "      <td>central</td>\n",
       "    </tr>\n",
       "    <tr>\n",
       "      <th>2</th>\n",
       "      <td>no</td>\n",
       "      <td>83</td>\n",
       "      <td>Maoilin</td>\n",
       "      <td>Ballymoneen Road</td>\n",
       "      <td>Moneen</td>\n",
       "      <td>H91 A6CH</td>\n",
       "      <td>53.271473</td>\n",
       "      <td>-9.121873</td>\n",
       "      <td>53.274839</td>\n",
       "      <td>-9.04863</td>\n",
       "      <td>...</td>\n",
       "      <td>7.434207</td>\n",
       "      <td>3</td>\n",
       "      <td>2</td>\n",
       "      <td>1800</td>\n",
       "      <td>house</td>\n",
       "      <td>NaN</td>\n",
       "      <td>a3</td>\n",
       "      <td>no</td>\n",
       "      <td>NaN</td>\n",
       "      <td>central</td>\n",
       "    </tr>\n",
       "    <tr>\n",
       "      <th>3</th>\n",
       "      <td>no</td>\n",
       "      <td>NaN</td>\n",
       "      <td>NaN</td>\n",
       "      <td>NaN</td>\n",
       "      <td>NaN</td>\n",
       "      <td>H91 W5RP</td>\n",
       "      <td>53.272302</td>\n",
       "      <td>-9.077226</td>\n",
       "      <td>53.274839</td>\n",
       "      <td>-9.04863</td>\n",
       "      <td>...</td>\n",
       "      <td>4.475861</td>\n",
       "      <td>1</td>\n",
       "      <td>1</td>\n",
       "      <td>850</td>\n",
       "      <td>apartment</td>\n",
       "      <td>NaN</td>\n",
       "      <td>NaN</td>\n",
       "      <td>no</td>\n",
       "      <td>ground</td>\n",
       "      <td>central</td>\n",
       "    </tr>\n",
       "    <tr>\n",
       "      <th>4</th>\n",
       "      <td>no</td>\n",
       "      <td>NaN</td>\n",
       "      <td>NaN</td>\n",
       "      <td>NaN</td>\n",
       "      <td>NaN</td>\n",
       "      <td>H91 K46R</td>\n",
       "      <td>53.273859</td>\n",
       "      <td>-9.026788</td>\n",
       "      <td>53.274839</td>\n",
       "      <td>-9.04863</td>\n",
       "      <td>...</td>\n",
       "      <td>1.176212</td>\n",
       "      <td>3</td>\n",
       "      <td>2</td>\n",
       "      <td>1600</td>\n",
       "      <td>house</td>\n",
       "      <td>NaN</td>\n",
       "      <td>d1</td>\n",
       "      <td>no</td>\n",
       "      <td>NaN</td>\n",
       "      <td>central</td>\n",
       "    </tr>\n",
       "  </tbody>\n",
       "</table>\n",
       "<p>5 rows × 29 columns</p>\n",
       "</div>"
      ],
      "text/plain": [
       "  approx            number       address 1         address 2 address 3  \\\n",
       "0     no  Chaplaincy House  Ballybane Road        Ballybane        NaN   \n",
       "1    yes               NaN    cappagh road      knocknacarra       NaN   \n",
       "2     no                83         Maoilin  Ballymoneen Road    Moneen   \n",
       "3     no               NaN             NaN               NaN       NaN   \n",
       "4     no               NaN             NaN               NaN       NaN   \n",
       "\n",
       "    eircode  lattitude  longtitude  lattitude eyre square  \\\n",
       "0  H91 E2NY  53.279666   -9.008728              53.274839   \n",
       "1  H91 PV0Y  53.271272   -9.132431              53.274839   \n",
       "2  H91 A6CH  53.271473   -9.121873              53.274839   \n",
       "3  H91 W5RP  53.272302   -9.077226              53.274839   \n",
       "4  H91 K46R  53.273859   -9.026788              53.274839   \n",
       "\n",
       "   longtitude eyre square  ...  Distance GMIT  number of rooms  \\\n",
       "0                -9.04863  ...       0.209452                4   \n",
       "1                -9.04863  ...       8.135066                1   \n",
       "2                -9.04863  ...       7.434207                3   \n",
       "3                -9.04863  ...       4.475861                1   \n",
       "4                -9.04863  ...       1.176212                3   \n",
       "\n",
       "   number of bathrooms  price per month       type  connection  BER  balcony  \\\n",
       "0                    2             2100      house         NaN   d2       no   \n",
       "1                    1              850  apartment         NaN   c1       no   \n",
       "2                    2             1800      house         NaN   a3       no   \n",
       "3                    1              850  apartment         NaN  NaN       no   \n",
       "4                    2             1600      house         NaN   d1       no   \n",
       "\n",
       "    floor  heating  \n",
       "0     NaN  central  \n",
       "1  ground  central  \n",
       "2     NaN  central  \n",
       "3  ground  central  \n",
       "4     NaN  central  \n",
       "\n",
       "[5 rows x 29 columns]"
      ]
     },
     "execution_count": 3,
     "metadata": {},
     "output_type": "execute_result"
    }
   ],
   "source": [
    "df.head()"
   ]
  },
  {
   "cell_type": "code",
   "execution_count": 4,
   "metadata": {},
   "outputs": [
    {
     "data": {
      "text/plain": [
       "approx                    206\n",
       "number                    256\n",
       "address 1                 194\n",
       "address 2                 237\n",
       "address 3                 360\n",
       "eircode                   237\n",
       "lattitude                   0\n",
       "longtitude                  0\n",
       "lattitude eyre square       0\n",
       "longtitude eyre square      0\n",
       "Distance Eyre Square        0\n",
       "latitude salthill           0\n",
       "longtitude salthill         0\n",
       "Distance Salthill           0\n",
       "latitude collage            0\n",
       "longtitude collage          0\n",
       "Distance NUIG               0\n",
       "latitude gmit               0\n",
       "longtitude gmit             0\n",
       "Distance GMIT               0\n",
       "number of rooms             0\n",
       "number of bathrooms         0\n",
       "price per month             0\n",
       "type                        0\n",
       "connection                265\n",
       "BER                        14\n",
       "balcony                     2\n",
       "floor                     184\n",
       "heating                     5\n",
       "dtype: int64"
      ]
     },
     "execution_count": 4,
     "metadata": {},
     "output_type": "execute_result"
    }
   ],
   "source": [
    "df.isna().sum()\n"
   ]
  },
  {
   "cell_type": "code",
   "execution_count": 5,
   "metadata": {},
   "outputs": [],
   "source": [
    "df=df.drop(columns='eircode')\n",
    "df=df.drop(columns='lattitude') \n",
    "df=df.drop(columns='longtitude')\n",
    "df=df.drop(columns='approx')\n",
    "df=df.drop(columns='number')\n",
    "df=df.drop(columns='address 1')\n",
    "df=df.drop(columns='address 2')\n",
    "df=df.drop(columns='address 3')\n",
    "df=df.drop(columns='lattitude eyre square')\n",
    "df=df.drop(columns='longtitude eyre square')\n",
    "df=df.drop(columns='latitude salthill')\n",
    "df=df.drop(columns='longtitude salthill')\n",
    "df=df.drop(columns='latitude collage')\n",
    "df=df.drop(columns='longtitude collage')\n",
    "df=df.drop(columns='latitude gmit')\n",
    "df=df.drop(columns='longtitude gmit')\n",
    "# thse change depending on the thing we're looking at \n",
    "df=df.drop(columns='floor') \n",
    "df=df.drop(columns='connection') \n",
    "#df=df.drop(columns='balcony') "
   ]
  },
  {
   "cell_type": "code",
   "execution_count": 6,
   "metadata": {},
   "outputs": [
    {
     "data": {
      "text/plain": [
       "Distance Eyre Square     0\n",
       "Distance Salthill        0\n",
       "Distance NUIG            0\n",
       "Distance GMIT            0\n",
       "number of rooms          0\n",
       "number of bathrooms      0\n",
       "price per month          0\n",
       "type                     0\n",
       "BER                     14\n",
       "balcony                  2\n",
       "heating                  5\n",
       "dtype: int64"
      ]
     },
     "execution_count": 6,
     "metadata": {},
     "output_type": "execute_result"
    }
   ],
   "source": [
    "df.isna().sum()"
   ]
  },
  {
   "cell_type": "code",
   "execution_count": null,
   "metadata": {},
   "outputs": [],
   "source": []
  },
  {
   "cell_type": "code",
   "execution_count": 7,
   "metadata": {},
   "outputs": [
    {
     "data": {
      "text/html": [
       "<div>\n",
       "<style scoped>\n",
       "    .dataframe tbody tr th:only-of-type {\n",
       "        vertical-align: middle;\n",
       "    }\n",
       "\n",
       "    .dataframe tbody tr th {\n",
       "        vertical-align: top;\n",
       "    }\n",
       "\n",
       "    .dataframe thead th {\n",
       "        text-align: right;\n",
       "    }\n",
       "</style>\n",
       "<table border=\"1\" class=\"dataframe\">\n",
       "  <thead>\n",
       "    <tr style=\"text-align: right;\">\n",
       "      <th></th>\n",
       "      <th>Distance Eyre Square</th>\n",
       "      <th>Distance Salthill</th>\n",
       "      <th>Distance NUIG</th>\n",
       "      <th>Distance GMIT</th>\n",
       "      <th>number of rooms</th>\n",
       "      <th>number of bathrooms</th>\n",
       "      <th>price per month</th>\n",
       "      <th>type</th>\n",
       "      <th>BER</th>\n",
       "      <th>balcony</th>\n",
       "      <th>heating</th>\n",
       "    </tr>\n",
       "  </thead>\n",
       "  <tbody>\n",
       "    <tr>\n",
       "      <th>0</th>\n",
       "      <td>2.706816</td>\n",
       "      <td>4.449858</td>\n",
       "      <td>3.520573</td>\n",
       "      <td>0.209452</td>\n",
       "      <td>4</td>\n",
       "      <td>2</td>\n",
       "      <td>2100</td>\n",
       "      <td>house</td>\n",
       "      <td>d2</td>\n",
       "      <td>no</td>\n",
       "      <td>central</td>\n",
       "    </tr>\n",
       "    <tr>\n",
       "      <th>1</th>\n",
       "      <td>5.586384</td>\n",
       "      <td>4.231058</td>\n",
       "      <td>4.789334</td>\n",
       "      <td>8.135066</td>\n",
       "      <td>1</td>\n",
       "      <td>1</td>\n",
       "      <td>850</td>\n",
       "      <td>apartment</td>\n",
       "      <td>c1</td>\n",
       "      <td>no</td>\n",
       "      <td>central</td>\n",
       "    </tr>\n",
       "    <tr>\n",
       "      <th>2</th>\n",
       "      <td>4.884620</td>\n",
       "      <td>3.551142</td>\n",
       "      <td>4.097072</td>\n",
       "      <td>7.434207</td>\n",
       "      <td>3</td>\n",
       "      <td>2</td>\n",
       "      <td>1800</td>\n",
       "      <td>house</td>\n",
       "      <td>a3</td>\n",
       "      <td>no</td>\n",
       "      <td>central</td>\n",
       "    </tr>\n",
       "    <tr>\n",
       "      <th>3</th>\n",
       "      <td>1.922237</td>\n",
       "      <td>1.068662</td>\n",
       "      <td>1.296991</td>\n",
       "      <td>4.475861</td>\n",
       "      <td>1</td>\n",
       "      <td>1</td>\n",
       "      <td>850</td>\n",
       "      <td>apartment</td>\n",
       "      <td>NaN</td>\n",
       "      <td>no</td>\n",
       "      <td>central</td>\n",
       "    </tr>\n",
       "    <tr>\n",
       "      <th>4</th>\n",
       "      <td>1.456473</td>\n",
       "      <td>3.093256</td>\n",
       "      <td>2.398740</td>\n",
       "      <td>1.176212</td>\n",
       "      <td>3</td>\n",
       "      <td>2</td>\n",
       "      <td>1600</td>\n",
       "      <td>house</td>\n",
       "      <td>d1</td>\n",
       "      <td>no</td>\n",
       "      <td>central</td>\n",
       "    </tr>\n",
       "  </tbody>\n",
       "</table>\n",
       "</div>"
      ],
      "text/plain": [
       "   Distance Eyre Square  Distance Salthill  Distance NUIG  Distance GMIT  \\\n",
       "0              2.706816           4.449858       3.520573       0.209452   \n",
       "1              5.586384           4.231058       4.789334       8.135066   \n",
       "2              4.884620           3.551142       4.097072       7.434207   \n",
       "3              1.922237           1.068662       1.296991       4.475861   \n",
       "4              1.456473           3.093256       2.398740       1.176212   \n",
       "\n",
       "   number of rooms  number of bathrooms  price per month       type  BER  \\\n",
       "0                4                    2             2100      house   d2   \n",
       "1                1                    1              850  apartment   c1   \n",
       "2                3                    2             1800      house   a3   \n",
       "3                1                    1              850  apartment  NaN   \n",
       "4                3                    2             1600      house   d1   \n",
       "\n",
       "  balcony  heating  \n",
       "0      no  central  \n",
       "1      no  central  \n",
       "2      no  central  \n",
       "3      no  central  \n",
       "4      no  central  "
      ]
     },
     "execution_count": 7,
     "metadata": {},
     "output_type": "execute_result"
    }
   ],
   "source": [
    "df.head()"
   ]
  },
  {
   "cell_type": "code",
   "execution_count": 8,
   "metadata": {},
   "outputs": [
    {
     "data": {
      "text/plain": [
       "array(['d2', 'c1', 'a3', nan, 'd1', 'c3', 'c2', 'e1', 'exempt', 'e2',\n",
       "       'b3', 'b1', 'f', 'b2', 'a1', 'g'], dtype=object)"
      ]
     },
     "execution_count": 8,
     "metadata": {},
     "output_type": "execute_result"
    }
   ],
   "source": [
    "#take a look at columns\n",
    "df.BER.unique() "
   ]
  },
  {
   "cell_type": "code",
   "execution_count": 9,
   "metadata": {},
   "outputs": [
    {
     "data": {
      "text/plain": [
       "array(['central', 'electric', nan], dtype=object)"
      ]
     },
     "execution_count": 9,
     "metadata": {},
     "output_type": "execute_result"
    }
   ],
   "source": [
    "df.heating.unique() "
   ]
  },
  {
   "cell_type": "code",
   "execution_count": 10,
   "metadata": {},
   "outputs": [
    {
     "data": {
      "text/plain": [
       "array(['house', 'apartment', 'studio', 'townhouse'], dtype=object)"
      ]
     },
     "execution_count": 10,
     "metadata": {},
     "output_type": "execute_result"
    }
   ],
   "source": [
    "df.type.unique()"
   ]
  },
  {
   "cell_type": "code",
   "execution_count": 11,
   "metadata": {},
   "outputs": [
    {
     "data": {
      "text/plain": [
       "array(['no', 'yes', nan], dtype=object)"
      ]
     },
     "execution_count": 11,
     "metadata": {},
     "output_type": "execute_result"
    }
   ],
   "source": [
    "df.balcony.unique()"
   ]
  },
  {
   "cell_type": "code",
   "execution_count": 12,
   "metadata": {},
   "outputs": [],
   "source": [
    "#only ber and heating has missing values \n",
    "df = df.dropna() #drop nan values , not removing 'na' values need to fix that "
   ]
  },
  {
   "cell_type": "code",
   "execution_count": 13,
   "metadata": {},
   "outputs": [
    {
     "data": {
      "text/plain": [
       "array(['house', 'apartment', 'studio', 'townhouse'], dtype=object)"
      ]
     },
     "execution_count": 13,
     "metadata": {},
     "output_type": "execute_result"
    }
   ],
   "source": [
    "df.type.unique()"
   ]
  },
  {
   "cell_type": "code",
   "execution_count": 14,
   "metadata": {},
   "outputs": [
    {
     "data": {
      "text/plain": [
       "array(['central', 'electric'], dtype=object)"
      ]
     },
     "execution_count": 14,
     "metadata": {},
     "output_type": "execute_result"
    }
   ],
   "source": [
    "df.heating.unique()"
   ]
  },
  {
   "cell_type": "code",
   "execution_count": 15,
   "metadata": {},
   "outputs": [
    {
     "data": {
      "text/plain": [
       "array(['d2', 'c1', 'a3', 'd1', 'c3', 'c2', 'e1', 'exempt', 'e2', 'b3',\n",
       "       'b1', 'f', 'b2', 'a1', 'g'], dtype=object)"
      ]
     },
     "execution_count": 15,
     "metadata": {},
     "output_type": "execute_result"
    }
   ],
   "source": [
    "df.BER.unique()"
   ]
  },
  {
   "cell_type": "code",
   "execution_count": 16,
   "metadata": {},
   "outputs": [
    {
     "data": {
      "image/png": "[encoded data removed]",
      "text/plain": [
       "<Figure size 432x288 with 2 Axes>"
      ]
     },
     "metadata": {
      "needs_background": "light"
     },
     "output_type": "display_data"
    }
   ],
   "source": [
    "sns.heatmap(df.corr());"
   ]
  },
  {
   "cell_type": "markdown",
   "metadata": {},
   "source": [
    "inverse for distances bar gmit\n",
    "number of rooms and baths \n",
    "\n",
    "lots of categorical stuff here so don't pay too much attention to it "
   ]
  },
  {
   "cell_type": "code",
   "execution_count": 17,
   "metadata": {},
   "outputs": [
    {
     "data": {
      "image/png": "[encoded data removed]",
      "text/plain": [
       "<Figure size 1440x360 with 1 Axes>"
      ]
     },
     "metadata": {
      "needs_background": "light"
     },
     "output_type": "display_data"
    }
   ],
   "source": [
    "df.boxplot(figsize=(20,5))\n",
    "plt.show() #outliers, distance from salthill, number of rooms and number of baths, should consider removing those "
   ]
  },
  {
   "cell_type": "code",
   "execution_count": 18,
   "metadata": {},
   "outputs": [],
   "source": [
    "import matplotlib.pyplot as plt\n",
    "import numpy as np"
   ]
  },
  {
   "cell_type": "code",
   "execution_count": 19,
   "metadata": {},
   "outputs": [
    {
     "data": {
      "image/png": "[encoded data removed]",
      "text/plain": [
       "<Figure size 432x288 with 4 Axes>"
      ]
     },
     "metadata": {
      "needs_background": "light"
     },
     "output_type": "display_data"
    }
   ],
   "source": [
    "import matplotlib.pyplot as plt\n",
    "import numpy as np\n",
    "\n",
    "\n",
    "fig, axs = plt.subplots(2, 2)\n",
    "\n",
    "\n",
    "axs[0, 0].boxplot(df['number of rooms'])\n",
    "axs[0, 0].set_title('Number of Rooms')\n",
    "\n",
    "axs[0, 1].boxplot(df['price per month'])\n",
    "axs[0, 1].set_title('Price Per Month')\n",
    "\n",
    "axs[1, 1].boxplot(df['number of bathrooms'])\n",
    "axs[1, 1].set_title('Number of Bathrooms')\n",
    "\n",
    "axs[1, 0].boxplot(df['Distance Salthill'])\n",
    "axs[1, 0].set_title('Distance  Salthill')\n",
    "\n",
    "fig.subplots_adjust(left=0.08, right=0.98, bottom=0.05, top=0.9,\n",
    "                    hspace=0.4, wspace=0.3)\n",
    "\n",
    "plt.show()"
   ]
  },
  {
   "cell_type": "code",
   "execution_count": null,
   "metadata": {},
   "outputs": [],
   "source": []
  },
  {
   "cell_type": "code",
   "execution_count": 20,
   "metadata": {},
   "outputs": [
    {
     "data": {
      "image/png": "[encoded data removed]",
      "text/plain": [
       "<Figure size 432x288 with 1 Axes>"
      ]
     },
     "metadata": {
      "needs_background": "light"
     },
     "output_type": "display_data"
    }
   ],
   "source": [
    "df.boxplot(column='number of rooms')\n",
    "plt.show()"
   ]
  },
  {
   "cell_type": "markdown",
   "metadata": {},
   "source": []
  },
  {
   "cell_type": "code",
   "execution_count": 21,
   "metadata": {},
   "outputs": [
    {
     "data": {
      "image/png": "[encoded data removed]",
      "text/plain": [
       "<Figure size 432x288 with 1 Axes>"
      ]
     },
     "metadata": {
      "needs_background": "light"
     },
     "output_type": "display_data"
    }
   ],
   "source": [
    "df.boxplot(column='Distance Salthill')\n",
    "plt.show()"
   ]
  },
  {
   "cell_type": "markdown",
   "metadata": {},
   "source": [
    "things can be far away from certain palces \n"
   ]
  },
  {
   "cell_type": "code",
   "execution_count": 22,
   "metadata": {},
   "outputs": [
    {
     "data": {
      "image/png": "[encoded data removed]",
      "text/plain": [
       "<Figure size 432x288 with 1 Axes>"
      ]
     },
     "metadata": {
      "needs_background": "light"
     },
     "output_type": "display_data"
    }
   ],
   "source": [
    "df.boxplot(column='number of bathrooms')\n",
    "plt.show()"
   ]
  },
  {
   "cell_type": "markdown",
   "metadata": {},
   "source": [
    "was some big houses "
   ]
  },
  {
   "cell_type": "code",
   "execution_count": 23,
   "metadata": {},
   "outputs": [
    {
     "data": {
      "text/html": [
       "<div>\n",
       "<style scoped>\n",
       "    .dataframe tbody tr th:only-of-type {\n",
       "        vertical-align: middle;\n",
       "    }\n",
       "\n",
       "    .dataframe tbody tr th {\n",
       "        vertical-align: top;\n",
       "    }\n",
       "\n",
       "    .dataframe thead th {\n",
       "        text-align: right;\n",
       "    }\n",
       "</style>\n",
       "<table border=\"1\" class=\"dataframe\">\n",
       "  <thead>\n",
       "    <tr style=\"text-align: right;\">\n",
       "      <th></th>\n",
       "      <th>Distance Eyre Square</th>\n",
       "      <th>Distance Salthill</th>\n",
       "      <th>Distance NUIG</th>\n",
       "      <th>Distance GMIT</th>\n",
       "      <th>number of rooms</th>\n",
       "      <th>number of bathrooms</th>\n",
       "      <th>price per month</th>\n",
       "    </tr>\n",
       "  </thead>\n",
       "  <tbody>\n",
       "    <tr>\n",
       "      <th>count</th>\n",
       "      <td>378.000000</td>\n",
       "      <td>378.000000</td>\n",
       "      <td>378.000000</td>\n",
       "      <td>378.000000</td>\n",
       "      <td>378.000000</td>\n",
       "      <td>378.000000</td>\n",
       "      <td>378.000000</td>\n",
       "    </tr>\n",
       "    <tr>\n",
       "      <th>mean</th>\n",
       "      <td>2.264945</td>\n",
       "      <td>2.639864</td>\n",
       "      <td>2.303819</td>\n",
       "      <td>3.541791</td>\n",
       "      <td>2.515873</td>\n",
       "      <td>1.751323</td>\n",
       "      <td>1559.224868</td>\n",
       "    </tr>\n",
       "    <tr>\n",
       "      <th>std</th>\n",
       "      <td>1.454716</td>\n",
       "      <td>1.655613</td>\n",
       "      <td>1.453199</td>\n",
       "      <td>1.848706</td>\n",
       "      <td>1.055998</td>\n",
       "      <td>0.733120</td>\n",
       "      <td>469.247651</td>\n",
       "    </tr>\n",
       "    <tr>\n",
       "      <th>min</th>\n",
       "      <td>0.007512</td>\n",
       "      <td>0.099173</td>\n",
       "      <td>0.311939</td>\n",
       "      <td>0.209452</td>\n",
       "      <td>1.000000</td>\n",
       "      <td>1.000000</td>\n",
       "      <td>595.000000</td>\n",
       "    </tr>\n",
       "    <tr>\n",
       "      <th>25%</th>\n",
       "      <td>1.012972</td>\n",
       "      <td>1.357497</td>\n",
       "      <td>1.118415</td>\n",
       "      <td>2.218692</td>\n",
       "      <td>2.000000</td>\n",
       "      <td>1.000000</td>\n",
       "      <td>1250.000000</td>\n",
       "    </tr>\n",
       "    <tr>\n",
       "      <th>50%</th>\n",
       "      <td>2.092012</td>\n",
       "      <td>2.362079</td>\n",
       "      <td>1.785046</td>\n",
       "      <td>3.154629</td>\n",
       "      <td>2.000000</td>\n",
       "      <td>2.000000</td>\n",
       "      <td>1500.000000</td>\n",
       "    </tr>\n",
       "    <tr>\n",
       "      <th>75%</th>\n",
       "      <td>3.051279</td>\n",
       "      <td>3.583553</td>\n",
       "      <td>3.277126</td>\n",
       "      <td>4.706173</td>\n",
       "      <td>3.000000</td>\n",
       "      <td>2.000000</td>\n",
       "      <td>1830.000000</td>\n",
       "    </tr>\n",
       "    <tr>\n",
       "      <th>max</th>\n",
       "      <td>5.586384</td>\n",
       "      <td>7.005967</td>\n",
       "      <td>6.308555</td>\n",
       "      <td>8.135066</td>\n",
       "      <td>6.000000</td>\n",
       "      <td>5.000000</td>\n",
       "      <td>3700.000000</td>\n",
       "    </tr>\n",
       "  </tbody>\n",
       "</table>\n",
       "</div>"
      ],
      "text/plain": [
       "       Distance Eyre Square  Distance Salthill  Distance NUIG  Distance GMIT  \\\n",
       "count            378.000000         378.000000     378.000000     378.000000   \n",
       "mean               2.264945           2.639864       2.303819       3.541791   \n",
       "std                1.454716           1.655613       1.453199       1.848706   \n",
       "min                0.007512           0.099173       0.311939       0.209452   \n",
       "25%                1.012972           1.357497       1.118415       2.218692   \n",
       "50%                2.092012           2.362079       1.785046       3.154629   \n",
       "75%                3.051279           3.583553       3.277126       4.706173   \n",
       "max                5.586384           7.005967       6.308555       8.135066   \n",
       "\n",
       "       number of rooms  number of bathrooms  price per month  \n",
       "count       378.000000           378.000000       378.000000  \n",
       "mean          2.515873             1.751323      1559.224868  \n",
       "std           1.055998             0.733120       469.247651  \n",
       "min           1.000000             1.000000       595.000000  \n",
       "25%           2.000000             1.000000      1250.000000  \n",
       "50%           2.000000             2.000000      1500.000000  \n",
       "75%           3.000000             2.000000      1830.000000  \n",
       "max           6.000000             5.000000      3700.000000  "
      ]
     },
     "execution_count": 23,
     "metadata": {},
     "output_type": "execute_result"
    }
   ],
   "source": [
    "df.describe()"
   ]
  },
  {
   "cell_type": "code",
   "execution_count": 24,
   "metadata": {},
   "outputs": [
    {
     "data": {
      "text/html": [
       "<div>\n",
       "<style scoped>\n",
       "    .dataframe tbody tr th:only-of-type {\n",
       "        vertical-align: middle;\n",
       "    }\n",
       "\n",
       "    .dataframe tbody tr th {\n",
       "        vertical-align: top;\n",
       "    }\n",
       "\n",
       "    .dataframe thead th {\n",
       "        text-align: right;\n",
       "    }\n",
       "</style>\n",
       "<table border=\"1\" class=\"dataframe\">\n",
       "  <thead>\n",
       "    <tr style=\"text-align: right;\">\n",
       "      <th></th>\n",
       "      <th>Distance Eyre Square</th>\n",
       "      <th>Distance Salthill</th>\n",
       "      <th>Distance NUIG</th>\n",
       "      <th>Distance GMIT</th>\n",
       "      <th>number of rooms</th>\n",
       "      <th>number of bathrooms</th>\n",
       "      <th>price per month</th>\n",
       "      <th>type</th>\n",
       "      <th>BER</th>\n",
       "      <th>balcony</th>\n",
       "      <th>heating</th>\n",
       "    </tr>\n",
       "  </thead>\n",
       "  <tbody>\n",
       "    <tr>\n",
       "      <th>0</th>\n",
       "      <td>2.706816</td>\n",
       "      <td>4.449858</td>\n",
       "      <td>3.520573</td>\n",
       "      <td>0.209452</td>\n",
       "      <td>4</td>\n",
       "      <td>2</td>\n",
       "      <td>2100</td>\n",
       "      <td>house</td>\n",
       "      <td>d2</td>\n",
       "      <td>no</td>\n",
       "      <td>central</td>\n",
       "    </tr>\n",
       "    <tr>\n",
       "      <th>1</th>\n",
       "      <td>5.586384</td>\n",
       "      <td>4.231058</td>\n",
       "      <td>4.789334</td>\n",
       "      <td>8.135066</td>\n",
       "      <td>1</td>\n",
       "      <td>1</td>\n",
       "      <td>850</td>\n",
       "      <td>apartment</td>\n",
       "      <td>c1</td>\n",
       "      <td>no</td>\n",
       "      <td>central</td>\n",
       "    </tr>\n",
       "    <tr>\n",
       "      <th>2</th>\n",
       "      <td>4.884620</td>\n",
       "      <td>3.551142</td>\n",
       "      <td>4.097072</td>\n",
       "      <td>7.434207</td>\n",
       "      <td>3</td>\n",
       "      <td>2</td>\n",
       "      <td>1800</td>\n",
       "      <td>house</td>\n",
       "      <td>a3</td>\n",
       "      <td>no</td>\n",
       "      <td>central</td>\n",
       "    </tr>\n",
       "    <tr>\n",
       "      <th>4</th>\n",
       "      <td>1.456473</td>\n",
       "      <td>3.093256</td>\n",
       "      <td>2.398740</td>\n",
       "      <td>1.176212</td>\n",
       "      <td>3</td>\n",
       "      <td>2</td>\n",
       "      <td>1600</td>\n",
       "      <td>house</td>\n",
       "      <td>d1</td>\n",
       "      <td>no</td>\n",
       "      <td>central</td>\n",
       "    </tr>\n",
       "    <tr>\n",
       "      <th>5</th>\n",
       "      <td>2.313815</td>\n",
       "      <td>1.099351</td>\n",
       "      <td>1.721166</td>\n",
       "      <td>4.863595</td>\n",
       "      <td>4</td>\n",
       "      <td>2</td>\n",
       "      <td>2390</td>\n",
       "      <td>house</td>\n",
       "      <td>c3</td>\n",
       "      <td>no</td>\n",
       "      <td>central</td>\n",
       "    </tr>\n",
       "  </tbody>\n",
       "</table>\n",
       "</div>"
      ],
      "text/plain": [
       "   Distance Eyre Square  Distance Salthill  Distance NUIG  Distance GMIT  \\\n",
       "0              2.706816           4.449858       3.520573       0.209452   \n",
       "1              5.586384           4.231058       4.789334       8.135066   \n",
       "2              4.884620           3.551142       4.097072       7.434207   \n",
       "4              1.456473           3.093256       2.398740       1.176212   \n",
       "5              2.313815           1.099351       1.721166       4.863595   \n",
       "\n",
       "   number of rooms  number of bathrooms  price per month       type BER  \\\n",
       "0                4                    2             2100      house  d2   \n",
       "1                1                    1              850  apartment  c1   \n",
       "2                3                    2             1800      house  a3   \n",
       "4                3                    2             1600      house  d1   \n",
       "5                4                    2             2390      house  c3   \n",
       "\n",
       "  balcony  heating  \n",
       "0      no  central  \n",
       "1      no  central  \n",
       "2      no  central  \n",
       "4      no  central  \n",
       "5      no  central  "
      ]
     },
     "execution_count": 24,
     "metadata": {},
     "output_type": "execute_result"
    }
   ],
   "source": [
    "df.head()"
   ]
  },
  {
   "cell_type": "code",
   "execution_count": 25,
   "metadata": {},
   "outputs": [
    {
     "data": {
      "text/plain": [
       "array(['d2', 'c1', 'a3', 'd1', 'c3', 'c2', 'e1', 'exempt', 'e2', 'b3',\n",
       "       'b1', 'f', 'b2', 'a1', 'g'], dtype=object)"
      ]
     },
     "execution_count": 25,
     "metadata": {},
     "output_type": "execute_result"
    }
   ],
   "source": [
    "df.BER.unique()"
   ]
  },
  {
   "cell_type": "code",
   "execution_count": 26,
   "metadata": {},
   "outputs": [
    {
     "data": {
      "text/html": [
       "<div>\n",
       "<style scoped>\n",
       "    .dataframe tbody tr th:only-of-type {\n",
       "        vertical-align: middle;\n",
       "    }\n",
       "\n",
       "    .dataframe tbody tr th {\n",
       "        vertical-align: top;\n",
       "    }\n",
       "\n",
       "    .dataframe thead th {\n",
       "        text-align: right;\n",
       "    }\n",
       "</style>\n",
       "<table border=\"1\" class=\"dataframe\">\n",
       "  <thead>\n",
       "    <tr style=\"text-align: right;\">\n",
       "      <th></th>\n",
       "      <th>Distance Eyre Square</th>\n",
       "      <th>Distance Salthill</th>\n",
       "      <th>Distance NUIG</th>\n",
       "      <th>Distance GMIT</th>\n",
       "      <th>number of rooms</th>\n",
       "      <th>number of bathrooms</th>\n",
       "      <th>price per month</th>\n",
       "      <th>type</th>\n",
       "      <th>BER</th>\n",
       "      <th>balcony</th>\n",
       "      <th>heating</th>\n",
       "    </tr>\n",
       "  </thead>\n",
       "  <tbody>\n",
       "    <tr>\n",
       "      <th>390</th>\n",
       "      <td>2.345123</td>\n",
       "      <td>0.456042</td>\n",
       "      <td>2.242454</td>\n",
       "      <td>4.693170</td>\n",
       "      <td>2</td>\n",
       "      <td>1</td>\n",
       "      <td>1600</td>\n",
       "      <td>apartment</td>\n",
       "      <td>5</td>\n",
       "      <td>no</td>\n",
       "      <td>electric</td>\n",
       "    </tr>\n",
       "    <tr>\n",
       "      <th>391</th>\n",
       "      <td>1.539927</td>\n",
       "      <td>0.356783</td>\n",
       "      <td>1.500652</td>\n",
       "      <td>3.960231</td>\n",
       "      <td>5</td>\n",
       "      <td>2</td>\n",
       "      <td>2000</td>\n",
       "      <td>house</td>\n",
       "      <td>6</td>\n",
       "      <td>no</td>\n",
       "      <td>central</td>\n",
       "    </tr>\n",
       "    <tr>\n",
       "      <th>392</th>\n",
       "      <td>1.398883</td>\n",
       "      <td>0.528898</td>\n",
       "      <td>1.540958</td>\n",
       "      <td>3.739695</td>\n",
       "      <td>1</td>\n",
       "      <td>1</td>\n",
       "      <td>920</td>\n",
       "      <td>apartment</td>\n",
       "      <td>4</td>\n",
       "      <td>no</td>\n",
       "      <td>electric</td>\n",
       "    </tr>\n",
       "    <tr>\n",
       "      <th>393</th>\n",
       "      <td>5.087938</td>\n",
       "      <td>6.748020</td>\n",
       "      <td>5.912348</td>\n",
       "      <td>2.534640</td>\n",
       "      <td>1</td>\n",
       "      <td>1</td>\n",
       "      <td>810</td>\n",
       "      <td>apartment</td>\n",
       "      <td>0</td>\n",
       "      <td>no</td>\n",
       "      <td>central</td>\n",
       "    </tr>\n",
       "    <tr>\n",
       "      <th>394</th>\n",
       "      <td>4.670141</td>\n",
       "      <td>6.348894</td>\n",
       "      <td>5.487608</td>\n",
       "      <td>2.116635</td>\n",
       "      <td>2</td>\n",
       "      <td>1</td>\n",
       "      <td>1136</td>\n",
       "      <td>apartment</td>\n",
       "      <td>5</td>\n",
       "      <td>no</td>\n",
       "      <td>electric</td>\n",
       "    </tr>\n",
       "  </tbody>\n",
       "</table>\n",
       "</div>"
      ],
      "text/plain": [
       "     Distance Eyre Square  Distance Salthill  Distance NUIG  Distance GMIT  \\\n",
       "390              2.345123           0.456042       2.242454       4.693170   \n",
       "391              1.539927           0.356783       1.500652       3.960231   \n",
       "392              1.398883           0.528898       1.540958       3.739695   \n",
       "393              5.087938           6.748020       5.912348       2.534640   \n",
       "394              4.670141           6.348894       5.487608       2.116635   \n",
       "\n",
       "     number of rooms  number of bathrooms  price per month       type  BER  \\\n",
       "390                2                    1             1600  apartment    5   \n",
       "391                5                    2             2000      house    6   \n",
       "392                1                    1              920  apartment    4   \n",
       "393                1                    1              810  apartment    0   \n",
       "394                2                    1             1136  apartment    5   \n",
       "\n",
       "    balcony   heating  \n",
       "390      no  electric  \n",
       "391      no   central  \n",
       "392      no  electric  \n",
       "393      no   central  \n",
       "394      no  electric  "
      ]
     },
     "execution_count": 26,
     "metadata": {},
     "output_type": "execute_result"
    }
   ],
   "source": [
    "scale_mapper = {\n",
    "    \"a1\":15,\n",
    "    \"a2\":14,\n",
    "    \"a3\":13,\n",
    "    \"b1\":12,\n",
    "    \"b2\":11,\n",
    "    \"b3\":10,\n",
    "    \"c1\":9,\n",
    "    \"c2\":8,\n",
    "    \"c3\":7,\n",
    "    \"d1\":6,\n",
    "    \"d2\":5,\n",
    "    \"e1\":4,\n",
    "    \"e2\":3,\n",
    "    \"f\":2,\n",
    "    \"g\":1,\n",
    "    \"exempt\":0\n",
    "}\n",
    "\n",
    "df['BER'] = df['BER'].replace(scale_mapper)\n",
    "\n",
    "df.tail()\n"
   ]
  },
  {
   "cell_type": "code",
   "execution_count": 27,
   "metadata": {},
   "outputs": [
    {
     "data": {
      "text/html": [
       "<div>\n",
       "<style scoped>\n",
       "    .dataframe tbody tr th:only-of-type {\n",
       "        vertical-align: middle;\n",
       "    }\n",
       "\n",
       "    .dataframe tbody tr th {\n",
       "        vertical-align: top;\n",
       "    }\n",
       "\n",
       "    .dataframe thead th {\n",
       "        text-align: right;\n",
       "    }\n",
       "</style>\n",
       "<table border=\"1\" class=\"dataframe\">\n",
       "  <thead>\n",
       "    <tr style=\"text-align: right;\">\n",
       "      <th></th>\n",
       "      <th>Distance Eyre Square</th>\n",
       "      <th>Distance Salthill</th>\n",
       "      <th>Distance NUIG</th>\n",
       "      <th>Distance GMIT</th>\n",
       "      <th>number of rooms</th>\n",
       "      <th>number of bathrooms</th>\n",
       "      <th>price per month</th>\n",
       "      <th>BER</th>\n",
       "      <th>type_apartment</th>\n",
       "      <th>type_house</th>\n",
       "      <th>type_studio</th>\n",
       "      <th>type_townhouse</th>\n",
       "      <th>balcony_no</th>\n",
       "      <th>balcony_yes</th>\n",
       "      <th>heating_central</th>\n",
       "      <th>heating_electric</th>\n",
       "    </tr>\n",
       "  </thead>\n",
       "  <tbody>\n",
       "    <tr>\n",
       "      <th>390</th>\n",
       "      <td>2.345123</td>\n",
       "      <td>0.456042</td>\n",
       "      <td>2.242454</td>\n",
       "      <td>4.693170</td>\n",
       "      <td>2</td>\n",
       "      <td>1</td>\n",
       "      <td>1600</td>\n",
       "      <td>5</td>\n",
       "      <td>1</td>\n",
       "      <td>0</td>\n",
       "      <td>0</td>\n",
       "      <td>0</td>\n",
       "      <td>1</td>\n",
       "      <td>0</td>\n",
       "      <td>0</td>\n",
       "      <td>1</td>\n",
       "    </tr>\n",
       "    <tr>\n",
       "      <th>391</th>\n",
       "      <td>1.539927</td>\n",
       "      <td>0.356783</td>\n",
       "      <td>1.500652</td>\n",
       "      <td>3.960231</td>\n",
       "      <td>5</td>\n",
       "      <td>2</td>\n",
       "      <td>2000</td>\n",
       "      <td>6</td>\n",
       "      <td>0</td>\n",
       "      <td>1</td>\n",
       "      <td>0</td>\n",
       "      <td>0</td>\n",
       "      <td>1</td>\n",
       "      <td>0</td>\n",
       "      <td>1</td>\n",
       "      <td>0</td>\n",
       "    </tr>\n",
       "    <tr>\n",
       "      <th>392</th>\n",
       "      <td>1.398883</td>\n",
       "      <td>0.528898</td>\n",
       "      <td>1.540958</td>\n",
       "      <td>3.739695</td>\n",
       "      <td>1</td>\n",
       "      <td>1</td>\n",
       "      <td>920</td>\n",
       "      <td>4</td>\n",
       "      <td>1</td>\n",
       "      <td>0</td>\n",
       "      <td>0</td>\n",
       "      <td>0</td>\n",
       "      <td>1</td>\n",
       "      <td>0</td>\n",
       "      <td>0</td>\n",
       "      <td>1</td>\n",
       "    </tr>\n",
       "    <tr>\n",
       "      <th>393</th>\n",
       "      <td>5.087938</td>\n",
       "      <td>6.748020</td>\n",
       "      <td>5.912348</td>\n",
       "      <td>2.534640</td>\n",
       "      <td>1</td>\n",
       "      <td>1</td>\n",
       "      <td>810</td>\n",
       "      <td>0</td>\n",
       "      <td>1</td>\n",
       "      <td>0</td>\n",
       "      <td>0</td>\n",
       "      <td>0</td>\n",
       "      <td>1</td>\n",
       "      <td>0</td>\n",
       "      <td>1</td>\n",
       "      <td>0</td>\n",
       "    </tr>\n",
       "    <tr>\n",
       "      <th>394</th>\n",
       "      <td>4.670141</td>\n",
       "      <td>6.348894</td>\n",
       "      <td>5.487608</td>\n",
       "      <td>2.116635</td>\n",
       "      <td>2</td>\n",
       "      <td>1</td>\n",
       "      <td>1136</td>\n",
       "      <td>5</td>\n",
       "      <td>1</td>\n",
       "      <td>0</td>\n",
       "      <td>0</td>\n",
       "      <td>0</td>\n",
       "      <td>1</td>\n",
       "      <td>0</td>\n",
       "      <td>0</td>\n",
       "      <td>1</td>\n",
       "    </tr>\n",
       "  </tbody>\n",
       "</table>\n",
       "</div>"
      ],
      "text/plain": [
       "     Distance Eyre Square  Distance Salthill  Distance NUIG  Distance GMIT  \\\n",
       "390              2.345123           0.456042       2.242454       4.693170   \n",
       "391              1.539927           0.356783       1.500652       3.960231   \n",
       "392              1.398883           0.528898       1.540958       3.739695   \n",
       "393              5.087938           6.748020       5.912348       2.534640   \n",
       "394              4.670141           6.348894       5.487608       2.116635   \n",
       "\n",
       "     number of rooms  number of bathrooms  price per month  BER  \\\n",
       "390                2                    1             1600    5   \n",
       "391                5                    2             2000    6   \n",
       "392                1                    1              920    4   \n",
       "393                1                    1              810    0   \n",
       "394                2                    1             1136    5   \n",
       "\n",
       "     type_apartment  type_house  type_studio  type_townhouse  balcony_no  \\\n",
       "390               1           0            0               0           1   \n",
       "391               0           1            0               0           1   \n",
       "392               1           0            0               0           1   \n",
       "393               1           0            0               0           1   \n",
       "394               1           0            0               0           1   \n",
       "\n",
       "     balcony_yes  heating_central  heating_electric  \n",
       "390            0                0                 1  \n",
       "391            0                1                 0  \n",
       "392            0                0                 1  \n",
       "393            0                1                 0  \n",
       "394            0                0                 1  "
      ]
     },
     "execution_count": 27,
     "metadata": {},
     "output_type": "execute_result"
    }
   ],
   "source": [
    "df = pd.get_dummies(df, columns=['type','balcony','heating'])\n",
    "df.tail()\n",
    "\n",
    "#this gives us dummy variables for the categorical columns remaining, for mext run might be worth removing the balcony when examing both"
   ]
  },
  {
   "cell_type": "code",
   "execution_count": 28,
   "metadata": {},
   "outputs": [
    {
     "data": {
      "image/png": "[encoded data removed]",
      "text/plain": [
       "<Figure size 432x288 with 2 Axes>"
      ]
     },
     "metadata": {
      "needs_background": "light"
     },
     "output_type": "display_data"
    }
   ],
   "source": [
    "sns.heatmap(df.corr());"
   ]
  },
  {
   "cell_type": "code",
   "execution_count": 29,
   "metadata": {},
   "outputs": [
    {
     "data": {
      "image/png": "[encoded data removed]",
      "text/plain": [
       "<Figure size 432x288 with 2 Axes>"
      ]
     },
     "metadata": {
      "needs_background": "light"
     },
     "output_type": "display_data"
    }
   ],
   "source": [
    "df_new=df.rename(columns={'pricer per month': 'price per month'})\n",
    "df_new=df_new.rename(columns={'number of baths rooms': 'number of bath rooms'})\n",
    "sns.heatmap(df_new.corr());"
   ]
  },
  {
   "cell_type": "code",
   "execution_count": 30,
   "metadata": {},
   "outputs": [
    {
     "data": {
      "image/png": "[encoded data removed]",
      "text/plain": [
       "<Figure size 432x288 with 2 Axes>"
      ]
     },
     "metadata": {
      "needs_background": "light"
     },
     "output_type": "display_data"
    }
   ],
   "source": [
    "correlation_mat = df_new.corr()\n",
    "\n",
    "sns.heatmap(correlation_mat, annot = True)\n",
    "\n",
    "plt.show()"
   ]
  },
  {
   "cell_type": "markdown",
   "metadata": {},
   "source": [
    "inverse electric\n",
    "positive central\n",
    "townhouse +\n",
    "studio -\n",
    "house+\n",
    "ber+\n",
    "distance - but gmit \n"
   ]
  },
  {
   "cell_type": "code",
   "execution_count": 31,
   "metadata": {},
   "outputs": [],
   "source": [
    "del df['balcony_no']"
   ]
  },
  {
   "cell_type": "code",
   "execution_count": 32,
   "metadata": {},
   "outputs": [],
   "source": [
    "del df['heating_central']"
   ]
  },
  {
   "cell_type": "code",
   "execution_count": 33,
   "metadata": {},
   "outputs": [],
   "source": [
    "del df['type_townhouse']"
   ]
  },
  {
   "cell_type": "code",
   "execution_count": 34,
   "metadata": {},
   "outputs": [],
   "source": [
    "# balcony_no, heating_central type_townhouse"
   ]
  },
  {
   "cell_type": "code",
   "execution_count": 35,
   "metadata": {},
   "outputs": [
    {
     "data": {
      "text/html": [
       "<div>\n",
       "<style scoped>\n",
       "    .dataframe tbody tr th:only-of-type {\n",
       "        vertical-align: middle;\n",
       "    }\n",
       "\n",
       "    .dataframe tbody tr th {\n",
       "        vertical-align: top;\n",
       "    }\n",
       "\n",
       "    .dataframe thead th {\n",
       "        text-align: right;\n",
       "    }\n",
       "</style>\n",
       "<table border=\"1\" class=\"dataframe\">\n",
       "  <thead>\n",
       "    <tr style=\"text-align: right;\">\n",
       "      <th></th>\n",
       "      <th>Distance Eyre Square</th>\n",
       "      <th>Distance Salthill</th>\n",
       "      <th>Distance NUIG</th>\n",
       "      <th>Distance GMIT</th>\n",
       "      <th>number of rooms</th>\n",
       "      <th>number of bathrooms</th>\n",
       "      <th>price per month</th>\n",
       "      <th>BER</th>\n",
       "      <th>type_apartment</th>\n",
       "      <th>type_house</th>\n",
       "      <th>type_studio</th>\n",
       "      <th>balcony_yes</th>\n",
       "      <th>heating_electric</th>\n",
       "    </tr>\n",
       "  </thead>\n",
       "  <tbody>\n",
       "    <tr>\n",
       "      <th>0</th>\n",
       "      <td>2.706816</td>\n",
       "      <td>4.449858</td>\n",
       "      <td>3.520573</td>\n",
       "      <td>0.209452</td>\n",
       "      <td>4</td>\n",
       "      <td>2</td>\n",
       "      <td>2100</td>\n",
       "      <td>5</td>\n",
       "      <td>0</td>\n",
       "      <td>1</td>\n",
       "      <td>0</td>\n",
       "      <td>0</td>\n",
       "      <td>0</td>\n",
       "    </tr>\n",
       "    <tr>\n",
       "      <th>1</th>\n",
       "      <td>5.586384</td>\n",
       "      <td>4.231058</td>\n",
       "      <td>4.789334</td>\n",
       "      <td>8.135066</td>\n",
       "      <td>1</td>\n",
       "      <td>1</td>\n",
       "      <td>850</td>\n",
       "      <td>9</td>\n",
       "      <td>1</td>\n",
       "      <td>0</td>\n",
       "      <td>0</td>\n",
       "      <td>0</td>\n",
       "      <td>0</td>\n",
       "    </tr>\n",
       "    <tr>\n",
       "      <th>2</th>\n",
       "      <td>4.884620</td>\n",
       "      <td>3.551142</td>\n",
       "      <td>4.097072</td>\n",
       "      <td>7.434207</td>\n",
       "      <td>3</td>\n",
       "      <td>2</td>\n",
       "      <td>1800</td>\n",
       "      <td>13</td>\n",
       "      <td>0</td>\n",
       "      <td>1</td>\n",
       "      <td>0</td>\n",
       "      <td>0</td>\n",
       "      <td>0</td>\n",
       "    </tr>\n",
       "    <tr>\n",
       "      <th>4</th>\n",
       "      <td>1.456473</td>\n",
       "      <td>3.093256</td>\n",
       "      <td>2.398740</td>\n",
       "      <td>1.176212</td>\n",
       "      <td>3</td>\n",
       "      <td>2</td>\n",
       "      <td>1600</td>\n",
       "      <td>6</td>\n",
       "      <td>0</td>\n",
       "      <td>1</td>\n",
       "      <td>0</td>\n",
       "      <td>0</td>\n",
       "      <td>0</td>\n",
       "    </tr>\n",
       "    <tr>\n",
       "      <th>5</th>\n",
       "      <td>2.313815</td>\n",
       "      <td>1.099351</td>\n",
       "      <td>1.721166</td>\n",
       "      <td>4.863595</td>\n",
       "      <td>4</td>\n",
       "      <td>2</td>\n",
       "      <td>2390</td>\n",
       "      <td>7</td>\n",
       "      <td>0</td>\n",
       "      <td>1</td>\n",
       "      <td>0</td>\n",
       "      <td>0</td>\n",
       "      <td>0</td>\n",
       "    </tr>\n",
       "  </tbody>\n",
       "</table>\n",
       "</div>"
      ],
      "text/plain": [
       "   Distance Eyre Square  Distance Salthill  Distance NUIG  Distance GMIT  \\\n",
       "0              2.706816           4.449858       3.520573       0.209452   \n",
       "1              5.586384           4.231058       4.789334       8.135066   \n",
       "2              4.884620           3.551142       4.097072       7.434207   \n",
       "4              1.456473           3.093256       2.398740       1.176212   \n",
       "5              2.313815           1.099351       1.721166       4.863595   \n",
       "\n",
       "   number of rooms  number of bathrooms  price per month  BER  type_apartment  \\\n",
       "0                4                    2             2100    5               0   \n",
       "1                1                    1              850    9               1   \n",
       "2                3                    2             1800   13               0   \n",
       "4                3                    2             1600    6               0   \n",
       "5                4                    2             2390    7               0   \n",
       "\n",
       "   type_house  type_studio  balcony_yes  heating_electric  \n",
       "0           1            0            0                 0  \n",
       "1           0            0            0                 0  \n",
       "2           1            0            0                 0  \n",
       "4           1            0            0                 0  \n",
       "5           1            0            0                 0  "
      ]
     },
     "execution_count": 35,
     "metadata": {},
     "output_type": "execute_result"
    }
   ],
   "source": [
    "df.head()\n"
   ]
  },
  {
   "cell_type": "code",
   "execution_count": 36,
   "metadata": {},
   "outputs": [
    {
     "data": {
      "text/plain": [
       "array([2100,  850, 1800, 1600, 2390, 1500, 2000,  650, 1000, 2800, 1200,\n",
       "       1050,  900, 1300, 2500,  620, 1695, 2750, 1740, 2825, 2400, 1100,\n",
       "       1350, 2240,  846, 1246, 1250, 1850, 1750, 1340, 1280, 1175,  820,\n",
       "       1308, 2150,  800, 1020, 2490, 2340, 1700, 1669, 1265, 2280, 1192,\n",
       "       1450, 1399, 2200, 1950, 1887, 1400, 1096, 2640, 1560, 2300, 2700,\n",
       "       1309, 1795, 1550, 1107, 1650, 1145, 1545, 2680, 1040, 1092, 1070,\n",
       "       2375, 1510, 1120,  950, 2050, 1983, 1218, 1440, 1900, 1940, 3640,\n",
       "        930, 1316, 1275, 1395,  595, 2600,  790, 1370,  695, 1057, 1733,\n",
       "       1235, 2950, 1493, 1180, 1543, 1872, 1985, 1375, 1495, 1637, 2331,\n",
       "       1075, 3700, 1389, 1840, 1880, 1742, 1028, 2080, 1270, 1318, 1230,\n",
       "       1215, 1060, 1015, 1260,  980, 1512,  852, 2175, 1575, 1791, 1470,\n",
       "       1790,  920,  810, 1136])"
      ]
     },
     "execution_count": 36,
     "metadata": {},
     "output_type": "execute_result"
    }
   ],
   "source": [
    "df['price per month'].unique()"
   ]
  },
  {
   "cell_type": "code",
   "execution_count": 37,
   "metadata": {},
   "outputs": [
    {
     "data": {
      "image/png": "[encoded data removed]",
      "text/plain": [
       "<Figure size 432x288 with 2 Axes>"
      ]
     },
     "metadata": {
      "needs_background": "light"
     },
     "output_type": "display_data"
    }
   ],
   "source": [
    "sns.heatmap(df.corr());\n"
   ]
  },
  {
   "cell_type": "code",
   "execution_count": 38,
   "metadata": {},
   "outputs": [
    {
     "data": {
      "text/html": [
       "<div>\n",
       "<style scoped>\n",
       "    .dataframe tbody tr th:only-of-type {\n",
       "        vertical-align: middle;\n",
       "    }\n",
       "\n",
       "    .dataframe tbody tr th {\n",
       "        vertical-align: top;\n",
       "    }\n",
       "\n",
       "    .dataframe thead th {\n",
       "        text-align: right;\n",
       "    }\n",
       "</style>\n",
       "<table border=\"1\" class=\"dataframe\">\n",
       "  <thead>\n",
       "    <tr style=\"text-align: right;\">\n",
       "      <th></th>\n",
       "      <th>Distance Eyre Square</th>\n",
       "      <th>Distance Salthill</th>\n",
       "      <th>Distance NUIG</th>\n",
       "      <th>Distance GMIT</th>\n",
       "      <th>number of rooms</th>\n",
       "      <th>number of bathrooms</th>\n",
       "      <th>price per month</th>\n",
       "      <th>BER</th>\n",
       "      <th>type_apartment</th>\n",
       "      <th>type_house</th>\n",
       "      <th>type_studio</th>\n",
       "      <th>balcony_yes</th>\n",
       "      <th>heating_electric</th>\n",
       "    </tr>\n",
       "  </thead>\n",
       "  <tbody>\n",
       "    <tr>\n",
       "      <th>Distance Eyre Square</th>\n",
       "      <td>1.000000</td>\n",
       "      <td>0.598137</td>\n",
       "      <td>0.903420</td>\n",
       "      <td>0.416351</td>\n",
       "      <td>0.138970</td>\n",
       "      <td>0.177724</td>\n",
       "      <td>-0.153024</td>\n",
       "      <td>0.150945</td>\n",
       "      <td>-0.152310</td>\n",
       "      <td>0.177900</td>\n",
       "      <td>0.029091</td>\n",
       "      <td>-0.108905</td>\n",
       "      <td>-0.208747</td>\n",
       "    </tr>\n",
       "    <tr>\n",
       "      <th>Distance Salthill</th>\n",
       "      <td>0.598137</td>\n",
       "      <td>1.000000</td>\n",
       "      <td>0.786943</td>\n",
       "      <td>-0.379555</td>\n",
       "      <td>0.073891</td>\n",
       "      <td>0.081062</td>\n",
       "      <td>-0.182766</td>\n",
       "      <td>0.176269</td>\n",
       "      <td>-0.024916</td>\n",
       "      <td>0.026735</td>\n",
       "      <td>0.004041</td>\n",
       "      <td>-0.047175</td>\n",
       "      <td>-0.164165</td>\n",
       "    </tr>\n",
       "    <tr>\n",
       "      <th>Distance NUIG</th>\n",
       "      <td>0.903420</td>\n",
       "      <td>0.786943</td>\n",
       "      <td>1.000000</td>\n",
       "      <td>0.054698</td>\n",
       "      <td>0.037726</td>\n",
       "      <td>0.102468</td>\n",
       "      <td>-0.232895</td>\n",
       "      <td>0.143013</td>\n",
       "      <td>-0.050297</td>\n",
       "      <td>0.053392</td>\n",
       "      <td>0.057459</td>\n",
       "      <td>-0.040680</td>\n",
       "      <td>-0.121557</td>\n",
       "    </tr>\n",
       "    <tr>\n",
       "      <th>Distance GMIT</th>\n",
       "      <td>0.416351</td>\n",
       "      <td>-0.379555</td>\n",
       "      <td>0.054698</td>\n",
       "      <td>1.000000</td>\n",
       "      <td>0.145281</td>\n",
       "      <td>0.207835</td>\n",
       "      <td>0.096442</td>\n",
       "      <td>0.012430</td>\n",
       "      <td>-0.166100</td>\n",
       "      <td>0.203987</td>\n",
       "      <td>-0.043308</td>\n",
       "      <td>-0.080423</td>\n",
       "      <td>-0.099615</td>\n",
       "    </tr>\n",
       "    <tr>\n",
       "      <th>number of rooms</th>\n",
       "      <td>0.138970</td>\n",
       "      <td>0.073891</td>\n",
       "      <td>0.037726</td>\n",
       "      <td>0.145281</td>\n",
       "      <td>1.000000</td>\n",
       "      <td>0.587576</td>\n",
       "      <td>0.716419</td>\n",
       "      <td>0.192017</td>\n",
       "      <td>-0.658590</td>\n",
       "      <td>0.737502</td>\n",
       "      <td>-0.224483</td>\n",
       "      <td>-0.113256</td>\n",
       "      <td>-0.388718</td>\n",
       "    </tr>\n",
       "    <tr>\n",
       "      <th>number of bathrooms</th>\n",
       "      <td>0.177724</td>\n",
       "      <td>0.081062</td>\n",
       "      <td>0.102468</td>\n",
       "      <td>0.207835</td>\n",
       "      <td>0.587576</td>\n",
       "      <td>1.000000</td>\n",
       "      <td>0.533281</td>\n",
       "      <td>0.259461</td>\n",
       "      <td>-0.405056</td>\n",
       "      <td>0.413939</td>\n",
       "      <td>-0.160264</td>\n",
       "      <td>0.053119</td>\n",
       "      <td>-0.261524</td>\n",
       "    </tr>\n",
       "    <tr>\n",
       "      <th>price per month</th>\n",
       "      <td>-0.153024</td>\n",
       "      <td>-0.182766</td>\n",
       "      <td>-0.232895</td>\n",
       "      <td>0.096442</td>\n",
       "      <td>0.716419</td>\n",
       "      <td>0.533281</td>\n",
       "      <td>1.000000</td>\n",
       "      <td>0.183135</td>\n",
       "      <td>-0.424563</td>\n",
       "      <td>0.478792</td>\n",
       "      <td>-0.238021</td>\n",
       "      <td>-0.007736</td>\n",
       "      <td>-0.278728</td>\n",
       "    </tr>\n",
       "    <tr>\n",
       "      <th>BER</th>\n",
       "      <td>0.150945</td>\n",
       "      <td>0.176269</td>\n",
       "      <td>0.143013</td>\n",
       "      <td>0.012430</td>\n",
       "      <td>0.192017</td>\n",
       "      <td>0.259461</td>\n",
       "      <td>0.183135</td>\n",
       "      <td>1.000000</td>\n",
       "      <td>-0.093954</td>\n",
       "      <td>0.146846</td>\n",
       "      <td>-0.178483</td>\n",
       "      <td>0.120431</td>\n",
       "      <td>-0.195201</td>\n",
       "    </tr>\n",
       "    <tr>\n",
       "      <th>type_apartment</th>\n",
       "      <td>-0.152310</td>\n",
       "      <td>-0.024916</td>\n",
       "      <td>-0.050297</td>\n",
       "      <td>-0.166100</td>\n",
       "      <td>-0.658590</td>\n",
       "      <td>-0.405056</td>\n",
       "      <td>-0.424563</td>\n",
       "      <td>-0.093954</td>\n",
       "      <td>1.000000</td>\n",
       "      <td>-0.889681</td>\n",
       "      <td>-0.184285</td>\n",
       "      <td>0.289436</td>\n",
       "      <td>0.515968</td>\n",
       "    </tr>\n",
       "    <tr>\n",
       "      <th>type_house</th>\n",
       "      <td>0.177900</td>\n",
       "      <td>0.026735</td>\n",
       "      <td>0.053392</td>\n",
       "      <td>0.203987</td>\n",
       "      <td>0.737502</td>\n",
       "      <td>0.413939</td>\n",
       "      <td>0.478792</td>\n",
       "      <td>0.146846</td>\n",
       "      <td>-0.889681</td>\n",
       "      <td>1.000000</td>\n",
       "      <td>-0.117750</td>\n",
       "      <td>-0.300639</td>\n",
       "      <td>-0.547515</td>\n",
       "    </tr>\n",
       "    <tr>\n",
       "      <th>type_studio</th>\n",
       "      <td>0.029091</td>\n",
       "      <td>0.004041</td>\n",
       "      <td>0.057459</td>\n",
       "      <td>-0.043308</td>\n",
       "      <td>-0.224483</td>\n",
       "      <td>-0.160264</td>\n",
       "      <td>-0.238021</td>\n",
       "      <td>-0.178483</td>\n",
       "      <td>-0.184285</td>\n",
       "      <td>-0.117750</td>\n",
       "      <td>1.000000</td>\n",
       "      <td>-0.084117</td>\n",
       "      <td>0.085198</td>\n",
       "    </tr>\n",
       "    <tr>\n",
       "      <th>balcony_yes</th>\n",
       "      <td>-0.108905</td>\n",
       "      <td>-0.047175</td>\n",
       "      <td>-0.040680</td>\n",
       "      <td>-0.080423</td>\n",
       "      <td>-0.113256</td>\n",
       "      <td>0.053119</td>\n",
       "      <td>-0.007736</td>\n",
       "      <td>0.120431</td>\n",
       "      <td>0.289436</td>\n",
       "      <td>-0.300639</td>\n",
       "      <td>-0.084117</td>\n",
       "      <td>1.000000</td>\n",
       "      <td>0.246393</td>\n",
       "    </tr>\n",
       "    <tr>\n",
       "      <th>heating_electric</th>\n",
       "      <td>-0.208747</td>\n",
       "      <td>-0.164165</td>\n",
       "      <td>-0.121557</td>\n",
       "      <td>-0.099615</td>\n",
       "      <td>-0.388718</td>\n",
       "      <td>-0.261524</td>\n",
       "      <td>-0.278728</td>\n",
       "      <td>-0.195201</td>\n",
       "      <td>0.515968</td>\n",
       "      <td>-0.547515</td>\n",
       "      <td>0.085198</td>\n",
       "      <td>0.246393</td>\n",
       "      <td>1.000000</td>\n",
       "    </tr>\n",
       "  </tbody>\n",
       "</table>\n",
       "</div>"
      ],
      "text/plain": [
       "                      Distance Eyre Square  Distance Salthill  Distance NUIG  \\\n",
       "Distance Eyre Square              1.000000           0.598137       0.903420   \n",
       "Distance Salthill                 0.598137           1.000000       0.786943   \n",
       "Distance NUIG                     0.903420           0.786943       1.000000   \n",
       "Distance GMIT                     0.416351          -0.379555       0.054698   \n",
       "number of rooms                   0.138970           0.073891       0.037726   \n",
       "number of bathrooms               0.177724           0.081062       0.102468   \n",
       "price per month                  -0.153024          -0.182766      -0.232895   \n",
       "BER                               0.150945           0.176269       0.143013   \n",
       "type_apartment                   -0.152310          -0.024916      -0.050297   \n",
       "type_house                        0.177900           0.026735       0.053392   \n",
       "type_studio                       0.029091           0.004041       0.057459   \n",
       "balcony_yes                      -0.108905          -0.047175      -0.040680   \n",
       "heating_electric                 -0.208747          -0.164165      -0.121557   \n",
       "\n",
       "                      Distance GMIT  number of rooms  number of bathrooms  \\\n",
       "Distance Eyre Square       0.416351         0.138970             0.177724   \n",
       "Distance Salthill         -0.379555         0.073891             0.081062   \n",
       "Distance NUIG              0.054698         0.037726             0.102468   \n",
       "Distance GMIT              1.000000         0.145281             0.207835   \n",
       "number of rooms            0.145281         1.000000             0.587576   \n",
       "number of bathrooms        0.207835         0.587576             1.000000   \n",
       "price per month            0.096442         0.716419             0.533281   \n",
       "BER                        0.012430         0.192017             0.259461   \n",
       "type_apartment            -0.166100        -0.658590            -0.405056   \n",
       "type_house                 0.203987         0.737502             0.413939   \n",
       "type_studio               -0.043308        -0.224483            -0.160264   \n",
       "balcony_yes               -0.080423        -0.113256             0.053119   \n",
       "heating_electric          -0.099615        -0.388718            -0.261524   \n",
       "\n",
       "                      price per month       BER  type_apartment  type_house  \\\n",
       "Distance Eyre Square        -0.153024  0.150945       -0.152310    0.177900   \n",
       "Distance Salthill           -0.182766  0.176269       -0.024916    0.026735   \n",
       "Distance NUIG               -0.232895  0.143013       -0.050297    0.053392   \n",
       "Distance GMIT                0.096442  0.012430       -0.166100    0.203987   \n",
       "number of rooms              0.716419  0.192017       -0.658590    0.737502   \n",
       "number of bathrooms          0.533281  0.259461       -0.405056    0.413939   \n",
       "price per month              1.000000  0.183135       -0.424563    0.478792   \n",
       "BER                          0.183135  1.000000       -0.093954    0.146846   \n",
       "type_apartment              -0.424563 -0.093954        1.000000   -0.889681   \n",
       "type_house                   0.478792  0.146846       -0.889681    1.000000   \n",
       "type_studio                 -0.238021 -0.178483       -0.184285   -0.117750   \n",
       "balcony_yes                 -0.007736  0.120431        0.289436   -0.300639   \n",
       "heating_electric            -0.278728 -0.195201        0.515968   -0.547515   \n",
       "\n",
       "                      type_studio  balcony_yes  heating_electric  \n",
       "Distance Eyre Square     0.029091    -0.108905         -0.208747  \n",
       "Distance Salthill        0.004041    -0.047175         -0.164165  \n",
       "Distance NUIG            0.057459    -0.040680         -0.121557  \n",
       "Distance GMIT           -0.043308    -0.080423         -0.099615  \n",
       "number of rooms         -0.224483    -0.113256         -0.388718  \n",
       "number of bathrooms     -0.160264     0.053119         -0.261524  \n",
       "price per month         -0.238021    -0.007736         -0.278728  \n",
       "BER                     -0.178483     0.120431         -0.195201  \n",
       "type_apartment          -0.184285     0.289436          0.515968  \n",
       "type_house              -0.117750    -0.300639         -0.547515  \n",
       "type_studio              1.000000    -0.084117          0.085198  \n",
       "balcony_yes             -0.084117     1.000000          0.246393  \n",
       "heating_electric         0.085198     0.246393          1.000000  "
      ]
     },
     "execution_count": 38,
     "metadata": {},
     "output_type": "execute_result"
    }
   ],
   "source": [
    "df.corr() #correlcation matric, similar to above but just the numbers "
   ]
  },
  {
   "cell_type": "code",
   "execution_count": 39,
   "metadata": {},
   "outputs": [
    {
     "data": {
      "text/html": [
       "<div>\n",
       "<style scoped>\n",
       "    .dataframe tbody tr th:only-of-type {\n",
       "        vertical-align: middle;\n",
       "    }\n",
       "\n",
       "    .dataframe tbody tr th {\n",
       "        vertical-align: top;\n",
       "    }\n",
       "\n",
       "    .dataframe thead th {\n",
       "        text-align: right;\n",
       "    }\n",
       "</style>\n",
       "<table border=\"1\" class=\"dataframe\">\n",
       "  <thead>\n",
       "    <tr style=\"text-align: right;\">\n",
       "      <th></th>\n",
       "      <th>Distance Eyre Square</th>\n",
       "      <th>Distance Salthill</th>\n",
       "      <th>Distance NUIG</th>\n",
       "      <th>Distance GMIT</th>\n",
       "      <th>number of rooms</th>\n",
       "      <th>number of bathrooms</th>\n",
       "      <th>price per month</th>\n",
       "      <th>BER</th>\n",
       "      <th>type_apartment</th>\n",
       "      <th>type_house</th>\n",
       "      <th>type_studio</th>\n",
       "      <th>balcony_yes</th>\n",
       "      <th>heating_electric</th>\n",
       "    </tr>\n",
       "  </thead>\n",
       "  <tbody>\n",
       "    <tr>\n",
       "      <th>0</th>\n",
       "      <td>2.706816</td>\n",
       "      <td>4.449858</td>\n",
       "      <td>3.520573</td>\n",
       "      <td>0.209452</td>\n",
       "      <td>4</td>\n",
       "      <td>2</td>\n",
       "      <td>2100</td>\n",
       "      <td>5</td>\n",
       "      <td>0</td>\n",
       "      <td>1</td>\n",
       "      <td>0</td>\n",
       "      <td>0</td>\n",
       "      <td>0</td>\n",
       "    </tr>\n",
       "    <tr>\n",
       "      <th>1</th>\n",
       "      <td>5.586384</td>\n",
       "      <td>4.231058</td>\n",
       "      <td>4.789334</td>\n",
       "      <td>8.135066</td>\n",
       "      <td>1</td>\n",
       "      <td>1</td>\n",
       "      <td>850</td>\n",
       "      <td>9</td>\n",
       "      <td>1</td>\n",
       "      <td>0</td>\n",
       "      <td>0</td>\n",
       "      <td>0</td>\n",
       "      <td>0</td>\n",
       "    </tr>\n",
       "    <tr>\n",
       "      <th>2</th>\n",
       "      <td>4.884620</td>\n",
       "      <td>3.551142</td>\n",
       "      <td>4.097072</td>\n",
       "      <td>7.434207</td>\n",
       "      <td>3</td>\n",
       "      <td>2</td>\n",
       "      <td>1800</td>\n",
       "      <td>13</td>\n",
       "      <td>0</td>\n",
       "      <td>1</td>\n",
       "      <td>0</td>\n",
       "      <td>0</td>\n",
       "      <td>0</td>\n",
       "    </tr>\n",
       "    <tr>\n",
       "      <th>4</th>\n",
       "      <td>1.456473</td>\n",
       "      <td>3.093256</td>\n",
       "      <td>2.398740</td>\n",
       "      <td>1.176212</td>\n",
       "      <td>3</td>\n",
       "      <td>2</td>\n",
       "      <td>1600</td>\n",
       "      <td>6</td>\n",
       "      <td>0</td>\n",
       "      <td>1</td>\n",
       "      <td>0</td>\n",
       "      <td>0</td>\n",
       "      <td>0</td>\n",
       "    </tr>\n",
       "    <tr>\n",
       "      <th>5</th>\n",
       "      <td>2.313815</td>\n",
       "      <td>1.099351</td>\n",
       "      <td>1.721166</td>\n",
       "      <td>4.863595</td>\n",
       "      <td>4</td>\n",
       "      <td>2</td>\n",
       "      <td>2390</td>\n",
       "      <td>7</td>\n",
       "      <td>0</td>\n",
       "      <td>1</td>\n",
       "      <td>0</td>\n",
       "      <td>0</td>\n",
       "      <td>0</td>\n",
       "    </tr>\n",
       "  </tbody>\n",
       "</table>\n",
       "</div>"
      ],
      "text/plain": [
       "   Distance Eyre Square  Distance Salthill  Distance NUIG  Distance GMIT  \\\n",
       "0              2.706816           4.449858       3.520573       0.209452   \n",
       "1              5.586384           4.231058       4.789334       8.135066   \n",
       "2              4.884620           3.551142       4.097072       7.434207   \n",
       "4              1.456473           3.093256       2.398740       1.176212   \n",
       "5              2.313815           1.099351       1.721166       4.863595   \n",
       "\n",
       "   number of rooms  number of bathrooms  price per month  BER  type_apartment  \\\n",
       "0                4                    2             2100    5               0   \n",
       "1                1                    1              850    9               1   \n",
       "2                3                    2             1800   13               0   \n",
       "4                3                    2             1600    6               0   \n",
       "5                4                    2             2390    7               0   \n",
       "\n",
       "   type_house  type_studio  balcony_yes  heating_electric  \n",
       "0           1            0            0                 0  \n",
       "1           0            0            0                 0  \n",
       "2           1            0            0                 0  \n",
       "4           1            0            0                 0  \n",
       "5           1            0            0                 0  "
      ]
     },
     "execution_count": 39,
     "metadata": {},
     "output_type": "execute_result"
    }
   ],
   "source": [
    "df.head()"
   ]
  },
  {
   "cell_type": "code",
   "execution_count": 40,
   "metadata": {},
   "outputs": [
    {
     "data": {
      "text/html": [
       "<div>\n",
       "<style scoped>\n",
       "    .dataframe tbody tr th:only-of-type {\n",
       "        vertical-align: middle;\n",
       "    }\n",
       "\n",
       "    .dataframe tbody tr th {\n",
       "        vertical-align: top;\n",
       "    }\n",
       "\n",
       "    .dataframe thead th {\n",
       "        text-align: right;\n",
       "    }\n",
       "</style>\n",
       "<table border=\"1\" class=\"dataframe\">\n",
       "  <thead>\n",
       "    <tr style=\"text-align: right;\">\n",
       "      <th></th>\n",
       "      <th>Distance Eyre Square</th>\n",
       "      <th>Distance Salthill</th>\n",
       "      <th>Distance NUIG</th>\n",
       "      <th>Distance GMIT</th>\n",
       "      <th>number of rooms</th>\n",
       "      <th>number of bathrooms</th>\n",
       "      <th>price per month</th>\n",
       "      <th>BER</th>\n",
       "      <th>type_apartment</th>\n",
       "      <th>type_house</th>\n",
       "      <th>type_studio</th>\n",
       "      <th>balcony_yes</th>\n",
       "      <th>heating_electric</th>\n",
       "    </tr>\n",
       "  </thead>\n",
       "  <tbody>\n",
       "    <tr>\n",
       "      <th>0</th>\n",
       "      <td>2.706816</td>\n",
       "      <td>4.449858</td>\n",
       "      <td>3.520573</td>\n",
       "      <td>0.209452</td>\n",
       "      <td>4</td>\n",
       "      <td>2</td>\n",
       "      <td>2100</td>\n",
       "      <td>5</td>\n",
       "      <td>0</td>\n",
       "      <td>1</td>\n",
       "      <td>0</td>\n",
       "      <td>0</td>\n",
       "      <td>0</td>\n",
       "    </tr>\n",
       "    <tr>\n",
       "      <th>1</th>\n",
       "      <td>5.586384</td>\n",
       "      <td>4.231058</td>\n",
       "      <td>4.789334</td>\n",
       "      <td>8.135066</td>\n",
       "      <td>1</td>\n",
       "      <td>1</td>\n",
       "      <td>850</td>\n",
       "      <td>9</td>\n",
       "      <td>1</td>\n",
       "      <td>0</td>\n",
       "      <td>0</td>\n",
       "      <td>0</td>\n",
       "      <td>0</td>\n",
       "    </tr>\n",
       "    <tr>\n",
       "      <th>2</th>\n",
       "      <td>4.884620</td>\n",
       "      <td>3.551142</td>\n",
       "      <td>4.097072</td>\n",
       "      <td>7.434207</td>\n",
       "      <td>3</td>\n",
       "      <td>2</td>\n",
       "      <td>1800</td>\n",
       "      <td>13</td>\n",
       "      <td>0</td>\n",
       "      <td>1</td>\n",
       "      <td>0</td>\n",
       "      <td>0</td>\n",
       "      <td>0</td>\n",
       "    </tr>\n",
       "    <tr>\n",
       "      <th>4</th>\n",
       "      <td>1.456473</td>\n",
       "      <td>3.093256</td>\n",
       "      <td>2.398740</td>\n",
       "      <td>1.176212</td>\n",
       "      <td>3</td>\n",
       "      <td>2</td>\n",
       "      <td>1600</td>\n",
       "      <td>6</td>\n",
       "      <td>0</td>\n",
       "      <td>1</td>\n",
       "      <td>0</td>\n",
       "      <td>0</td>\n",
       "      <td>0</td>\n",
       "    </tr>\n",
       "    <tr>\n",
       "      <th>5</th>\n",
       "      <td>2.313815</td>\n",
       "      <td>1.099351</td>\n",
       "      <td>1.721166</td>\n",
       "      <td>4.863595</td>\n",
       "      <td>4</td>\n",
       "      <td>2</td>\n",
       "      <td>2390</td>\n",
       "      <td>7</td>\n",
       "      <td>0</td>\n",
       "      <td>1</td>\n",
       "      <td>0</td>\n",
       "      <td>0</td>\n",
       "      <td>0</td>\n",
       "    </tr>\n",
       "  </tbody>\n",
       "</table>\n",
       "</div>"
      ],
      "text/plain": [
       "   Distance Eyre Square  Distance Salthill  Distance NUIG  Distance GMIT  \\\n",
       "0              2.706816           4.449858       3.520573       0.209452   \n",
       "1              5.586384           4.231058       4.789334       8.135066   \n",
       "2              4.884620           3.551142       4.097072       7.434207   \n",
       "4              1.456473           3.093256       2.398740       1.176212   \n",
       "5              2.313815           1.099351       1.721166       4.863595   \n",
       "\n",
       "   number of rooms  number of bathrooms  price per month  BER  type_apartment  \\\n",
       "0                4                    2             2100    5               0   \n",
       "1                1                    1              850    9               1   \n",
       "2                3                    2             1800   13               0   \n",
       "4                3                    2             1600    6               0   \n",
       "5                4                    2             2390    7               0   \n",
       "\n",
       "   type_house  type_studio  balcony_yes  heating_electric  \n",
       "0           1            0            0                 0  \n",
       "1           0            0            0                 0  \n",
       "2           1            0            0                 0  \n",
       "4           1            0            0                 0  \n",
       "5           1            0            0                 0  "
      ]
     },
     "execution_count": 40,
     "metadata": {},
     "output_type": "execute_result"
    }
   ],
   "source": [
    "df.head()"
   ]
  },
  {
   "cell_type": "code",
   "execution_count": 41,
   "metadata": {},
   "outputs": [],
   "source": [
    "robust_scaler = StandardScaler()\n",
    "\n",
    "df[['Distance Eyre Square',\n",
    "    'Distance Salthill','Distance NUIG','Distance GMIT','number of rooms','number of bathrooms']] = robust_scaler.fit_transform(df[['Distance Eyre Square',\n",
    "    'Distance Salthill','Distance NUIG','Distance GMIT','number of rooms','number of bathrooms']])\n",
    "\n"
   ]
  },
  {
   "cell_type": "code",
   "execution_count": 42,
   "metadata": {},
   "outputs": [
    {
     "data": {
      "text/plain": [
       "array([ 5,  9, 13,  6,  7,  8,  4,  0,  3, 10, 12,  2, 11, 15,  1])"
      ]
     },
     "execution_count": 42,
     "metadata": {},
     "output_type": "execute_result"
    }
   ],
   "source": [
    "df.BER.unique()"
   ]
  },
  {
   "cell_type": "code",
   "execution_count": 43,
   "metadata": {},
   "outputs": [],
   "source": [
    "df['BER'] = df['BER']/15\n"
   ]
  },
  {
   "cell_type": "code",
   "execution_count": 44,
   "metadata": {},
   "outputs": [
    {
     "data": {
      "text/plain": [
       "array([0.33333333, 0.6       , 0.86666667, 0.4       , 0.46666667,\n",
       "       0.53333333, 0.26666667, 0.        , 0.2       , 0.66666667,\n",
       "       0.8       , 0.13333333, 0.73333333, 1.        , 0.06666667])"
      ]
     },
     "execution_count": 44,
     "metadata": {},
     "output_type": "execute_result"
    }
   ],
   "source": [
    "df.BER.unique() #has a non numerical value in there "
   ]
  },
  {
   "cell_type": "code",
   "execution_count": 45,
   "metadata": {},
   "outputs": [
    {
     "data": {
      "text/html": [
       "<div>\n",
       "<style scoped>\n",
       "    .dataframe tbody tr th:only-of-type {\n",
       "        vertical-align: middle;\n",
       "    }\n",
       "\n",
       "    .dataframe tbody tr th {\n",
       "        vertical-align: top;\n",
       "    }\n",
       "\n",
       "    .dataframe thead th {\n",
       "        text-align: right;\n",
       "    }\n",
       "</style>\n",
       "<table border=\"1\" class=\"dataframe\">\n",
       "  <thead>\n",
       "    <tr style=\"text-align: right;\">\n",
       "      <th></th>\n",
       "      <th>Distance Eyre Square</th>\n",
       "      <th>Distance Salthill</th>\n",
       "      <th>Distance NUIG</th>\n",
       "      <th>Distance GMIT</th>\n",
       "      <th>number of rooms</th>\n",
       "      <th>number of bathrooms</th>\n",
       "      <th>price per month</th>\n",
       "      <th>BER</th>\n",
       "      <th>type_apartment</th>\n",
       "      <th>type_house</th>\n",
       "      <th>type_studio</th>\n",
       "      <th>balcony_yes</th>\n",
       "      <th>heating_electric</th>\n",
       "    </tr>\n",
       "  </thead>\n",
       "  <tbody>\n",
       "    <tr>\n",
       "      <th>Distance Eyre Square</th>\n",
       "      <td>1.000000</td>\n",
       "      <td>0.598137</td>\n",
       "      <td>0.903420</td>\n",
       "      <td>0.416351</td>\n",
       "      <td>0.138970</td>\n",
       "      <td>0.177724</td>\n",
       "      <td>-0.153024</td>\n",
       "      <td>0.150945</td>\n",
       "      <td>-0.152310</td>\n",
       "      <td>0.177900</td>\n",
       "      <td>0.029091</td>\n",
       "      <td>-0.108905</td>\n",
       "      <td>-0.208747</td>\n",
       "    </tr>\n",
       "    <tr>\n",
       "      <th>Distance Salthill</th>\n",
       "      <td>0.598137</td>\n",
       "      <td>1.000000</td>\n",
       "      <td>0.786943</td>\n",
       "      <td>-0.379555</td>\n",
       "      <td>0.073891</td>\n",
       "      <td>0.081062</td>\n",
       "      <td>-0.182766</td>\n",
       "      <td>0.176269</td>\n",
       "      <td>-0.024916</td>\n",
       "      <td>0.026735</td>\n",
       "      <td>0.004041</td>\n",
       "      <td>-0.047175</td>\n",
       "      <td>-0.164165</td>\n",
       "    </tr>\n",
       "    <tr>\n",
       "      <th>Distance NUIG</th>\n",
       "      <td>0.903420</td>\n",
       "      <td>0.786943</td>\n",
       "      <td>1.000000</td>\n",
       "      <td>0.054698</td>\n",
       "      <td>0.037726</td>\n",
       "      <td>0.102468</td>\n",
       "      <td>-0.232895</td>\n",
       "      <td>0.143013</td>\n",
       "      <td>-0.050297</td>\n",
       "      <td>0.053392</td>\n",
       "      <td>0.057459</td>\n",
       "      <td>-0.040680</td>\n",
       "      <td>-0.121557</td>\n",
       "    </tr>\n",
       "    <tr>\n",
       "      <th>Distance GMIT</th>\n",
       "      <td>0.416351</td>\n",
       "      <td>-0.379555</td>\n",
       "      <td>0.054698</td>\n",
       "      <td>1.000000</td>\n",
       "      <td>0.145281</td>\n",
       "      <td>0.207835</td>\n",
       "      <td>0.096442</td>\n",
       "      <td>0.012430</td>\n",
       "      <td>-0.166100</td>\n",
       "      <td>0.203987</td>\n",
       "      <td>-0.043308</td>\n",
       "      <td>-0.080423</td>\n",
       "      <td>-0.099615</td>\n",
       "    </tr>\n",
       "    <tr>\n",
       "      <th>number of rooms</th>\n",
       "      <td>0.138970</td>\n",
       "      <td>0.073891</td>\n",
       "      <td>0.037726</td>\n",
       "      <td>0.145281</td>\n",
       "      <td>1.000000</td>\n",
       "      <td>0.587576</td>\n",
       "      <td>0.716419</td>\n",
       "      <td>0.192017</td>\n",
       "      <td>-0.658590</td>\n",
       "      <td>0.737502</td>\n",
       "      <td>-0.224483</td>\n",
       "      <td>-0.113256</td>\n",
       "      <td>-0.388718</td>\n",
       "    </tr>\n",
       "    <tr>\n",
       "      <th>number of bathrooms</th>\n",
       "      <td>0.177724</td>\n",
       "      <td>0.081062</td>\n",
       "      <td>0.102468</td>\n",
       "      <td>0.207835</td>\n",
       "      <td>0.587576</td>\n",
       "      <td>1.000000</td>\n",
       "      <td>0.533281</td>\n",
       "      <td>0.259461</td>\n",
       "      <td>-0.405056</td>\n",
       "      <td>0.413939</td>\n",
       "      <td>-0.160264</td>\n",
       "      <td>0.053119</td>\n",
       "      <td>-0.261524</td>\n",
       "    </tr>\n",
       "    <tr>\n",
       "      <th>price per month</th>\n",
       "      <td>-0.153024</td>\n",
       "      <td>-0.182766</td>\n",
       "      <td>-0.232895</td>\n",
       "      <td>0.096442</td>\n",
       "      <td>0.716419</td>\n",
       "      <td>0.533281</td>\n",
       "      <td>1.000000</td>\n",
       "      <td>0.183135</td>\n",
       "      <td>-0.424563</td>\n",
       "      <td>0.478792</td>\n",
       "      <td>-0.238021</td>\n",
       "      <td>-0.007736</td>\n",
       "      <td>-0.278728</td>\n",
       "    </tr>\n",
       "    <tr>\n",
       "      <th>BER</th>\n",
       "      <td>0.150945</td>\n",
       "      <td>0.176269</td>\n",
       "      <td>0.143013</td>\n",
       "      <td>0.012430</td>\n",
       "      <td>0.192017</td>\n",
       "      <td>0.259461</td>\n",
       "      <td>0.183135</td>\n",
       "      <td>1.000000</td>\n",
       "      <td>-0.093954</td>\n",
       "      <td>0.146846</td>\n",
       "      <td>-0.178483</td>\n",
       "      <td>0.120431</td>\n",
       "      <td>-0.195201</td>\n",
       "    </tr>\n",
       "    <tr>\n",
       "      <th>type_apartment</th>\n",
       "      <td>-0.152310</td>\n",
       "      <td>-0.024916</td>\n",
       "      <td>-0.050297</td>\n",
       "      <td>-0.166100</td>\n",
       "      <td>-0.658590</td>\n",
       "      <td>-0.405056</td>\n",
       "      <td>-0.424563</td>\n",
       "      <td>-0.093954</td>\n",
       "      <td>1.000000</td>\n",
       "      <td>-0.889681</td>\n",
       "      <td>-0.184285</td>\n",
       "      <td>0.289436</td>\n",
       "      <td>0.515968</td>\n",
       "    </tr>\n",
       "    <tr>\n",
       "      <th>type_house</th>\n",
       "      <td>0.177900</td>\n",
       "      <td>0.026735</td>\n",
       "      <td>0.053392</td>\n",
       "      <td>0.203987</td>\n",
       "      <td>0.737502</td>\n",
       "      <td>0.413939</td>\n",
       "      <td>0.478792</td>\n",
       "      <td>0.146846</td>\n",
       "      <td>-0.889681</td>\n",
       "      <td>1.000000</td>\n",
       "      <td>-0.117750</td>\n",
       "      <td>-0.300639</td>\n",
       "      <td>-0.547515</td>\n",
       "    </tr>\n",
       "    <tr>\n",
       "      <th>type_studio</th>\n",
       "      <td>0.029091</td>\n",
       "      <td>0.004041</td>\n",
       "      <td>0.057459</td>\n",
       "      <td>-0.043308</td>\n",
       "      <td>-0.224483</td>\n",
       "      <td>-0.160264</td>\n",
       "      <td>-0.238021</td>\n",
       "      <td>-0.178483</td>\n",
       "      <td>-0.184285</td>\n",
       "      <td>-0.117750</td>\n",
       "      <td>1.000000</td>\n",
       "      <td>-0.084117</td>\n",
       "      <td>0.085198</td>\n",
       "    </tr>\n",
       "    <tr>\n",
       "      <th>balcony_yes</th>\n",
       "      <td>-0.108905</td>\n",
       "      <td>-0.047175</td>\n",
       "      <td>-0.040680</td>\n",
       "      <td>-0.080423</td>\n",
       "      <td>-0.113256</td>\n",
       "      <td>0.053119</td>\n",
       "      <td>-0.007736</td>\n",
       "      <td>0.120431</td>\n",
       "      <td>0.289436</td>\n",
       "      <td>-0.300639</td>\n",
       "      <td>-0.084117</td>\n",
       "      <td>1.000000</td>\n",
       "      <td>0.246393</td>\n",
       "    </tr>\n",
       "    <tr>\n",
       "      <th>heating_electric</th>\n",
       "      <td>-0.208747</td>\n",
       "      <td>-0.164165</td>\n",
       "      <td>-0.121557</td>\n",
       "      <td>-0.099615</td>\n",
       "      <td>-0.388718</td>\n",
       "      <td>-0.261524</td>\n",
       "      <td>-0.278728</td>\n",
       "      <td>-0.195201</td>\n",
       "      <td>0.515968</td>\n",
       "      <td>-0.547515</td>\n",
       "      <td>0.085198</td>\n",
       "      <td>0.246393</td>\n",
       "      <td>1.000000</td>\n",
       "    </tr>\n",
       "  </tbody>\n",
       "</table>\n",
       "</div>"
      ],
      "text/plain": [
       "                      Distance Eyre Square  Distance Salthill  Distance NUIG  \\\n",
       "Distance Eyre Square              1.000000           0.598137       0.903420   \n",
       "Distance Salthill                 0.598137           1.000000       0.786943   \n",
       "Distance NUIG                     0.903420           0.786943       1.000000   \n",
       "Distance GMIT                     0.416351          -0.379555       0.054698   \n",
       "number of rooms                   0.138970           0.073891       0.037726   \n",
       "number of bathrooms               0.177724           0.081062       0.102468   \n",
       "price per month                  -0.153024          -0.182766      -0.232895   \n",
       "BER                               0.150945           0.176269       0.143013   \n",
       "type_apartment                   -0.152310          -0.024916      -0.050297   \n",
       "type_house                        0.177900           0.026735       0.053392   \n",
       "type_studio                       0.029091           0.004041       0.057459   \n",
       "balcony_yes                      -0.108905          -0.047175      -0.040680   \n",
       "heating_electric                 -0.208747          -0.164165      -0.121557   \n",
       "\n",
       "                      Distance GMIT  number of rooms  number of bathrooms  \\\n",
       "Distance Eyre Square       0.416351         0.138970             0.177724   \n",
       "Distance Salthill         -0.379555         0.073891             0.081062   \n",
       "Distance NUIG              0.054698         0.037726             0.102468   \n",
       "Distance GMIT              1.000000         0.145281             0.207835   \n",
       "number of rooms            0.145281         1.000000             0.587576   \n",
       "number of bathrooms        0.207835         0.587576             1.000000   \n",
       "price per month            0.096442         0.716419             0.533281   \n",
       "BER                        0.012430         0.192017             0.259461   \n",
       "type_apartment            -0.166100        -0.658590            -0.405056   \n",
       "type_house                 0.203987         0.737502             0.413939   \n",
       "type_studio               -0.043308        -0.224483            -0.160264   \n",
       "balcony_yes               -0.080423        -0.113256             0.053119   \n",
       "heating_electric          -0.099615        -0.388718            -0.261524   \n",
       "\n",
       "                      price per month       BER  type_apartment  type_house  \\\n",
       "Distance Eyre Square        -0.153024  0.150945       -0.152310    0.177900   \n",
       "Distance Salthill           -0.182766  0.176269       -0.024916    0.026735   \n",
       "Distance NUIG               -0.232895  0.143013       -0.050297    0.053392   \n",
       "Distance GMIT                0.096442  0.012430       -0.166100    0.203987   \n",
       "number of rooms              0.716419  0.192017       -0.658590    0.737502   \n",
       "number of bathrooms          0.533281  0.259461       -0.405056    0.413939   \n",
       "price per month              1.000000  0.183135       -0.424563    0.478792   \n",
       "BER                          0.183135  1.000000       -0.093954    0.146846   \n",
       "type_apartment              -0.424563 -0.093954        1.000000   -0.889681   \n",
       "type_house                   0.478792  0.146846       -0.889681    1.000000   \n",
       "type_studio                 -0.238021 -0.178483       -0.184285   -0.117750   \n",
       "balcony_yes                 -0.007736  0.120431        0.289436   -0.300639   \n",
       "heating_electric            -0.278728 -0.195201        0.515968   -0.547515   \n",
       "\n",
       "                      type_studio  balcony_yes  heating_electric  \n",
       "Distance Eyre Square     0.029091    -0.108905         -0.208747  \n",
       "Distance Salthill        0.004041    -0.047175         -0.164165  \n",
       "Distance NUIG            0.057459    -0.040680         -0.121557  \n",
       "Distance GMIT           -0.043308    -0.080423         -0.099615  \n",
       "number of rooms         -0.224483    -0.113256         -0.388718  \n",
       "number of bathrooms     -0.160264     0.053119         -0.261524  \n",
       "price per month         -0.238021    -0.007736         -0.278728  \n",
       "BER                     -0.178483     0.120431         -0.195201  \n",
       "type_apartment          -0.184285     0.289436          0.515968  \n",
       "type_house              -0.117750    -0.300639         -0.547515  \n",
       "type_studio              1.000000    -0.084117          0.085198  \n",
       "balcony_yes             -0.084117     1.000000          0.246393  \n",
       "heating_electric         0.085198     0.246393          1.000000  "
      ]
     },
     "execution_count": 45,
     "metadata": {},
     "output_type": "execute_result"
    }
   ],
   "source": [
    "df.corr()\n"
   ]
  },
  {
   "cell_type": "code",
   "execution_count": 46,
   "metadata": {},
   "outputs": [
    {
     "data": {
      "image/png": "[encoded data removed]",
      "text/plain": [
       "<Figure size 1440x360 with 1 Axes>"
      ]
     },
     "metadata": {
      "needs_background": "light"
     },
     "output_type": "display_data"
    }
   ],
   "source": [
    "df.boxplot(figsize=(20,5))\n",
    "plt.show() "
   ]
  },
  {
   "cell_type": "code",
   "execution_count": 47,
   "metadata": {},
   "outputs": [
    {
     "data": {
      "image/png": "[encoded data removed]",
      "text/plain": [
       "<Figure size 432x288 with 1 Axes>"
      ]
     },
     "metadata": {
      "needs_background": "light"
     },
     "output_type": "display_data"
    }
   ],
   "source": [
    "df.boxplot(column='number of rooms')\n",
    "plt.show()"
   ]
  },
  {
   "cell_type": "code",
   "execution_count": 48,
   "metadata": {},
   "outputs": [
    {
     "data": {
      "image/png": "[encoded data removed]",
      "text/plain": [
       "<Figure size 432x288 with 1 Axes>"
      ]
     },
     "metadata": {
      "needs_background": "light"
     },
     "output_type": "display_data"
    }
   ],
   "source": [
    "df.boxplot(column='number of bathrooms')\n",
    "plt.show()\n"
   ]
  },
  {
   "cell_type": "code",
   "execution_count": 49,
   "metadata": {
    "scrolled": true
   },
   "outputs": [
    {
     "data": {
      "text/html": [
       "<div>\n",
       "<style scoped>\n",
       "    .dataframe tbody tr th:only-of-type {\n",
       "        vertical-align: middle;\n",
       "    }\n",
       "\n",
       "    .dataframe tbody tr th {\n",
       "        vertical-align: top;\n",
       "    }\n",
       "\n",
       "    .dataframe thead th {\n",
       "        text-align: right;\n",
       "    }\n",
       "</style>\n",
       "<table border=\"1\" class=\"dataframe\">\n",
       "  <thead>\n",
       "    <tr style=\"text-align: right;\">\n",
       "      <th></th>\n",
       "      <th>Distance Eyre Square</th>\n",
       "      <th>Distance Salthill</th>\n",
       "      <th>Distance NUIG</th>\n",
       "      <th>Distance GMIT</th>\n",
       "      <th>number of rooms</th>\n",
       "      <th>number of bathrooms</th>\n",
       "      <th>price per month</th>\n",
       "      <th>BER</th>\n",
       "      <th>type_apartment</th>\n",
       "      <th>type_house</th>\n",
       "      <th>type_studio</th>\n",
       "      <th>balcony_yes</th>\n",
       "      <th>heating_electric</th>\n",
       "    </tr>\n",
       "  </thead>\n",
       "  <tbody>\n",
       "    <tr>\n",
       "      <th>count</th>\n",
       "      <td>3.780000e+02</td>\n",
       "      <td>3.780000e+02</td>\n",
       "      <td>3.780000e+02</td>\n",
       "      <td>3.780000e+02</td>\n",
       "      <td>3.780000e+02</td>\n",
       "      <td>3.780000e+02</td>\n",
       "      <td>378.000000</td>\n",
       "      <td>378.000000</td>\n",
       "      <td>378.000000</td>\n",
       "      <td>378.000000</td>\n",
       "      <td>378.000000</td>\n",
       "      <td>378.000000</td>\n",
       "      <td>378.000000</td>\n",
       "    </tr>\n",
       "    <tr>\n",
       "      <th>mean</th>\n",
       "      <td>-1.409807e-17</td>\n",
       "      <td>-3.759485e-17</td>\n",
       "      <td>9.633681e-17</td>\n",
       "      <td>4.775721e-16</td>\n",
       "      <td>2.026598e-17</td>\n",
       "      <td>-1.938485e-16</td>\n",
       "      <td>1559.224868</td>\n",
       "      <td>0.407231</td>\n",
       "      <td>0.582011</td>\n",
       "      <td>0.362434</td>\n",
       "      <td>0.023810</td>\n",
       "      <td>0.224868</td>\n",
       "      <td>0.399471</td>\n",
       "    </tr>\n",
       "    <tr>\n",
       "      <th>std</th>\n",
       "      <td>1.001325e+00</td>\n",
       "      <td>1.001325e+00</td>\n",
       "      <td>1.001325e+00</td>\n",
       "      <td>1.001325e+00</td>\n",
       "      <td>1.001325e+00</td>\n",
       "      <td>1.001325e+00</td>\n",
       "      <td>469.247651</td>\n",
       "      <td>0.220509</td>\n",
       "      <td>0.493882</td>\n",
       "      <td>0.481340</td>\n",
       "      <td>0.152657</td>\n",
       "      <td>0.418049</td>\n",
       "      <td>0.490439</td>\n",
       "    </tr>\n",
       "    <tr>\n",
       "      <th>min</th>\n",
       "      <td>-1.553860e+00</td>\n",
       "      <td>-1.536626e+00</td>\n",
       "      <td>-1.372503e+00</td>\n",
       "      <td>-1.804914e+00</td>\n",
       "      <td>-1.437391e+00</td>\n",
       "      <td>-1.026187e+00</td>\n",
       "      <td>595.000000</td>\n",
       "      <td>0.000000</td>\n",
       "      <td>0.000000</td>\n",
       "      <td>0.000000</td>\n",
       "      <td>0.000000</td>\n",
       "      <td>0.000000</td>\n",
       "      <td>0.000000</td>\n",
       "    </tr>\n",
       "    <tr>\n",
       "      <th>25%</th>\n",
       "      <td>-8.617713e-01</td>\n",
       "      <td>-7.755835e-01</td>\n",
       "      <td>-8.168020e-01</td>\n",
       "      <td>-7.166378e-01</td>\n",
       "      <td>-4.891645e-01</td>\n",
       "      <td>-1.026187e+00</td>\n",
       "      <td>1250.000000</td>\n",
       "      <td>0.266667</td>\n",
       "      <td>0.000000</td>\n",
       "      <td>0.000000</td>\n",
       "      <td>0.000000</td>\n",
       "      <td>0.000000</td>\n",
       "      <td>0.000000</td>\n",
       "    </tr>\n",
       "    <tr>\n",
       "      <th>50%</th>\n",
       "      <td>-1.190355e-01</td>\n",
       "      <td>-1.680060e-01</td>\n",
       "      <td>-3.574599e-01</td>\n",
       "      <td>-2.097005e-01</td>\n",
       "      <td>-4.891645e-01</td>\n",
       "      <td>3.396535e-01</td>\n",
       "      <td>1500.000000</td>\n",
       "      <td>0.466667</td>\n",
       "      <td>1.000000</td>\n",
       "      <td>0.000000</td>\n",
       "      <td>0.000000</td>\n",
       "      <td>0.000000</td>\n",
       "      <td>0.000000</td>\n",
       "    </tr>\n",
       "    <tr>\n",
       "      <th>75%</th>\n",
       "      <td>5.412578e-01</td>\n",
       "      <td>5.707495e-01</td>\n",
       "      <td>6.706563e-01</td>\n",
       "      <td>6.306710e-01</td>\n",
       "      <td>4.590620e-01</td>\n",
       "      <td>3.396535e-01</td>\n",
       "      <td>1830.000000</td>\n",
       "      <td>0.583333</td>\n",
       "      <td>1.000000</td>\n",
       "      <td>1.000000</td>\n",
       "      <td>0.000000</td>\n",
       "      <td>0.000000</td>\n",
       "      <td>1.000000</td>\n",
       "    </tr>\n",
       "    <tr>\n",
       "      <th>max</th>\n",
       "      <td>2.286249e+00</td>\n",
       "      <td>2.640647e+00</td>\n",
       "      <td>2.759460e+00</td>\n",
       "      <td>2.487883e+00</td>\n",
       "      <td>3.303742e+00</td>\n",
       "      <td>4.437176e+00</td>\n",
       "      <td>3700.000000</td>\n",
       "      <td>1.000000</td>\n",
       "      <td>1.000000</td>\n",
       "      <td>1.000000</td>\n",
       "      <td>1.000000</td>\n",
       "      <td>1.000000</td>\n",
       "      <td>1.000000</td>\n",
       "    </tr>\n",
       "  </tbody>\n",
       "</table>\n",
       "</div>"
      ],
      "text/plain": [
       "       Distance Eyre Square  Distance Salthill  Distance NUIG  Distance GMIT  \\\n",
       "count          3.780000e+02       3.780000e+02   3.780000e+02   3.780000e+02   \n",
       "mean          -1.409807e-17      -3.759485e-17   9.633681e-17   4.775721e-16   \n",
       "std            1.001325e+00       1.001325e+00   1.001325e+00   1.001325e+00   \n",
       "min           -1.553860e+00      -1.536626e+00  -1.372503e+00  -1.804914e+00   \n",
       "25%           -8.617713e-01      -7.755835e-01  -8.168020e-01  -7.166378e-01   \n",
       "50%           -1.190355e-01      -1.680060e-01  -3.574599e-01  -2.097005e-01   \n",
       "75%            5.412578e-01       5.707495e-01   6.706563e-01   6.306710e-01   \n",
       "max            2.286249e+00       2.640647e+00   2.759460e+00   2.487883e+00   \n",
       "\n",
       "       number of rooms  number of bathrooms  price per month         BER  \\\n",
       "count     3.780000e+02         3.780000e+02       378.000000  378.000000   \n",
       "mean      2.026598e-17        -1.938485e-16      1559.224868    0.407231   \n",
       "std       1.001325e+00         1.001325e+00       469.247651    0.220509   \n",
       "min      -1.437391e+00        -1.026187e+00       595.000000    0.000000   \n",
       "25%      -4.891645e-01        -1.026187e+00      1250.000000    0.266667   \n",
       "50%      -4.891645e-01         3.396535e-01      1500.000000    0.466667   \n",
       "75%       4.590620e-01         3.396535e-01      1830.000000    0.583333   \n",
       "max       3.303742e+00         4.437176e+00      3700.000000    1.000000   \n",
       "\n",
       "       type_apartment  type_house  type_studio  balcony_yes  heating_electric  \n",
       "count      378.000000  378.000000   378.000000   378.000000        378.000000  \n",
       "mean         0.582011    0.362434     0.023810     0.224868          0.399471  \n",
       "std          0.493882    0.481340     0.152657     0.418049          0.490439  \n",
       "min          0.000000    0.000000     0.000000     0.000000          0.000000  \n",
       "25%          0.000000    0.000000     0.000000     0.000000          0.000000  \n",
       "50%          1.000000    0.000000     0.000000     0.000000          0.000000  \n",
       "75%          1.000000    1.000000     0.000000     0.000000          1.000000  \n",
       "max          1.000000    1.000000     1.000000     1.000000          1.000000  "
      ]
     },
     "execution_count": 49,
     "metadata": {},
     "output_type": "execute_result"
    }
   ],
   "source": [
    "df.describe()\n"
   ]
  },
  {
   "cell_type": "code",
   "execution_count": 50,
   "metadata": {},
   "outputs": [],
   "source": [
    "import statsmodels.api as sn #from udemy course "
   ]
  },
  {
   "cell_type": "code",
   "execution_count": 51,
   "metadata": {},
   "outputs": [],
   "source": [
    "X = sn.add_constant(df['number of rooms'])"
   ]
  },
  {
   "cell_type": "code",
   "execution_count": 52,
   "metadata": {},
   "outputs": [],
   "source": [
    "ln=sn.OLS(df['price per month'],X).fit()"
   ]
  },
  {
   "cell_type": "code",
   "execution_count": 53,
   "metadata": {},
   "outputs": [
    {
     "data": {
      "text/html": [
       "<table class=\"simpletable\">\n",
       "<caption>OLS Regression Results</caption>\n",
       "<tr>\n",
       "  <th>Dep. Variable:</th>     <td>price per month</td> <th>  R-squared:         </th> <td>   0.513</td>\n",
       "</tr>\n",
       "<tr>\n",
       "  <th>Model:</th>                   <td>OLS</td>       <th>  Adj. R-squared:    </th> <td>   0.512</td>\n",
       "</tr>\n",
       "<tr>\n",
       "  <th>Method:</th>             <td>Least Squares</td>  <th>  F-statistic:       </th> <td>   396.5</td>\n",
       "</tr>\n",
       "<tr>\n",
       "  <th>Date:</th>             <td>Mon, 23 Aug 2021</td> <th>  Prob (F-statistic):</th> <td>9.34e-61</td>\n",
       "</tr>\n",
       "<tr>\n",
       "  <th>Time:</th>                 <td>13:45:06</td>     <th>  Log-Likelihood:    </th> <td> -2724.9</td>\n",
       "</tr>\n",
       "<tr>\n",
       "  <th>No. Observations:</th>      <td>   378</td>      <th>  AIC:               </th> <td>   5454.</td>\n",
       "</tr>\n",
       "<tr>\n",
       "  <th>Df Residuals:</th>          <td>   376</td>      <th>  BIC:               </th> <td>   5462.</td>\n",
       "</tr>\n",
       "<tr>\n",
       "  <th>Df Model:</th>              <td>     1</td>      <th>                     </th>     <td> </td>   \n",
       "</tr>\n",
       "<tr>\n",
       "  <th>Covariance Type:</th>      <td>nonrobust</td>    <th>                     </th>     <td> </td>   \n",
       "</tr>\n",
       "</table>\n",
       "<table class=\"simpletable\">\n",
       "<tr>\n",
       "         <td></td>            <th>coef</th>     <th>std err</th>      <th>t</th>      <th>P>|t|</th>  <th>[0.025</th>    <th>0.975]</th>  \n",
       "</tr>\n",
       "<tr>\n",
       "  <th>const</th>           <td> 1559.2249</td> <td>   16.861</td> <td>   92.475</td> <td> 0.000</td> <td> 1526.071</td> <td> 1592.379</td>\n",
       "</tr>\n",
       "<tr>\n",
       "  <th>number of rooms</th> <td>  335.7328</td> <td>   16.861</td> <td>   19.912</td> <td> 0.000</td> <td>  302.579</td> <td>  368.886</td>\n",
       "</tr>\n",
       "</table>\n",
       "<table class=\"simpletable\">\n",
       "<tr>\n",
       "  <th>Omnibus:</th>       <td>52.227</td> <th>  Durbin-Watson:     </th> <td>   1.843</td>\n",
       "</tr>\n",
       "<tr>\n",
       "  <th>Prob(Omnibus):</th> <td> 0.000</td> <th>  Jarque-Bera (JB):  </th> <td>  97.151</td>\n",
       "</tr>\n",
       "<tr>\n",
       "  <th>Skew:</th>          <td> 0.785</td> <th>  Prob(JB):          </th> <td>8.01e-22</td>\n",
       "</tr>\n",
       "<tr>\n",
       "  <th>Kurtosis:</th>      <td> 4.925</td> <th>  Cond. No.          </th> <td>    1.00</td>\n",
       "</tr>\n",
       "</table><br/><br/>Warnings:<br/>[1] Standard Errors assume that the covariance matrix of the errors is correctly specified."
      ],
      "text/plain": [
       "<class 'statsmodels.iolib.summary.Summary'>\n",
       "\"\"\"\n",
       "                            OLS Regression Results                            \n",
       "==============================================================================\n",
       "Dep. Variable:        price per month   R-squared:                       0.513\n",
       "Model:                            OLS   Adj. R-squared:                  0.512\n",
       "Method:                 Least Squares   F-statistic:                     396.5\n",
       "Date:                Mon, 23 Aug 2021   Prob (F-statistic):           9.34e-61\n",
       "Time:                        13:45:06   Log-Likelihood:                -2724.9\n",
       "No. Observations:                 378   AIC:                             5454.\n",
       "Df Residuals:                     376   BIC:                             5462.\n",
       "Df Model:                           1                                         \n",
       "Covariance Type:            nonrobust                                         \n",
       "===================================================================================\n",
       "                      coef    std err          t      P>|t|      [0.025      0.975]\n",
       "-----------------------------------------------------------------------------------\n",
       "const            1559.2249     16.861     92.475      0.000    1526.071    1592.379\n",
       "number of rooms   335.7328     16.861     19.912      0.000     302.579     368.886\n",
       "==============================================================================\n",
       "Omnibus:                       52.227   Durbin-Watson:                   1.843\n",
       "Prob(Omnibus):                  0.000   Jarque-Bera (JB):               97.151\n",
       "Skew:                           0.785   Prob(JB):                     8.01e-22\n",
       "Kurtosis:                       4.925   Cond. No.                         1.00\n",
       "==============================================================================\n",
       "\n",
       "Warnings:\n",
       "[1] Standard Errors assume that the covariance matrix of the errors is correctly specified.\n",
       "\"\"\""
      ]
     },
     "execution_count": 53,
     "metadata": {},
     "output_type": "execute_result"
    }
   ],
   "source": [
    "ln.summary() #significant relationship between price and room number r^2 needs to be greater than .5 P wants to be close to 0"
   ]
  },
  {
   "cell_type": "code",
   "execution_count": 54,
   "metadata": {},
   "outputs": [],
   "source": [
    "y=df['price per month']"
   ]
  },
  {
   "cell_type": "code",
   "execution_count": 55,
   "metadata": {},
   "outputs": [],
   "source": [
    "x=df[['number of rooms']]"
   ]
  },
  {
   "cell_type": "code",
   "execution_count": 56,
   "metadata": {},
   "outputs": [],
   "source": [
    "ln2=LinearRegression()"
   ]
  },
  {
   "cell_type": "code",
   "execution_count": 57,
   "metadata": {},
   "outputs": [
    {
     "data": {
      "text/plain": [
       "LinearRegression(copy_X=True, fit_intercept=True, n_jobs=None, normalize=False)"
      ]
     },
     "execution_count": 57,
     "metadata": {},
     "output_type": "execute_result"
    }
   ],
   "source": [
    "ln2.fit(x,y)"
   ]
  },
  {
   "cell_type": "code",
   "execution_count": 58,
   "metadata": {},
   "outputs": [
    {
     "name": "stdout",
     "output_type": "stream",
     "text": [
      "1559.2248677248676 [335.73276279]\n"
     ]
    }
   ],
   "source": [
    "print(ln2.intercept_,ln2.coef_)"
   ]
  },
  {
   "cell_type": "code",
   "execution_count": 59,
   "metadata": {},
   "outputs": [],
   "source": [
    "#help(ln2)"
   ]
  },
  {
   "cell_type": "code",
   "execution_count": 60,
   "metadata": {},
   "outputs": [],
   "source": [
    "#ln2.predict(x)"
   ]
  },
  {
   "cell_type": "code",
   "execution_count": 61,
   "metadata": {},
   "outputs": [],
   "source": [
    "#help(sns.jointplot) #kind is auto set to scatter, we need reg "
   ]
  },
  {
   "cell_type": "code",
   "execution_count": 62,
   "metadata": {},
   "outputs": [
    {
     "data": {
      "text/plain": [
       "<seaborn.axisgrid.JointGrid at 0x7fcb1bdfc650>"
      ]
     },
     "execution_count": 62,
     "metadata": {},
     "output_type": "execute_result"
    },
    {
     "data": {
      "image/png": "[encoded data removed]",
      "text/plain": [
       "<Figure size 432x432 with 3 Axes>"
      ]
     },
     "metadata": {
      "needs_background": "light"
     },
     "output_type": "display_data"
    }
   ],
   "source": [
    "sns.jointplot(x=df['Distance Eyre Square'],y=df['price per month'],data=df,kind='reg')"
   ]
  },
  {
   "cell_type": "code",
   "execution_count": 63,
   "metadata": {},
   "outputs": [],
   "source": [
    "x_multi=df.drop('price per month',axis=1) \n",
    "\n",
    "#grabbing all variables bar the price, since we dropped the column need to add the axis=1 thing"
   ]
  },
  {
   "cell_type": "code",
   "execution_count": 64,
   "metadata": {},
   "outputs": [
    {
     "data": {
      "text/html": [
       "<div>\n",
       "<style scoped>\n",
       "    .dataframe tbody tr th:only-of-type {\n",
       "        vertical-align: middle;\n",
       "    }\n",
       "\n",
       "    .dataframe tbody tr th {\n",
       "        vertical-align: top;\n",
       "    }\n",
       "\n",
       "    .dataframe thead th {\n",
       "        text-align: right;\n",
       "    }\n",
       "</style>\n",
       "<table border=\"1\" class=\"dataframe\">\n",
       "  <thead>\n",
       "    <tr style=\"text-align: right;\">\n",
       "      <th></th>\n",
       "      <th>Distance Eyre Square</th>\n",
       "      <th>Distance Salthill</th>\n",
       "      <th>Distance NUIG</th>\n",
       "      <th>Distance GMIT</th>\n",
       "      <th>number of rooms</th>\n",
       "      <th>number of bathrooms</th>\n",
       "      <th>BER</th>\n",
       "      <th>type_apartment</th>\n",
       "      <th>type_house</th>\n",
       "      <th>type_studio</th>\n",
       "      <th>balcony_yes</th>\n",
       "      <th>heating_electric</th>\n",
       "    </tr>\n",
       "  </thead>\n",
       "  <tbody>\n",
       "    <tr>\n",
       "      <th>0</th>\n",
       "      <td>0.304154</td>\n",
       "      <td>1.094696</td>\n",
       "      <td>0.838403</td>\n",
       "      <td>-1.804914</td>\n",
       "      <td>1.407289</td>\n",
       "      <td>0.339654</td>\n",
       "      <td>0.333333</td>\n",
       "      <td>0</td>\n",
       "      <td>1</td>\n",
       "      <td>0</td>\n",
       "      <td>0</td>\n",
       "      <td>0</td>\n",
       "    </tr>\n",
       "    <tr>\n",
       "      <th>1</th>\n",
       "      <td>2.286249</td>\n",
       "      <td>0.962364</td>\n",
       "      <td>1.712642</td>\n",
       "      <td>2.487883</td>\n",
       "      <td>-1.437391</td>\n",
       "      <td>-1.026187</td>\n",
       "      <td>0.600000</td>\n",
       "      <td>1</td>\n",
       "      <td>0</td>\n",
       "      <td>0</td>\n",
       "      <td>0</td>\n",
       "      <td>0</td>\n",
       "    </tr>\n",
       "    <tr>\n",
       "      <th>2</th>\n",
       "      <td>1.803202</td>\n",
       "      <td>0.551147</td>\n",
       "      <td>1.235639</td>\n",
       "      <td>2.108272</td>\n",
       "      <td>0.459062</td>\n",
       "      <td>0.339654</td>\n",
       "      <td>0.866667</td>\n",
       "      <td>0</td>\n",
       "      <td>1</td>\n",
       "      <td>0</td>\n",
       "      <td>0</td>\n",
       "      <td>0</td>\n",
       "    </tr>\n",
       "    <tr>\n",
       "      <th>4</th>\n",
       "      <td>-0.556496</td>\n",
       "      <td>0.274215</td>\n",
       "      <td>0.065406</td>\n",
       "      <td>-1.281282</td>\n",
       "      <td>0.459062</td>\n",
       "      <td>0.339654</td>\n",
       "      <td>0.400000</td>\n",
       "      <td>0</td>\n",
       "      <td>1</td>\n",
       "      <td>0</td>\n",
       "      <td>0</td>\n",
       "      <td>0</td>\n",
       "    </tr>\n",
       "    <tr>\n",
       "      <th>5</th>\n",
       "      <td>0.033638</td>\n",
       "      <td>-0.931712</td>\n",
       "      <td>-0.401477</td>\n",
       "      <td>0.715937</td>\n",
       "      <td>1.407289</td>\n",
       "      <td>0.339654</td>\n",
       "      <td>0.466667</td>\n",
       "      <td>0</td>\n",
       "      <td>1</td>\n",
       "      <td>0</td>\n",
       "      <td>0</td>\n",
       "      <td>0</td>\n",
       "    </tr>\n",
       "  </tbody>\n",
       "</table>\n",
       "</div>"
      ],
      "text/plain": [
       "   Distance Eyre Square  Distance Salthill  Distance NUIG  Distance GMIT  \\\n",
       "0              0.304154           1.094696       0.838403      -1.804914   \n",
       "1              2.286249           0.962364       1.712642       2.487883   \n",
       "2              1.803202           0.551147       1.235639       2.108272   \n",
       "4             -0.556496           0.274215       0.065406      -1.281282   \n",
       "5              0.033638          -0.931712      -0.401477       0.715937   \n",
       "\n",
       "   number of rooms  number of bathrooms       BER  type_apartment  type_house  \\\n",
       "0         1.407289             0.339654  0.333333               0           1   \n",
       "1        -1.437391            -1.026187  0.600000               1           0   \n",
       "2         0.459062             0.339654  0.866667               0           1   \n",
       "4         0.459062             0.339654  0.400000               0           1   \n",
       "5         1.407289             0.339654  0.466667               0           1   \n",
       "\n",
       "   type_studio  balcony_yes  heating_electric  \n",
       "0            0            0                 0  \n",
       "1            0            0                 0  \n",
       "2            0            0                 0  \n",
       "4            0            0                 0  \n",
       "5            0            0                 0  "
      ]
     },
     "execution_count": 64,
     "metadata": {},
     "output_type": "execute_result"
    }
   ],
   "source": [
    "x_multi.head()\n"
   ]
  },
  {
   "cell_type": "code",
   "execution_count": 65,
   "metadata": {},
   "outputs": [],
   "source": [
    "y_multi = df['price per month']"
   ]
  },
  {
   "cell_type": "code",
   "execution_count": 66,
   "metadata": {},
   "outputs": [
    {
     "data": {
      "text/plain": [
       "0    2100\n",
       "1     850\n",
       "2    1800\n",
       "4    1600\n",
       "5    2390\n",
       "Name: price per month, dtype: int64"
      ]
     },
     "execution_count": 66,
     "metadata": {},
     "output_type": "execute_result"
    }
   ],
   "source": [
    "y_multi.head()"
   ]
  },
  {
   "cell_type": "code",
   "execution_count": 67,
   "metadata": {},
   "outputs": [],
   "source": [
    "x_multi_cons=sn.add_constant(x_multi) #adding constant "
   ]
  },
  {
   "cell_type": "code",
   "execution_count": 68,
   "metadata": {},
   "outputs": [
    {
     "data": {
      "text/html": [
       "<div>\n",
       "<style scoped>\n",
       "    .dataframe tbody tr th:only-of-type {\n",
       "        vertical-align: middle;\n",
       "    }\n",
       "\n",
       "    .dataframe tbody tr th {\n",
       "        vertical-align: top;\n",
       "    }\n",
       "\n",
       "    .dataframe thead th {\n",
       "        text-align: right;\n",
       "    }\n",
       "</style>\n",
       "<table border=\"1\" class=\"dataframe\">\n",
       "  <thead>\n",
       "    <tr style=\"text-align: right;\">\n",
       "      <th></th>\n",
       "      <th>const</th>\n",
       "      <th>Distance Eyre Square</th>\n",
       "      <th>Distance Salthill</th>\n",
       "      <th>Distance NUIG</th>\n",
       "      <th>Distance GMIT</th>\n",
       "      <th>number of rooms</th>\n",
       "      <th>number of bathrooms</th>\n",
       "      <th>BER</th>\n",
       "      <th>type_apartment</th>\n",
       "      <th>type_house</th>\n",
       "      <th>type_studio</th>\n",
       "      <th>balcony_yes</th>\n",
       "      <th>heating_electric</th>\n",
       "    </tr>\n",
       "  </thead>\n",
       "  <tbody>\n",
       "    <tr>\n",
       "      <th>0</th>\n",
       "      <td>1.0</td>\n",
       "      <td>0.304154</td>\n",
       "      <td>1.094696</td>\n",
       "      <td>0.838403</td>\n",
       "      <td>-1.804914</td>\n",
       "      <td>1.407289</td>\n",
       "      <td>0.339654</td>\n",
       "      <td>0.333333</td>\n",
       "      <td>0</td>\n",
       "      <td>1</td>\n",
       "      <td>0</td>\n",
       "      <td>0</td>\n",
       "      <td>0</td>\n",
       "    </tr>\n",
       "    <tr>\n",
       "      <th>1</th>\n",
       "      <td>1.0</td>\n",
       "      <td>2.286249</td>\n",
       "      <td>0.962364</td>\n",
       "      <td>1.712642</td>\n",
       "      <td>2.487883</td>\n",
       "      <td>-1.437391</td>\n",
       "      <td>-1.026187</td>\n",
       "      <td>0.600000</td>\n",
       "      <td>1</td>\n",
       "      <td>0</td>\n",
       "      <td>0</td>\n",
       "      <td>0</td>\n",
       "      <td>0</td>\n",
       "    </tr>\n",
       "    <tr>\n",
       "      <th>2</th>\n",
       "      <td>1.0</td>\n",
       "      <td>1.803202</td>\n",
       "      <td>0.551147</td>\n",
       "      <td>1.235639</td>\n",
       "      <td>2.108272</td>\n",
       "      <td>0.459062</td>\n",
       "      <td>0.339654</td>\n",
       "      <td>0.866667</td>\n",
       "      <td>0</td>\n",
       "      <td>1</td>\n",
       "      <td>0</td>\n",
       "      <td>0</td>\n",
       "      <td>0</td>\n",
       "    </tr>\n",
       "    <tr>\n",
       "      <th>4</th>\n",
       "      <td>1.0</td>\n",
       "      <td>-0.556496</td>\n",
       "      <td>0.274215</td>\n",
       "      <td>0.065406</td>\n",
       "      <td>-1.281282</td>\n",
       "      <td>0.459062</td>\n",
       "      <td>0.339654</td>\n",
       "      <td>0.400000</td>\n",
       "      <td>0</td>\n",
       "      <td>1</td>\n",
       "      <td>0</td>\n",
       "      <td>0</td>\n",
       "      <td>0</td>\n",
       "    </tr>\n",
       "    <tr>\n",
       "      <th>5</th>\n",
       "      <td>1.0</td>\n",
       "      <td>0.033638</td>\n",
       "      <td>-0.931712</td>\n",
       "      <td>-0.401477</td>\n",
       "      <td>0.715937</td>\n",
       "      <td>1.407289</td>\n",
       "      <td>0.339654</td>\n",
       "      <td>0.466667</td>\n",
       "      <td>0</td>\n",
       "      <td>1</td>\n",
       "      <td>0</td>\n",
       "      <td>0</td>\n",
       "      <td>0</td>\n",
       "    </tr>\n",
       "  </tbody>\n",
       "</table>\n",
       "</div>"
      ],
      "text/plain": [
       "   const  Distance Eyre Square  Distance Salthill  Distance NUIG  \\\n",
       "0    1.0              0.304154           1.094696       0.838403   \n",
       "1    1.0              2.286249           0.962364       1.712642   \n",
       "2    1.0              1.803202           0.551147       1.235639   \n",
       "4    1.0             -0.556496           0.274215       0.065406   \n",
       "5    1.0              0.033638          -0.931712      -0.401477   \n",
       "\n",
       "   Distance GMIT  number of rooms  number of bathrooms       BER  \\\n",
       "0      -1.804914         1.407289             0.339654  0.333333   \n",
       "1       2.487883        -1.437391            -1.026187  0.600000   \n",
       "2       2.108272         0.459062             0.339654  0.866667   \n",
       "4      -1.281282         0.459062             0.339654  0.400000   \n",
       "5       0.715937         1.407289             0.339654  0.466667   \n",
       "\n",
       "   type_apartment  type_house  type_studio  balcony_yes  heating_electric  \n",
       "0               0           1            0            0                 0  \n",
       "1               1           0            0            0                 0  \n",
       "2               0           1            0            0                 0  \n",
       "4               0           1            0            0                 0  \n",
       "5               0           1            0            0                 0  "
      ]
     },
     "execution_count": 68,
     "metadata": {},
     "output_type": "execute_result"
    }
   ],
   "source": [
    "x_multi_cons.head() # proxy for beta_0"
   ]
  },
  {
   "cell_type": "code",
   "execution_count": 69,
   "metadata": {},
   "outputs": [],
   "source": [
    "ln_multi=sn.OLS(y_multi,x_multi_cons).fit()\n"
   ]
  },
  {
   "cell_type": "code",
   "execution_count": 70,
   "metadata": {},
   "outputs": [
    {
     "data": {
      "text/html": [
       "<table class=\"simpletable\">\n",
       "<caption>OLS Regression Results</caption>\n",
       "<tr>\n",
       "  <th>Dep. Variable:</th>     <td>price per month</td> <th>  R-squared:         </th> <td>   0.632</td>\n",
       "</tr>\n",
       "<tr>\n",
       "  <th>Model:</th>                   <td>OLS</td>       <th>  Adj. R-squared:    </th> <td>   0.619</td>\n",
       "</tr>\n",
       "<tr>\n",
       "  <th>Method:</th>             <td>Least Squares</td>  <th>  F-statistic:       </th> <td>   52.13</td>\n",
       "</tr>\n",
       "<tr>\n",
       "  <th>Date:</th>             <td>Mon, 23 Aug 2021</td> <th>  Prob (F-statistic):</th> <td>1.40e-71</td>\n",
       "</tr>\n",
       "<tr>\n",
       "  <th>Time:</th>                 <td>13:45:07</td>     <th>  Log-Likelihood:    </th> <td> -2672.3</td>\n",
       "</tr>\n",
       "<tr>\n",
       "  <th>No. Observations:</th>      <td>   378</td>      <th>  AIC:               </th> <td>   5371.</td>\n",
       "</tr>\n",
       "<tr>\n",
       "  <th>Df Residuals:</th>          <td>   365</td>      <th>  BIC:               </th> <td>   5422.</td>\n",
       "</tr>\n",
       "<tr>\n",
       "  <th>Df Model:</th>              <td>    12</td>      <th>                     </th>     <td> </td>   \n",
       "</tr>\n",
       "<tr>\n",
       "  <th>Covariance Type:</th>      <td>nonrobust</td>    <th>                     </th>     <td> </td>   \n",
       "</tr>\n",
       "</table>\n",
       "<table class=\"simpletable\">\n",
       "<tr>\n",
       "            <td></td>              <th>coef</th>     <th>std err</th>      <th>t</th>      <th>P>|t|</th>  <th>[0.025</th>    <th>0.975]</th>  \n",
       "</tr>\n",
       "<tr>\n",
       "  <th>const</th>                <td> 1605.7438</td> <td>   91.575</td> <td>   17.535</td> <td> 0.000</td> <td> 1425.663</td> <td> 1785.824</td>\n",
       "</tr>\n",
       "<tr>\n",
       "  <th>Distance Eyre Square</th> <td> -124.0378</td> <td>   78.672</td> <td>   -1.577</td> <td> 0.116</td> <td> -278.745</td> <td>   30.670</td>\n",
       "</tr>\n",
       "<tr>\n",
       "  <th>Distance Salthill</th>    <td>  -86.7942</td> <td>   38.209</td> <td>   -2.272</td> <td> 0.024</td> <td> -161.931</td> <td>  -11.657</td>\n",
       "</tr>\n",
       "<tr>\n",
       "  <th>Distance NUIG</th>        <td>   45.9561</td> <td>   65.498</td> <td>    0.702</td> <td> 0.483</td> <td>  -82.845</td> <td>  174.757</td>\n",
       "</tr>\n",
       "<tr>\n",
       "  <th>Distance GMIT</th>        <td>    2.8427</td> <td>   41.167</td> <td>    0.069</td> <td> 0.945</td> <td>  -78.112</td> <td>   83.797</td>\n",
       "</tr>\n",
       "<tr>\n",
       "  <th>number of rooms</th>      <td>  321.4053</td> <td>   25.844</td> <td>   12.436</td> <td> 0.000</td> <td>  270.583</td> <td>  372.228</td>\n",
       "</tr>\n",
       "<tr>\n",
       "  <th>number of bathrooms</th>  <td>   86.4137</td> <td>   19.699</td> <td>    4.387</td> <td> 0.000</td> <td>   47.676</td> <td>  125.151</td>\n",
       "</tr>\n",
       "<tr>\n",
       "  <th>BER</th>                  <td>  113.6088</td> <td>   73.075</td> <td>    1.555</td> <td> 0.121</td> <td>  -30.091</td> <td>  257.309</td>\n",
       "</tr>\n",
       "<tr>\n",
       "  <th>type_apartment</th>       <td>  -15.3900</td> <td>   89.632</td> <td>   -0.172</td> <td> 0.864</td> <td> -191.651</td> <td>  160.871</td>\n",
       "</tr>\n",
       "<tr>\n",
       "  <th>type_house</th>           <td> -130.0614</td> <td>   93.272</td> <td>   -1.394</td> <td> 0.164</td> <td> -313.480</td> <td>   53.357</td>\n",
       "</tr>\n",
       "<tr>\n",
       "  <th>type_studio</th>          <td> -162.8053</td> <td>  136.750</td> <td>   -1.191</td> <td> 0.235</td> <td> -431.721</td> <td>  106.111</td>\n",
       "</tr>\n",
       "<tr>\n",
       "  <th>balcony_yes</th>          <td>    2.5556</td> <td>   39.595</td> <td>    0.065</td> <td> 0.949</td> <td>  -75.307</td> <td>   80.418</td>\n",
       "</tr>\n",
       "<tr>\n",
       "  <th>heating_electric</th>     <td>  -83.5768</td> <td>   38.431</td> <td>   -2.175</td> <td> 0.030</td> <td> -159.150</td> <td>   -8.004</td>\n",
       "</tr>\n",
       "</table>\n",
       "<table class=\"simpletable\">\n",
       "<tr>\n",
       "  <th>Omnibus:</th>       <td>47.890</td> <th>  Durbin-Watson:     </th> <td>   1.851</td>\n",
       "</tr>\n",
       "<tr>\n",
       "  <th>Prob(Omnibus):</th> <td> 0.000</td> <th>  Jarque-Bera (JB):  </th> <td> 137.405</td>\n",
       "</tr>\n",
       "<tr>\n",
       "  <th>Skew:</th>          <td> 0.576</td> <th>  Prob(JB):          </th> <td>1.46e-30</td>\n",
       "</tr>\n",
       "<tr>\n",
       "  <th>Kurtosis:</th>      <td> 5.719</td> <th>  Cond. No.          </th> <td>    20.3</td>\n",
       "</tr>\n",
       "</table><br/><br/>Warnings:<br/>[1] Standard Errors assume that the covariance matrix of the errors is correctly specified."
      ],
      "text/plain": [
       "<class 'statsmodels.iolib.summary.Summary'>\n",
       "\"\"\"\n",
       "                            OLS Regression Results                            \n",
       "==============================================================================\n",
       "Dep. Variable:        price per month   R-squared:                       0.632\n",
       "Model:                            OLS   Adj. R-squared:                  0.619\n",
       "Method:                 Least Squares   F-statistic:                     52.13\n",
       "Date:                Mon, 23 Aug 2021   Prob (F-statistic):           1.40e-71\n",
       "Time:                        13:45:07   Log-Likelihood:                -2672.3\n",
       "No. Observations:                 378   AIC:                             5371.\n",
       "Df Residuals:                     365   BIC:                             5422.\n",
       "Df Model:                          12                                         \n",
       "Covariance Type:            nonrobust                                         \n",
       "========================================================================================\n",
       "                           coef    std err          t      P>|t|      [0.025      0.975]\n",
       "----------------------------------------------------------------------------------------\n",
       "const                 1605.7438     91.575     17.535      0.000    1425.663    1785.824\n",
       "Distance Eyre Square  -124.0378     78.672     -1.577      0.116    -278.745      30.670\n",
       "Distance Salthill      -86.7942     38.209     -2.272      0.024    -161.931     -11.657\n",
       "Distance NUIG           45.9561     65.498      0.702      0.483     -82.845     174.757\n",
       "Distance GMIT            2.8427     41.167      0.069      0.945     -78.112      83.797\n",
       "number of rooms        321.4053     25.844     12.436      0.000     270.583     372.228\n",
       "number of bathrooms     86.4137     19.699      4.387      0.000      47.676     125.151\n",
       "BER                    113.6088     73.075      1.555      0.121     -30.091     257.309\n",
       "type_apartment         -15.3900     89.632     -0.172      0.864    -191.651     160.871\n",
       "type_house            -130.0614     93.272     -1.394      0.164    -313.480      53.357\n",
       "type_studio           -162.8053    136.750     -1.191      0.235    -431.721     106.111\n",
       "balcony_yes              2.5556     39.595      0.065      0.949     -75.307      80.418\n",
       "heating_electric       -83.5768     38.431     -2.175      0.030    -159.150      -8.004\n",
       "==============================================================================\n",
       "Omnibus:                       47.890   Durbin-Watson:                   1.851\n",
       "Prob(Omnibus):                  0.000   Jarque-Bera (JB):              137.405\n",
       "Skew:                           0.576   Prob(JB):                     1.46e-30\n",
       "Kurtosis:                       5.719   Cond. No.                         20.3\n",
       "==============================================================================\n",
       "\n",
       "Warnings:\n",
       "[1] Standard Errors assume that the covariance matrix of the errors is correctly specified.\n",
       "\"\"\""
      ]
     },
     "execution_count": 70,
     "metadata": {},
     "output_type": "execute_result"
    }
   ],
   "source": [
    "ln_multi.summary() #low f so our varaibles do have impact, lower P valuse the more significant the variable is "
   ]
  },
  {
   "cell_type": "markdown",
   "metadata": {},
   "source": [
    "number of rooms,\n",
    "baths\n",
    "a lot of the P values are pretty big, larger than the .5 we were looking for \n",
    "\n",
    "very different when you put in the balcony value \n"
   ]
  },
  {
   "cell_type": "code",
   "execution_count": 71,
   "metadata": {},
   "outputs": [],
   "source": [
    "lm3=LinearRegression()"
   ]
  },
  {
   "cell_type": "code",
   "execution_count": 72,
   "metadata": {},
   "outputs": [
    {
     "data": {
      "text/plain": [
       "LinearRegression(copy_X=True, fit_intercept=True, n_jobs=None, normalize=False)"
      ]
     },
     "execution_count": 72,
     "metadata": {},
     "output_type": "execute_result"
    }
   ],
   "source": [
    "lm3.fit(x_multi,y_multi)\n"
   ]
  },
  {
   "cell_type": "code",
   "execution_count": 73,
   "metadata": {},
   "outputs": [
    {
     "name": "stdout",
     "output_type": "stream",
     "text": [
      "1605.7437837656942 [-124.03779694  -86.79424155   45.95605728    2.84266498  321.4052651\n",
      "   86.41368658  113.60883381  -15.39001131 -130.06143282 -162.80534054\n",
      "    2.55556328  -83.57677336]\n"
     ]
    }
   ],
   "source": [
    "print(lm3.intercept_,lm3.coef_) \n"
   ]
  },
  {
   "cell_type": "code",
   "execution_count": 74,
   "metadata": {},
   "outputs": [],
   "source": [
    "from sklearn.model_selection import train_test_split"
   ]
  },
  {
   "cell_type": "code",
   "execution_count": 75,
   "metadata": {},
   "outputs": [],
   "source": [
    "X_train,X_test,Y_train,Y_test =train_test_split(x_multi,y_multi, test_size = 0.2,random_state=0)"
   ]
  },
  {
   "cell_type": "code",
   "execution_count": 76,
   "metadata": {},
   "outputs": [],
   "source": []
  },
  {
   "cell_type": "code",
   "execution_count": 77,
   "metadata": {},
   "outputs": [
    {
     "name": "stdout",
     "output_type": "stream",
     "text": [
      "(302, 12) (76, 12) (302,) (76,)\n"
     ]
    }
   ],
   "source": [
    "print(X_train.shape,X_test.shape,Y_train.shape,Y_test.shape) #size od sets"
   ]
  },
  {
   "cell_type": "code",
   "execution_count": 78,
   "metadata": {},
   "outputs": [],
   "source": [
    "ln_a =LinearRegression()"
   ]
  },
  {
   "cell_type": "code",
   "execution_count": 79,
   "metadata": {},
   "outputs": [
    {
     "data": {
      "text/plain": [
       "LinearRegression(copy_X=True, fit_intercept=True, n_jobs=None, normalize=False)"
      ]
     },
     "execution_count": 79,
     "metadata": {},
     "output_type": "execute_result"
    }
   ],
   "source": [
    "ln_a.fit(X_train,Y_train)"
   ]
  },
  {
   "cell_type": "code",
   "execution_count": 80,
   "metadata": {},
   "outputs": [],
   "source": [
    "Y_test_a=ln_a.predict(X_test)"
   ]
  },
  {
   "cell_type": "code",
   "execution_count": 81,
   "metadata": {},
   "outputs": [],
   "source": [
    "Y_train_a=ln_a.predict(X_train)"
   ]
  },
  {
   "cell_type": "code",
   "execution_count": 82,
   "metadata": {},
   "outputs": [],
   "source": [
    "from sklearn.metrics import r2_score"
   ]
  },
  {
   "cell_type": "code",
   "execution_count": 83,
   "metadata": {},
   "outputs": [
    {
     "data": {
      "text/plain": [
       "0.5301324433530405"
      ]
     },
     "execution_count": 83,
     "metadata": {},
     "output_type": "execute_result"
    }
   ],
   "source": [
    "r2_score(Y_test,Y_test_a) "
   ]
  },
  {
   "cell_type": "code",
   "execution_count": 84,
   "metadata": {},
   "outputs": [
    {
     "data": {
      "text/plain": [
       "0.6441175271789614"
      ]
     },
     "execution_count": 84,
     "metadata": {},
     "output_type": "execute_result"
    }
   ],
   "source": [
    "r2_score(Y_train,Y_train_a)"
   ]
  },
  {
   "cell_type": "code",
   "execution_count": 85,
   "metadata": {},
   "outputs": [],
   "source": [
    "y_pred=lm3.predict(X_test)"
   ]
  },
  {
   "cell_type": "code",
   "execution_count": 86,
   "metadata": {},
   "outputs": [],
   "source": [
    "def rmse(y_true, y_pred):\n",
    "    '''\n",
    "    Compute Root Mean Square Percentage Error between two arrays.\n",
    "    '''\n",
    "    loss = np.sqrt(np.mean(np.square(((y_true - y_pred) / y_true)), axis=0))*100\n",
    "\n",
    "    return loss #https://stackoverflow.com/questions/53165807/how-to-calculate-rmspe-in-python-using-numpy\n"
   ]
  },
  {
   "cell_type": "code",
   "execution_count": 87,
   "metadata": {},
   "outputs": [
    {
     "name": "stdout",
     "output_type": "stream",
     "text": [
      "R2: 0.5301324433530405\n",
      "MAE: 186.14688576604513\n",
      "MSE: 70272.37349936174\n",
      "RMSE: 265.0893688916282\n"
     ]
    }
   ],
   "source": [
    "from sklearn import metrics \n",
    "\n",
    "print('R2:',r2_score(Y_test,Y_test_a))\n",
    "print('MAE:', metrics.mean_absolute_error(Y_test,y_pred))\n",
    "print('MSE:',metrics.mean_squared_error(Y_test,y_pred))\n",
    "print('RMSE:',np.sqrt(metrics.mean_squared_error(Y_test,y_pred)))\n",
    "print:('RMSPE:',rmse(Y_test,y_pred))"
   ]
  },
  {
   "cell_type": "code",
   "execution_count": null,
   "metadata": {},
   "outputs": [],
   "source": []
  },
  {
   "cell_type": "code",
   "execution_count": 88,
   "metadata": {},
   "outputs": [],
   "source": [
    "from sklearn import preprocessing #ridhge lasso stuff"
   ]
  },
  {
   "cell_type": "code",
   "execution_count": 89,
   "metadata": {},
   "outputs": [],
   "source": [
    "scaler=preprocessing.StandardScaler().fit(X_train) # needs to be standardised to woirk with ridge "
   ]
  },
  {
   "cell_type": "code",
   "execution_count": 90,
   "metadata": {},
   "outputs": [],
   "source": [
    "#X_train_s=scaler.transform(X_train)\n",
    "X_train_s=X_train"
   ]
  },
  {
   "cell_type": "code",
   "execution_count": 91,
   "metadata": {},
   "outputs": [],
   "source": [
    "#X_test_s=scaler.transform(X_test)\n",
    "X_test_s=X_test"
   ]
  },
  {
   "cell_type": "code",
   "execution_count": 92,
   "metadata": {},
   "outputs": [],
   "source": [
    "from sklearn.linear_model import Ridge"
   ]
  },
  {
   "cell_type": "code",
   "execution_count": 93,
   "metadata": {},
   "outputs": [
    {
     "data": {
      "text/plain": [
       "Ridge(alpha=0.5, copy_X=True, fit_intercept=True, max_iter=None,\n",
       "      normalize=False, random_state=None, solver='auto', tol=0.001)"
      ]
     },
     "execution_count": 93,
     "metadata": {},
     "output_type": "execute_result"
    }
   ],
   "source": [
    "ln_r=Ridge(alpha=0.5)\n",
    "ln_r.fit(X_train_s,Y_train)"
   ]
  },
  {
   "cell_type": "code",
   "execution_count": 94,
   "metadata": {},
   "outputs": [
    {
     "data": {
      "text/plain": [
       "0.5311084326885036"
      ]
     },
     "execution_count": 94,
     "metadata": {},
     "output_type": "execute_result"
    }
   ],
   "source": [
    "r2_score(Y_test,ln_r.predict(X_test_s))"
   ]
  },
  {
   "cell_type": "code",
   "execution_count": 95,
   "metadata": {},
   "outputs": [
    {
     "name": "stdout",
     "output_type": "stream",
     "text": [
      "1577.865078078964 [ -57.60206433 -110.5165028    11.04533719  -22.5388137   358.9693612\n",
      "   67.85790949   85.29815109   25.34194393 -111.72674725 -152.01403401\n",
      "    5.18654788  -62.20869707]\n"
     ]
    }
   ],
   "source": [
    "print(ln_r.intercept_,ln_r.coef_) #describes the line thats being drawn"
   ]
  },
  {
   "cell_type": "code",
   "execution_count": null,
   "metadata": {},
   "outputs": [],
   "source": []
  },
  {
   "cell_type": "code",
   "execution_count": 96,
   "metadata": {},
   "outputs": [],
   "source": [
    "y_pred3=ln_r.predict(X_test)"
   ]
  },
  {
   "cell_type": "code",
   "execution_count": 97,
   "metadata": {},
   "outputs": [
    {
     "name": "stdout",
     "output_type": "stream",
     "text": [
      "R2: 0.5311084326885036\n",
      "MAE: 198.40525365202362\n",
      "MSE: 79851.79976631577\n",
      "RMSE: 282.58060755528817\n"
     ]
    }
   ],
   "source": [
    "from sklearn import metrics \n",
    "print('R2:', r2_score(Y_test,ln_r.predict(X_test_s)))\n",
    "print('MAE:', metrics.mean_absolute_error(Y_test,y_pred3))\n",
    "print('MSE:',metrics.mean_squared_error(Y_test,y_pred3))\n",
    "print('RMSE:',np.sqrt(metrics.mean_squared_error(Y_test,y_pred3)))"
   ]
  },
  {
   "cell_type": "code",
   "execution_count": 98,
   "metadata": {},
   "outputs": [],
   "source": [
    "from sklearn.model_selection import validation_curve"
   ]
  },
  {
   "cell_type": "code",
   "execution_count": 99,
   "metadata": {},
   "outputs": [],
   "source": [
    "param_range=np.logspace(-2,8,100) #creates 100 values"
   ]
  },
  {
   "cell_type": "code",
   "execution_count": 100,
   "metadata": {},
   "outputs": [
    {
     "data": {
      "text/plain": [
       "array([1.00000000e-02, 1.26185688e-02, 1.59228279e-02, 2.00923300e-02,\n",
       "       2.53536449e-02, 3.19926714e-02, 4.03701726e-02, 5.09413801e-02,\n",
       "       6.42807312e-02, 8.11130831e-02, 1.02353102e-01, 1.29154967e-01,\n",
       "       1.62975083e-01, 2.05651231e-01, 2.59502421e-01, 3.27454916e-01,\n",
       "       4.13201240e-01, 5.21400829e-01, 6.57933225e-01, 8.30217568e-01,\n",
       "       1.04761575e+00, 1.32194115e+00, 1.66810054e+00, 2.10490414e+00,\n",
       "       2.65608778e+00, 3.35160265e+00, 4.22924287e+00, 5.33669923e+00,\n",
       "       6.73415066e+00, 8.49753436e+00, 1.07226722e+01, 1.35304777e+01,\n",
       "       1.70735265e+01, 2.15443469e+01, 2.71858824e+01, 3.43046929e+01,\n",
       "       4.32876128e+01, 5.46227722e+01, 6.89261210e+01, 8.69749003e+01,\n",
       "       1.09749877e+02, 1.38488637e+02, 1.74752840e+02, 2.20513074e+02,\n",
       "       2.78255940e+02, 3.51119173e+02, 4.43062146e+02, 5.59081018e+02,\n",
       "       7.05480231e+02, 8.90215085e+02, 1.12332403e+03, 1.41747416e+03,\n",
       "       1.78864953e+03, 2.25701972e+03, 2.84803587e+03, 3.59381366e+03,\n",
       "       4.53487851e+03, 5.72236766e+03, 7.22080902e+03, 9.11162756e+03,\n",
       "       1.14975700e+04, 1.45082878e+04, 1.83073828e+04, 2.31012970e+04,\n",
       "       2.91505306e+04, 3.67837977e+04, 4.64158883e+04, 5.85702082e+04,\n",
       "       7.39072203e+04, 9.32603347e+04, 1.17681195e+05, 1.48496826e+05,\n",
       "       1.87381742e+05, 2.36448941e+05, 2.98364724e+05, 3.76493581e+05,\n",
       "       4.75081016e+05, 5.99484250e+05, 7.56463328e+05, 9.54548457e+05,\n",
       "       1.20450354e+06, 1.51991108e+06, 1.91791026e+06, 2.42012826e+06,\n",
       "       3.05385551e+06, 3.85352859e+06, 4.86260158e+06, 6.13590727e+06,\n",
       "       7.74263683e+06, 9.77009957e+06, 1.23284674e+07, 1.55567614e+07,\n",
       "       1.96304065e+07, 2.47707636e+07, 3.12571585e+07, 3.94420606e+07,\n",
       "       4.97702356e+07, 6.28029144e+07, 7.92482898e+07, 1.00000000e+08])"
      ]
     },
     "execution_count": 100,
     "metadata": {},
     "output_type": "execute_result"
    }
   ],
   "source": [
    "param_range\n"
   ]
  },
  {
   "cell_type": "code",
   "execution_count": 101,
   "metadata": {},
   "outputs": [],
   "source": [
    "train_scores,test_scores=validation_curve(Ridge(),X_train_s,Y_train,\"alpha\",param_range,scoring='r2')"
   ]
  },
  {
   "cell_type": "code",
   "execution_count": 102,
   "metadata": {},
   "outputs": [
    {
     "name": "stdout",
     "output_type": "stream",
     "text": [
      "[[6.37634838e-01 6.24301274e-01 6.80790443e-01 6.38192900e-01\n",
      "  6.59421984e-01]\n",
      " [6.37634812e-01 6.24301229e-01 6.80790432e-01 6.38192856e-01\n",
      "  6.59421977e-01]\n",
      " [6.37634770e-01 6.24301158e-01 6.80790415e-01 6.38192786e-01\n",
      "  6.59421966e-01]\n",
      " [6.37634704e-01 6.24301044e-01 6.80790389e-01 6.38192676e-01\n",
      "  6.59421949e-01]\n",
      " [6.37634600e-01 6.24300864e-01 6.80790347e-01 6.38192502e-01\n",
      "  6.59421922e-01]\n",
      " [6.37634435e-01 6.24300581e-01 6.80790280e-01 6.38192226e-01\n",
      "  6.59421878e-01]\n",
      " [6.37634174e-01 6.24300133e-01 6.80790175e-01 6.38191791e-01\n",
      "  6.59421809e-01]\n",
      " [6.37633764e-01 6.24299430e-01 6.80790008e-01 6.38191108e-01\n",
      "  6.59421699e-01]\n",
      " [6.37633120e-01 6.24298329e-01 6.80789745e-01 6.38190037e-01\n",
      "  6.59421524e-01]\n",
      " [6.37632112e-01 6.24296609e-01 6.80789330e-01 6.38188364e-01\n",
      "  6.59421247e-01]\n",
      " [6.37630543e-01 6.24293937e-01 6.80788677e-01 6.38185764e-01\n",
      "  6.59420807e-01]\n",
      " [6.37628111e-01 6.24289813e-01 6.80787654e-01 6.38181747e-01\n",
      "  6.59420111e-01]\n",
      " [6.37624369e-01 6.24283491e-01 6.80786056e-01 6.38175587e-01\n",
      "  6.59419008e-01]\n",
      " [6.37618655e-01 6.24273887e-01 6.80783570e-01 6.38166224e-01\n",
      "  6.59417266e-01]\n",
      " [6.37610014e-01 6.24259451e-01 6.80779719e-01 6.38152145e-01\n",
      "  6.59414519e-01]\n",
      " [6.37597094e-01 6.24238016e-01 6.80773787e-01 6.38131243e-01\n",
      "  6.59410196e-01]\n",
      " [6.37578029e-01 6.24206648e-01 6.80764699e-01 6.38100676e-01\n",
      "  6.59403415e-01]\n",
      " [6.37550318e-01 6.24161483e-01 6.80750863e-01 6.38056745e-01\n",
      "  6.59392816e-01]\n",
      " [6.37510710e-01 6.24097613e-01 6.80729930e-01 6.37994827e-01\n",
      "  6.59376321e-01]\n",
      " [6.37455103e-01 6.24009007e-01 6.80698470e-01 6.37909405e-01\n",
      "  6.59350781e-01]\n",
      " [6.37378460e-01 6.23888478e-01 6.80651504e-01 6.37794174e-01\n",
      "  6.59311486e-01]\n",
      " [6.37274685e-01 6.23727642e-01 6.80581871e-01 6.37642177e-01\n",
      "  6.59251471e-01]\n",
      " [6.37136383e-01 6.23516753e-01 6.80479381e-01 6.37445808e-01\n",
      "  6.59160600e-01]\n",
      " [6.36954363e-01 6.23244316e-01 6.80329741e-01 6.37196447e-01\n",
      "  6.59024385e-01]\n",
      " [6.36716769e-01 6.22896358e-01 6.80113265e-01 6.36883522e-01\n",
      "  6.58822542e-01]\n",
      " [6.36407773e-01 6.22455348e-01 6.79803454e-01 6.36492857e-01\n",
      "  6.58527359e-01]\n",
      " [6.36005880e-01 6.21898858e-01 6.79365634e-01 6.36004400e-01\n",
      "  6.58102041e-01]\n",
      " [6.35482031e-01 6.21198142e-01 6.78755921e-01 6.35389640e-01\n",
      "  6.57499334e-01]\n",
      " [6.34797724e-01 6.20316835e-01 6.77920876e-01 6.34609170e-01\n",
      "  6.56660863e-01]\n",
      " [6.33903420e-01 6.19209962e-01 6.76798167e-01 6.33610855e-01\n",
      "  6.55517627e-01]\n",
      " [6.32737363e-01 6.17823273e-01 6.75318344e-01 6.32328951e-01\n",
      "  6.53991946e-01]\n",
      " [6.31224831e-01 6.16092772e-01 6.73407330e-01 6.30684210e-01\n",
      "  6.52000601e-01]\n",
      " [6.29277547e-01 6.13943958e-01 6.70988617e-01 6.28584664e-01\n",
      "  6.49458207e-01]\n",
      " [6.26792645e-01 6.11290027e-01 6.67983459e-01 6.25926322e-01\n",
      "  6.46279048e-01]\n",
      " [6.23650128e-01 6.08028017e-01 6.64307080e-01 6.22592648e-01\n",
      "  6.42375238e-01]\n",
      " [6.19707381e-01 6.04031799e-01 6.59859162e-01 6.18451275e-01\n",
      "  6.37649294e-01]\n",
      " [6.14789257e-01 5.99140970e-01 6.54507763e-01 6.13346310e-01\n",
      "  6.31979975e-01]\n",
      " [6.08672971e-01 5.93145349e-01 6.48067345e-01 6.07084950e-01\n",
      "  6.25201647e-01]\n",
      " [6.01068952e-01 5.85766418e-01 6.40273730e-01 5.99418727e-01\n",
      "  6.17079343e-01]\n",
      " [5.91602275e-01 5.76639963e-01 6.30761680e-01 5.90022891e-01\n",
      "  6.07284646e-01]\n",
      " [5.79803719e-01 5.65308208e-01 6.19054050e-01 5.78481992e-01\n",
      "  5.95381232e-01]\n",
      " [5.65123195e-01 5.51233131e-01 6.04573874e-01 5.64293854e-01\n",
      "  5.80832120e-01]\n",
      " [5.46978158e-01 5.33842734e-01 5.86690370e-01 5.46905153e-01\n",
      "  5.63041042e-01]\n",
      " [5.24842914e-01 5.12616008e-01 5.64804402e-01 5.25786792e-01\n",
      "  5.41435080e-01]\n",
      " [4.98370577e-01 4.87199312e-01 5.38467630e-01 5.00545165e-01\n",
      "  5.15583558e-01]\n",
      " [4.67521456e-01 4.57530046e-01 5.07514195e-01 4.71048531e-01\n",
      "  4.85331266e-01]\n",
      " [4.32658248e-01 4.23930465e-01 4.72170242e-01 4.37532884e-01\n",
      "  4.50909091e-01]\n",
      " [3.94569266e-01 3.87134461e-01 4.33102886e-01 4.00648036e-01\n",
      "  4.12981609e-01]\n",
      " [3.54400366e-01 3.48227628e-01 3.91382556e-01 3.61418300e-01\n",
      "  3.72605406e-01]\n",
      " [3.13507651e-01 3.08510208e-01 3.48359114e-01 3.21120055e-01\n",
      "  3.31100901e-01]\n",
      " [2.73271070e-01 2.69319630e-01 3.05481682e-01 2.81107871e-01\n",
      "  2.89870963e-01]\n",
      " [2.34919529e-01 2.31860543e-01 2.64110130e-01 2.42636999e-01\n",
      "  2.50216134e-01]\n",
      " [1.99407575e-01 1.97081610e-01 2.25364236e-01 2.06725708e-01\n",
      "  2.13191628e-01]\n",
      " [1.67360557e-01 1.65617048e-01 1.90037916e-01 1.74081271e-01\n",
      "  1.79530614e-01]\n",
      " [1.39082222e-01 1.37788859e-01 1.58581784e-01 1.45090111e-01\n",
      "  1.49634119e-01]\n",
      " [1.14604911e-01 1.13651778e-01 1.31138898e-01 1.19856011e-01\n",
      "  1.23610707e-01]\n",
      " [9.37594797e-02 9.30592042e-02 1.07610780e-01 9.82642927e-02\n",
      "  1.01342977e-01]\n",
      " [7.62465153e-02 7.57319695e-02 8.77323318e-02 8.00522529e-02\n",
      "  8.25604547e-02]\n",
      " [6.16975823e-02 6.13185006e-02 7.11407650e-02 6.48726587e-02\n",
      "  6.69052519e-02]\n",
      " [4.97218374e-02 4.94412683e-02 5.74308975e-02 5.23438976e-02\n",
      "  5.39839008e-02]\n",
      " [3.99378648e-02 3.97289748e-02 4.61948287e-02 4.20854485e-02\n",
      "  4.34039971e-02]\n",
      " [3.19929794e-02 3.18364171e-02 3.70474155e-02 3.37402978e-02\n",
      "  3.47973528e-02]\n",
      " [2.55730499e-02 2.54548941e-02 2.96404681e-02 2.69871379e-02\n",
      "  2.78325931e-02]\n",
      " [2.04057817e-02 2.03160058e-02 2.36688340e-02 2.15453079e-02\n",
      "  2.22202602e-02]\n",
      " [1.62598732e-02 1.61912262e-02 1.88711436e-02 1.71750146e-02\n",
      "  1.77130439e-02]\n",
      " [1.29418356e-02 1.28890415e-02 1.50273657e-02 1.36747749e-02\n",
      "  1.41031449e-02]\n",
      " [1.02917056e-02 1.02508961e-02 1.19547009e-02 1.08774447e-02\n",
      "  1.12181803e-02]\n",
      " [8.17843491e-03 8.14675014e-03 9.50282213e-03 8.64572802e-03\n",
      "  8.91655100e-03]\n",
      " [6.49542197e-03 6.47072927e-03 7.54908117e-03 6.86770845e-03\n",
      "  7.08283315e-03]\n",
      " [5.15643023e-03 5.13712604e-03 5.99402917e-03 5.45270218e-03\n",
      "  5.62350134e-03]\n",
      " [4.09200014e-03 4.07686916e-03 4.75741787e-03 4.32757384e-03\n",
      "  4.46312862e-03]\n",
      " [3.24637585e-03 3.23449048e-03 3.77473829e-03 3.43355774e-03\n",
      "  3.54110808e-03]\n",
      " [2.57492179e-03 2.56556952e-03 2.99428878e-03 2.72357126e-03\n",
      "  2.80888203e-03]\n",
      " [2.04198046e-03 2.03461098e-03 2.37472997e-03 2.15997842e-03\n",
      "  2.22763541e-03]\n",
      " [1.61911416e-03 1.61330045e-03 1.88306934e-03 1.71274872e-03\n",
      "  1.76639696e-03]\n",
      " [1.28367317e-03 1.27908257e-03 1.49301468e-03 1.35795444e-03\n",
      "  1.40048938e-03]\n",
      " [1.01763650e-03 1.01400902e-03 1.18363763e-03 1.07655186e-03\n",
      "  1.11027240e-03]\n",
      " [8.06677862e-04 8.03809741e-04 9.38294763e-04 8.53397902e-04\n",
      "  8.80128612e-04]\n",
      " [6.39415594e-04 6.37146805e-04 7.43759858e-04 6.76459675e-04\n",
      "  6.97648177e-04]\n",
      " [5.06812109e-04 5.05016739e-04 5.89528364e-04 5.36181005e-04\n",
      "  5.52975591e-04]\n",
      " [4.01694071e-04 4.00272910e-04 4.67261128e-04 4.24976019e-04\n",
      "  4.38287364e-04]\n",
      " [3.18369692e-04 3.17244475e-04 3.70340414e-04 3.36825012e-04\n",
      "  3.47375233e-04]\n",
      " [2.52323899e-04 2.51432831e-04 2.93516059e-04 2.66952424e-04\n",
      "  2.75314052e-04]\n",
      " [1.99975793e-04 1.99270044e-04 2.32623802e-04 2.11570534e-04\n",
      "  2.18197457e-04]\n",
      " [1.58485824e-04 1.57926785e-04 1.84361280e-04 1.67675641e-04\n",
      "  1.72927664e-04]\n",
      " [1.25602599e-04 1.25159730e-04 1.46110004e-04 1.32886115e-04\n",
      "  1.37048442e-04]\n",
      " [9.95412364e-05 9.91903714e-05 1.15793977e-04 1.05313765e-04\n",
      "  1.08612456e-04]\n",
      " [7.88868157e-05 7.86088244e-05 9.17674461e-05 8.34617395e-05\n",
      "  8.60759695e-05]\n",
      " [6.25177638e-05 6.22975002e-05 7.27258270e-05 6.61434969e-05\n",
      "  6.82152760e-05]\n",
      " [4.95450823e-05 4.93705522e-05 5.76350389e-05 5.24185295e-05\n",
      "  5.40604082e-05]\n",
      " [3.92641477e-05 3.91258513e-05 4.56754514e-05 4.15413782e-05\n",
      "  4.28425573e-05]\n",
      " [3.11164905e-05 3.10069027e-05 3.61974341e-05 3.29212023e-05\n",
      "  3.39523761e-05]\n",
      " [2.46594906e-05 2.45726504e-05 2.86861112e-05 2.60897225e-05\n",
      "  2.69069173e-05]\n",
      " [1.95423527e-05 1.94735372e-05 2.27334182e-05 2.06758051e-05\n",
      "  2.13234225e-05]\n",
      " [1.54870608e-05 1.54325281e-05 1.80159492e-05 1.63853137e-05\n",
      "  1.68985423e-05]\n",
      " [1.22732814e-05 1.22300667e-05 1.42773970e-05 1.29851385e-05\n",
      "  1.33918653e-05]\n",
      " [9.72639735e-06 9.69215142e-06 1.13146340e-05 1.02905364e-05\n",
      "  1.06128615e-05]\n",
      " [7.70802350e-06 7.68088479e-06 8.96667970e-06 8.15509687e-06\n",
      "  8.41053470e-06]\n",
      " [6.10848932e-06 6.08698274e-06 7.10595650e-06 6.46278908e-06\n",
      "  6.66521964e-06]\n",
      " [4.84088119e-06 4.82383782e-06 5.63135917e-06 5.12165879e-06\n",
      "  5.28208183e-06]]\n",
      "[[ 6.56424349e-01  6.78159281e-01  4.56449939e-01  6.54083679e-01\n",
      "   5.61057138e-01]\n",
      " [ 6.56432697e-01  6.78170102e-01  4.56455668e-01  6.54103659e-01\n",
      "   5.61065254e-01]\n",
      " [ 6.56443208e-01  6.78183706e-01  4.56462906e-01  6.54128795e-01\n",
      "   5.61075487e-01]\n",
      " [ 6.56456434e-01  6.78200791e-01  4.56472054e-01  6.54160393e-01\n",
      "   5.61088388e-01]\n",
      " [ 6.56473065e-01  6.78222225e-01  4.56483620e-01  6.54200076e-01\n",
      "   5.61104647e-01]\n",
      " [ 6.56493959e-01  6.78249071e-01  4.56498250e-01  6.54249852e-01\n",
      "   5.61125132e-01]\n",
      " [ 6.56520177e-01  6.78282633e-01  4.56516767e-01  6.54312189e-01\n",
      "   5.61150932e-01]\n",
      " [ 6.56553032e-01  6.78324490e-01  4.56540219e-01  6.54390110e-01\n",
      "   5.61183410e-01]\n",
      " [ 6.56594129e-01  6.78376536e-01  4.56569945e-01  6.54487277e-01\n",
      "   5.61224267e-01]\n",
      " [ 6.56645427e-01  6.78441009e-01  4.56607658e-01  6.54608080e-01\n",
      "   5.61275626e-01]\n",
      " [ 6.56709285e-01  6.78520507e-01  4.56655553e-01  6.54757716e-01\n",
      "   5.61340122e-01]\n",
      " [ 6.56788517e-01  6.78617963e-01  4.56716445e-01  6.54942222e-01\n",
      "   5.61421014e-01]\n",
      " [ 6.56886430e-01  6.78736580e-01  4.56793948e-01  6.55168451e-01\n",
      "   5.61522314e-01]\n",
      " [ 6.57006842e-01  6.78879680e-01  4.56892691e-01  6.55443953e-01\n",
      "   5.61648921e-01]\n",
      " [ 6.57154066e-01  6.79050441e-01  4.57018589e-01  6.55776706e-01\n",
      "   5.61806775e-01]\n",
      " [ 6.57332839e-01  6.79251498e-01  4.57179147e-01  6.56174665e-01\n",
      "   5.62002991e-01]\n",
      " [ 6.57548187e-01  6.79484363e-01  4.57383792e-01  6.56645110e-01\n",
      "   5.62245972e-01]\n",
      " [ 6.57805216e-01  6.79748652e-01  4.57644178e-01  6.57193786e-01\n",
      "   5.62545460e-01]\n",
      " [ 6.58108823e-01  6.80041139e-01  4.57974383e-01  6.57823927e-01\n",
      "   5.62912461e-01]\n",
      " [ 6.58463342e-01  6.80354640e-01  4.58390897e-01  6.58535305e-01\n",
      "   5.63358987e-01]\n",
      " [ 6.58872147e-01  6.80676789e-01  4.58912216e-01  6.59323531e-01\n",
      "   5.63897494e-01]\n",
      " [ 6.59337234e-01  6.80988765e-01  4.59557887e-01  6.60179829e-01\n",
      "   5.64539911e-01]\n",
      " [ 6.59858793e-01  6.81263995e-01  4.60346831e-01  6.61091429e-01\n",
      "   5.65296101e-01]\n",
      " [ 6.60434800e-01  6.81466896e-01  4.61294841e-01  6.62042547e-01\n",
      "   5.66171643e-01]\n",
      " [ 6.61060657e-01  6.81551733e-01  4.62411284e-01  6.63015672e-01\n",
      "   5.67164826e-01]\n",
      " [ 6.61728998e-01  6.81461739e-01  4.63695166e-01  6.63992714e-01\n",
      "   5.68262899e-01]\n",
      " [ 6.62429869e-01  6.81128712e-01  4.65130928e-01  6.64955560e-01\n",
      "   5.69437748e-01]\n",
      " [ 6.63151523e-01  6.80473334e-01  4.66684620e-01  6.65885706e-01\n",
      "   5.70641420e-01]\n",
      " [ 6.63882006e-01  6.79406337e-01  4.68301258e-01  6.66762866e-01\n",
      "   5.71802197e-01]\n",
      " [ 6.64611399e-01  6.77830453e-01  4.69904398e-01  6.67562606e-01\n",
      "   5.72822082e-01]\n",
      " [ 6.65334121e-01  6.75642749e-01  4.71398760e-01  6.68253018e-01\n",
      "   5.73576575e-01]\n",
      " [ 6.66050232e-01  6.72736627e-01  4.72676199e-01  6.68790336e-01\n",
      "   5.73917220e-01]\n",
      " [ 6.66764263e-01  6.69002443e-01  4.73624213e-01  6.69113197e-01\n",
      "   5.73676623e-01]\n",
      " [ 6.67479888e-01  6.64325629e-01  4.74134783e-01  6.69135281e-01\n",
      "   5.72674673e-01]\n",
      " [ 6.68188698e-01  6.58581337e-01  4.74110077e-01  6.68736295e-01\n",
      "   5.70723842e-01]\n",
      " [ 6.68851229e-01  6.51625108e-01  4.73461062e-01  6.67751387e-01\n",
      "   5.67631280e-01]\n",
      " [ 6.69368533e-01  6.43279790e-01  4.72095728e-01  6.65959037e-01\n",
      "   5.63195925e-01]\n",
      " [ 6.69543432e-01  6.33319967e-01  4.69895786e-01  6.63067140e-01\n",
      "   5.57200124e-01]\n",
      " [ 6.69033152e-01  6.21456701e-01  4.66684229e-01  6.58697370e-01\n",
      "   5.49397205e-01]\n",
      " [ 6.67300377e-01  6.07327599e-01  4.62190846e-01  6.52370189e-01\n",
      "   5.39499010e-01]\n",
      " [ 6.63577408e-01  5.90499833e-01  4.56027491e-01  6.43497313e-01\n",
      "   5.27170270e-01]\n",
      " [ 6.56865832e-01  5.70495377e-01  4.47687807e-01  6.31393756e-01\n",
      "   5.12038836e-01]\n",
      " [ 6.45996692e-01  5.46846358e-01  4.36584738e-01  6.15324033e-01\n",
      "   4.93730378e-01]\n",
      " [ 6.29767928e-01  5.19181998e-01  4.22131620e-01  5.94592822e-01\n",
      "   4.71931518e-01]\n",
      " [ 6.07153469e-01  4.87336818e-01  4.03859081e-01  5.68677041e-01\n",
      "   4.46475903e-01]\n",
      " [ 5.77545825e-01  4.51455680e-01  3.81543985e-01  5.37376294e-01\n",
      "   4.17435384e-01]\n",
      " [ 5.40965122e-01  4.12061772e-01  3.55314714e-01  5.00940016e-01\n",
      "   3.85188511e-01]\n",
      " [ 4.98160741e-01  3.70056513e-01  3.25696712e-01  4.60124040e-01\n",
      "   3.50437597e-01]\n",
      " [ 4.50558610e-01  3.26638639e-01  2.93576879e-01  4.16144821e-01\n",
      "   3.14157988e-01]\n",
      " [ 4.00059852e-01  2.83157252e-01  2.60091126e-01  3.70532921e-01\n",
      "   2.77485623e-01]\n",
      " [ 3.48749425e-01  2.40937014e-01  2.26464907e-01  3.24923386e-01\n",
      "   2.41571206e-01]\n",
      " [ 2.98599269e-01  2.01120970e-01  1.93849942e-01  2.80840634e-01\n",
      "   2.07439799e-01]\n",
      " [ 2.51239522e-01  1.64565409e-01  1.63196162e-01  2.39530729e-01\n",
      "   1.75888848e-01]\n",
      " [ 2.07835310e-01  1.31799547e-01  1.35180518e-01  2.01870181e-01\n",
      "   1.47440514e-01]\n",
      " [ 1.69067220e-01  1.03042336e-01  1.10193716e-01  1.68352135e-01\n",
      "   1.22345532e-01]\n",
      " [ 1.35187560e-01  7.82567926e-02  8.83710393e-02  1.39130709e-01\n",
      "   1.00623534e-01]\n",
      " [ 1.06116466e-01  5.72203620e-02  6.96476794e-02  1.14096870e-01\n",
      "   8.21212116e-02]\n",
      " [ 8.15470794e-02  3.95943939e-02  5.38208428e-02  9.29621357e-02\n",
      "   6.65726530e-02]\n",
      " [ 6.10398828e-02  2.49827463e-02  4.06065142e-02  7.53342355e-02\n",
      "   5.36519010e-02]\n",
      " [ 4.40968963e-02  1.29756597e-02  2.96847972e-02  6.07769872e-02\n",
      "   4.30133552e-02]\n",
      " [ 3.02140902e-02  3.17918595e-03  2.07323641e-02  4.88527684e-02\n",
      "   3.43195964e-02]\n",
      " [ 1.89146277e-02 -4.76743202e-03  1.34432763e-02  3.91494799e-02\n",
      "   2.72583880e-02]\n",
      " [ 9.76721972e-03 -1.11833781e-02  7.54061074e-03  3.12953599e-02\n",
      "   2.15514068e-02]\n",
      " [ 2.39395029e-03 -1.63440103e-02  2.78149335e-03  2.49651562e-02\n",
      "   1.69572225e-02]\n",
      " [-3.52873424e-03 -2.04824158e-02 -1.04219982e-03  1.98806659e-02\n",
      "   1.32706213e-02]\n",
      " [-8.27307552e-03 -2.37930678e-02 -4.10572867e-03  1.58079436e-02\n",
      "   1.03198459e-02]\n",
      " [-1.20651356e-02 -2.64364254e-02 -6.55472651e-03  1.25528004e-02\n",
      "   7.96283577e-03]\n",
      " [-1.50907348e-02 -2.85437440e-02 -8.50897305e-03  9.95565463e-03\n",
      "   6.08316722e-03]\n",
      " [-1.75014193e-02 -3.02216687e-02 -1.00662029e-02  7.88637994e-03\n",
      "   4.58610691e-03]\n",
      " [-1.94200288e-02 -3.15563929e-02 -1.13056692e-02  6.23951056e-03\n",
      "   3.39500107e-03]\n",
      " [-2.09456590e-02 -3.26172923e-02 -1.22913271e-02  4.92997293e-03\n",
      "   2.44809672e-03]\n",
      " [-2.21579513e-02 -3.34600248e-02 -1.30745896e-02  3.88939835e-03\n",
      "   1.69581657e-03]\n",
      " [-2.31207239e-02 -3.41291279e-02 -1.36966636e-02  3.06300390e-03\n",
      "   1.09846643e-03]\n",
      " [-2.38849963e-02 -3.46601688e-02 -1.41904979e-02  2.40699421e-03\n",
      "   6.24333145e-04]\n",
      " [-2.44914820e-02 -3.50815056e-02 -1.45823889e-02  1.88642159e-03\n",
      "   2.48122766e-04]\n",
      " [-2.49726227e-02 -3.54157197e-02 -1.48932929e-02  1.47343878e-03\n",
      "  -5.03118102e-05]\n",
      " [-2.53542400e-02 -3.56807748e-02 -1.51398909e-02  1.14588159e-03\n",
      "  -2.87001153e-04]\n",
      " [-2.56568673e-02 -3.58909497e-02 -1.53354488e-02  8.86124993e-04\n",
      "  -4.74689736e-04]\n",
      " [-2.58968212e-02 -3.60575872e-02 -1.54905089e-02  6.80163523e-04\n",
      "  -6.23502842e-04]\n",
      " [-2.60870605e-02 -3.61896933e-02 -1.56134440e-02  5.16874199e-04\n",
      "  -7.41480627e-04]\n",
      " [-2.62378720e-02 -3.62944156e-02 -1.57109010e-02  3.87427235e-04\n",
      "  -8.35004874e-04]\n",
      " [-2.63574190e-02 -3.63774256e-02 -1.57881548e-02  2.84815734e-04\n",
      "  -9.09139377e-04]\n",
      " [-2.64521778e-02 -3.64432216e-02 -1.58493902e-02  2.03480916e-04\n",
      "  -9.67901097e-04]\n",
      " [-2.65272849e-02 -3.64953714e-02 -1.58979264e-02  1.39013809e-04\n",
      "  -1.01447591e-03]\n",
      " [-2.65868139e-02 -3.65367040e-02 -1.59363956e-02  8.79180381e-05\n",
      "  -1.05139015e-03]\n",
      " [-2.66339944e-02 -3.65694623e-02 -1.59668851e-02  4.74213096e-05\n",
      "  -1.08064688e-03]\n",
      " [-2.66713873e-02 -3.65954246e-02 -1.59910495e-02  1.53257046e-05\n",
      "  -1.10383411e-03]\n",
      " [-2.67010225e-02 -3.66160005e-02 -1.60102006e-02 -1.01111718e-05\n",
      "  -1.12221071e-03]\n",
      " [-2.67245090e-02 -3.66323073e-02 -1.60253784e-02 -3.02705029e-05\n",
      "  -1.13677455e-03]\n",
      " [-2.67431225e-02 -3.66452306e-02 -1.60374070e-02 -4.62470822e-05\n",
      "  -1.14831659e-03]\n",
      " [-2.67578738e-02 -3.66554724e-02 -1.60469398e-02 -5.89086590e-05\n",
      "  -1.15746373e-03]\n",
      " [-2.67695643e-02 -3.66635890e-02 -1.60544946e-02 -6.89430000e-05\n",
      "  -1.16471285e-03]\n",
      " [-2.67788290e-02 -3.66700214e-02 -1.60604817e-02 -7.68952058e-05\n",
      "  -1.17045777e-03]\n",
      " [-2.67861712e-02 -3.66751190e-02 -1.60652265e-02 -8.31972946e-05\n",
      "  -1.17501058e-03]\n",
      " [-2.67919899e-02 -3.66791589e-02 -1.60689868e-02 -8.81916562e-05\n",
      "  -1.17861866e-03]\n",
      " [-2.67966012e-02 -3.66823604e-02 -1.60719667e-02 -9.21496425e-05\n",
      "  -1.18147802e-03]\n",
      " [-2.68002555e-02 -3.66848976e-02 -1.60743283e-02 -9.52863041e-05\n",
      "  -1.18374403e-03]\n",
      " [-2.68031516e-02 -3.66869083e-02 -1.60761998e-02 -9.77720706e-05\n",
      "  -1.18553982e-03]\n",
      " [-2.68054466e-02 -3.66885017e-02 -1.60776829e-02 -9.97420081e-05\n",
      "  -1.18696296e-03]\n",
      " [-2.68072654e-02 -3.66897645e-02 -1.60788583e-02 -1.01303156e-04\n",
      "  -1.18809077e-03]]\n"
     ]
    }
   ],
   "source": [
    "print(train_scores)\n",
    "print(test_scores)"
   ]
  },
  {
   "cell_type": "code",
   "execution_count": 103,
   "metadata": {},
   "outputs": [],
   "source": [
    "train_mean=np.mean(train_scores,axis=1)"
   ]
  },
  {
   "cell_type": "code",
   "execution_count": 104,
   "metadata": {},
   "outputs": [],
   "source": [
    "test_mean=np.mean(test_scores,axis=1)"
   ]
  },
  {
   "cell_type": "code",
   "execution_count": 105,
   "metadata": {},
   "outputs": [
    {
     "data": {
      "text/plain": [
       "array([6.48068288e-01, 6.48068261e-01, 6.48068219e-01, 6.48068153e-01,\n",
       "       6.48068047e-01, 6.48067880e-01, 6.48067617e-01, 6.48067202e-01,\n",
       "       6.48066551e-01, 6.48065532e-01, 6.48063946e-01, 6.48061487e-01,\n",
       "       6.48057702e-01, 6.48051920e-01, 6.48043169e-01, 6.48030067e-01,\n",
       "       6.48010694e-01, 6.47982445e-01, 6.47941880e-01, 6.47884553e-01,\n",
       "       6.47804820e-01, 6.47695569e-01, 6.47547785e-01, 6.47349851e-01,\n",
       "       6.47086491e-01, 6.46737358e-01, 6.46275363e-01, 6.45665014e-01,\n",
       "       6.44861094e-01, 6.43808006e-01, 6.42439975e-01, 6.40681949e-01,\n",
       "       6.38450599e-01, 6.35654300e-01, 6.32190622e-01, 6.27939782e-01,\n",
       "       6.22752855e-01, 6.16434452e-01, 6.08721434e-01, 5.99262291e-01,\n",
       "       5.87605840e-01, 5.73211235e-01, 5.55491491e-01, 5.33897039e-01,\n",
       "       5.08033248e-01, 4.77789099e-01, 4.43440186e-01, 4.05687252e-01,\n",
       "       3.65606851e-01, 3.24519586e-01, 2.83810243e-01, 2.44748667e-01,\n",
       "       2.08354151e-01, 1.75325481e-01, 1.46035419e-01, 1.20572461e-01,\n",
       "       9.88073468e-02, 8.04647048e-02, 6.51869517e-02, 5.25843603e-02,\n",
       "       4.22702228e-02, 3.38828925e-02, 2.70976286e-02, 2.16312379e-02,\n",
       "       1.72420603e-02, 1.37272325e-02, 1.09185855e-02, 8.67805724e-03,\n",
       "       6.89315480e-03, 5.47275779e-03, 4.34339793e-03, 3.44605409e-03,\n",
       "       2.73344668e-03, 2.16778704e-03, 1.71892593e-03, 1.36284285e-03,\n",
       "       1.08042148e-03, 8.56461776e-04, 6.78886022e-04, 5.38102762e-04,\n",
       "       4.26498298e-04, 3.38030965e-04, 2.67907853e-04, 2.12327526e-04,\n",
       "       1.68275439e-04, 1.33361378e-04, 1.05690361e-04, 8.37601590e-05,\n",
       "       6.63799728e-05, 5.26059222e-05, 4.16898772e-05, 3.30388811e-05,\n",
       "       2.61829784e-05, 2.07497072e-05, 1.64438788e-05, 1.30315498e-05,\n",
       "       1.03273161e-05, 8.18424391e-06, 6.48588746e-06, 5.13996376e-06])"
      ]
     },
     "execution_count": 105,
     "metadata": {},
     "output_type": "execute_result"
    }
   ],
   "source": [
    "train_mean"
   ]
  },
  {
   "cell_type": "code",
   "execution_count": 106,
   "metadata": {},
   "outputs": [
    {
     "data": {
      "text/plain": [
       "0.610841044705239"
      ]
     },
     "execution_count": 106,
     "metadata": {},
     "output_type": "execute_result"
    }
   ],
   "source": [
    "max(test_mean)"
   ]
  },
  {
   "cell_type": "code",
   "execution_count": 107,
   "metadata": {},
   "outputs": [
    {
     "data": {
      "text/plain": [
       "<seaborn.axisgrid.JointGrid at 0x7fcb1cf31e50>"
      ]
     },
     "execution_count": 107,
     "metadata": {},
     "output_type": "execute_result"
    },
    {
     "data": {
      "image/png": "[encoded data removed]",
      "text/plain": [
       "<Figure size 432x432 with 3 Axes>"
      ]
     },
     "metadata": {
      "needs_background": "light"
     },
     "output_type": "display_data"
    }
   ],
   "source": [
    "sns.jointplot(x=np.log(param_range),y=test_mean) #highest point is from the max above "
   ]
  },
  {
   "cell_type": "code",
   "execution_count": 108,
   "metadata": {},
   "outputs": [
    {
     "data": {
      "text/plain": [
       "(array([30]),)"
      ]
     },
     "execution_count": 108,
     "metadata": {},
     "output_type": "execute_result"
    }
   ],
   "source": [
    "np.where(test_mean==max(test_mean))"
   ]
  },
  {
   "cell_type": "code",
   "execution_count": 109,
   "metadata": {},
   "outputs": [
    {
     "data": {
      "text/plain": [
       "10.722672220103231"
      ]
     },
     "execution_count": 109,
     "metadata": {},
     "output_type": "execute_result"
    }
   ],
   "source": [
    "param_range[30]"
   ]
  },
  {
   "cell_type": "code",
   "execution_count": 110,
   "metadata": {},
   "outputs": [],
   "source": [
    "ln_r_best=Ridge(alpha=param_range[30])"
   ]
  },
  {
   "cell_type": "code",
   "execution_count": 111,
   "metadata": {},
   "outputs": [
    {
     "data": {
      "text/plain": [
       "Ridge(alpha=10.722672220103231, copy_X=True, fit_intercept=True, max_iter=None,\n",
       "      normalize=False, random_state=None, solver='auto', tol=0.001)"
      ]
     },
     "execution_count": 111,
     "metadata": {},
     "output_type": "execute_result"
    }
   ],
   "source": [
    "ln_r_best.fit(X_train_s,Y_train)"
   ]
  },
  {
   "cell_type": "code",
   "execution_count": 112,
   "metadata": {},
   "outputs": [
    {
     "data": {
      "text/plain": [
       "0.5484002193656544"
      ]
     },
     "execution_count": 112,
     "metadata": {},
     "output_type": "execute_result"
    }
   ],
   "source": [
    "r2_score(Y_test,ln_r_best.predict(X_test_s))"
   ]
  },
  {
   "cell_type": "code",
   "execution_count": 113,
   "metadata": {},
   "outputs": [
    {
     "data": {
      "text/plain": [
       "0.640419642370061"
      ]
     },
     "execution_count": 113,
     "metadata": {},
     "output_type": "execute_result"
    }
   ],
   "source": [
    "r2_score(Y_train,ln_r_best.predict(X_train_s))"
   ]
  },
  {
   "cell_type": "code",
   "execution_count": 114,
   "metadata": {},
   "outputs": [
    {
     "name": "stdout",
     "output_type": "stream",
     "text": [
      "1539.893500006977 [-44.70585365 -83.3554588  -19.85112486 -16.68593729 325.75784835\n",
      "  77.02255761  51.37021013  45.75696738 -32.57036176 -60.17726451\n",
      "  15.72781789 -46.10192531]\n"
     ]
    }
   ],
   "source": [
    "print(ln_r_best.intercept_,ln_r_best.coef_)"
   ]
  },
  {
   "cell_type": "code",
   "execution_count": 115,
   "metadata": {},
   "outputs": [],
   "source": [
    "def pretty_print_coefs(coefs, names = None, sort = False):\n",
    "    if names == None:\n",
    "        names = [\"X%s\" % x for x in range(len(coefs))]\n",
    "    lst = zip(coefs, names)\n",
    "    if sort:\n",
    "        lst = sorted(lst,  key = lambda x:-np.abs(x[0]))\n",
    "    return \" + \".join(\"%s * %s\" % (round(coef, 3), name)\n",
    "                                   for coef, name in lst)\n",
    "\n"
   ]
  },
  {
   "cell_type": "code",
   "execution_count": 116,
   "metadata": {},
   "outputs": [
    {
     "name": "stdout",
     "output_type": "stream",
     "text": [
      "Ridge model: -44.706 * X0 + -83.355 * X1 + -19.851 * X2 + -16.686 * X3 + 325.758 * X4 + 77.023 * X5 + 51.37 * X6 + 45.757 * X7 + -32.57 * X8 + -60.177 * X9 + 15.728 * X10 + -46.102 * X11\n"
     ]
    }
   ],
   "source": [
    "print (\"Ridge model:\", pretty_print_coefs(ln_r_best.coef_)) #https://www.datacamp.com/community/tutorials/feature-selection-python"
   ]
  },
  {
   "cell_type": "code",
   "execution_count": 117,
   "metadata": {},
   "outputs": [],
   "source": [
    "# info about ridge method https://machinelearningmastery.com/ridge-regression-with-python/ https://scikit-learn.org/stable/modules/linear_model.html\n",
    "# http://www.science.smith.edu/~jcrouser/SDS293/labs/lab10-py.html As expected, none of the coefficients are exactly zero - ridge regression does not perform variable selection!"
   ]
  },
  {
   "cell_type": "code",
   "execution_count": 118,
   "metadata": {},
   "outputs": [],
   "source": [
    "y_pred2=ln_r_best.predict(X_test)"
   ]
  },
  {
   "cell_type": "code",
   "execution_count": 119,
   "metadata": {},
   "outputs": [
    {
     "name": "stdout",
     "output_type": "stream",
     "text": [
      "MAE: 196.5666886712077\n",
      "MSE: 76907.02450566705\n",
      "RMSE: 277.3211576956707\n"
     ]
    }
   ],
   "source": [
    "from sklearn import metrics \n",
    "\n",
    "print('MAE:', metrics.mean_absolute_error(Y_test,y_pred2))\n",
    "print('MSE:',metrics.mean_squared_error(Y_test,y_pred2))\n",
    "print('RMSE:',np.sqrt(metrics.mean_squared_error(Y_test,y_pred2)))"
   ]
  },
  {
   "cell_type": "code",
   "execution_count": 120,
   "metadata": {},
   "outputs": [
    {
     "name": "stdout",
     "output_type": "stream",
     "text": [
      "* 1 R2: 0.5301324433530405\n",
      "* 2 R2: 0.5311084326885036\n",
      "* 3 R2: 0.5484002193656544\n",
      "*\n",
      "* 1 MAE: 186.14688576604513\n",
      "* 2 MAE: 198.40525365202362\n",
      "* 3 MAE: 196.5666886712077\n",
      "*\n",
      "* 1 MSE: 70272.37349936174\n",
      "* 2 MSE: 79851.79976631577\n",
      "* 3 MSE: 76907.02450566705\n",
      "*\n",
      "* 1 RMSE: 265.0893688916282\n",
      "* 2 RMSE: 282.58060755528817\n",
      "* 3 RMSE: 277.3211576956707\n"
     ]
    }
   ],
   "source": [
    "print('* 1 R2:',r2_score(Y_test,Y_test_a))\n",
    "print('* 2 R2:', r2_score(Y_test,ln_r.predict(X_test_s)))\n",
    "print('* 3 R2:', r2_score(Y_test,ln_r_best.predict(X_test_s)))\n",
    "print('*')\n",
    "print('* 1 MAE:', metrics.mean_absolute_error(Y_test,y_pred))\n",
    "print('* 2 MAE:', metrics.mean_absolute_error(Y_test,y_pred3))\n",
    "print('* 3 MAE:', metrics.mean_absolute_error(Y_test,y_pred2))\n",
    "print('*')\n",
    "print('* 1 MSE:',metrics.mean_squared_error(Y_test,y_pred))\n",
    "print('* 2 MSE:',metrics.mean_squared_error(Y_test,y_pred3))\n",
    "print('* 3 MSE:',metrics.mean_squared_error(Y_test,y_pred2))\n",
    "print('*')\n",
    "print('* 1 RMSE:',np.sqrt(metrics.mean_squared_error(Y_test,y_pred)))\n",
    "print('* 2 RMSE:',np.sqrt(metrics.mean_squared_error(Y_test,y_pred3)))\n",
    "print('* 3 RMSE:',np.sqrt(metrics.mean_squared_error(Y_test,y_pred2)))\n",
    "\n",
    "# here is looks like hte simple linergression has done the best job "
   ]
  },
  {
   "cell_type": "markdown",
   "metadata": {},
   "source": [
    "balcony_no, heating_central type_townhouse\n",
    "\n",
    "* 1 R2: 0.6159440296762957\n",
    "* 2 R2: 0.6174031394628763\n",
    "* 3 R2: 0.6213596910964827\n",
    "*\n",
    "* 1 MAE: 197.7988313912914\n",
    "* 2 MAE: 232.95603654988764\n",
    "* 3 MAE: 221.37599426742776\n",
    "*\n",
    "* 1 MSE: 64531.983305969894\n",
    "* 2 MSE: 88971.32132606163\n",
    "* 3 MSE: 79362.26537433332\n",
    "*\n",
    "* 1 RMSE: 254.03146125228247\n",
    "* 2 RMSE: 298.28060836410674\n",
    "* 3 RMSE: 281.7130905271058\n",
    "\n",
    "no change with a different type of standard or z \n",
    "\n",
    "-----------------------------"
   ]
  },
  {
   "cell_type": "code",
   "execution_count": 121,
   "metadata": {},
   "outputs": [
    {
     "data": {
      "image/png": "[encoded data removed]",
      "text/plain": [
       "<Figure size 432x288 with 1 Axes>"
      ]
     },
     "metadata": {
      "needs_background": "light"
     },
     "output_type": "display_data"
    }
   ],
   "source": [
    "LR_metrics =np.array([r2_score(Y_test,Y_test_a),metrics.mean_absolute_error(Y_test,y_pred),metrics.mean_squared_error(Y_test,y_pred),np.sqrt(metrics.mean_squared_error(Y_test,y_pred))])\n",
    "R_metrics=np.array([r2_score(Y_test,ln_r.predict(X_test_s)),metrics.mean_absolute_error(Y_test,y_pred3),metrics.mean_squared_error(Y_test,y_pred3),np.sqrt(metrics.mean_squared_error(Y_test,y_pred3))])\n",
    "RB_metrics=np.array([r2_score(Y_test,ln_r_best.predict(X_test_s)),metrics.mean_absolute_error(Y_test,y_pred2),metrics.mean_squared_error(Y_test,y_pred2),np.sqrt(metrics.mean_squared_error(Y_test,y_pred2))])\n",
    "index = ['R2', 'MAE', 'MSE','RMSE']\n",
    "df_metrics = pd.DataFrame({'Ridge': R_metrics, 'Linear Regression': LR_metrics,'Ridge Best': RB_metrics}, index=index)\n",
    "df_metrics.plot.bar(rot=0)\n",
    "plt.legend(loc=\"lower right\")\n",
    "plt.show()\n"
   ]
  },
  {
   "cell_type": "code",
   "execution_count": null,
   "metadata": {},
   "outputs": [],
   "source": []
  },
  {
   "cell_type": "code",
   "execution_count": 122,
   "metadata": {},
   "outputs": [],
   "source": [
    "LR_metrics2=np.delete(LR_metrics,2)\n",
    "R_metrics2=np.delete(R_metrics,2)\n",
    "RB_metrics2=np.delete(RB_metrics,2)\n"
   ]
  },
  {
   "cell_type": "code",
   "execution_count": 123,
   "metadata": {},
   "outputs": [
    {
     "data": {
      "image/png": "[encoded data removed]",
      "text/plain": [
       "<Figure size 432x288 with 1 Axes>"
      ]
     },
     "metadata": {
      "needs_background": "light"
     },
     "output_type": "display_data"
    }
   ],
   "source": [
    "index = ['R2', 'MAE','RMSE']\n",
    "df_metrics = pd.DataFrame({'Ridge': R_metrics2, 'Linear Regression': LR_metrics2,'Ridge Best': RB_metrics2}, index=index)\n",
    "df_metrics.plot.bar(rot=0)\n",
    "plt.legend(loc=\"lower right\")\n",
    "plt.show()"
   ]
  },
  {
   "cell_type": "markdown",
   "metadata": {},
   "source": [
    "looks like LN is still doing the best even with the additional data, need to get the coefficients for it and their importance or can just use the thing from the start? "
   ]
  },
  {
   "cell_type": "code",
   "execution_count": 124,
   "metadata": {},
   "outputs": [],
   "source": [
    "def rmse(y_true, y_pred):\n",
    "    '''\n",
    "    Compute Root Mean Square Percentage Error between two arrays.\n",
    "    '''\n",
    "    loss = np.sqrt(np.mean(np.square(((y_true - y_pred) / y_true)), axis=0))*100\n",
    "\n",
    "    return loss #https://stackoverflow.com/questions/53165807/how-to-calculate-rmspe-in-python-using-numpy\n",
    "# should be times 100? also should b divided by n? \n",
    "# maybe not? https://www.kaggle.com/c/rossmann-store-sales/overview/evaluation\n",
    "# mean returns the average of the array, would be the same as dividing by the number n from the formula \n"
   ]
  },
  {
   "cell_type": "code",
   "execution_count": 125,
   "metadata": {},
   "outputs": [
    {
     "data": {
      "text/plain": [
       "17.221329596005138"
      ]
     },
     "execution_count": 125,
     "metadata": {},
     "output_type": "execute_result"
    }
   ],
   "source": [
    "rmse(Y_test,y_pred)"
   ]
  },
  {
   "cell_type": "code",
   "execution_count": 126,
   "metadata": {},
   "outputs": [
    {
     "data": {
      "text/plain": [
       "17.634724435573517"
      ]
     },
     "execution_count": 126,
     "metadata": {},
     "output_type": "execute_result"
    }
   ],
   "source": [
    "rmse(Y_test,y_pred2)"
   ]
  },
  {
   "cell_type": "code",
   "execution_count": 127,
   "metadata": {},
   "outputs": [
    {
     "data": {
      "text/plain": [
       "18.176813734685982"
      ]
     },
     "execution_count": 127,
     "metadata": {},
     "output_type": "execute_result"
    }
   ],
   "source": [
    "rmse(Y_test,y_pred3)"
   ]
  },
  {
   "cell_type": "code",
   "execution_count": 128,
   "metadata": {},
   "outputs": [
    {
     "name": "stdout",
     "output_type": "stream",
     "text": [
      "* 1 R2: 0.5301324433530405\n",
      "* 2 R2: 0.5311084326885036\n",
      "* 3 R2: 0.5484002193656544\n",
      "*\n",
      "* 1 MAE: 186.14688576604513\n",
      "* 2 MAE: 198.40525365202362\n",
      "* 3 MAE: 196.5666886712077\n",
      "*\n",
      "* 1 MSE: 70272.37349936174\n",
      "* 2 MSE: 79851.79976631577\n",
      "* 3 MSE: 76907.02450566705\n",
      "*\n",
      "* 1 RMSE: 265.0893688916282\n",
      "* 2 RMSE: 282.58060755528817\n",
      "* 3 RMSE: 277.3211576956707\n",
      "*\n",
      "* 1 RMSPE: 17.221329596005138\n",
      "* 2 RMSPE: 18.176813734685982\n",
      "* 3 RMSPE: 17.634724435573517\n"
     ]
    }
   ],
   "source": [
    "print('* 1 R2:',r2_score(Y_test,Y_test_a))\n",
    "print('* 2 R2:', r2_score(Y_test,ln_r.predict(X_test_s)))\n",
    "print('* 3 R2:', r2_score(Y_test,ln_r_best.predict(X_test_s)))\n",
    "print('*')\n",
    "print('* 1 MAE:', metrics.mean_absolute_error(Y_test,y_pred))\n",
    "print('* 2 MAE:', metrics.mean_absolute_error(Y_test,y_pred3))\n",
    "print('* 3 MAE:', metrics.mean_absolute_error(Y_test,y_pred2))\n",
    "print('*')\n",
    "print('* 1 MSE:',metrics.mean_squared_error(Y_test,y_pred))\n",
    "print('* 2 MSE:',metrics.mean_squared_error(Y_test,y_pred3))\n",
    "print('* 3 MSE:',metrics.mean_squared_error(Y_test,y_pred2))\n",
    "print('*')\n",
    "print('* 1 RMSE:',np.sqrt(metrics.mean_squared_error(Y_test,y_pred)))\n",
    "print('* 2 RMSE:',np.sqrt(metrics.mean_squared_error(Y_test,y_pred3)))\n",
    "print('* 3 RMSE:',np.sqrt(metrics.mean_squared_error(Y_test,y_pred2)))\n",
    "print('*')\n",
    "print('* 1 RMSPE:',rmse(Y_test,y_pred))\n",
    "print('* 2 RMSPE:',rmse(Y_test,y_pred3))\n",
    "print('* 3 RMSPE:',rmse(Y_test,y_pred2))"
   ]
  },
  {
   "cell_type": "code",
   "execution_count": null,
   "metadata": {},
   "outputs": [],
   "source": []
  },
  {
   "cell_type": "code",
   "execution_count": 129,
   "metadata": {},
   "outputs": [],
   "source": [
    "import matplotlib.pyplot as plt\n",
    "%matplotlib inline\n",
    "import seaborn as sns"
   ]
  },
  {
   "cell_type": "code",
   "execution_count": 138,
   "metadata": {},
   "outputs": [
    {
     "data": {
      "image/png": "[encoded data removed]",
      "text/plain": [
       "<Figure size 432x288 with 1 Axes>"
      ]
     },
     "metadata": {
      "needs_background": "light"
     },
     "output_type": "display_data"
    }
   ],
   "source": [
    "\n",
    "\n",
    "LR_metrics =lm3.coef_\n",
    "R_metric=ln_r.coef_\n",
    "RB_metrics=ln_r_best.coef_\n",
    "index = ['Distance Eyre Square', 'Distance Salthill', 'Distance NUIG','Distance GMIT','Number of rooms','Number of bathrooms','BER','apartment','house','Studio','Balcony','Electric Heating']\n",
    "df_metrics = pd.DataFrame({'Ridge Best': RB_metrics, 'Ridge': R_metric,'Linear Reg':LR_metrics}, index=index)\n",
    "\n",
    "\n",
    "df_metrics.plot.bar(rot=0)\n",
    "plt.xticks(rotation=30, horizontalalignment=\"center\")\n",
    "plt.ylabel('Coefficient Value')\n",
    "plt.legend(loc=\"upper right\")\n",
    "plt.show()\n"
   ]
  },
  {
   "cell_type": "code",
   "execution_count": null,
   "metadata": {},
   "outputs": [],
   "source": []
  },
  {
   "cell_type": "code",
   "execution_count": 131,
   "metadata": {},
   "outputs": [
    {
     "name": "stderr",
     "output_type": "stream",
     "text": [
      "No handles with labels found to put in legend.\n"
     ]
    },
    {
     "data": {
      "image/png": "[encoded data removed]",
      "text/plain": [
       "<Figure size 842.4x595.44 with 3 Axes>"
      ]
     },
     "metadata": {
      "needs_background": "light"
     },
     "output_type": "display_data"
    }
   ],
   "source": [
    "from matplotlib import pyplot\n",
    "import seaborn\n",
    "\n",
    "a4_dims = (11.7, 8.27)\n",
    "fig, ax = pyplot.subplots(figsize=a4_dims)\n",
    "\n",
    "LR_metrics =lm3.coef_\n",
    "R_metric=ln_r.coef_\n",
    "RB_metrics=ln_r_best.coef_\n",
    "index = ['Distance Eyre Square', 'Distance Salthill', 'Distance College','Distance GMIT','Number of rooms','Number of bathrooms','BER','apartment','house','Studio','Balconey','Electric Heating']\n",
    "df_metrics = pd.DataFrame({'Ridge Best': RB_metrics, 'Ridge': R_metric,'Linear Reg':LR_metrics}, index=index)\n",
    "\n",
    "plt.subplot(1,3,1)\n",
    "plt.bar(list(df_metrics.index),df_metrics['Ridge'])\n",
    "plt.subplot(1,3,2)\n",
    "plt.bar(list(df_metrics.index),df_metrics['Linear Reg'])\n",
    "plt.subplot(1,3,3)\n",
    "plt.bar(list(df_metrics.index),df_metrics['Ridge Best'])\n",
    "\n",
    "plt.legend(loc=\"lower right\")\n",
    "plt.show()\n"
   ]
  },
  {
   "cell_type": "code",
   "execution_count": 132,
   "metadata": {},
   "outputs": [
    {
     "name": "stderr",
     "output_type": "stream",
     "text": [
      "No handles with labels found to put in legend.\n"
     ]
    },
    {
     "data": {
      "image/png": "[encoded data removed]",
      "text/plain": [
       "<Figure size 842.4x595.44 with 1 Axes>"
      ]
     },
     "metadata": {
      "needs_background": "light"
     },
     "output_type": "display_data"
    }
   ],
   "source": [
    "from matplotlib import pyplot\n",
    "import seaborn\n",
    "\n",
    "a4_dims = (11.7, 8.27)\n",
    "fig, ax = pyplot.subplots(figsize=a4_dims)\n",
    "\n",
    "LR_metrics =lm3.coef_\n",
    "R_metric=ln_r.coef_\n",
    "RB_metrics=ln_r_best.coef_\n",
    "index = ['Distance Eyre Square', 'Distance Salthill', 'Distance College','Distance GMIT','Number of rooms','Number of bathrooms','BER','apartment','house','Studio','Balconey','Electric Heating']\n",
    "df_metrics = pd.DataFrame({'Ridge Best': RB_metrics, 'Ridge': R_metric,'Linear Reg':LR_metrics}, index=index)\n",
    "\n",
    "\n",
    "plt.bar(list(df_metrics.index),df_metrics['Ridge'],df_metrics['Linear Reg'],df_metrics['Ridge Best'])\n",
    "\n",
    "\n",
    "plt.legend(loc=\"lower right\")\n",
    "plt.show()\n"
   ]
  },
  {
   "cell_type": "code",
   "execution_count": 133,
   "metadata": {},
   "outputs": [
    {
     "data": {
      "text/html": [
       "<div>\n",
       "<style scoped>\n",
       "    .dataframe tbody tr th:only-of-type {\n",
       "        vertical-align: middle;\n",
       "    }\n",
       "\n",
       "    .dataframe tbody tr th {\n",
       "        vertical-align: top;\n",
       "    }\n",
       "\n",
       "    .dataframe thead th {\n",
       "        text-align: right;\n",
       "    }\n",
       "</style>\n",
       "<table border=\"1\" class=\"dataframe\">\n",
       "  <thead>\n",
       "    <tr style=\"text-align: right;\">\n",
       "      <th></th>\n",
       "      <th>Ridge Best</th>\n",
       "      <th>Ridge</th>\n",
       "      <th>Linear Reg</th>\n",
       "    </tr>\n",
       "  </thead>\n",
       "  <tbody>\n",
       "    <tr>\n",
       "      <th>Distance Eyre Square</th>\n",
       "      <td>-44.705854</td>\n",
       "      <td>-57.602064</td>\n",
       "      <td>-124.037797</td>\n",
       "    </tr>\n",
       "    <tr>\n",
       "      <th>Distance Salthill</th>\n",
       "      <td>-83.355459</td>\n",
       "      <td>-110.516503</td>\n",
       "      <td>-86.794242</td>\n",
       "    </tr>\n",
       "    <tr>\n",
       "      <th>Distance College</th>\n",
       "      <td>-19.851125</td>\n",
       "      <td>11.045337</td>\n",
       "      <td>45.956057</td>\n",
       "    </tr>\n",
       "    <tr>\n",
       "      <th>Distance GMIT</th>\n",
       "      <td>-16.685937</td>\n",
       "      <td>-22.538814</td>\n",
       "      <td>2.842665</td>\n",
       "    </tr>\n",
       "    <tr>\n",
       "      <th>Number of rooms</th>\n",
       "      <td>325.757848</td>\n",
       "      <td>358.969361</td>\n",
       "      <td>321.405265</td>\n",
       "    </tr>\n",
       "    <tr>\n",
       "      <th>Number of bathrooms</th>\n",
       "      <td>77.022558</td>\n",
       "      <td>67.857909</td>\n",
       "      <td>86.413687</td>\n",
       "    </tr>\n",
       "    <tr>\n",
       "      <th>BER</th>\n",
       "      <td>51.370210</td>\n",
       "      <td>85.298151</td>\n",
       "      <td>113.608834</td>\n",
       "    </tr>\n",
       "    <tr>\n",
       "      <th>apartment</th>\n",
       "      <td>45.756967</td>\n",
       "      <td>25.341944</td>\n",
       "      <td>-15.390011</td>\n",
       "    </tr>\n",
       "    <tr>\n",
       "      <th>house</th>\n",
       "      <td>-32.570362</td>\n",
       "      <td>-111.726747</td>\n",
       "      <td>-130.061433</td>\n",
       "    </tr>\n",
       "    <tr>\n",
       "      <th>Studio</th>\n",
       "      <td>-60.177265</td>\n",
       "      <td>-152.014034</td>\n",
       "      <td>-162.805341</td>\n",
       "    </tr>\n",
       "    <tr>\n",
       "      <th>Balconey</th>\n",
       "      <td>15.727818</td>\n",
       "      <td>5.186548</td>\n",
       "      <td>2.555563</td>\n",
       "    </tr>\n",
       "    <tr>\n",
       "      <th>Electric Heating</th>\n",
       "      <td>-46.101925</td>\n",
       "      <td>-62.208697</td>\n",
       "      <td>-83.576773</td>\n",
       "    </tr>\n",
       "  </tbody>\n",
       "</table>\n",
       "</div>"
      ],
      "text/plain": [
       "                      Ridge Best       Ridge  Linear Reg\n",
       "Distance Eyre Square  -44.705854  -57.602064 -124.037797\n",
       "Distance Salthill     -83.355459 -110.516503  -86.794242\n",
       "Distance College      -19.851125   11.045337   45.956057\n",
       "Distance GMIT         -16.685937  -22.538814    2.842665\n",
       "Number of rooms       325.757848  358.969361  321.405265\n",
       "Number of bathrooms    77.022558   67.857909   86.413687\n",
       "BER                    51.370210   85.298151  113.608834\n",
       "apartment              45.756967   25.341944  -15.390011\n",
       "house                 -32.570362 -111.726747 -130.061433\n",
       "Studio                -60.177265 -152.014034 -162.805341\n",
       "Balconey               15.727818    5.186548    2.555563\n",
       "Electric Heating      -46.101925  -62.208697  -83.576773"
      ]
     },
     "execution_count": 133,
     "metadata": {},
     "output_type": "execute_result"
    }
   ],
   "source": [
    "df_metrics"
   ]
  },
  {
   "cell_type": "code",
   "execution_count": 134,
   "metadata": {},
   "outputs": [
    {
     "name": "stderr",
     "output_type": "stream",
     "text": [
      "No handles with labels found to put in legend.\n"
     ]
    },
    {
     "data": {
      "image/png": "[encoded data removed]",
      "text/plain": [
       "<Figure size 842.4x595.44 with 1 Axes>"
      ]
     },
     "metadata": {
      "needs_background": "light"
     },
     "output_type": "display_data"
    }
   ],
   "source": [
    "from matplotlib import pyplot\n",
    "import seaborn\n",
    "\n",
    "a4_dims = (11.7, 8.27)\n",
    "fig, ax = pyplot.subplots(figsize=a4_dims)\n",
    "\n",
    "LR_metrics =lm3.coef_\n",
    "R_metric=ln_r.coef_\n",
    "RB_metrics=ln_r_best.coef_\n",
    "\n",
    "\n",
    "\n",
    "plt.bar(0,lm3.coef_ )\n",
    "plt.legend(loc=\"lower right\")\n",
    "plt.show()"
   ]
  },
  {
   "cell_type": "code",
   "execution_count": 135,
   "metadata": {},
   "outputs": [
    {
     "data": {
      "image/png": "[encoded data removed]",
      "text/plain": [
       "<Figure size 432x288 with 1 Axes>"
      ]
     },
     "metadata": {
      "needs_background": "light"
     },
     "output_type": "display_data"
    }
   ],
   "source": [
    "LR2_metrics =np.array([r2_score(Y_test,Y_test_a),np.sqrt(metrics.mean_squared_error(Y_test,y_pred)),rmse(Y_test,y_pred)])\n",
    "R2_metrics=np.array([r2_score(Y_test,ln_r.predict(X_test_s)),np.sqrt(metrics.mean_squared_error(Y_test,y_pred3)),rmse(Y_test,y_pred3)])\n",
    "RB2_metrics=np.array([r2_score(Y_test,ln_r_best.predict(X_test_s)),np.sqrt(metrics.mean_squared_error(Y_test,y_pred2)),rmse(Y_test,y_pred2)])\n",
    "\n",
    "index2 = ['R2','RMSE','RMSPE']\n",
    "df_metrics2 = pd.DataFrame({'Ridge': R2_metrics, 'Linear Regression': LR2_metrics,'Ridge Best': RB2_metrics}, index=index2)\n",
    "df_metrics2.plot.bar(rot=0)\n",
    "plt.legend(loc=\"lower right\")\n",
    "plt.show()\n",
    "\n",
    "\n"
   ]
  },
  {
   "cell_type": "code",
   "execution_count": 136,
   "metadata": {},
   "outputs": [
    {
     "data": {
      "text/html": [
       "<div>\n",
       "<style scoped>\n",
       "    .dataframe tbody tr th:only-of-type {\n",
       "        vertical-align: middle;\n",
       "    }\n",
       "\n",
       "    .dataframe tbody tr th {\n",
       "        vertical-align: top;\n",
       "    }\n",
       "\n",
       "    .dataframe thead th {\n",
       "        text-align: right;\n",
       "    }\n",
       "</style>\n",
       "<table border=\"1\" class=\"dataframe\">\n",
       "  <thead>\n",
       "    <tr style=\"text-align: right;\">\n",
       "      <th></th>\n",
       "      <th>Ridge</th>\n",
       "      <th>Linear Regression</th>\n",
       "      <th>Ridge Best</th>\n",
       "    </tr>\n",
       "  </thead>\n",
       "  <tbody>\n",
       "    <tr>\n",
       "      <th>R2</th>\n",
       "      <td>0.531108</td>\n",
       "      <td>0.530132</td>\n",
       "      <td>0.548400</td>\n",
       "    </tr>\n",
       "    <tr>\n",
       "      <th>RMSE</th>\n",
       "      <td>282.580608</td>\n",
       "      <td>265.089369</td>\n",
       "      <td>277.321158</td>\n",
       "    </tr>\n",
       "    <tr>\n",
       "      <th>RMSPE</th>\n",
       "      <td>18.176814</td>\n",
       "      <td>17.221330</td>\n",
       "      <td>17.634724</td>\n",
       "    </tr>\n",
       "  </tbody>\n",
       "</table>\n",
       "</div>"
      ],
      "text/plain": [
       "            Ridge  Linear Regression  Ridge Best\n",
       "R2       0.531108           0.530132    0.548400\n",
       "RMSE   282.580608         265.089369  277.321158\n",
       "RMSPE   18.176814          17.221330   17.634724"
      ]
     },
     "execution_count": 136,
     "metadata": {},
     "output_type": "execute_result"
    }
   ],
   "source": [
    "df_metrics2"
   ]
  },
  {
   "cell_type": "code",
   "execution_count": 137,
   "metadata": {},
   "outputs": [
    {
     "ename": "KeyError",
     "evalue": "0",
     "output_type": "error",
     "traceback": [
      "\u001b[0;31m---------------------------------------------------------------------------\u001b[0m",
      "\u001b[0;31mKeyError\u001b[0m                                  Traceback (most recent call last)",
      "\u001b[0;32m/opt/anaconda3/lib/python3.7/site-packages/pandas/core/indexes/base.py\u001b[0m in \u001b[0;36mget_loc\u001b[0;34m(self, key, method, tolerance)\u001b[0m\n\u001b[1;32m   2645\u001b[0m             \u001b[0;32mtry\u001b[0m\u001b[0;34m:\u001b[0m\u001b[0;34m\u001b[0m\u001b[0;34m\u001b[0m\u001b[0m\n\u001b[0;32m-> 2646\u001b[0;31m                 \u001b[0;32mreturn\u001b[0m \u001b[0mself\u001b[0m\u001b[0;34m.\u001b[0m\u001b[0m_engine\u001b[0m\u001b[0;34m.\u001b[0m\u001b[0mget_loc\u001b[0m\u001b[0;34m(\u001b[0m\u001b[0mkey\u001b[0m\u001b[0;34m)\u001b[0m\u001b[0;34m\u001b[0m\u001b[0;34m\u001b[0m\u001b[0m\n\u001b[0m\u001b[1;32m   2647\u001b[0m             \u001b[0;32mexcept\u001b[0m \u001b[0mKeyError\u001b[0m\u001b[0;34m:\u001b[0m\u001b[0;34m\u001b[0m\u001b[0;34m\u001b[0m\u001b[0m\n",
      "\u001b[0;32mpandas/_libs/index.pyx\u001b[0m in \u001b[0;36mpandas._libs.index.IndexEngine.get_loc\u001b[0;34m()\u001b[0m\n",
      "\u001b[0;32mpandas/_libs/index.pyx\u001b[0m in \u001b[0;36mpandas._libs.index.IndexEngine.get_loc\u001b[0;34m()\u001b[0m\n",
      "\u001b[0;32mpandas/_libs/hashtable_class_helper.pxi\u001b[0m in \u001b[0;36mpandas._libs.hashtable.PyObjectHashTable.get_item\u001b[0;34m()\u001b[0m\n",
      "\u001b[0;32mpandas/_libs/hashtable_class_helper.pxi\u001b[0m in \u001b[0;36mpandas._libs.hashtable.PyObjectHashTable.get_item\u001b[0;34m()\u001b[0m\n",
      "\u001b[0;31mKeyError\u001b[0m: 0",
      "\nDuring handling of the above exception, another exception occurred:\n",
      "\u001b[0;31mKeyError\u001b[0m                                  Traceback (most recent call last)",
      "\u001b[0;32m<ipython-input-137-444b593a3e67>\u001b[0m in \u001b[0;36m<module>\u001b[0;34m\u001b[0m\n\u001b[1;32m     10\u001b[0m \u001b[0;34m\u001b[0m\u001b[0m\n\u001b[1;32m     11\u001b[0m \u001b[0mplt\u001b[0m\u001b[0;34m.\u001b[0m\u001b[0msubplot\u001b[0m\u001b[0;34m(\u001b[0m\u001b[0;36m1\u001b[0m\u001b[0;34m,\u001b[0m\u001b[0;36m3\u001b[0m\u001b[0;34m,\u001b[0m\u001b[0;36m1\u001b[0m\u001b[0;34m)\u001b[0m\u001b[0;34m\u001b[0m\u001b[0;34m\u001b[0m\u001b[0m\n\u001b[0;32m---> 12\u001b[0;31m \u001b[0mplt\u001b[0m\u001b[0;34m.\u001b[0m\u001b[0mbar\u001b[0m\u001b[0;34m(\u001b[0m\u001b[0mlist\u001b[0m\u001b[0;34m(\u001b[0m\u001b[0mdf_metrics2\u001b[0m\u001b[0;34m[\u001b[0m\u001b[0;36m0\u001b[0m\u001b[0;34m]\u001b[0m\u001b[0;34m)\u001b[0m\u001b[0;34m,\u001b[0m\u001b[0mdf_metrics2\u001b[0m\u001b[0;34m[\u001b[0m\u001b[0;34m'R2'\u001b[0m\u001b[0;34m]\u001b[0m\u001b[0;34m)\u001b[0m\u001b[0;34m\u001b[0m\u001b[0;34m\u001b[0m\u001b[0m\n\u001b[0m\u001b[1;32m     13\u001b[0m \u001b[0mplt\u001b[0m\u001b[0;34m.\u001b[0m\u001b[0msubplot\u001b[0m\u001b[0;34m(\u001b[0m\u001b[0;36m1\u001b[0m\u001b[0;34m,\u001b[0m\u001b[0;36m3\u001b[0m\u001b[0;34m,\u001b[0m\u001b[0;36m2\u001b[0m\u001b[0;34m)\u001b[0m\u001b[0;34m\u001b[0m\u001b[0;34m\u001b[0m\u001b[0m\n\u001b[1;32m     14\u001b[0m \u001b[0mplt\u001b[0m\u001b[0;34m.\u001b[0m\u001b[0mbar\u001b[0m\u001b[0;34m(\u001b[0m\u001b[0mlist\u001b[0m\u001b[0;34m(\u001b[0m\u001b[0mdf_metrics2\u001b[0m\u001b[0;34m.\u001b[0m\u001b[0mindex\u001b[0m\u001b[0;34m)\u001b[0m\u001b[0;34m,\u001b[0m\u001b[0mdf_metrics2\u001b[0m\u001b[0;34m[\u001b[0m\u001b[0;34m'Linear Regression'\u001b[0m\u001b[0;34m]\u001b[0m\u001b[0;34m)\u001b[0m\u001b[0;34m\u001b[0m\u001b[0;34m\u001b[0m\u001b[0m\n",
      "\u001b[0;32m/opt/anaconda3/lib/python3.7/site-packages/pandas/core/frame.py\u001b[0m in \u001b[0;36m__getitem__\u001b[0;34m(self, key)\u001b[0m\n\u001b[1;32m   2798\u001b[0m             \u001b[0;32mif\u001b[0m \u001b[0mself\u001b[0m\u001b[0;34m.\u001b[0m\u001b[0mcolumns\u001b[0m\u001b[0;34m.\u001b[0m\u001b[0mnlevels\u001b[0m \u001b[0;34m>\u001b[0m \u001b[0;36m1\u001b[0m\u001b[0;34m:\u001b[0m\u001b[0;34m\u001b[0m\u001b[0;34m\u001b[0m\u001b[0m\n\u001b[1;32m   2799\u001b[0m                 \u001b[0;32mreturn\u001b[0m \u001b[0mself\u001b[0m\u001b[0;34m.\u001b[0m\u001b[0m_getitem_multilevel\u001b[0m\u001b[0;34m(\u001b[0m\u001b[0mkey\u001b[0m\u001b[0;34m)\u001b[0m\u001b[0;34m\u001b[0m\u001b[0;34m\u001b[0m\u001b[0m\n\u001b[0;32m-> 2800\u001b[0;31m             \u001b[0mindexer\u001b[0m \u001b[0;34m=\u001b[0m \u001b[0mself\u001b[0m\u001b[0;34m.\u001b[0m\u001b[0mcolumns\u001b[0m\u001b[0;34m.\u001b[0m\u001b[0mget_loc\u001b[0m\u001b[0;34m(\u001b[0m\u001b[0mkey\u001b[0m\u001b[0;34m)\u001b[0m\u001b[0;34m\u001b[0m\u001b[0;34m\u001b[0m\u001b[0m\n\u001b[0m\u001b[1;32m   2801\u001b[0m             \u001b[0;32mif\u001b[0m \u001b[0mis_integer\u001b[0m\u001b[0;34m(\u001b[0m\u001b[0mindexer\u001b[0m\u001b[0;34m)\u001b[0m\u001b[0;34m:\u001b[0m\u001b[0;34m\u001b[0m\u001b[0;34m\u001b[0m\u001b[0m\n\u001b[1;32m   2802\u001b[0m                 \u001b[0mindexer\u001b[0m \u001b[0;34m=\u001b[0m \u001b[0;34m[\u001b[0m\u001b[0mindexer\u001b[0m\u001b[0;34m]\u001b[0m\u001b[0;34m\u001b[0m\u001b[0;34m\u001b[0m\u001b[0m\n",
      "\u001b[0;32m/opt/anaconda3/lib/python3.7/site-packages/pandas/core/indexes/base.py\u001b[0m in \u001b[0;36mget_loc\u001b[0;34m(self, key, method, tolerance)\u001b[0m\n\u001b[1;32m   2646\u001b[0m                 \u001b[0;32mreturn\u001b[0m \u001b[0mself\u001b[0m\u001b[0;34m.\u001b[0m\u001b[0m_engine\u001b[0m\u001b[0;34m.\u001b[0m\u001b[0mget_loc\u001b[0m\u001b[0;34m(\u001b[0m\u001b[0mkey\u001b[0m\u001b[0;34m)\u001b[0m\u001b[0;34m\u001b[0m\u001b[0;34m\u001b[0m\u001b[0m\n\u001b[1;32m   2647\u001b[0m             \u001b[0;32mexcept\u001b[0m \u001b[0mKeyError\u001b[0m\u001b[0;34m:\u001b[0m\u001b[0;34m\u001b[0m\u001b[0;34m\u001b[0m\u001b[0m\n\u001b[0;32m-> 2648\u001b[0;31m                 \u001b[0;32mreturn\u001b[0m \u001b[0mself\u001b[0m\u001b[0;34m.\u001b[0m\u001b[0m_engine\u001b[0m\u001b[0;34m.\u001b[0m\u001b[0mget_loc\u001b[0m\u001b[0;34m(\u001b[0m\u001b[0mself\u001b[0m\u001b[0;34m.\u001b[0m\u001b[0m_maybe_cast_indexer\u001b[0m\u001b[0;34m(\u001b[0m\u001b[0mkey\u001b[0m\u001b[0;34m)\u001b[0m\u001b[0;34m)\u001b[0m\u001b[0;34m\u001b[0m\u001b[0;34m\u001b[0m\u001b[0m\n\u001b[0m\u001b[1;32m   2649\u001b[0m         \u001b[0mindexer\u001b[0m \u001b[0;34m=\u001b[0m \u001b[0mself\u001b[0m\u001b[0;34m.\u001b[0m\u001b[0mget_indexer\u001b[0m\u001b[0;34m(\u001b[0m\u001b[0;34m[\u001b[0m\u001b[0mkey\u001b[0m\u001b[0;34m]\u001b[0m\u001b[0;34m,\u001b[0m \u001b[0mmethod\u001b[0m\u001b[0;34m=\u001b[0m\u001b[0mmethod\u001b[0m\u001b[0;34m,\u001b[0m \u001b[0mtolerance\u001b[0m\u001b[0;34m=\u001b[0m\u001b[0mtolerance\u001b[0m\u001b[0;34m)\u001b[0m\u001b[0;34m\u001b[0m\u001b[0;34m\u001b[0m\u001b[0m\n\u001b[1;32m   2650\u001b[0m         \u001b[0;32mif\u001b[0m \u001b[0mindexer\u001b[0m\u001b[0;34m.\u001b[0m\u001b[0mndim\u001b[0m \u001b[0;34m>\u001b[0m \u001b[0;36m1\u001b[0m \u001b[0;32mor\u001b[0m \u001b[0mindexer\u001b[0m\u001b[0;34m.\u001b[0m\u001b[0msize\u001b[0m \u001b[0;34m>\u001b[0m \u001b[0;36m1\u001b[0m\u001b[0;34m:\u001b[0m\u001b[0;34m\u001b[0m\u001b[0;34m\u001b[0m\u001b[0m\n",
      "\u001b[0;32mpandas/_libs/index.pyx\u001b[0m in \u001b[0;36mpandas._libs.index.IndexEngine.get_loc\u001b[0;34m()\u001b[0m\n",
      "\u001b[0;32mpandas/_libs/index.pyx\u001b[0m in \u001b[0;36mpandas._libs.index.IndexEngine.get_loc\u001b[0;34m()\u001b[0m\n",
      "\u001b[0;32mpandas/_libs/hashtable_class_helper.pxi\u001b[0m in \u001b[0;36mpandas._libs.hashtable.PyObjectHashTable.get_item\u001b[0;34m()\u001b[0m\n",
      "\u001b[0;32mpandas/_libs/hashtable_class_helper.pxi\u001b[0m in \u001b[0;36mpandas._libs.hashtable.PyObjectHashTable.get_item\u001b[0;34m()\u001b[0m\n",
      "\u001b[0;31mKeyError\u001b[0m: 0"
     ]
    },
    {
     "data": {
      "image/png": "[encoded data removed]",
      "text/plain": [
       "<Figure size 842.4x595.44 with 1 Axes>"
      ]
     },
     "metadata": {
      "needs_background": "light"
     },
     "output_type": "display_data"
    }
   ],
   "source": [
    "a4_dims = (11.7, 8.27)\n",
    "fig, ax = pyplot.subplots(figsize=a4_dims)\n",
    "\n",
    "\n",
    "index = ['R2','RMSE','RMSPE']\n",
    "#df_metrics = pd.DataFrame({'Ridge Best': RB2_metrics, 'Ridge': R2_metrics,'Linear Reg':LR2_metrics}, index=index)\n",
    "\n",
    "\n",
    "\n",
    "\n",
    "plt.subplot(1,3,1)\n",
    "plt.bar(list(df_metrics2[0]),df_metrics2['R2'])\n",
    "plt.subplot(1,3,2)\n",
    "plt.bar(list(df_metrics2.index),df_metrics2['Linear Regression'])\n",
    "plt.subplot(1,3,3)\n",
    "plt.bar(list(df_metrics2.index),df_metrics2['Ridge Best'])\n",
    "\n",
    "plt.legend(loc=\"lower right\")\n",
    "plt.show()"
   ]
  },
  {
   "cell_type": "code",
   "execution_count": null,
   "metadata": {},
   "outputs": [],
   "source": []
  },
  {
   "cell_type": "code",
   "execution_count": null,
   "metadata": {},
   "outputs": [],
   "source": []
  }
 ],
 "metadata": {
  "kernelspec": {
   "display_name": "Python 3",
   "language": "python",
   "name": "python3"
  },
  "language_info": {
   "codemirror_mode": {
    "name": "ipython",
    "version": 3
   },
   "file_extension": ".py",
   "mimetype": "text/x-python",
   "name": "python",
   "nbconvert_exporter": "python",
   "pygments_lexer": "ipython3",
   "version": "3.7.6"
  }
 },
 "nbformat": 4,
 "nbformat_minor": 4
}
