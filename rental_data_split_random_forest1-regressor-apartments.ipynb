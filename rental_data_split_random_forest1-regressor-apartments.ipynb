{
 "cells": [
  {
   "cell_type": "code",
   "execution_count": 1,
   "metadata": {},
   "outputs": [],
   "source": [
    "#https://www.datacamp.com/community/tutorials/random-forests-classifier-python\n",
    "# more info on random forest https://www.youtube.com/watch?v=RUEFSwN-orQ\n",
    "import pandas as pd\n",
    "import numpy as np\n",
    "from sklearn.pipeline import Pipeline, make_pipeline, FeatureUnion\n",
    "from sklearn.compose import ColumnTransformer\n",
    "from sklearn.base import BaseEstimator, TransformerMixin\n",
    "from sklearn.preprocessing import StandardScaler, RobustScaler, FunctionTransformer\n",
    "from sklearn.model_selection import train_test_split, GridSearchCV\n",
    "import pickle\n",
    "import matplotlib.pyplot as plt\n",
    "%matplotlib inline\n",
    "import seaborn as sns\n",
    "\n",
    "# imports necessary for dimensionality reduction\n",
    "from sklearn.decomposition import PCA\n",
    "from sklearn.feature_selection import RFE\n",
    "from sklearn import svm\n",
    "\n",
    "# regression algorithms\n",
    "from sklearn.ensemble import RandomForestRegressor\n",
    "from sklearn.linear_model import LinearRegression\n",
    "\n",
    "# metrics for evaluating regression models\n",
    "from sklearn.metrics import mean_squared_error, mean_absolute_error, r2_score\n",
    "\n",
    "\n",
    "#fix balcony column\n",
    "# drop columns lattitude longtitude eircode \n",
    "\n"
   ]
  },
  {
   "cell_type": "code",
   "execution_count": 2,
   "metadata": {},
   "outputs": [],
   "source": [
    "missing_value_formats = [\"n.a.\",\"?\",\"NA\",\"n/a\", \"na\", \"--\"]\n",
    "df = pd.read_csv('/Users/patrickmoloney/Downloads/data-rental2.csv', na_values = missing_value_formats)"
   ]
  },
  {
   "cell_type": "code",
   "execution_count": 3,
   "metadata": {},
   "outputs": [
    {
     "data": {
      "text/html": [
       "<div>\n",
       "<style scoped>\n",
       "    .dataframe tbody tr th:only-of-type {\n",
       "        vertical-align: middle;\n",
       "    }\n",
       "\n",
       "    .dataframe tbody tr th {\n",
       "        vertical-align: top;\n",
       "    }\n",
       "\n",
       "    .dataframe thead th {\n",
       "        text-align: right;\n",
       "    }\n",
       "</style>\n",
       "<table border=\"1\" class=\"dataframe\">\n",
       "  <thead>\n",
       "    <tr style=\"text-align: right;\">\n",
       "      <th></th>\n",
       "      <th>approx</th>\n",
       "      <th>number</th>\n",
       "      <th>address 1</th>\n",
       "      <th>address 2</th>\n",
       "      <th>address 3</th>\n",
       "      <th>eircode</th>\n",
       "      <th>lattitude</th>\n",
       "      <th>longtitude</th>\n",
       "      <th>lattitude eyre square</th>\n",
       "      <th>longtitude eyre square</th>\n",
       "      <th>...</th>\n",
       "      <th>Distance GMIT</th>\n",
       "      <th>number of rooms</th>\n",
       "      <th>number of bathrooms</th>\n",
       "      <th>price per month</th>\n",
       "      <th>type</th>\n",
       "      <th>connection</th>\n",
       "      <th>BER</th>\n",
       "      <th>balcony</th>\n",
       "      <th>floor</th>\n",
       "      <th>heating</th>\n",
       "    </tr>\n",
       "  </thead>\n",
       "  <tbody>\n",
       "    <tr>\n",
       "      <th>0</th>\n",
       "      <td>no</td>\n",
       "      <td>Chaplaincy House</td>\n",
       "      <td>Ballybane Road</td>\n",
       "      <td>Ballybane</td>\n",
       "      <td>NaN</td>\n",
       "      <td>H91 E2NY</td>\n",
       "      <td>53.279666</td>\n",
       "      <td>-9.008728</td>\n",
       "      <td>53.274839</td>\n",
       "      <td>-9.04863</td>\n",
       "      <td>...</td>\n",
       "      <td>0.209452</td>\n",
       "      <td>4</td>\n",
       "      <td>2</td>\n",
       "      <td>2100</td>\n",
       "      <td>house</td>\n",
       "      <td>NaN</td>\n",
       "      <td>d2</td>\n",
       "      <td>no</td>\n",
       "      <td>NaN</td>\n",
       "      <td>central</td>\n",
       "    </tr>\n",
       "    <tr>\n",
       "      <th>1</th>\n",
       "      <td>yes</td>\n",
       "      <td>NaN</td>\n",
       "      <td>cappagh road</td>\n",
       "      <td>knocknacarra</td>\n",
       "      <td>NaN</td>\n",
       "      <td>H91 PV0Y</td>\n",
       "      <td>53.271272</td>\n",
       "      <td>-9.132431</td>\n",
       "      <td>53.274839</td>\n",
       "      <td>-9.04863</td>\n",
       "      <td>...</td>\n",
       "      <td>8.135066</td>\n",
       "      <td>1</td>\n",
       "      <td>1</td>\n",
       "      <td>850</td>\n",
       "      <td>apartment</td>\n",
       "      <td>NaN</td>\n",
       "      <td>c1</td>\n",
       "      <td>no</td>\n",
       "      <td>ground</td>\n",
       "      <td>central</td>\n",
       "    </tr>\n",
       "    <tr>\n",
       "      <th>2</th>\n",
       "      <td>no</td>\n",
       "      <td>83</td>\n",
       "      <td>Maoilin</td>\n",
       "      <td>Ballymoneen Road</td>\n",
       "      <td>Moneen</td>\n",
       "      <td>H91 A6CH</td>\n",
       "      <td>53.271473</td>\n",
       "      <td>-9.121873</td>\n",
       "      <td>53.274839</td>\n",
       "      <td>-9.04863</td>\n",
       "      <td>...</td>\n",
       "      <td>7.434207</td>\n",
       "      <td>3</td>\n",
       "      <td>2</td>\n",
       "      <td>1800</td>\n",
       "      <td>house</td>\n",
       "      <td>NaN</td>\n",
       "      <td>a3</td>\n",
       "      <td>no</td>\n",
       "      <td>NaN</td>\n",
       "      <td>central</td>\n",
       "    </tr>\n",
       "    <tr>\n",
       "      <th>3</th>\n",
       "      <td>no</td>\n",
       "      <td>NaN</td>\n",
       "      <td>NaN</td>\n",
       "      <td>NaN</td>\n",
       "      <td>NaN</td>\n",
       "      <td>H91 W5RP</td>\n",
       "      <td>53.272302</td>\n",
       "      <td>-9.077226</td>\n",
       "      <td>53.274839</td>\n",
       "      <td>-9.04863</td>\n",
       "      <td>...</td>\n",
       "      <td>4.475861</td>\n",
       "      <td>1</td>\n",
       "      <td>1</td>\n",
       "      <td>850</td>\n",
       "      <td>apartment</td>\n",
       "      <td>NaN</td>\n",
       "      <td>NaN</td>\n",
       "      <td>no</td>\n",
       "      <td>ground</td>\n",
       "      <td>central</td>\n",
       "    </tr>\n",
       "    <tr>\n",
       "      <th>4</th>\n",
       "      <td>no</td>\n",
       "      <td>NaN</td>\n",
       "      <td>NaN</td>\n",
       "      <td>NaN</td>\n",
       "      <td>NaN</td>\n",
       "      <td>H91 K46R</td>\n",
       "      <td>53.273859</td>\n",
       "      <td>-9.026788</td>\n",
       "      <td>53.274839</td>\n",
       "      <td>-9.04863</td>\n",
       "      <td>...</td>\n",
       "      <td>1.176212</td>\n",
       "      <td>3</td>\n",
       "      <td>2</td>\n",
       "      <td>1600</td>\n",
       "      <td>house</td>\n",
       "      <td>NaN</td>\n",
       "      <td>d1</td>\n",
       "      <td>no</td>\n",
       "      <td>NaN</td>\n",
       "      <td>central</td>\n",
       "    </tr>\n",
       "  </tbody>\n",
       "</table>\n",
       "<p>5 rows × 29 columns</p>\n",
       "</div>"
      ],
      "text/plain": [
       "  approx            number       address 1         address 2 address 3  \\\n",
       "0     no  Chaplaincy House  Ballybane Road        Ballybane        NaN   \n",
       "1    yes               NaN    cappagh road      knocknacarra       NaN   \n",
       "2     no                83         Maoilin  Ballymoneen Road    Moneen   \n",
       "3     no               NaN             NaN               NaN       NaN   \n",
       "4     no               NaN             NaN               NaN       NaN   \n",
       "\n",
       "    eircode  lattitude  longtitude  lattitude eyre square  \\\n",
       "0  H91 E2NY  53.279666   -9.008728              53.274839   \n",
       "1  H91 PV0Y  53.271272   -9.132431              53.274839   \n",
       "2  H91 A6CH  53.271473   -9.121873              53.274839   \n",
       "3  H91 W5RP  53.272302   -9.077226              53.274839   \n",
       "4  H91 K46R  53.273859   -9.026788              53.274839   \n",
       "\n",
       "   longtitude eyre square  ...  Distance GMIT  number of rooms  \\\n",
       "0                -9.04863  ...       0.209452                4   \n",
       "1                -9.04863  ...       8.135066                1   \n",
       "2                -9.04863  ...       7.434207                3   \n",
       "3                -9.04863  ...       4.475861                1   \n",
       "4                -9.04863  ...       1.176212                3   \n",
       "\n",
       "   number of bathrooms  price per month       type  connection  BER  balcony  \\\n",
       "0                    2             2100      house         NaN   d2       no   \n",
       "1                    1              850  apartment         NaN   c1       no   \n",
       "2                    2             1800      house         NaN   a3       no   \n",
       "3                    1              850  apartment         NaN  NaN       no   \n",
       "4                    2             1600      house         NaN   d1       no   \n",
       "\n",
       "    floor  heating  \n",
       "0     NaN  central  \n",
       "1  ground  central  \n",
       "2     NaN  central  \n",
       "3  ground  central  \n",
       "4     NaN  central  \n",
       "\n",
       "[5 rows x 29 columns]"
      ]
     },
     "execution_count": 3,
     "metadata": {},
     "output_type": "execute_result"
    }
   ],
   "source": [
    "df.head()"
   ]
  },
  {
   "cell_type": "code",
   "execution_count": 4,
   "metadata": {},
   "outputs": [
    {
     "data": {
      "text/plain": [
       "approx                    206\n",
       "number                    256\n",
       "address 1                 194\n",
       "address 2                 237\n",
       "address 3                 360\n",
       "eircode                   237\n",
       "lattitude                   0\n",
       "longtitude                  0\n",
       "lattitude eyre square       0\n",
       "longtitude eyre square      0\n",
       "Distance Eyre Square        0\n",
       "latitude salthill           0\n",
       "longtitude salthill         0\n",
       "Distance Salthill           0\n",
       "latitude collage            0\n",
       "longtitude collage          0\n",
       "Distance NUIG               0\n",
       "latitude gmit               0\n",
       "longtitude gmit             0\n",
       "Distance GMIT               0\n",
       "number of rooms             0\n",
       "number of bathrooms         0\n",
       "price per month             0\n",
       "type                        0\n",
       "connection                265\n",
       "BER                        14\n",
       "balcony                     2\n",
       "floor                     184\n",
       "heating                     5\n",
       "dtype: int64"
      ]
     },
     "execution_count": 4,
     "metadata": {},
     "output_type": "execute_result"
    }
   ],
   "source": [
    "df.isna().sum()\n"
   ]
  },
  {
   "cell_type": "code",
   "execution_count": 5,
   "metadata": {},
   "outputs": [
    {
     "data": {
      "text/plain": [
       "array(['apartment', 'studio'], dtype=object)"
      ]
     },
     "execution_count": 5,
     "metadata": {},
     "output_type": "execute_result"
    }
   ],
   "source": [
    "value_list = ['apartment','studio']\n",
    "df=df[df.type.isin(value_list)]\n",
    "df.type.unique()"
   ]
  },
  {
   "cell_type": "code",
   "execution_count": 6,
   "metadata": {},
   "outputs": [],
   "source": [
    "df=df.drop(columns='eircode')\n",
    "df=df.drop(columns='lattitude') \n",
    "df=df.drop(columns='longtitude')\n",
    "df=df.drop(columns='approx')\n",
    "df=df.drop(columns='number')\n",
    "df=df.drop(columns='address 1')\n",
    "df=df.drop(columns='address 2')\n",
    "df=df.drop(columns='address 3')\n",
    "df=df.drop(columns='lattitude eyre square')\n",
    "df=df.drop(columns='longtitude eyre square')\n",
    "df=df.drop(columns='latitude salthill')\n",
    "df=df.drop(columns='longtitude salthill')\n",
    "df=df.drop(columns='latitude collage')\n",
    "df=df.drop(columns='longtitude collage')\n",
    "df=df.drop(columns='latitude gmit')\n",
    "df=df.drop(columns='longtitude gmit')\n",
    "# thse change depending on the thing we're looking at \n",
    "df=df.drop(columns='type') \n",
    "df=df.drop(columns='connection') \n",
    "#df=df.drop(columns='balcony') "
   ]
  },
  {
   "cell_type": "code",
   "execution_count": 7,
   "metadata": {},
   "outputs": [
    {
     "data": {
      "text/plain": [
       "Distance Eyre Square     0\n",
       "Distance Salthill        0\n",
       "Distance NUIG            0\n",
       "Distance GMIT            0\n",
       "number of rooms          0\n",
       "number of bathrooms      0\n",
       "price per month          0\n",
       "BER                     11\n",
       "balcony                  2\n",
       "floor                   37\n",
       "heating                  4\n",
       "dtype: int64"
      ]
     },
     "execution_count": 7,
     "metadata": {},
     "output_type": "execute_result"
    }
   ],
   "source": [
    "df.isna().sum()"
   ]
  },
  {
   "cell_type": "code",
   "execution_count": 8,
   "metadata": {},
   "outputs": [
    {
     "data": {
      "text/html": [
       "<div>\n",
       "<style scoped>\n",
       "    .dataframe tbody tr th:only-of-type {\n",
       "        vertical-align: middle;\n",
       "    }\n",
       "\n",
       "    .dataframe tbody tr th {\n",
       "        vertical-align: top;\n",
       "    }\n",
       "\n",
       "    .dataframe thead th {\n",
       "        text-align: right;\n",
       "    }\n",
       "</style>\n",
       "<table border=\"1\" class=\"dataframe\">\n",
       "  <thead>\n",
       "    <tr style=\"text-align: right;\">\n",
       "      <th></th>\n",
       "      <th>Distance Eyre Square</th>\n",
       "      <th>Distance Salthill</th>\n",
       "      <th>Distance NUIG</th>\n",
       "      <th>Distance GMIT</th>\n",
       "      <th>number of rooms</th>\n",
       "      <th>number of bathrooms</th>\n",
       "      <th>price per month</th>\n",
       "      <th>BER</th>\n",
       "      <th>balcony</th>\n",
       "      <th>floor</th>\n",
       "      <th>heating</th>\n",
       "    </tr>\n",
       "  </thead>\n",
       "  <tbody>\n",
       "    <tr>\n",
       "      <th>1</th>\n",
       "      <td>5.586384</td>\n",
       "      <td>4.231058</td>\n",
       "      <td>4.789334</td>\n",
       "      <td>8.135066</td>\n",
       "      <td>1</td>\n",
       "      <td>1</td>\n",
       "      <td>850</td>\n",
       "      <td>c1</td>\n",
       "      <td>no</td>\n",
       "      <td>ground</td>\n",
       "      <td>central</td>\n",
       "    </tr>\n",
       "    <tr>\n",
       "      <th>3</th>\n",
       "      <td>1.922237</td>\n",
       "      <td>1.068662</td>\n",
       "      <td>1.296991</td>\n",
       "      <td>4.475861</td>\n",
       "      <td>1</td>\n",
       "      <td>1</td>\n",
       "      <td>850</td>\n",
       "      <td>NaN</td>\n",
       "      <td>no</td>\n",
       "      <td>ground</td>\n",
       "      <td>central</td>\n",
       "    </tr>\n",
       "    <tr>\n",
       "      <th>6</th>\n",
       "      <td>1.150220</td>\n",
       "      <td>0.751666</td>\n",
       "      <td>1.333127</td>\n",
       "      <td>3.533139</td>\n",
       "      <td>2</td>\n",
       "      <td>2</td>\n",
       "      <td>1500</td>\n",
       "      <td>c2</td>\n",
       "      <td>yes</td>\n",
       "      <td>second</td>\n",
       "      <td>electric</td>\n",
       "    </tr>\n",
       "    <tr>\n",
       "      <th>8</th>\n",
       "      <td>2.864960</td>\n",
       "      <td>4.719189</td>\n",
       "      <td>3.516732</td>\n",
       "      <td>0.914503</td>\n",
       "      <td>1</td>\n",
       "      <td>1</td>\n",
       "      <td>650</td>\n",
       "      <td>e1</td>\n",
       "      <td>no</td>\n",
       "      <td>ground</td>\n",
       "      <td>electric</td>\n",
       "    </tr>\n",
       "    <tr>\n",
       "      <th>9</th>\n",
       "      <td>0.837581</td>\n",
       "      <td>2.722612</td>\n",
       "      <td>1.565598</td>\n",
       "      <td>1.831316</td>\n",
       "      <td>2</td>\n",
       "      <td>1</td>\n",
       "      <td>1800</td>\n",
       "      <td>exempt</td>\n",
       "      <td>no</td>\n",
       "      <td>ground</td>\n",
       "      <td>central</td>\n",
       "    </tr>\n",
       "  </tbody>\n",
       "</table>\n",
       "</div>"
      ],
      "text/plain": [
       "   Distance Eyre Square  Distance Salthill  Distance NUIG  Distance GMIT  \\\n",
       "1              5.586384           4.231058       4.789334       8.135066   \n",
       "3              1.922237           1.068662       1.296991       4.475861   \n",
       "6              1.150220           0.751666       1.333127       3.533139   \n",
       "8              2.864960           4.719189       3.516732       0.914503   \n",
       "9              0.837581           2.722612       1.565598       1.831316   \n",
       "\n",
       "   number of rooms  number of bathrooms  price per month     BER balcony  \\\n",
       "1                1                    1              850      c1      no   \n",
       "3                1                    1              850     NaN      no   \n",
       "6                2                    2             1500      c2     yes   \n",
       "8                1                    1              650      e1      no   \n",
       "9                2                    1             1800  exempt      no   \n",
       "\n",
       "    floor   heating  \n",
       "1  ground   central  \n",
       "3  ground   central  \n",
       "6  second  electric  \n",
       "8  ground  electric  \n",
       "9  ground   central  "
      ]
     },
     "execution_count": 8,
     "metadata": {},
     "output_type": "execute_result"
    }
   ],
   "source": [
    "df.head()"
   ]
  },
  {
   "cell_type": "code",
   "execution_count": 9,
   "metadata": {},
   "outputs": [
    {
     "data": {
      "text/plain": [
       "array(['c1', nan, 'c2', 'e1', 'exempt', 'e2', 'c3', 'd2', 'd1', 'b3', 'f',\n",
       "       'b1', 'a3', 'a1', 'g'], dtype=object)"
      ]
     },
     "execution_count": 9,
     "metadata": {},
     "output_type": "execute_result"
    }
   ],
   "source": [
    "#take a look at columns\n",
    "df.BER.unique() "
   ]
  },
  {
   "cell_type": "code",
   "execution_count": 10,
   "metadata": {},
   "outputs": [
    {
     "data": {
      "text/plain": [
       "array(['central', 'electric', nan], dtype=object)"
      ]
     },
     "execution_count": 10,
     "metadata": {},
     "output_type": "execute_result"
    }
   ],
   "source": [
    "df.heating.unique() "
   ]
  },
  {
   "cell_type": "code",
   "execution_count": 11,
   "metadata": {},
   "outputs": [
    {
     "data": {
      "text/plain": [
       "array(['no', 'yes', nan], dtype=object)"
      ]
     },
     "execution_count": 11,
     "metadata": {},
     "output_type": "execute_result"
    }
   ],
   "source": [
    "df.balcony.unique()"
   ]
  },
  {
   "cell_type": "code",
   "execution_count": 12,
   "metadata": {},
   "outputs": [],
   "source": [
    "#only ber and heating has missing values \n",
    "df = df.dropna() #drop nan values , not removing 'na' values need to fix that "
   ]
  },
  {
   "cell_type": "code",
   "execution_count": 13,
   "metadata": {},
   "outputs": [
    {
     "data": {
      "text/plain": [
       "array(['central', 'electric'], dtype=object)"
      ]
     },
     "execution_count": 13,
     "metadata": {},
     "output_type": "execute_result"
    }
   ],
   "source": [
    "df.heating.unique()"
   ]
  },
  {
   "cell_type": "code",
   "execution_count": 15,
   "metadata": {},
   "outputs": [
    {
     "data": {
      "text/plain": [
       "array(['c1', 'c2', 'e1', 'exempt', 'e2', 'c3', 'd2', 'd1', 'b3', 'b1',\n",
       "       'f', 'a3', 'a1', 'g'], dtype=object)"
      ]
     },
     "execution_count": 15,
     "metadata": {},
     "output_type": "execute_result"
    }
   ],
   "source": [
    "df.BER.unique()"
   ]
  },
  {
   "cell_type": "code",
   "execution_count": 16,
   "metadata": {},
   "outputs": [
    {
     "data": {
      "image/png": "[encoded data removed]",
      "text/plain": [
       "<Figure size 1440x360 with 1 Axes>"
      ]
     },
     "metadata": {
      "needs_background": "light"
     },
     "output_type": "display_data"
    }
   ],
   "source": [
    "df.boxplot(figsize=(20,5))\n",
    "plt.show() #outliers, distance from salthill, number of rooms and number of baths, should consider removing those "
   ]
  },
  {
   "cell_type": "code",
   "execution_count": 17,
   "metadata": {},
   "outputs": [
    {
     "data": {
      "image/png": "[encoded data removed]",
      "text/plain": [
       "<Figure size 432x288 with 1 Axes>"
      ]
     },
     "metadata": {
      "needs_background": "light"
     },
     "output_type": "display_data"
    }
   ],
   "source": [
    "df.boxplot(column='number of rooms')\n",
    "plt.show()"
   ]
  },
  {
   "cell_type": "markdown",
   "metadata": {},
   "source": [
    "4 room apartment is showing as an outlier "
   ]
  },
  {
   "cell_type": "code",
   "execution_count": 18,
   "metadata": {},
   "outputs": [
    {
     "data": {
      "text/html": [
       "<div>\n",
       "<style scoped>\n",
       "    .dataframe tbody tr th:only-of-type {\n",
       "        vertical-align: middle;\n",
       "    }\n",
       "\n",
       "    .dataframe tbody tr th {\n",
       "        vertical-align: top;\n",
       "    }\n",
       "\n",
       "    .dataframe thead th {\n",
       "        text-align: right;\n",
       "    }\n",
       "</style>\n",
       "<table border=\"1\" class=\"dataframe\">\n",
       "  <thead>\n",
       "    <tr style=\"text-align: right;\">\n",
       "      <th></th>\n",
       "      <th>Distance Eyre Square</th>\n",
       "      <th>Distance Salthill</th>\n",
       "      <th>Distance NUIG</th>\n",
       "      <th>Distance GMIT</th>\n",
       "      <th>number of rooms</th>\n",
       "      <th>number of bathrooms</th>\n",
       "      <th>price per month</th>\n",
       "    </tr>\n",
       "  </thead>\n",
       "  <tbody>\n",
       "    <tr>\n",
       "      <th>count</th>\n",
       "      <td>196.000000</td>\n",
       "      <td>196.000000</td>\n",
       "      <td>196.000000</td>\n",
       "      <td>196.000000</td>\n",
       "      <td>196.000000</td>\n",
       "      <td>196.000000</td>\n",
       "      <td>196.000000</td>\n",
       "    </tr>\n",
       "    <tr>\n",
       "      <th>mean</th>\n",
       "      <td>2.156983</td>\n",
       "      <td>2.680707</td>\n",
       "      <td>2.307608</td>\n",
       "      <td>3.254004</td>\n",
       "      <td>1.867347</td>\n",
       "      <td>1.484694</td>\n",
       "      <td>1356.693878</td>\n",
       "    </tr>\n",
       "    <tr>\n",
       "      <th>std</th>\n",
       "      <td>1.456978</td>\n",
       "      <td>1.817983</td>\n",
       "      <td>1.534960</td>\n",
       "      <td>1.652991</td>\n",
       "      <td>0.634686</td>\n",
       "      <td>0.585964</td>\n",
       "      <td>356.217059</td>\n",
       "    </tr>\n",
       "    <tr>\n",
       "      <th>min</th>\n",
       "      <td>0.137772</td>\n",
       "      <td>0.099173</td>\n",
       "      <td>0.325498</td>\n",
       "      <td>0.426744</td>\n",
       "      <td>1.000000</td>\n",
       "      <td>1.000000</td>\n",
       "      <td>650.000000</td>\n",
       "    </tr>\n",
       "    <tr>\n",
       "      <th>25%</th>\n",
       "      <td>0.954541</td>\n",
       "      <td>1.239299</td>\n",
       "      <td>1.078918</td>\n",
       "      <td>2.127786</td>\n",
       "      <td>1.000000</td>\n",
       "      <td>1.000000</td>\n",
       "      <td>1116.750000</td>\n",
       "    </tr>\n",
       "    <tr>\n",
       "      <th>50%</th>\n",
       "      <td>1.740680</td>\n",
       "      <td>2.260360</td>\n",
       "      <td>1.722920</td>\n",
       "      <td>2.898607</td>\n",
       "      <td>2.000000</td>\n",
       "      <td>1.000000</td>\n",
       "      <td>1300.000000</td>\n",
       "    </tr>\n",
       "    <tr>\n",
       "      <th>75%</th>\n",
       "      <td>3.051234</td>\n",
       "      <td>3.716152</td>\n",
       "      <td>3.219318</td>\n",
       "      <td>4.278643</td>\n",
       "      <td>2.000000</td>\n",
       "      <td>2.000000</td>\n",
       "      <td>1500.000000</td>\n",
       "    </tr>\n",
       "    <tr>\n",
       "      <th>max</th>\n",
       "      <td>5.586384</td>\n",
       "      <td>7.003994</td>\n",
       "      <td>6.307277</td>\n",
       "      <td>8.135066</td>\n",
       "      <td>4.000000</td>\n",
       "      <td>3.000000</td>\n",
       "      <td>2825.000000</td>\n",
       "    </tr>\n",
       "  </tbody>\n",
       "</table>\n",
       "</div>"
      ],
      "text/plain": [
       "       Distance Eyre Square  Distance Salthill  Distance NUIG  Distance GMIT  \\\n",
       "count            196.000000         196.000000     196.000000     196.000000   \n",
       "mean               2.156983           2.680707       2.307608       3.254004   \n",
       "std                1.456978           1.817983       1.534960       1.652991   \n",
       "min                0.137772           0.099173       0.325498       0.426744   \n",
       "25%                0.954541           1.239299       1.078918       2.127786   \n",
       "50%                1.740680           2.260360       1.722920       2.898607   \n",
       "75%                3.051234           3.716152       3.219318       4.278643   \n",
       "max                5.586384           7.003994       6.307277       8.135066   \n",
       "\n",
       "       number of rooms  number of bathrooms  price per month  \n",
       "count       196.000000           196.000000       196.000000  \n",
       "mean          1.867347             1.484694      1356.693878  \n",
       "std           0.634686             0.585964       356.217059  \n",
       "min           1.000000             1.000000       650.000000  \n",
       "25%           1.000000             1.000000      1116.750000  \n",
       "50%           2.000000             1.000000      1300.000000  \n",
       "75%           2.000000             2.000000      1500.000000  \n",
       "max           4.000000             3.000000      2825.000000  "
      ]
     },
     "execution_count": 18,
     "metadata": {},
     "output_type": "execute_result"
    }
   ],
   "source": [
    "df.describe()"
   ]
  },
  {
   "cell_type": "code",
   "execution_count": 19,
   "metadata": {},
   "outputs": [
    {
     "data": {
      "text/html": [
       "<div>\n",
       "<style scoped>\n",
       "    .dataframe tbody tr th:only-of-type {\n",
       "        vertical-align: middle;\n",
       "    }\n",
       "\n",
       "    .dataframe tbody tr th {\n",
       "        vertical-align: top;\n",
       "    }\n",
       "\n",
       "    .dataframe thead th {\n",
       "        text-align: right;\n",
       "    }\n",
       "</style>\n",
       "<table border=\"1\" class=\"dataframe\">\n",
       "  <thead>\n",
       "    <tr style=\"text-align: right;\">\n",
       "      <th></th>\n",
       "      <th>Distance Eyre Square</th>\n",
       "      <th>Distance Salthill</th>\n",
       "      <th>Distance NUIG</th>\n",
       "      <th>Distance GMIT</th>\n",
       "      <th>number of rooms</th>\n",
       "      <th>number of bathrooms</th>\n",
       "      <th>price per month</th>\n",
       "      <th>BER</th>\n",
       "      <th>balcony</th>\n",
       "      <th>floor</th>\n",
       "      <th>heating</th>\n",
       "    </tr>\n",
       "  </thead>\n",
       "  <tbody>\n",
       "    <tr>\n",
       "      <th>386</th>\n",
       "      <td>2.638566</td>\n",
       "      <td>4.520756</td>\n",
       "      <td>3.014600</td>\n",
       "      <td>1.751473</td>\n",
       "      <td>1</td>\n",
       "      <td>1</td>\n",
       "      <td>950</td>\n",
       "      <td>10</td>\n",
       "      <td>no</td>\n",
       "      <td>ground</td>\n",
       "      <td>electric</td>\n",
       "    </tr>\n",
       "    <tr>\n",
       "      <th>389</th>\n",
       "      <td>0.991533</td>\n",
       "      <td>1.500987</td>\n",
       "      <td>0.327196</td>\n",
       "      <td>3.504046</td>\n",
       "      <td>2</td>\n",
       "      <td>2</td>\n",
       "      <td>2000</td>\n",
       "      <td>7</td>\n",
       "      <td>no</td>\n",
       "      <td>second</td>\n",
       "      <td>central</td>\n",
       "    </tr>\n",
       "    <tr>\n",
       "      <th>392</th>\n",
       "      <td>1.398883</td>\n",
       "      <td>0.528898</td>\n",
       "      <td>1.540958</td>\n",
       "      <td>3.739695</td>\n",
       "      <td>1</td>\n",
       "      <td>1</td>\n",
       "      <td>920</td>\n",
       "      <td>4</td>\n",
       "      <td>no</td>\n",
       "      <td>ground</td>\n",
       "      <td>electric</td>\n",
       "    </tr>\n",
       "    <tr>\n",
       "      <th>393</th>\n",
       "      <td>5.087938</td>\n",
       "      <td>6.748020</td>\n",
       "      <td>5.912348</td>\n",
       "      <td>2.534640</td>\n",
       "      <td>1</td>\n",
       "      <td>1</td>\n",
       "      <td>810</td>\n",
       "      <td>0</td>\n",
       "      <td>no</td>\n",
       "      <td>first</td>\n",
       "      <td>central</td>\n",
       "    </tr>\n",
       "    <tr>\n",
       "      <th>394</th>\n",
       "      <td>4.670141</td>\n",
       "      <td>6.348894</td>\n",
       "      <td>5.487608</td>\n",
       "      <td>2.116635</td>\n",
       "      <td>2</td>\n",
       "      <td>1</td>\n",
       "      <td>1136</td>\n",
       "      <td>5</td>\n",
       "      <td>no</td>\n",
       "      <td>ground</td>\n",
       "      <td>electric</td>\n",
       "    </tr>\n",
       "  </tbody>\n",
       "</table>\n",
       "</div>"
      ],
      "text/plain": [
       "     Distance Eyre Square  Distance Salthill  Distance NUIG  Distance GMIT  \\\n",
       "386              2.638566           4.520756       3.014600       1.751473   \n",
       "389              0.991533           1.500987       0.327196       3.504046   \n",
       "392              1.398883           0.528898       1.540958       3.739695   \n",
       "393              5.087938           6.748020       5.912348       2.534640   \n",
       "394              4.670141           6.348894       5.487608       2.116635   \n",
       "\n",
       "     number of rooms  number of bathrooms  price per month  BER balcony  \\\n",
       "386                1                    1              950   10      no   \n",
       "389                2                    2             2000    7      no   \n",
       "392                1                    1              920    4      no   \n",
       "393                1                    1              810    0      no   \n",
       "394                2                    1             1136    5      no   \n",
       "\n",
       "      floor   heating  \n",
       "386  ground  electric  \n",
       "389  second   central  \n",
       "392  ground  electric  \n",
       "393   first   central  \n",
       "394  ground  electric  "
      ]
     },
     "execution_count": 19,
     "metadata": {},
     "output_type": "execute_result"
    }
   ],
   "source": [
    "scale_mapper = {\n",
    "    \"a1\":15,\n",
    "    \"a2\":14,\n",
    "    \"a3\":13,\n",
    "    \"b1\":12,\n",
    "    \"b2\":11,\n",
    "    \"b3\":10,\n",
    "    \"c1\":9,\n",
    "    \"c2\":8,\n",
    "    \"c3\":7,\n",
    "    \"d1\":6,\n",
    "    \"d2\":5,\n",
    "    \"e1\":4,\n",
    "    \"e2\":3,\n",
    "    \"f\":2,\n",
    "    \"g\":1,\n",
    "    \"exempt\":0\n",
    "}\n",
    "\n",
    "df['BER'] = df['BER'].replace(scale_mapper)\n",
    "\n",
    "df.tail()\n"
   ]
  },
  {
   "cell_type": "code",
   "execution_count": 20,
   "metadata": {},
   "outputs": [
    {
     "data": {
      "text/html": [
       "<div>\n",
       "<style scoped>\n",
       "    .dataframe tbody tr th:only-of-type {\n",
       "        vertical-align: middle;\n",
       "    }\n",
       "\n",
       "    .dataframe tbody tr th {\n",
       "        vertical-align: top;\n",
       "    }\n",
       "\n",
       "    .dataframe thead th {\n",
       "        text-align: right;\n",
       "    }\n",
       "</style>\n",
       "<table border=\"1\" class=\"dataframe\">\n",
       "  <thead>\n",
       "    <tr style=\"text-align: right;\">\n",
       "      <th></th>\n",
       "      <th>Distance Eyre Square</th>\n",
       "      <th>Distance Salthill</th>\n",
       "      <th>Distance NUIG</th>\n",
       "      <th>Distance GMIT</th>\n",
       "      <th>number of rooms</th>\n",
       "      <th>number of bathrooms</th>\n",
       "      <th>price per month</th>\n",
       "      <th>BER</th>\n",
       "      <th>floor</th>\n",
       "      <th>balcony_no</th>\n",
       "      <th>balcony_yes</th>\n",
       "      <th>heating_central</th>\n",
       "      <th>heating_electric</th>\n",
       "    </tr>\n",
       "  </thead>\n",
       "  <tbody>\n",
       "    <tr>\n",
       "      <th>386</th>\n",
       "      <td>2.638566</td>\n",
       "      <td>4.520756</td>\n",
       "      <td>3.014600</td>\n",
       "      <td>1.751473</td>\n",
       "      <td>1</td>\n",
       "      <td>1</td>\n",
       "      <td>950</td>\n",
       "      <td>10</td>\n",
       "      <td>ground</td>\n",
       "      <td>1</td>\n",
       "      <td>0</td>\n",
       "      <td>0</td>\n",
       "      <td>1</td>\n",
       "    </tr>\n",
       "    <tr>\n",
       "      <th>389</th>\n",
       "      <td>0.991533</td>\n",
       "      <td>1.500987</td>\n",
       "      <td>0.327196</td>\n",
       "      <td>3.504046</td>\n",
       "      <td>2</td>\n",
       "      <td>2</td>\n",
       "      <td>2000</td>\n",
       "      <td>7</td>\n",
       "      <td>second</td>\n",
       "      <td>1</td>\n",
       "      <td>0</td>\n",
       "      <td>1</td>\n",
       "      <td>0</td>\n",
       "    </tr>\n",
       "    <tr>\n",
       "      <th>392</th>\n",
       "      <td>1.398883</td>\n",
       "      <td>0.528898</td>\n",
       "      <td>1.540958</td>\n",
       "      <td>3.739695</td>\n",
       "      <td>1</td>\n",
       "      <td>1</td>\n",
       "      <td>920</td>\n",
       "      <td>4</td>\n",
       "      <td>ground</td>\n",
       "      <td>1</td>\n",
       "      <td>0</td>\n",
       "      <td>0</td>\n",
       "      <td>1</td>\n",
       "    </tr>\n",
       "    <tr>\n",
       "      <th>393</th>\n",
       "      <td>5.087938</td>\n",
       "      <td>6.748020</td>\n",
       "      <td>5.912348</td>\n",
       "      <td>2.534640</td>\n",
       "      <td>1</td>\n",
       "      <td>1</td>\n",
       "      <td>810</td>\n",
       "      <td>0</td>\n",
       "      <td>first</td>\n",
       "      <td>1</td>\n",
       "      <td>0</td>\n",
       "      <td>1</td>\n",
       "      <td>0</td>\n",
       "    </tr>\n",
       "    <tr>\n",
       "      <th>394</th>\n",
       "      <td>4.670141</td>\n",
       "      <td>6.348894</td>\n",
       "      <td>5.487608</td>\n",
       "      <td>2.116635</td>\n",
       "      <td>2</td>\n",
       "      <td>1</td>\n",
       "      <td>1136</td>\n",
       "      <td>5</td>\n",
       "      <td>ground</td>\n",
       "      <td>1</td>\n",
       "      <td>0</td>\n",
       "      <td>0</td>\n",
       "      <td>1</td>\n",
       "    </tr>\n",
       "  </tbody>\n",
       "</table>\n",
       "</div>"
      ],
      "text/plain": [
       "     Distance Eyre Square  Distance Salthill  Distance NUIG  Distance GMIT  \\\n",
       "386              2.638566           4.520756       3.014600       1.751473   \n",
       "389              0.991533           1.500987       0.327196       3.504046   \n",
       "392              1.398883           0.528898       1.540958       3.739695   \n",
       "393              5.087938           6.748020       5.912348       2.534640   \n",
       "394              4.670141           6.348894       5.487608       2.116635   \n",
       "\n",
       "     number of rooms  number of bathrooms  price per month  BER   floor  \\\n",
       "386                1                    1              950   10  ground   \n",
       "389                2                    2             2000    7  second   \n",
       "392                1                    1              920    4  ground   \n",
       "393                1                    1              810    0   first   \n",
       "394                2                    1             1136    5  ground   \n",
       "\n",
       "     balcony_no  balcony_yes  heating_central  heating_electric  \n",
       "386           1            0                0                 1  \n",
       "389           1            0                1                 0  \n",
       "392           1            0                0                 1  \n",
       "393           1            0                1                 0  \n",
       "394           1            0                0                 1  "
      ]
     },
     "execution_count": 20,
     "metadata": {},
     "output_type": "execute_result"
    }
   ],
   "source": [
    "df = pd.get_dummies(df, columns=[ 'balcony','heating'])\n",
    "df.tail()\n",
    "\n",
    "#this gives us dummy variables for the categorical columns remaining, for mext run might be worth removing the balcony when examing both"
   ]
  },
  {
   "cell_type": "code",
   "execution_count": 21,
   "metadata": {},
   "outputs": [],
   "source": [
    "del df['balcony_no']"
   ]
  },
  {
   "cell_type": "code",
   "execution_count": 22,
   "metadata": {},
   "outputs": [],
   "source": [
    "del df['heating_central']"
   ]
  },
  {
   "cell_type": "code",
   "execution_count": 23,
   "metadata": {},
   "outputs": [
    {
     "data": {
      "text/html": [
       "<div>\n",
       "<style scoped>\n",
       "    .dataframe tbody tr th:only-of-type {\n",
       "        vertical-align: middle;\n",
       "    }\n",
       "\n",
       "    .dataframe tbody tr th {\n",
       "        vertical-align: top;\n",
       "    }\n",
       "\n",
       "    .dataframe thead th {\n",
       "        text-align: right;\n",
       "    }\n",
       "</style>\n",
       "<table border=\"1\" class=\"dataframe\">\n",
       "  <thead>\n",
       "    <tr style=\"text-align: right;\">\n",
       "      <th></th>\n",
       "      <th>Distance Eyre Square</th>\n",
       "      <th>Distance Salthill</th>\n",
       "      <th>Distance NUIG</th>\n",
       "      <th>Distance GMIT</th>\n",
       "      <th>number of rooms</th>\n",
       "      <th>number of bathrooms</th>\n",
       "      <th>price per month</th>\n",
       "      <th>BER</th>\n",
       "      <th>floor</th>\n",
       "      <th>balcony_yes</th>\n",
       "      <th>heating_electric</th>\n",
       "    </tr>\n",
       "  </thead>\n",
       "  <tbody>\n",
       "    <tr>\n",
       "      <th>1</th>\n",
       "      <td>5.586384</td>\n",
       "      <td>4.231058</td>\n",
       "      <td>4.789334</td>\n",
       "      <td>8.135066</td>\n",
       "      <td>1</td>\n",
       "      <td>1</td>\n",
       "      <td>850</td>\n",
       "      <td>9</td>\n",
       "      <td>ground</td>\n",
       "      <td>0</td>\n",
       "      <td>0</td>\n",
       "    </tr>\n",
       "    <tr>\n",
       "      <th>6</th>\n",
       "      <td>1.150220</td>\n",
       "      <td>0.751666</td>\n",
       "      <td>1.333127</td>\n",
       "      <td>3.533139</td>\n",
       "      <td>2</td>\n",
       "      <td>2</td>\n",
       "      <td>1500</td>\n",
       "      <td>8</td>\n",
       "      <td>second</td>\n",
       "      <td>1</td>\n",
       "      <td>1</td>\n",
       "    </tr>\n",
       "    <tr>\n",
       "      <th>8</th>\n",
       "      <td>2.864960</td>\n",
       "      <td>4.719189</td>\n",
       "      <td>3.516732</td>\n",
       "      <td>0.914503</td>\n",
       "      <td>1</td>\n",
       "      <td>1</td>\n",
       "      <td>650</td>\n",
       "      <td>4</td>\n",
       "      <td>ground</td>\n",
       "      <td>0</td>\n",
       "      <td>1</td>\n",
       "    </tr>\n",
       "    <tr>\n",
       "      <th>9</th>\n",
       "      <td>0.837581</td>\n",
       "      <td>2.722612</td>\n",
       "      <td>1.565598</td>\n",
       "      <td>1.831316</td>\n",
       "      <td>2</td>\n",
       "      <td>1</td>\n",
       "      <td>1800</td>\n",
       "      <td>0</td>\n",
       "      <td>ground</td>\n",
       "      <td>0</td>\n",
       "      <td>0</td>\n",
       "    </tr>\n",
       "    <tr>\n",
       "      <th>11</th>\n",
       "      <td>2.946082</td>\n",
       "      <td>4.831689</td>\n",
       "      <td>3.334770</td>\n",
       "      <td>1.808406</td>\n",
       "      <td>1</td>\n",
       "      <td>1</td>\n",
       "      <td>1000</td>\n",
       "      <td>0</td>\n",
       "      <td>ground</td>\n",
       "      <td>0</td>\n",
       "      <td>0</td>\n",
       "    </tr>\n",
       "  </tbody>\n",
       "</table>\n",
       "</div>"
      ],
      "text/plain": [
       "    Distance Eyre Square  Distance Salthill  Distance NUIG  Distance GMIT  \\\n",
       "1               5.586384           4.231058       4.789334       8.135066   \n",
       "6               1.150220           0.751666       1.333127       3.533139   \n",
       "8               2.864960           4.719189       3.516732       0.914503   \n",
       "9               0.837581           2.722612       1.565598       1.831316   \n",
       "11              2.946082           4.831689       3.334770       1.808406   \n",
       "\n",
       "    number of rooms  number of bathrooms  price per month  BER   floor  \\\n",
       "1                 1                    1              850    9  ground   \n",
       "6                 2                    2             1500    8  second   \n",
       "8                 1                    1              650    4  ground   \n",
       "9                 2                    1             1800    0  ground   \n",
       "11                1                    1             1000    0  ground   \n",
       "\n",
       "    balcony_yes  heating_electric  \n",
       "1             0                 0  \n",
       "6             1                 1  \n",
       "8             0                 1  \n",
       "9             0                 0  \n",
       "11            0                 0  "
      ]
     },
     "execution_count": 23,
     "metadata": {},
     "output_type": "execute_result"
    }
   ],
   "source": [
    "df.head()\n"
   ]
  },
  {
   "cell_type": "code",
   "execution_count": 24,
   "metadata": {},
   "outputs": [
    {
     "data": {
      "image/png": "[encoded data removed]",
      "text/plain": [
       "<Figure size 1440x360 with 1 Axes>"
      ]
     },
     "metadata": {
      "needs_background": "light"
     },
     "output_type": "display_data"
    }
   ],
   "source": [
    "df.boxplot(figsize=(20,5))\n",
    "plt.show()"
   ]
  },
  {
   "cell_type": "code",
   "execution_count": 25,
   "metadata": {},
   "outputs": [
    {
     "data": {
      "text/html": [
       "<div>\n",
       "<style scoped>\n",
       "    .dataframe tbody tr th:only-of-type {\n",
       "        vertical-align: middle;\n",
       "    }\n",
       "\n",
       "    .dataframe tbody tr th {\n",
       "        vertical-align: top;\n",
       "    }\n",
       "\n",
       "    .dataframe thead th {\n",
       "        text-align: right;\n",
       "    }\n",
       "</style>\n",
       "<table border=\"1\" class=\"dataframe\">\n",
       "  <thead>\n",
       "    <tr style=\"text-align: right;\">\n",
       "      <th></th>\n",
       "      <th>Distance Eyre Square</th>\n",
       "      <th>Distance Salthill</th>\n",
       "      <th>Distance NUIG</th>\n",
       "      <th>Distance GMIT</th>\n",
       "      <th>number of rooms</th>\n",
       "      <th>number of bathrooms</th>\n",
       "      <th>price per month</th>\n",
       "      <th>BER</th>\n",
       "      <th>floor</th>\n",
       "      <th>balcony_yes</th>\n",
       "      <th>heating_electric</th>\n",
       "    </tr>\n",
       "  </thead>\n",
       "  <tbody>\n",
       "    <tr>\n",
       "      <th>386</th>\n",
       "      <td>2.638566</td>\n",
       "      <td>4.520756</td>\n",
       "      <td>3.014600</td>\n",
       "      <td>1.751473</td>\n",
       "      <td>1</td>\n",
       "      <td>1</td>\n",
       "      <td>950</td>\n",
       "      <td>10</td>\n",
       "      <td>0</td>\n",
       "      <td>0</td>\n",
       "      <td>1</td>\n",
       "    </tr>\n",
       "    <tr>\n",
       "      <th>389</th>\n",
       "      <td>0.991533</td>\n",
       "      <td>1.500987</td>\n",
       "      <td>0.327196</td>\n",
       "      <td>3.504046</td>\n",
       "      <td>2</td>\n",
       "      <td>2</td>\n",
       "      <td>2000</td>\n",
       "      <td>7</td>\n",
       "      <td>2</td>\n",
       "      <td>0</td>\n",
       "      <td>0</td>\n",
       "    </tr>\n",
       "    <tr>\n",
       "      <th>392</th>\n",
       "      <td>1.398883</td>\n",
       "      <td>0.528898</td>\n",
       "      <td>1.540958</td>\n",
       "      <td>3.739695</td>\n",
       "      <td>1</td>\n",
       "      <td>1</td>\n",
       "      <td>920</td>\n",
       "      <td>4</td>\n",
       "      <td>0</td>\n",
       "      <td>0</td>\n",
       "      <td>1</td>\n",
       "    </tr>\n",
       "    <tr>\n",
       "      <th>393</th>\n",
       "      <td>5.087938</td>\n",
       "      <td>6.748020</td>\n",
       "      <td>5.912348</td>\n",
       "      <td>2.534640</td>\n",
       "      <td>1</td>\n",
       "      <td>1</td>\n",
       "      <td>810</td>\n",
       "      <td>0</td>\n",
       "      <td>1</td>\n",
       "      <td>0</td>\n",
       "      <td>0</td>\n",
       "    </tr>\n",
       "    <tr>\n",
       "      <th>394</th>\n",
       "      <td>4.670141</td>\n",
       "      <td>6.348894</td>\n",
       "      <td>5.487608</td>\n",
       "      <td>2.116635</td>\n",
       "      <td>2</td>\n",
       "      <td>1</td>\n",
       "      <td>1136</td>\n",
       "      <td>5</td>\n",
       "      <td>0</td>\n",
       "      <td>0</td>\n",
       "      <td>1</td>\n",
       "    </tr>\n",
       "  </tbody>\n",
       "</table>\n",
       "</div>"
      ],
      "text/plain": [
       "     Distance Eyre Square  Distance Salthill  Distance NUIG  Distance GMIT  \\\n",
       "386              2.638566           4.520756       3.014600       1.751473   \n",
       "389              0.991533           1.500987       0.327196       3.504046   \n",
       "392              1.398883           0.528898       1.540958       3.739695   \n",
       "393              5.087938           6.748020       5.912348       2.534640   \n",
       "394              4.670141           6.348894       5.487608       2.116635   \n",
       "\n",
       "     number of rooms  number of bathrooms  price per month  BER  floor  \\\n",
       "386                1                    1              950   10      0   \n",
       "389                2                    2             2000    7      2   \n",
       "392                1                    1              920    4      0   \n",
       "393                1                    1              810    0      1   \n",
       "394                2                    1             1136    5      0   \n",
       "\n",
       "     balcony_yes  heating_electric  \n",
       "386            0                 1  \n",
       "389            0                 0  \n",
       "392            0                 1  \n",
       "393            0                 0  \n",
       "394            0                 1  "
      ]
     },
     "execution_count": 25,
     "metadata": {},
     "output_type": "execute_result"
    }
   ],
   "source": [
    "scale_mapper = {\n",
    "    \"ground\":0,\n",
    "    \"first\":1,\n",
    "    \"second\":2,\n",
    "    \"third\":3,\n",
    "    \"fourth\":4,\n",
    "    \"fifth\":5\n",
    "}\n",
    "\n",
    "df['floor'] = df['floor'].replace(scale_mapper)\n",
    "\n",
    "df.tail()"
   ]
  },
  {
   "cell_type": "code",
   "execution_count": 26,
   "metadata": {},
   "outputs": [],
   "source": [
    "standard_scaler = StandardScaler()\n",
    "df[['Distance Eyre Square',\n",
    "    'Distance Salthill','Distance NUIG','Distance GMIT','number of rooms','number of bathrooms','BER']] = standard_scaler.fit_transform(df[['Distance Eyre Square',\n",
    "    'Distance Salthill','Distance NUIG','Distance GMIT','number of rooms','number of bathrooms','BER']])\n",
    "\n",
    "#can this handle negative values?? not sure might need to use a different method "
   ]
  },
  {
   "cell_type": "code",
   "execution_count": 27,
   "metadata": {},
   "outputs": [],
   "source": [
    "df['floor'] = df['floor']/5"
   ]
  },
  {
   "cell_type": "code",
   "execution_count": 28,
   "metadata": {},
   "outputs": [],
   "source": [
    "y = df['price per month']\n",
    "X = df.drop('price per month', axis=1).values\n",
    "\n",
    "#y=y1.to_csv(header=None, index=False)\n",
    "#X=X1.to_csv(header=None, index=False)\n",
    "\n",
    "X_train, X_test, y_train, y_test = train_test_split(X, y, test_size=0.2, shuffle=True)"
   ]
  },
  {
   "cell_type": "code",
   "execution_count": 29,
   "metadata": {},
   "outputs": [
    {
     "data": {
      "text/plain": [
       "196     930\n",
       "201    1400\n",
       "210    1370\n",
       "105    1300\n",
       "273     900\n",
       "Name: price per month, dtype: int64"
      ]
     },
     "execution_count": 29,
     "metadata": {},
     "output_type": "execute_result"
    }
   ],
   "source": [
    "y_test.head()"
   ]
  },
  {
   "cell_type": "code",
   "execution_count": 30,
   "metadata": {},
   "outputs": [],
   "source": [
    "#Import Random Forest Model\n",
    "from sklearn.ensemble import RandomForestClassifier\n",
    "\n",
    "#Create a Gaussian Classifier\n",
    "clf=RandomForestRegressor(n_estimators=200)\n",
    "\n",
    "#Train the model using the training sets y_pred=clf.predict(X_test)\n",
    "clf.fit(X_train,y_train)\n",
    "\n",
    "y_pred=clf.predict(X_test)"
   ]
  },
  {
   "cell_type": "code",
   "execution_count": 31,
   "metadata": {},
   "outputs": [
    {
     "data": {
      "text/plain": [
       "RandomForestRegressor(bootstrap=True, ccp_alpha=0.0, criterion='gini',\n",
       "                      max_depth=None, max_features='auto', max_leaf_nodes=None,\n",
       "                      max_samples=None, min_impurity_decrease=0.0,\n",
       "                      min_impurity_split=None, min_samples_leaf=1,\n",
       "                      min_samples_split=2, min_weight_fraction_leaf=0.0,\n",
       "                      n_estimators=100, n_jobs=1, oob_score=False,\n",
       "                      random_state=None, verbose=0, warm_start=False)"
      ]
     },
     "execution_count": 31,
     "metadata": {},
     "output_type": "execute_result"
    }
   ],
   "source": [
    "RandomForestRegressor(bootstrap=True, criterion='gini',\n",
    "            max_depth=None, max_features='auto', max_leaf_nodes=None,\n",
    "            min_impurity_decrease=0.0, min_impurity_split=None,\n",
    "            min_samples_leaf=1, min_samples_split=2,\n",
    "            min_weight_fraction_leaf=0.0, n_estimators=100, n_jobs=1,\n",
    "            oob_score=False, random_state=None, verbose=0,\n",
    "            warm_start=False)\n"
   ]
  },
  {
   "cell_type": "code",
   "execution_count": 32,
   "metadata": {},
   "outputs": [
    {
     "data": {
      "text/plain": [
       "number of rooms         0.330027\n",
       "Distance NUIG           0.183214\n",
       "Distance Salthill       0.155156\n",
       "number of bathrooms     0.080755\n",
       "Distance Eyre Square    0.066604\n",
       "Distance GMIT           0.061453\n",
       "BER                     0.047046\n",
       "floor                   0.032752\n",
       "heating_electric        0.028530\n",
       "balcony_yes             0.014464\n",
       "dtype: float64"
      ]
     },
     "execution_count": 32,
     "metadata": {},
     "output_type": "execute_result"
    }
   ],
   "source": [
    "import pandas as pd\n",
    "feature_imp = pd.Series(clf.feature_importances_,index=df.drop('price per month', axis=1).columns).sort_values(ascending=False)\n",
    "feature_imp"
   ]
  },
  {
   "cell_type": "code",
   "execution_count": 33,
   "metadata": {},
   "outputs": [
    {
     "name": "stderr",
     "output_type": "stream",
     "text": [
      "No handles with labels found to put in legend.\n"
     ]
    },
    {
     "data": {
      "image/png": "[encoded data removed]",
      "text/plain": [
       "<Figure size 432x288 with 1 Axes>"
      ]
     },
     "metadata": {
      "needs_background": "light"
     },
     "output_type": "display_data"
    }
   ],
   "source": [
    "import matplotlib.pyplot as plt\n",
    "import seaborn as sns\n",
    "%matplotlib inline\n",
    "# Creating a bar plot\n",
    "sns.barplot(x=feature_imp, y=feature_imp.index)\n",
    "# Add labels to your graph\n",
    "plt.xlabel('Feature Importance Score')\n",
    "plt.ylabel('Features')\n",
    "plt.title(\"Visualizing Important Features\")\n",
    "plt.legend()\n",
    "plt.show()"
   ]
  },
  {
   "cell_type": "code",
   "execution_count": 34,
   "metadata": {},
   "outputs": [
    {
     "name": "stdout",
     "output_type": "stream",
     "text": [
      "R2: 0.5905986761314088\n"
     ]
    }
   ],
   "source": [
    "from sklearn.ensemble import RandomForestClassifier\n",
    "\n",
    "#Create a Gaussian Classifier\n",
    "clf=RandomForestRegressor(n_estimators=350)\n",
    "\n",
    "#Train the model using the training sets y_pred=clf.predict(X_test)\n",
    "clf.fit(X_train,y_train)\n",
    "\n",
    "# prediction on test set\n",
    "y_pred=clf.predict(X_test)\n",
    "\n",
    "#Import scikit-learn metrics module for accuracy calculation\n",
    "from sklearn import metrics\n",
    "# Model Accuracy, how often is the classifier correct?\n",
    "print(\"R2:\",metrics.r2_score(y_test, y_pred))"
   ]
  },
  {
   "cell_type": "code",
   "execution_count": 35,
   "metadata": {},
   "outputs": [],
   "source": [
    "def rmse(y_true, y_pred):\n",
    "    '''\n",
    "    Compute Root Mean Square Percentage Error between two arrays.\n",
    "    '''\n",
    "    loss = np.sqrt(np.mean(np.square(((y_true - y_pred) / y_true)), axis=0))*100\n",
    "\n",
    "    return loss"
   ]
  },
  {
   "cell_type": "code",
   "execution_count": 36,
   "metadata": {},
   "outputs": [
    {
     "name": "stdout",
     "output_type": "stream",
     "text": [
      "R2: 0.5905986761314088\n",
      "Root Mean Squared Error: 217.49969482472954\n",
      "Root Mean Square Percentage Error: 14.451284019373489\n"
     ]
    }
   ],
   "source": [
    "from sklearn import metrics\n",
    "print(\"R2:\",metrics.r2_score(y_test, y_pred))\n",
    "#print('Mean Absolute Error:', metrics.mean_absolute_error(y_test, y_pred))\n",
    "#print('Mean Squared Error:', metrics.mean_squared_error(y_test, y_pred))\n",
    "print('Root Mean Squared Error:', np.sqrt(metrics.mean_squared_error(y_test, y_pred)))\n",
    "print('Root Mean Square Percentage Error:', rmse(y_test, y_pred))\n"
   ]
  },
  {
   "cell_type": "markdown",
   "metadata": {},
   "source": [
    "R2: 0.5677830457977167\n",
    "Mean Absolute Error: 203.86600985221676\n",
    "Mean Squared Error: 83196.48560056301\n",
    "Root Mean Squared Error: 288.43800997885666\n",
    "\n",
    "\n",
    "still not as good as the linear regression in terms of RMSE but the r2 value is slightly higher but still not great "
   ]
  },
  {
   "cell_type": "code",
   "execution_count": null,
   "metadata": {},
   "outputs": [],
   "source": []
  }
 ],
 "metadata": {
  "kernelspec": {
   "display_name": "Python 3",
   "language": "python",
   "name": "python3"
  },
  "language_info": {
   "codemirror_mode": {
    "name": "ipython",
    "version": 3
   },
   "file_extension": ".py",
   "mimetype": "text/x-python",
   "name": "python",
   "nbconvert_exporter": "python",
   "pygments_lexer": "ipython3",
   "version": "3.7.6"
  }
 },
 "nbformat": 4,
 "nbformat_minor": 4
}
