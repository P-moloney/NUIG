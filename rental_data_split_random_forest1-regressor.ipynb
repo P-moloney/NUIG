{
 "cells": [
  {
   "cell_type": "code",
   "execution_count": 1,
   "metadata": {},
   "outputs": [],
   "source": [
    "#followed https://www.datacamp.com/community/tutorials/random-forests-classifier-python\n",
    "# more info on random forest https://www.youtube.com/watch?v=RUEFSwN-orQ\n",
    "import pandas as pd\n",
    "import numpy as np\n",
    "from sklearn.pipeline import Pipeline, make_pipeline, FeatureUnion\n",
    "from sklearn.compose import ColumnTransformer\n",
    "from sklearn.base import BaseEstimator, TransformerMixin\n",
    "from sklearn.preprocessing import StandardScaler, RobustScaler, FunctionTransformer\n",
    "from sklearn.model_selection import train_test_split, GridSearchCV\n",
    "import pickle\n",
    "import matplotlib.pyplot as plt\n",
    "%matplotlib inline\n",
    "import seaborn as sns\n",
    "\n",
    "# imports necessary for dimensionality reduction\n",
    "from sklearn.decomposition import PCA\n",
    "from sklearn.feature_selection import RFE\n",
    "from sklearn import svm\n",
    "\n",
    "# regression algorithms\n",
    "from sklearn.ensemble import RandomForestRegressor\n",
    "from sklearn.linear_model import LinearRegression\n",
    "\n",
    "# metrics for evaluating regression models\n",
    "from sklearn.metrics import mean_squared_error, mean_absolute_error, r2_score\n",
    "\n",
    "\n",
    "#fix balcony column\n",
    "# drop columns lattitude longtitude eircode \n",
    "\n"
   ]
  },
  {
   "cell_type": "code",
   "execution_count": 2,
   "metadata": {},
   "outputs": [],
   "source": [
    "missing_value_formats = [\"n.a.\",\"?\",\"NA\",\"n/a\", \"na\", \"--\"]\n",
    "df = pd.read_csv('/Users/patrickmoloney/Downloads/data-rental2.csv', na_values = missing_value_formats)"
   ]
  },
  {
   "cell_type": "code",
   "execution_count": 3,
   "metadata": {},
   "outputs": [
    {
     "data": {
      "text/html": [
       "<div>\n",
       "<style scoped>\n",
       "    .dataframe tbody tr th:only-of-type {\n",
       "        vertical-align: middle;\n",
       "    }\n",
       "\n",
       "    .dataframe tbody tr th {\n",
       "        vertical-align: top;\n",
       "    }\n",
       "\n",
       "    .dataframe thead th {\n",
       "        text-align: right;\n",
       "    }\n",
       "</style>\n",
       "<table border=\"1\" class=\"dataframe\">\n",
       "  <thead>\n",
       "    <tr style=\"text-align: right;\">\n",
       "      <th></th>\n",
       "      <th>approx</th>\n",
       "      <th>number</th>\n",
       "      <th>address 1</th>\n",
       "      <th>address 2</th>\n",
       "      <th>address 3</th>\n",
       "      <th>eircode</th>\n",
       "      <th>lattitude</th>\n",
       "      <th>longtitude</th>\n",
       "      <th>lattitude eyre square</th>\n",
       "      <th>longtitude eyre square</th>\n",
       "      <th>...</th>\n",
       "      <th>Distance GMIT</th>\n",
       "      <th>number of rooms</th>\n",
       "      <th>number of bathrooms</th>\n",
       "      <th>price per month</th>\n",
       "      <th>type</th>\n",
       "      <th>connection</th>\n",
       "      <th>BER</th>\n",
       "      <th>balcony</th>\n",
       "      <th>floor</th>\n",
       "      <th>heating</th>\n",
       "    </tr>\n",
       "  </thead>\n",
       "  <tbody>\n",
       "    <tr>\n",
       "      <th>0</th>\n",
       "      <td>no</td>\n",
       "      <td>Chaplaincy House</td>\n",
       "      <td>Ballybane Road</td>\n",
       "      <td>Ballybane</td>\n",
       "      <td>NaN</td>\n",
       "      <td>H91 E2NY</td>\n",
       "      <td>53.279666</td>\n",
       "      <td>-9.008728</td>\n",
       "      <td>53.274839</td>\n",
       "      <td>-9.04863</td>\n",
       "      <td>...</td>\n",
       "      <td>0.209452</td>\n",
       "      <td>4</td>\n",
       "      <td>2</td>\n",
       "      <td>2100</td>\n",
       "      <td>house</td>\n",
       "      <td>NaN</td>\n",
       "      <td>d2</td>\n",
       "      <td>no</td>\n",
       "      <td>NaN</td>\n",
       "      <td>central</td>\n",
       "    </tr>\n",
       "    <tr>\n",
       "      <th>1</th>\n",
       "      <td>yes</td>\n",
       "      <td>NaN</td>\n",
       "      <td>cappagh road</td>\n",
       "      <td>knocknacarra</td>\n",
       "      <td>NaN</td>\n",
       "      <td>H91 PV0Y</td>\n",
       "      <td>53.271272</td>\n",
       "      <td>-9.132431</td>\n",
       "      <td>53.274839</td>\n",
       "      <td>-9.04863</td>\n",
       "      <td>...</td>\n",
       "      <td>8.135066</td>\n",
       "      <td>1</td>\n",
       "      <td>1</td>\n",
       "      <td>850</td>\n",
       "      <td>apartment</td>\n",
       "      <td>NaN</td>\n",
       "      <td>c1</td>\n",
       "      <td>no</td>\n",
       "      <td>ground</td>\n",
       "      <td>central</td>\n",
       "    </tr>\n",
       "    <tr>\n",
       "      <th>2</th>\n",
       "      <td>no</td>\n",
       "      <td>83</td>\n",
       "      <td>Maoilin</td>\n",
       "      <td>Ballymoneen Road</td>\n",
       "      <td>Moneen</td>\n",
       "      <td>H91 A6CH</td>\n",
       "      <td>53.271473</td>\n",
       "      <td>-9.121873</td>\n",
       "      <td>53.274839</td>\n",
       "      <td>-9.04863</td>\n",
       "      <td>...</td>\n",
       "      <td>7.434207</td>\n",
       "      <td>3</td>\n",
       "      <td>2</td>\n",
       "      <td>1800</td>\n",
       "      <td>house</td>\n",
       "      <td>NaN</td>\n",
       "      <td>a3</td>\n",
       "      <td>no</td>\n",
       "      <td>NaN</td>\n",
       "      <td>central</td>\n",
       "    </tr>\n",
       "    <tr>\n",
       "      <th>3</th>\n",
       "      <td>no</td>\n",
       "      <td>NaN</td>\n",
       "      <td>NaN</td>\n",
       "      <td>NaN</td>\n",
       "      <td>NaN</td>\n",
       "      <td>H91 W5RP</td>\n",
       "      <td>53.272302</td>\n",
       "      <td>-9.077226</td>\n",
       "      <td>53.274839</td>\n",
       "      <td>-9.04863</td>\n",
       "      <td>...</td>\n",
       "      <td>4.475861</td>\n",
       "      <td>1</td>\n",
       "      <td>1</td>\n",
       "      <td>850</td>\n",
       "      <td>apartment</td>\n",
       "      <td>NaN</td>\n",
       "      <td>NaN</td>\n",
       "      <td>no</td>\n",
       "      <td>ground</td>\n",
       "      <td>central</td>\n",
       "    </tr>\n",
       "    <tr>\n",
       "      <th>4</th>\n",
       "      <td>no</td>\n",
       "      <td>NaN</td>\n",
       "      <td>NaN</td>\n",
       "      <td>NaN</td>\n",
       "      <td>NaN</td>\n",
       "      <td>H91 K46R</td>\n",
       "      <td>53.273859</td>\n",
       "      <td>-9.026788</td>\n",
       "      <td>53.274839</td>\n",
       "      <td>-9.04863</td>\n",
       "      <td>...</td>\n",
       "      <td>1.176212</td>\n",
       "      <td>3</td>\n",
       "      <td>2</td>\n",
       "      <td>1600</td>\n",
       "      <td>house</td>\n",
       "      <td>NaN</td>\n",
       "      <td>d1</td>\n",
       "      <td>no</td>\n",
       "      <td>NaN</td>\n",
       "      <td>central</td>\n",
       "    </tr>\n",
       "  </tbody>\n",
       "</table>\n",
       "<p>5 rows × 29 columns</p>\n",
       "</div>"
      ],
      "text/plain": [
       "  approx            number       address 1         address 2 address 3  \\\n",
       "0     no  Chaplaincy House  Ballybane Road        Ballybane        NaN   \n",
       "1    yes               NaN    cappagh road      knocknacarra       NaN   \n",
       "2     no                83         Maoilin  Ballymoneen Road    Moneen   \n",
       "3     no               NaN             NaN               NaN       NaN   \n",
       "4     no               NaN             NaN               NaN       NaN   \n",
       "\n",
       "    eircode  lattitude  longtitude  lattitude eyre square  \\\n",
       "0  H91 E2NY  53.279666   -9.008728              53.274839   \n",
       "1  H91 PV0Y  53.271272   -9.132431              53.274839   \n",
       "2  H91 A6CH  53.271473   -9.121873              53.274839   \n",
       "3  H91 W5RP  53.272302   -9.077226              53.274839   \n",
       "4  H91 K46R  53.273859   -9.026788              53.274839   \n",
       "\n",
       "   longtitude eyre square  ...  Distance GMIT  number of rooms  \\\n",
       "0                -9.04863  ...       0.209452                4   \n",
       "1                -9.04863  ...       8.135066                1   \n",
       "2                -9.04863  ...       7.434207                3   \n",
       "3                -9.04863  ...       4.475861                1   \n",
       "4                -9.04863  ...       1.176212                3   \n",
       "\n",
       "   number of bathrooms  price per month       type  connection  BER  balcony  \\\n",
       "0                    2             2100      house         NaN   d2       no   \n",
       "1                    1              850  apartment         NaN   c1       no   \n",
       "2                    2             1800      house         NaN   a3       no   \n",
       "3                    1              850  apartment         NaN  NaN       no   \n",
       "4                    2             1600      house         NaN   d1       no   \n",
       "\n",
       "    floor  heating  \n",
       "0     NaN  central  \n",
       "1  ground  central  \n",
       "2     NaN  central  \n",
       "3  ground  central  \n",
       "4     NaN  central  \n",
       "\n",
       "[5 rows x 29 columns]"
      ]
     },
     "execution_count": 3,
     "metadata": {},
     "output_type": "execute_result"
    }
   ],
   "source": [
    "df.head()"
   ]
  },
  {
   "cell_type": "code",
   "execution_count": 4,
   "metadata": {},
   "outputs": [
    {
     "data": {
      "text/plain": [
       "approx                    206\n",
       "number                    256\n",
       "address 1                 194\n",
       "address 2                 237\n",
       "address 3                 360\n",
       "eircode                   237\n",
       "lattitude                   0\n",
       "longtitude                  0\n",
       "lattitude eyre square       0\n",
       "longtitude eyre square      0\n",
       "Distance Eyre Square        0\n",
       "latitude salthill           0\n",
       "longtitude salthill         0\n",
       "Distance Salthill           0\n",
       "latitude collage            0\n",
       "longtitude collage          0\n",
       "Distance NUIG               0\n",
       "latitude gmit               0\n",
       "longtitude gmit             0\n",
       "Distance GMIT               0\n",
       "number of rooms             0\n",
       "number of bathrooms         0\n",
       "price per month             0\n",
       "type                        0\n",
       "connection                265\n",
       "BER                        14\n",
       "balcony                     2\n",
       "floor                     184\n",
       "heating                     5\n",
       "dtype: int64"
      ]
     },
     "execution_count": 4,
     "metadata": {},
     "output_type": "execute_result"
    }
   ],
   "source": [
    "df.isna().sum()\n"
   ]
  },
  {
   "cell_type": "code",
   "execution_count": 5,
   "metadata": {},
   "outputs": [],
   "source": [
    "df=df.drop(columns='eircode')\n",
    "df=df.drop(columns='lattitude') \n",
    "df=df.drop(columns='longtitude')\n",
    "df=df.drop(columns='floor')\n",
    "df=df.drop(columns='approx')\n",
    "df=df.drop(columns='number')\n",
    "df=df.drop(columns='address 1')\n",
    "df=df.drop(columns='address 2')\n",
    "df=df.drop(columns='address 3')\n",
    "df=df.drop(columns='lattitude eyre square')\n",
    "df=df.drop(columns='longtitude eyre square')\n",
    "df=df.drop(columns='latitude salthill')\n",
    "df=df.drop(columns='longtitude salthill')\n",
    "df=df.drop(columns='latitude collage')\n",
    "df=df.drop(columns='longtitude collage')\n",
    "df=df.drop(columns='latitude gmit')\n",
    "df=df.drop(columns='longtitude gmit')\n"
   ]
  },
  {
   "cell_type": "code",
   "execution_count": 6,
   "metadata": {},
   "outputs": [
    {
     "data": {
      "text/plain": [
       "Distance Eyre Square      0\n",
       "Distance Salthill         0\n",
       "Distance NUIG             0\n",
       "Distance GMIT             0\n",
       "number of rooms           0\n",
       "number of bathrooms       0\n",
       "price per month           0\n",
       "type                      0\n",
       "connection              265\n",
       "BER                      14\n",
       "balcony                   2\n",
       "heating                   5\n",
       "dtype: int64"
      ]
     },
     "execution_count": 6,
     "metadata": {},
     "output_type": "execute_result"
    }
   ],
   "source": [
    "df.isna().sum()"
   ]
  },
  {
   "cell_type": "code",
   "execution_count": 7,
   "metadata": {},
   "outputs": [],
   "source": [
    "df=df.drop(columns='connection')\n"
   ]
  },
  {
   "cell_type": "code",
   "execution_count": 8,
   "metadata": {},
   "outputs": [
    {
     "data": {
      "text/html": [
       "<div>\n",
       "<style scoped>\n",
       "    .dataframe tbody tr th:only-of-type {\n",
       "        vertical-align: middle;\n",
       "    }\n",
       "\n",
       "    .dataframe tbody tr th {\n",
       "        vertical-align: top;\n",
       "    }\n",
       "\n",
       "    .dataframe thead th {\n",
       "        text-align: right;\n",
       "    }\n",
       "</style>\n",
       "<table border=\"1\" class=\"dataframe\">\n",
       "  <thead>\n",
       "    <tr style=\"text-align: right;\">\n",
       "      <th></th>\n",
       "      <th>Distance Eyre Square</th>\n",
       "      <th>Distance Salthill</th>\n",
       "      <th>Distance NUIG</th>\n",
       "      <th>Distance GMIT</th>\n",
       "      <th>number of rooms</th>\n",
       "      <th>number of bathrooms</th>\n",
       "      <th>price per month</th>\n",
       "      <th>type</th>\n",
       "      <th>BER</th>\n",
       "      <th>balcony</th>\n",
       "      <th>heating</th>\n",
       "    </tr>\n",
       "  </thead>\n",
       "  <tbody>\n",
       "    <tr>\n",
       "      <th>0</th>\n",
       "      <td>2.706816</td>\n",
       "      <td>4.449858</td>\n",
       "      <td>3.520573</td>\n",
       "      <td>0.209452</td>\n",
       "      <td>4</td>\n",
       "      <td>2</td>\n",
       "      <td>2100</td>\n",
       "      <td>house</td>\n",
       "      <td>d2</td>\n",
       "      <td>no</td>\n",
       "      <td>central</td>\n",
       "    </tr>\n",
       "    <tr>\n",
       "      <th>1</th>\n",
       "      <td>5.586384</td>\n",
       "      <td>4.231058</td>\n",
       "      <td>4.789334</td>\n",
       "      <td>8.135066</td>\n",
       "      <td>1</td>\n",
       "      <td>1</td>\n",
       "      <td>850</td>\n",
       "      <td>apartment</td>\n",
       "      <td>c1</td>\n",
       "      <td>no</td>\n",
       "      <td>central</td>\n",
       "    </tr>\n",
       "    <tr>\n",
       "      <th>2</th>\n",
       "      <td>4.884620</td>\n",
       "      <td>3.551142</td>\n",
       "      <td>4.097072</td>\n",
       "      <td>7.434207</td>\n",
       "      <td>3</td>\n",
       "      <td>2</td>\n",
       "      <td>1800</td>\n",
       "      <td>house</td>\n",
       "      <td>a3</td>\n",
       "      <td>no</td>\n",
       "      <td>central</td>\n",
       "    </tr>\n",
       "    <tr>\n",
       "      <th>3</th>\n",
       "      <td>1.922237</td>\n",
       "      <td>1.068662</td>\n",
       "      <td>1.296991</td>\n",
       "      <td>4.475861</td>\n",
       "      <td>1</td>\n",
       "      <td>1</td>\n",
       "      <td>850</td>\n",
       "      <td>apartment</td>\n",
       "      <td>NaN</td>\n",
       "      <td>no</td>\n",
       "      <td>central</td>\n",
       "    </tr>\n",
       "    <tr>\n",
       "      <th>4</th>\n",
       "      <td>1.456473</td>\n",
       "      <td>3.093256</td>\n",
       "      <td>2.398740</td>\n",
       "      <td>1.176212</td>\n",
       "      <td>3</td>\n",
       "      <td>2</td>\n",
       "      <td>1600</td>\n",
       "      <td>house</td>\n",
       "      <td>d1</td>\n",
       "      <td>no</td>\n",
       "      <td>central</td>\n",
       "    </tr>\n",
       "  </tbody>\n",
       "</table>\n",
       "</div>"
      ],
      "text/plain": [
       "   Distance Eyre Square  Distance Salthill  Distance NUIG  Distance GMIT  \\\n",
       "0              2.706816           4.449858       3.520573       0.209452   \n",
       "1              5.586384           4.231058       4.789334       8.135066   \n",
       "2              4.884620           3.551142       4.097072       7.434207   \n",
       "3              1.922237           1.068662       1.296991       4.475861   \n",
       "4              1.456473           3.093256       2.398740       1.176212   \n",
       "\n",
       "   number of rooms  number of bathrooms  price per month       type  BER  \\\n",
       "0                4                    2             2100      house   d2   \n",
       "1                1                    1              850  apartment   c1   \n",
       "2                3                    2             1800      house   a3   \n",
       "3                1                    1              850  apartment  NaN   \n",
       "4                3                    2             1600      house   d1   \n",
       "\n",
       "  balcony  heating  \n",
       "0      no  central  \n",
       "1      no  central  \n",
       "2      no  central  \n",
       "3      no  central  \n",
       "4      no  central  "
      ]
     },
     "execution_count": 8,
     "metadata": {},
     "output_type": "execute_result"
    }
   ],
   "source": [
    "df.head()"
   ]
  },
  {
   "cell_type": "code",
   "execution_count": 9,
   "metadata": {},
   "outputs": [
    {
     "data": {
      "text/plain": [
       "array(['d2', 'c1', 'a3', nan, 'd1', 'c3', 'c2', 'e1', 'exempt', 'e2',\n",
       "       'b3', 'b1', 'f', 'b2', 'a1', 'g'], dtype=object)"
      ]
     },
     "execution_count": 9,
     "metadata": {},
     "output_type": "execute_result"
    }
   ],
   "source": [
    "\n",
    "df.BER.unique() "
   ]
  },
  {
   "cell_type": "code",
   "execution_count": 10,
   "metadata": {},
   "outputs": [
    {
     "data": {
      "text/plain": [
       "array(['central', 'electric', nan], dtype=object)"
      ]
     },
     "execution_count": 10,
     "metadata": {},
     "output_type": "execute_result"
    }
   ],
   "source": [
    "df.heating.unique() "
   ]
  },
  {
   "cell_type": "code",
   "execution_count": 11,
   "metadata": {},
   "outputs": [
    {
     "data": {
      "text/plain": [
       "array(['no', 'yes', nan], dtype=object)"
      ]
     },
     "execution_count": 11,
     "metadata": {},
     "output_type": "execute_result"
    }
   ],
   "source": [
    "df.balcony.unique()"
   ]
  },
  {
   "cell_type": "code",
   "execution_count": 12,
   "metadata": {},
   "outputs": [
    {
     "data": {
      "text/plain": [
       "array(['house', 'apartment', 'studio', 'townhouse'], dtype=object)"
      ]
     },
     "execution_count": 12,
     "metadata": {},
     "output_type": "execute_result"
    }
   ],
   "source": [
    "df.type.unique()"
   ]
  },
  {
   "cell_type": "code",
   "execution_count": 13,
   "metadata": {},
   "outputs": [],
   "source": [
    "\n",
    "df = df.dropna() "
   ]
  },
  {
   "cell_type": "code",
   "execution_count": 14,
   "metadata": {},
   "outputs": [
    {
     "data": {
      "text/plain": [
       "array(['central', 'electric'], dtype=object)"
      ]
     },
     "execution_count": 14,
     "metadata": {},
     "output_type": "execute_result"
    }
   ],
   "source": [
    "df.heating.unique()"
   ]
  },
  {
   "cell_type": "code",
   "execution_count": 15,
   "metadata": {},
   "outputs": [
    {
     "data": {
      "text/plain": [
       "array(['d2', 'c1', 'a3', 'd1', 'c3', 'c2', 'e1', 'exempt', 'e2', 'b3',\n",
       "       'b1', 'f', 'b2', 'a1', 'g'], dtype=object)"
      ]
     },
     "execution_count": 15,
     "metadata": {},
     "output_type": "execute_result"
    }
   ],
   "source": [
    "df.BER.unique()"
   ]
  },
  {
   "cell_type": "code",
   "execution_count": 16,
   "metadata": {},
   "outputs": [
    {
     "data": {
      "image/png": "[encoded data removed]",
      "text/plain": [
       "<Figure size 1440x360 with 1 Axes>"
      ]
     },
     "metadata": {
      "needs_background": "light"
     },
     "output_type": "display_data"
    }
   ],
   "source": [
    "df.boxplot(figsize=(20,5))\n",
    "plt.show() "
   ]
  },
  {
   "cell_type": "code",
   "execution_count": 17,
   "metadata": {},
   "outputs": [
    {
     "data": {
      "image/png": "[encoded data removed]",
      "text/plain": [
       "<Figure size 432x288 with 1 Axes>"
      ]
     },
     "metadata": {
      "needs_background": "light"
     },
     "output_type": "display_data"
    }
   ],
   "source": [
    "df.boxplot(column='number of rooms')\n",
    "plt.show()"
   ]
  },
  {
   "cell_type": "markdown",
   "metadata": {},
   "source": [
    "Place with 5 rooms its mentioned as an outlier, this could be down to how small my data set currently is. Will leave for the time being something that should be noted\n",
    "\n",
    "update, its up to 6 now def added a few more ads with 5"
   ]
  },
  {
   "cell_type": "code",
   "execution_count": 18,
   "metadata": {},
   "outputs": [
    {
     "data": {
      "text/html": [
       "<div>\n",
       "<style scoped>\n",
       "    .dataframe tbody tr th:only-of-type {\n",
       "        vertical-align: middle;\n",
       "    }\n",
       "\n",
       "    .dataframe tbody tr th {\n",
       "        vertical-align: top;\n",
       "    }\n",
       "\n",
       "    .dataframe thead th {\n",
       "        text-align: right;\n",
       "    }\n",
       "</style>\n",
       "<table border=\"1\" class=\"dataframe\">\n",
       "  <thead>\n",
       "    <tr style=\"text-align: right;\">\n",
       "      <th></th>\n",
       "      <th>Distance Eyre Square</th>\n",
       "      <th>Distance Salthill</th>\n",
       "      <th>Distance NUIG</th>\n",
       "      <th>Distance GMIT</th>\n",
       "      <th>number of rooms</th>\n",
       "      <th>number of bathrooms</th>\n",
       "      <th>price per month</th>\n",
       "    </tr>\n",
       "  </thead>\n",
       "  <tbody>\n",
       "    <tr>\n",
       "      <th>count</th>\n",
       "      <td>378.000000</td>\n",
       "      <td>378.000000</td>\n",
       "      <td>378.000000</td>\n",
       "      <td>378.000000</td>\n",
       "      <td>378.000000</td>\n",
       "      <td>378.000000</td>\n",
       "      <td>378.000000</td>\n",
       "    </tr>\n",
       "    <tr>\n",
       "      <th>mean</th>\n",
       "      <td>2.264945</td>\n",
       "      <td>2.639864</td>\n",
       "      <td>2.303819</td>\n",
       "      <td>3.541791</td>\n",
       "      <td>2.515873</td>\n",
       "      <td>1.751323</td>\n",
       "      <td>1559.224868</td>\n",
       "    </tr>\n",
       "    <tr>\n",
       "      <th>std</th>\n",
       "      <td>1.454716</td>\n",
       "      <td>1.655613</td>\n",
       "      <td>1.453199</td>\n",
       "      <td>1.848706</td>\n",
       "      <td>1.055998</td>\n",
       "      <td>0.733120</td>\n",
       "      <td>469.247651</td>\n",
       "    </tr>\n",
       "    <tr>\n",
       "      <th>min</th>\n",
       "      <td>0.007512</td>\n",
       "      <td>0.099173</td>\n",
       "      <td>0.311939</td>\n",
       "      <td>0.209452</td>\n",
       "      <td>1.000000</td>\n",
       "      <td>1.000000</td>\n",
       "      <td>595.000000</td>\n",
       "    </tr>\n",
       "    <tr>\n",
       "      <th>25%</th>\n",
       "      <td>1.012972</td>\n",
       "      <td>1.357497</td>\n",
       "      <td>1.118415</td>\n",
       "      <td>2.218692</td>\n",
       "      <td>2.000000</td>\n",
       "      <td>1.000000</td>\n",
       "      <td>1250.000000</td>\n",
       "    </tr>\n",
       "    <tr>\n",
       "      <th>50%</th>\n",
       "      <td>2.092012</td>\n",
       "      <td>2.362079</td>\n",
       "      <td>1.785046</td>\n",
       "      <td>3.154629</td>\n",
       "      <td>2.000000</td>\n",
       "      <td>2.000000</td>\n",
       "      <td>1500.000000</td>\n",
       "    </tr>\n",
       "    <tr>\n",
       "      <th>75%</th>\n",
       "      <td>3.051279</td>\n",
       "      <td>3.583553</td>\n",
       "      <td>3.277126</td>\n",
       "      <td>4.706173</td>\n",
       "      <td>3.000000</td>\n",
       "      <td>2.000000</td>\n",
       "      <td>1830.000000</td>\n",
       "    </tr>\n",
       "    <tr>\n",
       "      <th>max</th>\n",
       "      <td>5.586384</td>\n",
       "      <td>7.005967</td>\n",
       "      <td>6.308555</td>\n",
       "      <td>8.135066</td>\n",
       "      <td>6.000000</td>\n",
       "      <td>5.000000</td>\n",
       "      <td>3700.000000</td>\n",
       "    </tr>\n",
       "  </tbody>\n",
       "</table>\n",
       "</div>"
      ],
      "text/plain": [
       "       Distance Eyre Square  Distance Salthill  Distance NUIG  Distance GMIT  \\\n",
       "count            378.000000         378.000000     378.000000     378.000000   \n",
       "mean               2.264945           2.639864       2.303819       3.541791   \n",
       "std                1.454716           1.655613       1.453199       1.848706   \n",
       "min                0.007512           0.099173       0.311939       0.209452   \n",
       "25%                1.012972           1.357497       1.118415       2.218692   \n",
       "50%                2.092012           2.362079       1.785046       3.154629   \n",
       "75%                3.051279           3.583553       3.277126       4.706173   \n",
       "max                5.586384           7.005967       6.308555       8.135066   \n",
       "\n",
       "       number of rooms  number of bathrooms  price per month  \n",
       "count       378.000000           378.000000       378.000000  \n",
       "mean          2.515873             1.751323      1559.224868  \n",
       "std           1.055998             0.733120       469.247651  \n",
       "min           1.000000             1.000000       595.000000  \n",
       "25%           2.000000             1.000000      1250.000000  \n",
       "50%           2.000000             2.000000      1500.000000  \n",
       "75%           3.000000             2.000000      1830.000000  \n",
       "max           6.000000             5.000000      3700.000000  "
      ]
     },
     "execution_count": 18,
     "metadata": {},
     "output_type": "execute_result"
    }
   ],
   "source": [
    "df.describe()"
   ]
  },
  {
   "cell_type": "code",
   "execution_count": 19,
   "metadata": {},
   "outputs": [
    {
     "data": {
      "text/html": [
       "<div>\n",
       "<style scoped>\n",
       "    .dataframe tbody tr th:only-of-type {\n",
       "        vertical-align: middle;\n",
       "    }\n",
       "\n",
       "    .dataframe tbody tr th {\n",
       "        vertical-align: top;\n",
       "    }\n",
       "\n",
       "    .dataframe thead th {\n",
       "        text-align: right;\n",
       "    }\n",
       "</style>\n",
       "<table border=\"1\" class=\"dataframe\">\n",
       "  <thead>\n",
       "    <tr style=\"text-align: right;\">\n",
       "      <th></th>\n",
       "      <th>Distance Eyre Square</th>\n",
       "      <th>Distance Salthill</th>\n",
       "      <th>Distance NUIG</th>\n",
       "      <th>Distance GMIT</th>\n",
       "      <th>number of rooms</th>\n",
       "      <th>number of bathrooms</th>\n",
       "      <th>price per month</th>\n",
       "      <th>type</th>\n",
       "      <th>BER</th>\n",
       "      <th>balcony</th>\n",
       "      <th>heating</th>\n",
       "    </tr>\n",
       "  </thead>\n",
       "  <tbody>\n",
       "    <tr>\n",
       "      <th>390</th>\n",
       "      <td>2.345123</td>\n",
       "      <td>0.456042</td>\n",
       "      <td>2.242454</td>\n",
       "      <td>4.693170</td>\n",
       "      <td>2</td>\n",
       "      <td>1</td>\n",
       "      <td>1600</td>\n",
       "      <td>apartment</td>\n",
       "      <td>5</td>\n",
       "      <td>no</td>\n",
       "      <td>electric</td>\n",
       "    </tr>\n",
       "    <tr>\n",
       "      <th>391</th>\n",
       "      <td>1.539927</td>\n",
       "      <td>0.356783</td>\n",
       "      <td>1.500652</td>\n",
       "      <td>3.960231</td>\n",
       "      <td>5</td>\n",
       "      <td>2</td>\n",
       "      <td>2000</td>\n",
       "      <td>house</td>\n",
       "      <td>6</td>\n",
       "      <td>no</td>\n",
       "      <td>central</td>\n",
       "    </tr>\n",
       "    <tr>\n",
       "      <th>392</th>\n",
       "      <td>1.398883</td>\n",
       "      <td>0.528898</td>\n",
       "      <td>1.540958</td>\n",
       "      <td>3.739695</td>\n",
       "      <td>1</td>\n",
       "      <td>1</td>\n",
       "      <td>920</td>\n",
       "      <td>apartment</td>\n",
       "      <td>4</td>\n",
       "      <td>no</td>\n",
       "      <td>electric</td>\n",
       "    </tr>\n",
       "    <tr>\n",
       "      <th>393</th>\n",
       "      <td>5.087938</td>\n",
       "      <td>6.748020</td>\n",
       "      <td>5.912348</td>\n",
       "      <td>2.534640</td>\n",
       "      <td>1</td>\n",
       "      <td>1</td>\n",
       "      <td>810</td>\n",
       "      <td>apartment</td>\n",
       "      <td>0</td>\n",
       "      <td>no</td>\n",
       "      <td>central</td>\n",
       "    </tr>\n",
       "    <tr>\n",
       "      <th>394</th>\n",
       "      <td>4.670141</td>\n",
       "      <td>6.348894</td>\n",
       "      <td>5.487608</td>\n",
       "      <td>2.116635</td>\n",
       "      <td>2</td>\n",
       "      <td>1</td>\n",
       "      <td>1136</td>\n",
       "      <td>apartment</td>\n",
       "      <td>5</td>\n",
       "      <td>no</td>\n",
       "      <td>electric</td>\n",
       "    </tr>\n",
       "  </tbody>\n",
       "</table>\n",
       "</div>"
      ],
      "text/plain": [
       "     Distance Eyre Square  Distance Salthill  Distance NUIG  Distance GMIT  \\\n",
       "390              2.345123           0.456042       2.242454       4.693170   \n",
       "391              1.539927           0.356783       1.500652       3.960231   \n",
       "392              1.398883           0.528898       1.540958       3.739695   \n",
       "393              5.087938           6.748020       5.912348       2.534640   \n",
       "394              4.670141           6.348894       5.487608       2.116635   \n",
       "\n",
       "     number of rooms  number of bathrooms  price per month       type  BER  \\\n",
       "390                2                    1             1600  apartment    5   \n",
       "391                5                    2             2000      house    6   \n",
       "392                1                    1              920  apartment    4   \n",
       "393                1                    1              810  apartment    0   \n",
       "394                2                    1             1136  apartment    5   \n",
       "\n",
       "    balcony   heating  \n",
       "390      no  electric  \n",
       "391      no   central  \n",
       "392      no  electric  \n",
       "393      no   central  \n",
       "394      no  electric  "
      ]
     },
     "execution_count": 19,
     "metadata": {},
     "output_type": "execute_result"
    }
   ],
   "source": [
    "scale_mapper = {\n",
    "    \"a1\":15,\n",
    "    \"a2\":14,\n",
    "    \"a3\":13,\n",
    "    \"b1\":12,\n",
    "    \"b2\":11,\n",
    "    \"b3\":10,\n",
    "    \"c1\":9,\n",
    "    \"c2\":8,\n",
    "    \"c3\":7,\n",
    "    \"d1\":6,\n",
    "    \"d2\":5,\n",
    "    \"e1\":4,\n",
    "    \"e2\":3,\n",
    "    \"f\":2,\n",
    "    \"g\":1,\n",
    "    \"exempt\":0\n",
    "}\n",
    "\n",
    "df['BER'] = df['BER'].replace(scale_mapper)\n",
    "\n",
    "df.tail()\n"
   ]
  },
  {
   "cell_type": "code",
   "execution_count": 20,
   "metadata": {},
   "outputs": [
    {
     "data": {
      "text/html": [
       "<div>\n",
       "<style scoped>\n",
       "    .dataframe tbody tr th:only-of-type {\n",
       "        vertical-align: middle;\n",
       "    }\n",
       "\n",
       "    .dataframe tbody tr th {\n",
       "        vertical-align: top;\n",
       "    }\n",
       "\n",
       "    .dataframe thead th {\n",
       "        text-align: right;\n",
       "    }\n",
       "</style>\n",
       "<table border=\"1\" class=\"dataframe\">\n",
       "  <thead>\n",
       "    <tr style=\"text-align: right;\">\n",
       "      <th></th>\n",
       "      <th>Distance Eyre Square</th>\n",
       "      <th>Distance Salthill</th>\n",
       "      <th>Distance NUIG</th>\n",
       "      <th>Distance GMIT</th>\n",
       "      <th>number of rooms</th>\n",
       "      <th>number of bathrooms</th>\n",
       "      <th>price per month</th>\n",
       "      <th>BER</th>\n",
       "      <th>type_apartment</th>\n",
       "      <th>type_house</th>\n",
       "      <th>type_studio</th>\n",
       "      <th>type_townhouse</th>\n",
       "      <th>balcony_no</th>\n",
       "      <th>balcony_yes</th>\n",
       "      <th>heating_central</th>\n",
       "      <th>heating_electric</th>\n",
       "    </tr>\n",
       "  </thead>\n",
       "  <tbody>\n",
       "    <tr>\n",
       "      <th>390</th>\n",
       "      <td>2.345123</td>\n",
       "      <td>0.456042</td>\n",
       "      <td>2.242454</td>\n",
       "      <td>4.693170</td>\n",
       "      <td>2</td>\n",
       "      <td>1</td>\n",
       "      <td>1600</td>\n",
       "      <td>5</td>\n",
       "      <td>1</td>\n",
       "      <td>0</td>\n",
       "      <td>0</td>\n",
       "      <td>0</td>\n",
       "      <td>1</td>\n",
       "      <td>0</td>\n",
       "      <td>0</td>\n",
       "      <td>1</td>\n",
       "    </tr>\n",
       "    <tr>\n",
       "      <th>391</th>\n",
       "      <td>1.539927</td>\n",
       "      <td>0.356783</td>\n",
       "      <td>1.500652</td>\n",
       "      <td>3.960231</td>\n",
       "      <td>5</td>\n",
       "      <td>2</td>\n",
       "      <td>2000</td>\n",
       "      <td>6</td>\n",
       "      <td>0</td>\n",
       "      <td>1</td>\n",
       "      <td>0</td>\n",
       "      <td>0</td>\n",
       "      <td>1</td>\n",
       "      <td>0</td>\n",
       "      <td>1</td>\n",
       "      <td>0</td>\n",
       "    </tr>\n",
       "    <tr>\n",
       "      <th>392</th>\n",
       "      <td>1.398883</td>\n",
       "      <td>0.528898</td>\n",
       "      <td>1.540958</td>\n",
       "      <td>3.739695</td>\n",
       "      <td>1</td>\n",
       "      <td>1</td>\n",
       "      <td>920</td>\n",
       "      <td>4</td>\n",
       "      <td>1</td>\n",
       "      <td>0</td>\n",
       "      <td>0</td>\n",
       "      <td>0</td>\n",
       "      <td>1</td>\n",
       "      <td>0</td>\n",
       "      <td>0</td>\n",
       "      <td>1</td>\n",
       "    </tr>\n",
       "    <tr>\n",
       "      <th>393</th>\n",
       "      <td>5.087938</td>\n",
       "      <td>6.748020</td>\n",
       "      <td>5.912348</td>\n",
       "      <td>2.534640</td>\n",
       "      <td>1</td>\n",
       "      <td>1</td>\n",
       "      <td>810</td>\n",
       "      <td>0</td>\n",
       "      <td>1</td>\n",
       "      <td>0</td>\n",
       "      <td>0</td>\n",
       "      <td>0</td>\n",
       "      <td>1</td>\n",
       "      <td>0</td>\n",
       "      <td>1</td>\n",
       "      <td>0</td>\n",
       "    </tr>\n",
       "    <tr>\n",
       "      <th>394</th>\n",
       "      <td>4.670141</td>\n",
       "      <td>6.348894</td>\n",
       "      <td>5.487608</td>\n",
       "      <td>2.116635</td>\n",
       "      <td>2</td>\n",
       "      <td>1</td>\n",
       "      <td>1136</td>\n",
       "      <td>5</td>\n",
       "      <td>1</td>\n",
       "      <td>0</td>\n",
       "      <td>0</td>\n",
       "      <td>0</td>\n",
       "      <td>1</td>\n",
       "      <td>0</td>\n",
       "      <td>0</td>\n",
       "      <td>1</td>\n",
       "    </tr>\n",
       "  </tbody>\n",
       "</table>\n",
       "</div>"
      ],
      "text/plain": [
       "     Distance Eyre Square  Distance Salthill  Distance NUIG  Distance GMIT  \\\n",
       "390              2.345123           0.456042       2.242454       4.693170   \n",
       "391              1.539927           0.356783       1.500652       3.960231   \n",
       "392              1.398883           0.528898       1.540958       3.739695   \n",
       "393              5.087938           6.748020       5.912348       2.534640   \n",
       "394              4.670141           6.348894       5.487608       2.116635   \n",
       "\n",
       "     number of rooms  number of bathrooms  price per month  BER  \\\n",
       "390                2                    1             1600    5   \n",
       "391                5                    2             2000    6   \n",
       "392                1                    1              920    4   \n",
       "393                1                    1              810    0   \n",
       "394                2                    1             1136    5   \n",
       "\n",
       "     type_apartment  type_house  type_studio  type_townhouse  balcony_no  \\\n",
       "390               1           0            0               0           1   \n",
       "391               0           1            0               0           1   \n",
       "392               1           0            0               0           1   \n",
       "393               1           0            0               0           1   \n",
       "394               1           0            0               0           1   \n",
       "\n",
       "     balcony_yes  heating_central  heating_electric  \n",
       "390            0                0                 1  \n",
       "391            0                1                 0  \n",
       "392            0                0                 1  \n",
       "393            0                1                 0  \n",
       "394            0                0                 1  "
      ]
     },
     "execution_count": 20,
     "metadata": {},
     "output_type": "execute_result"
    }
   ],
   "source": [
    "df = pd.get_dummies(df, columns=['type', 'balcony','heating'])\n",
    "df.tail()\n",
    "\n"
   ]
  },
  {
   "cell_type": "markdown",
   "metadata": {},
   "source": [
    "looks like there is a connectiong where an appartment uses electic, houses use central, town houses and apartment have a link to having a balcony. more rooms have a link to central, likely because it's a house. price per moneth is linked to house + number of rooms. not too linked to salthill \n",
    "\n",
    "update: not sure if this sentence is accuarate anymore, better stuff down lower"
   ]
  },
  {
   "cell_type": "code",
   "execution_count": 21,
   "metadata": {},
   "outputs": [],
   "source": [
    "del df['balcony_no']"
   ]
  },
  {
   "cell_type": "code",
   "execution_count": 22,
   "metadata": {},
   "outputs": [],
   "source": [
    "del df['heating_central']"
   ]
  },
  {
   "cell_type": "code",
   "execution_count": 23,
   "metadata": {},
   "outputs": [],
   "source": [
    "del df['type_townhouse']"
   ]
  },
  {
   "cell_type": "code",
   "execution_count": 24,
   "metadata": {},
   "outputs": [
    {
     "data": {
      "text/html": [
       "<div>\n",
       "<style scoped>\n",
       "    .dataframe tbody tr th:only-of-type {\n",
       "        vertical-align: middle;\n",
       "    }\n",
       "\n",
       "    .dataframe tbody tr th {\n",
       "        vertical-align: top;\n",
       "    }\n",
       "\n",
       "    .dataframe thead th {\n",
       "        text-align: right;\n",
       "    }\n",
       "</style>\n",
       "<table border=\"1\" class=\"dataframe\">\n",
       "  <thead>\n",
       "    <tr style=\"text-align: right;\">\n",
       "      <th></th>\n",
       "      <th>Distance Eyre Square</th>\n",
       "      <th>Distance Salthill</th>\n",
       "      <th>Distance NUIG</th>\n",
       "      <th>Distance GMIT</th>\n",
       "      <th>number of rooms</th>\n",
       "      <th>number of bathrooms</th>\n",
       "      <th>price per month</th>\n",
       "      <th>BER</th>\n",
       "      <th>type_apartment</th>\n",
       "      <th>type_house</th>\n",
       "      <th>type_studio</th>\n",
       "      <th>balcony_yes</th>\n",
       "      <th>heating_electric</th>\n",
       "    </tr>\n",
       "  </thead>\n",
       "  <tbody>\n",
       "    <tr>\n",
       "      <th>0</th>\n",
       "      <td>2.706816</td>\n",
       "      <td>4.449858</td>\n",
       "      <td>3.520573</td>\n",
       "      <td>0.209452</td>\n",
       "      <td>4</td>\n",
       "      <td>2</td>\n",
       "      <td>2100</td>\n",
       "      <td>5</td>\n",
       "      <td>0</td>\n",
       "      <td>1</td>\n",
       "      <td>0</td>\n",
       "      <td>0</td>\n",
       "      <td>0</td>\n",
       "    </tr>\n",
       "    <tr>\n",
       "      <th>1</th>\n",
       "      <td>5.586384</td>\n",
       "      <td>4.231058</td>\n",
       "      <td>4.789334</td>\n",
       "      <td>8.135066</td>\n",
       "      <td>1</td>\n",
       "      <td>1</td>\n",
       "      <td>850</td>\n",
       "      <td>9</td>\n",
       "      <td>1</td>\n",
       "      <td>0</td>\n",
       "      <td>0</td>\n",
       "      <td>0</td>\n",
       "      <td>0</td>\n",
       "    </tr>\n",
       "    <tr>\n",
       "      <th>2</th>\n",
       "      <td>4.884620</td>\n",
       "      <td>3.551142</td>\n",
       "      <td>4.097072</td>\n",
       "      <td>7.434207</td>\n",
       "      <td>3</td>\n",
       "      <td>2</td>\n",
       "      <td>1800</td>\n",
       "      <td>13</td>\n",
       "      <td>0</td>\n",
       "      <td>1</td>\n",
       "      <td>0</td>\n",
       "      <td>0</td>\n",
       "      <td>0</td>\n",
       "    </tr>\n",
       "    <tr>\n",
       "      <th>4</th>\n",
       "      <td>1.456473</td>\n",
       "      <td>3.093256</td>\n",
       "      <td>2.398740</td>\n",
       "      <td>1.176212</td>\n",
       "      <td>3</td>\n",
       "      <td>2</td>\n",
       "      <td>1600</td>\n",
       "      <td>6</td>\n",
       "      <td>0</td>\n",
       "      <td>1</td>\n",
       "      <td>0</td>\n",
       "      <td>0</td>\n",
       "      <td>0</td>\n",
       "    </tr>\n",
       "    <tr>\n",
       "      <th>5</th>\n",
       "      <td>2.313815</td>\n",
       "      <td>1.099351</td>\n",
       "      <td>1.721166</td>\n",
       "      <td>4.863595</td>\n",
       "      <td>4</td>\n",
       "      <td>2</td>\n",
       "      <td>2390</td>\n",
       "      <td>7</td>\n",
       "      <td>0</td>\n",
       "      <td>1</td>\n",
       "      <td>0</td>\n",
       "      <td>0</td>\n",
       "      <td>0</td>\n",
       "    </tr>\n",
       "  </tbody>\n",
       "</table>\n",
       "</div>"
      ],
      "text/plain": [
       "   Distance Eyre Square  Distance Salthill  Distance NUIG  Distance GMIT  \\\n",
       "0              2.706816           4.449858       3.520573       0.209452   \n",
       "1              5.586384           4.231058       4.789334       8.135066   \n",
       "2              4.884620           3.551142       4.097072       7.434207   \n",
       "4              1.456473           3.093256       2.398740       1.176212   \n",
       "5              2.313815           1.099351       1.721166       4.863595   \n",
       "\n",
       "   number of rooms  number of bathrooms  price per month  BER  type_apartment  \\\n",
       "0                4                    2             2100    5               0   \n",
       "1                1                    1              850    9               1   \n",
       "2                3                    2             1800   13               0   \n",
       "4                3                    2             1600    6               0   \n",
       "5                4                    2             2390    7               0   \n",
       "\n",
       "   type_house  type_studio  balcony_yes  heating_electric  \n",
       "0           1            0            0                 0  \n",
       "1           0            0            0                 0  \n",
       "2           1            0            0                 0  \n",
       "4           1            0            0                 0  \n",
       "5           1            0            0                 0  "
      ]
     },
     "execution_count": 24,
     "metadata": {},
     "output_type": "execute_result"
    }
   ],
   "source": [
    "df.head()\n"
   ]
  },
  {
   "cell_type": "code",
   "execution_count": 25,
   "metadata": {},
   "outputs": [
    {
     "data": {
      "image/png": "[encoded data removed]",
      "text/plain": [
       "<Figure size 1440x360 with 1 Axes>"
      ]
     },
     "metadata": {
      "needs_background": "light"
     },
     "output_type": "display_data"
    }
   ],
   "source": [
    "df.boxplot(figsize=(20,5))\n",
    "plt.show()"
   ]
  },
  {
   "cell_type": "markdown",
   "metadata": {},
   "source": [
    "distance from salthill, number of rooms, number of baths, pricer per month, ber , type_studio,balcony_yes"
   ]
  },
  {
   "cell_type": "code",
   "execution_count": 26,
   "metadata": {},
   "outputs": [],
   "source": [
    "standard_scaler = StandardScaler()\n",
    "df[['Distance Eyre Square',\n",
    "    'Distance Salthill','Distance NUIG','Distance GMIT','number of rooms','number of bathrooms','BER']] = standard_scaler.fit_transform(df[['Distance Eyre Square',\n",
    "    'Distance Salthill','Distance NUIG','Distance GMIT','number of rooms','number of bathrooms','BER']])\n",
    "\n"
   ]
  },
  {
   "cell_type": "code",
   "execution_count": 27,
   "metadata": {},
   "outputs": [
    {
     "data": {
      "text/html": [
       "<div>\n",
       "<style scoped>\n",
       "    .dataframe tbody tr th:only-of-type {\n",
       "        vertical-align: middle;\n",
       "    }\n",
       "\n",
       "    .dataframe tbody tr th {\n",
       "        vertical-align: top;\n",
       "    }\n",
       "\n",
       "    .dataframe thead th {\n",
       "        text-align: right;\n",
       "    }\n",
       "</style>\n",
       "<table border=\"1\" class=\"dataframe\">\n",
       "  <thead>\n",
       "    <tr style=\"text-align: right;\">\n",
       "      <th></th>\n",
       "      <th>Distance Eyre Square</th>\n",
       "      <th>Distance Salthill</th>\n",
       "      <th>Distance NUIG</th>\n",
       "      <th>Distance GMIT</th>\n",
       "      <th>number of rooms</th>\n",
       "      <th>number of bathrooms</th>\n",
       "      <th>price per month</th>\n",
       "      <th>BER</th>\n",
       "      <th>type_apartment</th>\n",
       "      <th>type_house</th>\n",
       "      <th>type_studio</th>\n",
       "      <th>balcony_yes</th>\n",
       "      <th>heating_electric</th>\n",
       "    </tr>\n",
       "  </thead>\n",
       "  <tbody>\n",
       "    <tr>\n",
       "      <th>0</th>\n",
       "      <td>0.304154</td>\n",
       "      <td>1.094696</td>\n",
       "      <td>0.838403</td>\n",
       "      <td>-1.804914</td>\n",
       "      <td>1.407289</td>\n",
       "      <td>0.339654</td>\n",
       "      <td>2100</td>\n",
       "      <td>-0.335567</td>\n",
       "      <td>0</td>\n",
       "      <td>1</td>\n",
       "      <td>0</td>\n",
       "      <td>0</td>\n",
       "      <td>0</td>\n",
       "    </tr>\n",
       "    <tr>\n",
       "      <th>1</th>\n",
       "      <td>2.286249</td>\n",
       "      <td>0.962364</td>\n",
       "      <td>1.712642</td>\n",
       "      <td>2.487883</td>\n",
       "      <td>-1.437391</td>\n",
       "      <td>-1.026187</td>\n",
       "      <td>850</td>\n",
       "      <td>0.875358</td>\n",
       "      <td>1</td>\n",
       "      <td>0</td>\n",
       "      <td>0</td>\n",
       "      <td>0</td>\n",
       "      <td>0</td>\n",
       "    </tr>\n",
       "    <tr>\n",
       "      <th>2</th>\n",
       "      <td>1.803202</td>\n",
       "      <td>0.551147</td>\n",
       "      <td>1.235639</td>\n",
       "      <td>2.108272</td>\n",
       "      <td>0.459062</td>\n",
       "      <td>0.339654</td>\n",
       "      <td>1800</td>\n",
       "      <td>2.086284</td>\n",
       "      <td>0</td>\n",
       "      <td>1</td>\n",
       "      <td>0</td>\n",
       "      <td>0</td>\n",
       "      <td>0</td>\n",
       "    </tr>\n",
       "    <tr>\n",
       "      <th>4</th>\n",
       "      <td>-0.556496</td>\n",
       "      <td>0.274215</td>\n",
       "      <td>0.065406</td>\n",
       "      <td>-1.281282</td>\n",
       "      <td>0.459062</td>\n",
       "      <td>0.339654</td>\n",
       "      <td>1600</td>\n",
       "      <td>-0.032836</td>\n",
       "      <td>0</td>\n",
       "      <td>1</td>\n",
       "      <td>0</td>\n",
       "      <td>0</td>\n",
       "      <td>0</td>\n",
       "    </tr>\n",
       "    <tr>\n",
       "      <th>5</th>\n",
       "      <td>0.033638</td>\n",
       "      <td>-0.931712</td>\n",
       "      <td>-0.401477</td>\n",
       "      <td>0.715937</td>\n",
       "      <td>1.407289</td>\n",
       "      <td>0.339654</td>\n",
       "      <td>2390</td>\n",
       "      <td>0.269895</td>\n",
       "      <td>0</td>\n",
       "      <td>1</td>\n",
       "      <td>0</td>\n",
       "      <td>0</td>\n",
       "      <td>0</td>\n",
       "    </tr>\n",
       "  </tbody>\n",
       "</table>\n",
       "</div>"
      ],
      "text/plain": [
       "   Distance Eyre Square  Distance Salthill  Distance NUIG  Distance GMIT  \\\n",
       "0              0.304154           1.094696       0.838403      -1.804914   \n",
       "1              2.286249           0.962364       1.712642       2.487883   \n",
       "2              1.803202           0.551147       1.235639       2.108272   \n",
       "4             -0.556496           0.274215       0.065406      -1.281282   \n",
       "5              0.033638          -0.931712      -0.401477       0.715937   \n",
       "\n",
       "   number of rooms  number of bathrooms  price per month       BER  \\\n",
       "0         1.407289             0.339654             2100 -0.335567   \n",
       "1        -1.437391            -1.026187              850  0.875358   \n",
       "2         0.459062             0.339654             1800  2.086284   \n",
       "4         0.459062             0.339654             1600 -0.032836   \n",
       "5         1.407289             0.339654             2390  0.269895   \n",
       "\n",
       "   type_apartment  type_house  type_studio  balcony_yes  heating_electric  \n",
       "0               0           1            0            0                 0  \n",
       "1               1           0            0            0                 0  \n",
       "2               0           1            0            0                 0  \n",
       "4               0           1            0            0                 0  \n",
       "5               0           1            0            0                 0  "
      ]
     },
     "execution_count": 27,
     "metadata": {},
     "output_type": "execute_result"
    }
   ],
   "source": [
    "df.head()"
   ]
  },
  {
   "cell_type": "code",
   "execution_count": 28,
   "metadata": {},
   "outputs": [],
   "source": [
    "y = df['price per month']\n",
    "X = df.drop('price per month', axis=1).values\n",
    "\n",
    "\n",
    "\n",
    "X_train, X_test, y_train, y_test = train_test_split(X, y, test_size=0.2, shuffle=True)"
   ]
  },
  {
   "cell_type": "code",
   "execution_count": 29,
   "metadata": {},
   "outputs": [
    {
     "data": {
      "text/plain": [
       "297    1350\n",
       "367    1791\n",
       "216    1250\n",
       "79     1850\n",
       "160    1400\n",
       "Name: price per month, dtype: int64"
      ]
     },
     "execution_count": 29,
     "metadata": {},
     "output_type": "execute_result"
    }
   ],
   "source": [
    "y_test.head()"
   ]
  },
  {
   "cell_type": "code",
   "execution_count": 30,
   "metadata": {},
   "outputs": [],
   "source": [
    "#Import Random Forest Model\n",
    "from sklearn.ensemble import RandomForestClassifier\n",
    "\n",
    "#Create a Gaussian Classifier\n",
    "clf=RandomForestRegressor(n_estimators=200)\n",
    "\n",
    "#Train the model using the training sets y_pred=clf.predict(X_test)\n",
    "clf.fit(X_train,y_train)\n",
    "\n",
    "y_pred=clf.predict(X_test)"
   ]
  },
  {
   "cell_type": "markdown",
   "metadata": {},
   "source": []
  },
  {
   "cell_type": "code",
   "execution_count": 31,
   "metadata": {},
   "outputs": [
    {
     "data": {
      "text/plain": [
       "RandomForestRegressor(bootstrap=True, ccp_alpha=0.0, criterion='gini',\n",
       "                      max_depth=None, max_features='auto', max_leaf_nodes=None,\n",
       "                      max_samples=None, min_impurity_decrease=0.0,\n",
       "                      min_impurity_split=None, min_samples_leaf=1,\n",
       "                      min_samples_split=2, min_weight_fraction_leaf=0.0,\n",
       "                      n_estimators=100, n_jobs=1, oob_score=False,\n",
       "                      random_state=None, verbose=0, warm_start=False)"
      ]
     },
     "execution_count": 31,
     "metadata": {},
     "output_type": "execute_result"
    }
   ],
   "source": [
    "RandomForestRegressor(bootstrap=True, criterion='gini',\n",
    "            max_depth=None, max_features='auto', max_leaf_nodes=None,\n",
    "            min_impurity_decrease=0.0, min_impurity_split=None,\n",
    "            min_samples_leaf=1, min_samples_split=2,\n",
    "            min_weight_fraction_leaf=0.0, n_estimators=100, n_jobs=1,\n",
    "            oob_score=False, random_state=None, verbose=0,\n",
    "            warm_start=False)\n"
   ]
  },
  {
   "cell_type": "code",
   "execution_count": 32,
   "metadata": {},
   "outputs": [
    {
     "data": {
      "text/plain": [
       "number of rooms         0.486553\n",
       "Distance NUIG           0.118310\n",
       "Distance Salthill       0.106884\n",
       "Distance Eyre Square    0.106771\n",
       "BER                     0.054446\n",
       "number of bathrooms     0.045547\n",
       "Distance GMIT           0.043614\n",
       "balcony_yes             0.010051\n",
       "type_house              0.009051\n",
       "heating_electric        0.008300\n",
       "type_apartment          0.007201\n",
       "type_studio             0.003273\n",
       "dtype: float64"
      ]
     },
     "execution_count": 32,
     "metadata": {},
     "output_type": "execute_result"
    }
   ],
   "source": [
    "import pandas as pd\n",
    "feature_imp = pd.Series(clf.feature_importances_,index=df.drop('price per month', axis=1).columns).sort_values(ascending=False)\n",
    "feature_imp"
   ]
  },
  {
   "cell_type": "code",
   "execution_count": 33,
   "metadata": {},
   "outputs": [
    {
     "name": "stderr",
     "output_type": "stream",
     "text": [
      "No handles with labels found to put in legend.\n"
     ]
    },
    {
     "data": {
      "image/png": "[encoded data removed]",
      "text/plain": [
       "<Figure size 432x288 with 1 Axes>"
      ]
     },
     "metadata": {
      "needs_background": "light"
     },
     "output_type": "display_data"
    }
   ],
   "source": [
    "import matplotlib.pyplot as plt\n",
    "import seaborn as sns\n",
    "%matplotlib inline\n",
    "# Creating a bar plot\n",
    "sns.barplot(x=feature_imp, y=feature_imp.index)\n",
    "# Add labels to your graph\n",
    "plt.xlabel('Feature Importance Score')\n",
    "plt.ylabel('Features')\n",
    "plt.title(\"Visualizing Important Features\")\n",
    "plt.legend()\n",
    "plt.show()"
   ]
  },
  {
   "cell_type": "code",
   "execution_count": 34,
   "metadata": {},
   "outputs": [
    {
     "name": "stdout",
     "output_type": "stream",
     "text": [
      "R2: 0.7466620507005441\n"
     ]
    }
   ],
   "source": [
    "from sklearn.ensemble import RandomForestClassifier\n",
    "\n",
    "#Create a Gaussian Classifier\n",
    "clf=RandomForestRegressor(n_estimators=350)\n",
    "\n",
    "#Train the model using the training sets y_pred=clf.predict(X_test)\n",
    "clf.fit(X_train,y_train)\n",
    "\n",
    "# prediction on test set\n",
    "y_pred=clf.predict(X_test)\n",
    "\n",
    "#Import scikit-learn metrics module for accuracy calculation\n",
    "from sklearn import metrics\n",
    "\n",
    "print(\"R2:\",metrics.r2_score(y_test, y_pred))"
   ]
  },
  {
   "cell_type": "code",
   "execution_count": 35,
   "metadata": {},
   "outputs": [],
   "source": [
    "def rmse(y_true, y_pred):\n",
    "    '''\n",
    "    Compute Root Mean Square Percentage Error between two arrays.\n",
    "    '''\n",
    "    loss = np.sqrt(np.mean(np.square(((y_true - y_pred) / y_true)), axis=0))*100\n",
    "\n",
    "    return loss #https://stackoverflow.com/questions/53165807/how-to-calculate-rmspe-in-python-using-numpy\n",
    "# should be times 100? also should b divided by n? \n",
    "# maybe not? https://www.kaggle.com/c/rossmann-store-sales/overview/evaluation\n",
    "# mean returns the average of the array, would be the same as dividing by the number n from the formula "
   ]
  },
  {
   "cell_type": "code",
   "execution_count": 36,
   "metadata": {},
   "outputs": [
    {
     "name": "stdout",
     "output_type": "stream",
     "text": [
      "R2: 0.7466620507005441\n",
      "Mean Absolute Error: 197.89822681704263\n",
      "Mean Squared Error: 68031.95620497763\n",
      "Root Mean Squared Error: 260.8293622370335\n",
      "Root Mean Square Percetage Error 17.838374058442184\n"
     ]
    }
   ],
   "source": [
    "from sklearn import metrics\n",
    "print(\"R2:\",metrics.r2_score(y_test, y_pred))\n",
    "print('Mean Absolute Error:', metrics.mean_absolute_error(y_test, y_pred))\n",
    "print('Mean Squared Error:', metrics.mean_squared_error(y_test, y_pred))\n",
    "print('Root Mean Squared Error:', np.sqrt(metrics.mean_squared_error(y_test, y_pred)))\n",
    "print('Root Mean Square Percetage Error', rmse(y_test, y_pred) )"
   ]
  },
  {
   "cell_type": "code",
   "execution_count": null,
   "metadata": {},
   "outputs": [],
   "source": []
  }
 ],
 "metadata": {
  "kernelspec": {
   "display_name": "Python 3",
   "language": "python",
   "name": "python3"
  },
  "language_info": {
   "codemirror_mode": {
    "name": "ipython",
    "version": 3
   },
   "file_extension": ".py",
   "mimetype": "text/x-python",
   "name": "python",
   "nbconvert_exporter": "python",
   "pygments_lexer": "ipython3",
   "version": "3.7.6"
  }
 },
 "nbformat": 4,
 "nbformat_minor": 4
}
